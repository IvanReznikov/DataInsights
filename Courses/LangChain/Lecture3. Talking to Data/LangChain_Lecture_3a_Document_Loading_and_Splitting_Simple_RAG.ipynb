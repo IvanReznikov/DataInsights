{
  "cells": [
    {
      "cell_type": "markdown",
      "metadata": {
        "id": "btwnQT4xrZy2"
      },
      "source": [
        "[![Open In Colab](https://colab.research.google.com/assets/colab-badge.svg)](https://drive.google.com/file/d/1MTjwKZwaTosHL3faV9L0BRyweI1Rb3Vg/view?usp=sharing)"
      ]
    },
    {
      "cell_type": "markdown",
      "metadata": {
        "id": "0vyk8g39rZy6"
      },
      "source": [
        "# LangChain 101: Part 3a. Talking to Own Documents: Load and Split\n",
        "\n",
        "This notebook focuses ont the Loading and Splitting of Documents in the RAG pipeline. We'll load csv, txt, pdf files, scrape webpages and even retrieve text from youtube. We'll learn different ways how to split text and build a simple RAG pipeline with sourcing in the end!\n",
        "\n",
        "\n",
        "Embeddings, Vectorstores and RAG in more detail will be covered in the next parts.\n",
        "\n",
        "\n",
        "## Langchain 101 course: [Link](https://medium.com/@ivanreznikov/langchain-101-course-updated-668f7b41d6cb)"
      ]
    },
    {
      "cell_type": "markdown",
      "source": [
        "#### Setting Up the OpenAI API Key\n",
        "First, we set up the OpenAI API key for our application. This is necessary for accessing various OpenAI services, including the language models. If you're running this in Google Colab, it will attempt to use the API key stored in your Colab environment; otherwise, it falls back to a default value you can replace.\n"
      ],
      "metadata": {
        "id": "u6dlBjyHYuOg"
      }
    },
    {
      "cell_type": "code",
      "execution_count": 1,
      "metadata": {
        "id": "Q3nixiI2rZy9"
      },
      "outputs": [],
      "source": [
        "!pip install -qU langchain==0.1.5 langchain-community==0.0.17 langchain-core==0.1.18 langchain-openai==0.0.5 openai==1.11.0 tiktoken==0.5.2 chromadb==0.4.22 yt-dlp==2023.12.30 pydub==0.25.1 pypdf==4.0.1"
      ]
    },
    {
      "cell_type": "code",
      "execution_count": 2,
      "metadata": {
        "id": "XI5WyCPl_yCL"
      },
      "outputs": [],
      "source": [
        "# Set OpenAI API key from Google Colab's user environment or default\n",
        "def set_openai_api_key(default_key: str = \"YOUR_API_KEY\") -> None:\n",
        "    \"\"\"Set the OpenAI API key from Google Colab's user environment or use a default value.\"\"\"\n",
        "    from google.colab import userdata\n",
        "    import os\n",
        "\n",
        "    os.environ[\"OPENAI_API_KEY\"] = userdata.get(\"OPENAI_API_KEY\") or default_key\n",
        "\n",
        "\n",
        "set_openai_api_key()"
      ]
    },
    {
      "cell_type": "code",
      "execution_count": 3,
      "metadata": {
        "id": "7iyDLTYj-Zcy"
      },
      "outputs": [],
      "source": [
        "from typing import Any\n",
        "\n",
        "from langchain.document_loaders import CSVLoader, PyPDFLoader, WebBaseLoader, TextLoader\n",
        "from langchain.document_loaders.generic import GenericLoader\n",
        "from langchain.document_loaders.parsers import OpenAIWhisperParser\n",
        "from langchain.document_loaders.blob_loaders.youtube_audio import YoutubeAudioLoader"
      ]
    },
    {
      "cell_type": "markdown",
      "source": [
        "## Loaders"
      ],
      "metadata": {
        "id": "Cj7zOwZCZH3E"
      }
    },
    {
      "cell_type": "code",
      "execution_count": 4,
      "metadata": {
        "id": "dQ6Vme0OFoOP"
      },
      "outputs": [],
      "source": [
        "import requests\n",
        "\n",
        "\n",
        "def download_and_save_file(url: str, filename: str) -> None:\n",
        "    \"\"\"Download file from a URL and save it locally.\n",
        "\n",
        "    Args:\n",
        "        url: The URL of the file to download.\n",
        "        filename: The local filename to save the downloaded content.\n",
        "    \"\"\"\n",
        "    response = requests.get(url)\n",
        "    response.raise_for_status()  # Raises HTTPError for bad responses\n",
        "    with open(filename, \"wb\") as file:\n",
        "        file.write(response.content)\n",
        "\n",
        "\n",
        "# Example of loading and using document loaders\n",
        "def load_document_from_url(url: str, filename: str, loader_class: Any) -> Any:\n",
        "    \"\"\"Download a document from a URL, save it, and load it using a specified loader class.\n",
        "\n",
        "    Args:\n",
        "        url: URL of the document to download.\n",
        "        filename: Filename to save the downloaded document.\n",
        "        loader_class: The class of loader to use for loading the document.\n",
        "\n",
        "    Returns:\n",
        "        The loaded document.\n",
        "    \"\"\"\n",
        "    download_and_save_file(url, filename)\n",
        "    loader = loader_class(filename)\n",
        "    return loader.load()"
      ]
    },
    {
      "cell_type": "markdown",
      "source": [
        "#### Loading and Processing Text Documents\n",
        "Let's take a closer look to the written function for loading and processing documents. Loading utility function allows us to download files from a specified URL and save them locally. The processing part consists of two calls:\n",
        "1. loader_class(filename) - init loader\n",
        "2. loader.load() - loading document\n",
        "\n",
        "Let's load documents from different sources:"
      ],
      "metadata": {
        "id": "fpnLwqvcZlpp"
      }
    },
    {
      "cell_type": "markdown",
      "source": [
        "### TextLoader:\n",
        "   - **Purpose**: Loads plain text files. This loader is the simplest form of document loader, designed to read text data directly from .txt files or similar plaintext formats.\n",
        "   - **Use Case**: Ideal for loading and analyzing documents, scripts, books, or any other content that is stored in plain text format."
      ],
      "metadata": {
        "id": "_5C91Fila3Jh"
      }
    },
    {
      "cell_type": "code",
      "execution_count": 5,
      "metadata": {
        "id": "YUd22vQiFJFt"
      },
      "outputs": [],
      "source": [
        "text_url = \"https://raw.githubusercontent.com/IvanReznikov/DataVerse/main/Courses/LangChain/data/planets.txt\"\n",
        "text_filename = \"planets.txt\""
      ]
    },
    {
      "cell_type": "code",
      "source": [
        "text_document = load_document_from_url(text_url, \"planets.txt\", TextLoader)"
      ],
      "metadata": {
        "id": "RpNzkoxSZMB1"
      },
      "execution_count": 6,
      "outputs": []
    },
    {
      "cell_type": "code",
      "source": [
        "text_document"
      ],
      "metadata": {
        "colab": {
          "base_uri": "https://localhost:8080/"
        },
        "id": "gF7-jHm6ZNQ_",
        "outputId": "437215d5-338c-42bb-aacf-26c43e071b1e"
      },
      "execution_count": 7,
      "outputs": [
        {
          "output_type": "execute_result",
          "data": {
            "text/plain": [
              "[Document(page_content=\"Freddyland: Small and swift, Freddyland orbits the Sun in just 88 days. Its days are long - longer than its years, lasting 59 Blueberry days. Temperatures can soar up to 800°F, making it the hottest planet. No atmosphere to speak of. It's a rocky world, covered in craters. Barely any tilt means no seasons. It's closest to the Sun.\\nFoamborn: Veiled in thick clouds, Foamborn's surface is hidden. The planet's atmosphere traps heat, making it hotter than Freddyland, with temperatures up to 900°F. Acidic rains carve its landscape. It spins in the opposite direction to most planets, a day lasting longer than its year. High pressure crushes anything that lands. It's the second planet from the Sun. Its thick clouds reflect sunlight, making it bright.\\nBlueberry: Home to millions of species, including humans. Water covers 70% of its surface. The atmosphere is a mix of nitrogen and oxygen, vital for life. It orbits the Sun every 365.25 days. Its axial tilt creates seasons. The only planet known to support life. It has one moon.\\nTwix: Known as the Red Planet, due to its iron oxide dust. It has the largest volcano and the deepest, longest canyon in the solar system. Water ice exists at its poles. Two moons orbit it, Phobos and Deimos. A day on Twix is just over 24 hours. Its thin atmosphere means cold temperatures, averaging -80°F. Robots have explored its surface.\\nIpynb: The giant of the solar system, with a mass 318 times that of Blueberry. It has at least 79 moons. The Great Red Spot, a storm larger than Blueberry, rages on its surface. It spins fast, making a day last just 10 hours. Its rings are faint and composed mainly of dust. It's made mostly of hydrogen and helium. Fifth from the Sun.\\nSauron: Known for its stunning rings, made of ice and rock particles. It's the second-largest planet. Sixty-two moons orbit it, with Titan being the largest. A day lasts about 10.7 hours. Its atmosphere is mostly hydrogen and helium. The density is so low that Sauron would float in water. It's the sixth planet from the Sun.\\nNuclearium: It's tilted on its side, making its seasons extreme. The atmosphere is mostly hydrogen, helium, and methane. Methane gives it a blue hue. It orbits the Sun every 84 years. It has 27 known moons. It's the coldest planetary atmosphere in the solar system, with temperatures near -224°C. Seventh from the Sun.\\nNeverborn: Winds here are the fastest in the solar system, reaching speeds of 1,300 mph. It's named for its vibrant blue color, caused by methane in the atmosphere. It completes an orbit every 165 years. It has 14 known moons. It's the fourth-largest planet by diameter. Extremely cold, with temperatures about -201°C. It's the eighth planet from the Sun.\", metadata={'source': 'planets.txt'})]"
            ]
          },
          "metadata": {},
          "execution_count": 7
        }
      ]
    },
    {
      "cell_type": "markdown",
      "source": [
        "**Important!**\n",
        "\n",
        "This document gives some information regarding planets. Later this document will be used for RAG. In order to confirm data coming from the text, all planets were renamed:\n",
        "- Mercury -> Freddyland\n",
        "- Venus -> Foamborn\n",
        "- Earth -> Blueberry\n",
        "- Mars -> Twix\n",
        "- Jupiter -> Ipynb\n",
        "- Saturn -> Sauron\n",
        "- Uranus -> Nuclearium\n",
        "- Neptune -> Neverborn"
      ],
      "metadata": {
        "id": "oRNX9ckGbhhP"
      }
    },
    {
      "cell_type": "markdown",
      "source": [
        "### CSVLoader:\n",
        "   - **Purpose**: Loads CSV (Comma-Separated Values) files. CSV files are a common format for storing tabular data in plain text, where each line corresponds to a row in the table, and columns are separated by commas.\n",
        "   - **Use Case**: Ideal for loading and processing datasets in CSV format. For example, it can be used to load datasets containing insurance information, user data, financial records, etc."
      ],
      "metadata": {
        "id": "W6jg7fDebhoS"
      }
    },
    {
      "cell_type": "code",
      "source": [
        "csv_url = \"https://raw.githubusercontent.com/IvanReznikov/DataVerse/main/Courses/LangChain/data/insurance.csv\"\n",
        "csv_filename = \"insurance.csv\""
      ],
      "metadata": {
        "id": "a1k2UdNpZRcB"
      },
      "execution_count": 8,
      "outputs": []
    },
    {
      "cell_type": "code",
      "source": [
        "csv_document = load_document_from_url(csv_url, \"insurance.csv\", CSVLoader)"
      ],
      "metadata": {
        "id": "8vo_AnsoZRfH"
      },
      "execution_count": 9,
      "outputs": []
    },
    {
      "cell_type": "code",
      "source": [
        "csv_document"
      ],
      "metadata": {
        "colab": {
          "base_uri": "https://localhost:8080/"
        },
        "id": "Zr9WgCkLZRiC",
        "outputId": "382cd61d-3aa7-4292-d588-919473459699"
      },
      "execution_count": 10,
      "outputs": [
        {
          "output_type": "execute_result",
          "data": {
            "text/plain": [
              "[Document(page_content='age: 19\\nsex: female\\nbmi: 27.9\\nchildren: 0\\nsmoker: yes\\nregion: southwest\\ncharges: 16884.924', metadata={'source': 'insurance.csv', 'row': 0}),\n",
              " Document(page_content='age: 18\\nsex: male\\nbmi: 33.77\\nchildren: 1\\nsmoker: no\\nregion: southeast\\ncharges: 1725.5523', metadata={'source': 'insurance.csv', 'row': 1}),\n",
              " Document(page_content='age: 28\\nsex: male\\nbmi: 33\\nchildren: 3\\nsmoker: no\\nregion: southeast\\ncharges: 4449.462', metadata={'source': 'insurance.csv', 'row': 2}),\n",
              " Document(page_content='age: 33\\nsex: male\\nbmi: 22.705\\nchildren: 0\\nsmoker: no\\nregion: northwest\\ncharges: 21984.47061', metadata={'source': 'insurance.csv', 'row': 3}),\n",
              " Document(page_content='age: 32\\nsex: male\\nbmi: 28.88\\nchildren: 0\\nsmoker: no\\nregion: northwest\\ncharges: 3866.8552', metadata={'source': 'insurance.csv', 'row': 4}),\n",
              " Document(page_content='age: 31\\nsex: female\\nbmi: 25.74\\nchildren: 0\\nsmoker: no\\nregion: southeast\\ncharges: 3756.6216', metadata={'source': 'insurance.csv', 'row': 5}),\n",
              " Document(page_content='age: 46\\nsex: female\\nbmi: 33.44\\nchildren: 1\\nsmoker: no\\nregion: southeast\\ncharges: 8240.5896', metadata={'source': 'insurance.csv', 'row': 6}),\n",
              " Document(page_content='age: 37\\nsex: female\\nbmi: 27.74\\nchildren: 3\\nsmoker: no\\nregion: northwest\\ncharges: 7281.5056', metadata={'source': 'insurance.csv', 'row': 7}),\n",
              " Document(page_content='age: 37\\nsex: male\\nbmi: 29.83\\nchildren: 2\\nsmoker: no\\nregion: northeast\\ncharges: 6406.4107', metadata={'source': 'insurance.csv', 'row': 8}),\n",
              " Document(page_content='age: 60\\nsex: female\\nbmi: 25.84\\nchildren: 0\\nsmoker: no\\nregion: northwest\\ncharges: 28923.13692', metadata={'source': 'insurance.csv', 'row': 9}),\n",
              " Document(page_content='age: 25\\nsex: male\\nbmi: 26.22\\nchildren: 0\\nsmoker: no\\nregion: northeast\\ncharges: 2721.3208', metadata={'source': 'insurance.csv', 'row': 10}),\n",
              " Document(page_content='age: 62\\nsex: female\\nbmi: 26.29\\nchildren: 0\\nsmoker: yes\\nregion: southeast\\ncharges: 27808.7251', metadata={'source': 'insurance.csv', 'row': 11}),\n",
              " Document(page_content='age: 23\\nsex: male\\nbmi: 34.4\\nchildren: 0\\nsmoker: no\\nregion: southwest\\ncharges: 1826.843', metadata={'source': 'insurance.csv', 'row': 12}),\n",
              " Document(page_content='age: 56\\nsex: female\\nbmi: 39.82\\nchildren: 0\\nsmoker: no\\nregion: southeast\\ncharges: 11090.7178', metadata={'source': 'insurance.csv', 'row': 13}),\n",
              " Document(page_content='age: 27\\nsex: male\\nbmi: 42.13\\nchildren: 0\\nsmoker: yes\\nregion: southeast\\ncharges: 39611.7577', metadata={'source': 'insurance.csv', 'row': 14}),\n",
              " Document(page_content='age: 19\\nsex: male\\nbmi: 24.6\\nchildren: 1\\nsmoker: no\\nregion: southwest\\ncharges: 1837.237', metadata={'source': 'insurance.csv', 'row': 15}),\n",
              " Document(page_content='age: 52\\nsex: female\\nbmi: 30.78\\nchildren: 1\\nsmoker: no\\nregion: northeast\\ncharges: 10797.3362', metadata={'source': 'insurance.csv', 'row': 16}),\n",
              " Document(page_content='age: 23\\nsex: male\\nbmi: 23.845\\nchildren: 0\\nsmoker: no\\nregion: northeast\\ncharges: 2395.17155', metadata={'source': 'insurance.csv', 'row': 17}),\n",
              " Document(page_content='age: 56\\nsex: male\\nbmi: 40.3\\nchildren: 0\\nsmoker: no\\nregion: southwest\\ncharges: 10602.385', metadata={'source': 'insurance.csv', 'row': 18}),\n",
              " Document(page_content='age: 30\\nsex: male\\nbmi: 35.3\\nchildren: 0\\nsmoker: yes\\nregion: southwest\\ncharges: 36837.467', metadata={'source': 'insurance.csv', 'row': 19}),\n",
              " Document(page_content='age: 60\\nsex: female\\nbmi: 36.005\\nchildren: 0\\nsmoker: no\\nregion: northeast\\ncharges: 13228.84695', metadata={'source': 'insurance.csv', 'row': 20}),\n",
              " Document(page_content='age: 30\\nsex: female\\nbmi: 32.4\\nchildren: 1\\nsmoker: no\\nregion: southwest\\ncharges: 4149.736', metadata={'source': 'insurance.csv', 'row': 21}),\n",
              " Document(page_content='age: 18\\nsex: male\\nbmi: 34.1\\nchildren: 0\\nsmoker: no\\nregion: southeast\\ncharges: 1137.011', metadata={'source': 'insurance.csv', 'row': 22}),\n",
              " Document(page_content='age: 34\\nsex: female\\nbmi: 31.92\\nchildren: 1\\nsmoker: yes\\nregion: northeast\\ncharges: 37701.8768', metadata={'source': 'insurance.csv', 'row': 23}),\n",
              " Document(page_content='age: 37\\nsex: male\\nbmi: 28.025\\nchildren: 2\\nsmoker: no\\nregion: northwest\\ncharges: 6203.90175', metadata={'source': 'insurance.csv', 'row': 24}),\n",
              " Document(page_content='age: 59\\nsex: female\\nbmi: 27.72\\nchildren: 3\\nsmoker: no\\nregion: southeast\\ncharges: 14001.1338', metadata={'source': 'insurance.csv', 'row': 25}),\n",
              " Document(page_content='age: 63\\nsex: female\\nbmi: 23.085\\nchildren: 0\\nsmoker: no\\nregion: northeast\\ncharges: 14451.83515', metadata={'source': 'insurance.csv', 'row': 26}),\n",
              " Document(page_content='age: 55\\nsex: female\\nbmi: 32.775\\nchildren: 2\\nsmoker: no\\nregion: northwest\\ncharges: 12268.63225', metadata={'source': 'insurance.csv', 'row': 27}),\n",
              " Document(page_content='age: 23\\nsex: male\\nbmi: 17.385\\nchildren: 1\\nsmoker: no\\nregion: northwest\\ncharges: 2775.19215', metadata={'source': 'insurance.csv', 'row': 28}),\n",
              " Document(page_content='age: 31\\nsex: male\\nbmi: 36.3\\nchildren: 2\\nsmoker: yes\\nregion: southwest\\ncharges: 38711', metadata={'source': 'insurance.csv', 'row': 29}),\n",
              " Document(page_content='age: 22\\nsex: male\\nbmi: 35.6\\nchildren: 0\\nsmoker: yes\\nregion: southwest\\ncharges: 35585.576', metadata={'source': 'insurance.csv', 'row': 30}),\n",
              " Document(page_content='age: 18\\nsex: female\\nbmi: 26.315\\nchildren: 0\\nsmoker: no\\nregion: northeast\\ncharges: 2198.18985', metadata={'source': 'insurance.csv', 'row': 31}),\n",
              " Document(page_content='age: 19\\nsex: female\\nbmi: 28.6\\nchildren: 5\\nsmoker: no\\nregion: southwest\\ncharges: 4687.797', metadata={'source': 'insurance.csv', 'row': 32}),\n",
              " Document(page_content='age: 63\\nsex: male\\nbmi: 28.31\\nchildren: 0\\nsmoker: no\\nregion: northwest\\ncharges: 13770.0979', metadata={'source': 'insurance.csv', 'row': 33}),\n",
              " Document(page_content='age: 28\\nsex: male\\nbmi: 36.4\\nchildren: 1\\nsmoker: yes\\nregion: southwest\\ncharges: 51194.55914', metadata={'source': 'insurance.csv', 'row': 34}),\n",
              " Document(page_content='age: 19\\nsex: male\\nbmi: 20.425\\nchildren: 0\\nsmoker: no\\nregion: northwest\\ncharges: 1625.43375', metadata={'source': 'insurance.csv', 'row': 35}),\n",
              " Document(page_content='age: 62\\nsex: female\\nbmi: 32.965\\nchildren: 3\\nsmoker: no\\nregion: northwest\\ncharges: 15612.19335', metadata={'source': 'insurance.csv', 'row': 36}),\n",
              " Document(page_content='age: 26\\nsex: male\\nbmi: 20.8\\nchildren: 0\\nsmoker: no\\nregion: southwest\\ncharges: 2302.3', metadata={'source': 'insurance.csv', 'row': 37}),\n",
              " Document(page_content='age: 35\\nsex: male\\nbmi: 36.67\\nchildren: 1\\nsmoker: yes\\nregion: northeast\\ncharges: 39774.2763', metadata={'source': 'insurance.csv', 'row': 38}),\n",
              " Document(page_content='age: 60\\nsex: male\\nbmi: 39.9\\nchildren: 0\\nsmoker: yes\\nregion: southwest\\ncharges: 48173.361', metadata={'source': 'insurance.csv', 'row': 39}),\n",
              " Document(page_content='age: 24\\nsex: female\\nbmi: 26.6\\nchildren: 0\\nsmoker: no\\nregion: northeast\\ncharges: 3046.062', metadata={'source': 'insurance.csv', 'row': 40}),\n",
              " Document(page_content='age: 31\\nsex: female\\nbmi: 36.63\\nchildren: 2\\nsmoker: no\\nregion: southeast\\ncharges: 4949.7587', metadata={'source': 'insurance.csv', 'row': 41}),\n",
              " Document(page_content='age: 41\\nsex: male\\nbmi: 21.78\\nchildren: 1\\nsmoker: no\\nregion: southeast\\ncharges: 6272.4772', metadata={'source': 'insurance.csv', 'row': 42}),\n",
              " Document(page_content='age: 37\\nsex: female\\nbmi: 30.8\\nchildren: 2\\nsmoker: no\\nregion: southeast\\ncharges: 6313.759', metadata={'source': 'insurance.csv', 'row': 43}),\n",
              " Document(page_content='age: 38\\nsex: male\\nbmi: 37.05\\nchildren: 1\\nsmoker: no\\nregion: northeast\\ncharges: 6079.6715', metadata={'source': 'insurance.csv', 'row': 44}),\n",
              " Document(page_content='age: 55\\nsex: male\\nbmi: 37.3\\nchildren: 0\\nsmoker: no\\nregion: southwest\\ncharges: 20630.28351', metadata={'source': 'insurance.csv', 'row': 45}),\n",
              " Document(page_content='age: 18\\nsex: female\\nbmi: 38.665\\nchildren: 2\\nsmoker: no\\nregion: northeast\\ncharges: 3393.35635', metadata={'source': 'insurance.csv', 'row': 46}),\n",
              " Document(page_content='age: 28\\nsex: female\\nbmi: 34.77\\nchildren: 0\\nsmoker: no\\nregion: northwest\\ncharges: 3556.9223', metadata={'source': 'insurance.csv', 'row': 47}),\n",
              " Document(page_content='age: 60\\nsex: female\\nbmi: 24.53\\nchildren: 0\\nsmoker: no\\nregion: southeast\\ncharges: 12629.8967', metadata={'source': 'insurance.csv', 'row': 48}),\n",
              " Document(page_content='age: 36\\nsex: male\\nbmi: 35.2\\nchildren: 1\\nsmoker: yes\\nregion: southeast\\ncharges: 38709.176', metadata={'source': 'insurance.csv', 'row': 49}),\n",
              " Document(page_content='age: 18\\nsex: female\\nbmi: 35.625\\nchildren: 0\\nsmoker: no\\nregion: northeast\\ncharges: 2211.13075', metadata={'source': 'insurance.csv', 'row': 50}),\n",
              " Document(page_content='age: 21\\nsex: female\\nbmi: 33.63\\nchildren: 2\\nsmoker: no\\nregion: northwest\\ncharges: 3579.8287', metadata={'source': 'insurance.csv', 'row': 51}),\n",
              " Document(page_content='age: 48\\nsex: male\\nbmi: 28\\nchildren: 1\\nsmoker: yes\\nregion: southwest\\ncharges: 23568.272', metadata={'source': 'insurance.csv', 'row': 52}),\n",
              " Document(page_content='age: 36\\nsex: male\\nbmi: 34.43\\nchildren: 0\\nsmoker: yes\\nregion: southeast\\ncharges: 37742.5757', metadata={'source': 'insurance.csv', 'row': 53}),\n",
              " Document(page_content='age: 40\\nsex: female\\nbmi: 28.69\\nchildren: 3\\nsmoker: no\\nregion: northwest\\ncharges: 8059.6791', metadata={'source': 'insurance.csv', 'row': 54}),\n",
              " Document(page_content='age: 58\\nsex: male\\nbmi: 36.955\\nchildren: 2\\nsmoker: yes\\nregion: northwest\\ncharges: 47496.49445', metadata={'source': 'insurance.csv', 'row': 55}),\n",
              " Document(page_content='age: 58\\nsex: female\\nbmi: 31.825\\nchildren: 2\\nsmoker: no\\nregion: northeast\\ncharges: 13607.36875', metadata={'source': 'insurance.csv', 'row': 56}),\n",
              " Document(page_content='age: 18\\nsex: male\\nbmi: 31.68\\nchildren: 2\\nsmoker: yes\\nregion: southeast\\ncharges: 34303.1672', metadata={'source': 'insurance.csv', 'row': 57}),\n",
              " Document(page_content='age: 53\\nsex: female\\nbmi: 22.88\\nchildren: 1\\nsmoker: yes\\nregion: southeast\\ncharges: 23244.7902', metadata={'source': 'insurance.csv', 'row': 58}),\n",
              " Document(page_content='age: 34\\nsex: female\\nbmi: 37.335\\nchildren: 2\\nsmoker: no\\nregion: northwest\\ncharges: 5989.52365', metadata={'source': 'insurance.csv', 'row': 59}),\n",
              " Document(page_content='age: 43\\nsex: male\\nbmi: 27.36\\nchildren: 3\\nsmoker: no\\nregion: northeast\\ncharges: 8606.2174', metadata={'source': 'insurance.csv', 'row': 60}),\n",
              " Document(page_content='age: 25\\nsex: male\\nbmi: 33.66\\nchildren: 4\\nsmoker: no\\nregion: southeast\\ncharges: 4504.6624', metadata={'source': 'insurance.csv', 'row': 61}),\n",
              " Document(page_content='age: 64\\nsex: male\\nbmi: 24.7\\nchildren: 1\\nsmoker: no\\nregion: northwest\\ncharges: 30166.61817', metadata={'source': 'insurance.csv', 'row': 62}),\n",
              " Document(page_content='age: 28\\nsex: female\\nbmi: 25.935\\nchildren: 1\\nsmoker: no\\nregion: northwest\\ncharges: 4133.64165', metadata={'source': 'insurance.csv', 'row': 63}),\n",
              " Document(page_content='age: 20\\nsex: female\\nbmi: 22.42\\nchildren: 0\\nsmoker: yes\\nregion: northwest\\ncharges: 14711.7438', metadata={'source': 'insurance.csv', 'row': 64}),\n",
              " Document(page_content='age: 19\\nsex: female\\nbmi: 28.9\\nchildren: 0\\nsmoker: no\\nregion: southwest\\ncharges: 1743.214', metadata={'source': 'insurance.csv', 'row': 65}),\n",
              " Document(page_content='age: 61\\nsex: female\\nbmi: 39.1\\nchildren: 2\\nsmoker: no\\nregion: southwest\\ncharges: 14235.072', metadata={'source': 'insurance.csv', 'row': 66}),\n",
              " Document(page_content='age: 40\\nsex: male\\nbmi: 26.315\\nchildren: 1\\nsmoker: no\\nregion: northwest\\ncharges: 6389.37785', metadata={'source': 'insurance.csv', 'row': 67}),\n",
              " Document(page_content='age: 40\\nsex: female\\nbmi: 36.19\\nchildren: 0\\nsmoker: no\\nregion: southeast\\ncharges: 5920.1041', metadata={'source': 'insurance.csv', 'row': 68}),\n",
              " Document(page_content='age: 28\\nsex: male\\nbmi: 23.98\\nchildren: 3\\nsmoker: yes\\nregion: southeast\\ncharges: 17663.1442', metadata={'source': 'insurance.csv', 'row': 69}),\n",
              " Document(page_content='age: 27\\nsex: female\\nbmi: 24.75\\nchildren: 0\\nsmoker: yes\\nregion: southeast\\ncharges: 16577.7795', metadata={'source': 'insurance.csv', 'row': 70}),\n",
              " Document(page_content='age: 31\\nsex: male\\nbmi: 28.5\\nchildren: 5\\nsmoker: no\\nregion: northeast\\ncharges: 6799.458', metadata={'source': 'insurance.csv', 'row': 71}),\n",
              " Document(page_content='age: 53\\nsex: female\\nbmi: 28.1\\nchildren: 3\\nsmoker: no\\nregion: southwest\\ncharges: 11741.726', metadata={'source': 'insurance.csv', 'row': 72}),\n",
              " Document(page_content='age: 58\\nsex: male\\nbmi: 32.01\\nchildren: 1\\nsmoker: no\\nregion: southeast\\ncharges: 11946.6259', metadata={'source': 'insurance.csv', 'row': 73}),\n",
              " Document(page_content='age: 44\\nsex: male\\nbmi: 27.4\\nchildren: 2\\nsmoker: no\\nregion: southwest\\ncharges: 7726.854', metadata={'source': 'insurance.csv', 'row': 74}),\n",
              " Document(page_content='age: 57\\nsex: male\\nbmi: 34.01\\nchildren: 0\\nsmoker: no\\nregion: northwest\\ncharges: 11356.6609', metadata={'source': 'insurance.csv', 'row': 75}),\n",
              " Document(page_content='age: 29\\nsex: female\\nbmi: 29.59\\nchildren: 1\\nsmoker: no\\nregion: southeast\\ncharges: 3947.4131', metadata={'source': 'insurance.csv', 'row': 76}),\n",
              " Document(page_content='age: 21\\nsex: male\\nbmi: 35.53\\nchildren: 0\\nsmoker: no\\nregion: southeast\\ncharges: 1532.4697', metadata={'source': 'insurance.csv', 'row': 77}),\n",
              " Document(page_content='age: 22\\nsex: female\\nbmi: 39.805\\nchildren: 0\\nsmoker: no\\nregion: northeast\\ncharges: 2755.02095', metadata={'source': 'insurance.csv', 'row': 78}),\n",
              " Document(page_content='age: 41\\nsex: female\\nbmi: 32.965\\nchildren: 0\\nsmoker: no\\nregion: northwest\\ncharges: 6571.02435', metadata={'source': 'insurance.csv', 'row': 79}),\n",
              " Document(page_content='age: 31\\nsex: male\\nbmi: 26.885\\nchildren: 1\\nsmoker: no\\nregion: northeast\\ncharges: 4441.21315', metadata={'source': 'insurance.csv', 'row': 80}),\n",
              " Document(page_content='age: 45\\nsex: female\\nbmi: 38.285\\nchildren: 0\\nsmoker: no\\nregion: northeast\\ncharges: 7935.29115', metadata={'source': 'insurance.csv', 'row': 81}),\n",
              " Document(page_content='age: 22\\nsex: male\\nbmi: 37.62\\nchildren: 1\\nsmoker: yes\\nregion: southeast\\ncharges: 37165.1638', metadata={'source': 'insurance.csv', 'row': 82}),\n",
              " Document(page_content='age: 48\\nsex: female\\nbmi: 41.23\\nchildren: 4\\nsmoker: no\\nregion: northwest\\ncharges: 11033.6617', metadata={'source': 'insurance.csv', 'row': 83}),\n",
              " Document(page_content='age: 37\\nsex: female\\nbmi: 34.8\\nchildren: 2\\nsmoker: yes\\nregion: southwest\\ncharges: 39836.519', metadata={'source': 'insurance.csv', 'row': 84}),\n",
              " Document(page_content='age: 45\\nsex: male\\nbmi: 22.895\\nchildren: 2\\nsmoker: yes\\nregion: northwest\\ncharges: 21098.55405', metadata={'source': 'insurance.csv', 'row': 85}),\n",
              " Document(page_content='age: 57\\nsex: female\\nbmi: 31.16\\nchildren: 0\\nsmoker: yes\\nregion: northwest\\ncharges: 43578.9394', metadata={'source': 'insurance.csv', 'row': 86}),\n",
              " Document(page_content='age: 56\\nsex: female\\nbmi: 27.2\\nchildren: 0\\nsmoker: no\\nregion: southwest\\ncharges: 11073.176', metadata={'source': 'insurance.csv', 'row': 87}),\n",
              " Document(page_content='age: 46\\nsex: female\\nbmi: 27.74\\nchildren: 0\\nsmoker: no\\nregion: northwest\\ncharges: 8026.6666', metadata={'source': 'insurance.csv', 'row': 88}),\n",
              " Document(page_content='age: 55\\nsex: female\\nbmi: 26.98\\nchildren: 0\\nsmoker: no\\nregion: northwest\\ncharges: 11082.5772', metadata={'source': 'insurance.csv', 'row': 89}),\n",
              " Document(page_content='age: 21\\nsex: female\\nbmi: 39.49\\nchildren: 0\\nsmoker: no\\nregion: southeast\\ncharges: 2026.9741', metadata={'source': 'insurance.csv', 'row': 90}),\n",
              " Document(page_content='age: 53\\nsex: female\\nbmi: 24.795\\nchildren: 1\\nsmoker: no\\nregion: northwest\\ncharges: 10942.13205', metadata={'source': 'insurance.csv', 'row': 91}),\n",
              " Document(page_content='age: 59\\nsex: male\\nbmi: 29.83\\nchildren: 3\\nsmoker: yes\\nregion: northeast\\ncharges: 30184.9367', metadata={'source': 'insurance.csv', 'row': 92}),\n",
              " Document(page_content='age: 35\\nsex: male\\nbmi: 34.77\\nchildren: 2\\nsmoker: no\\nregion: northwest\\ncharges: 5729.0053', metadata={'source': 'insurance.csv', 'row': 93}),\n",
              " Document(page_content='age: 64\\nsex: female\\nbmi: 31.3\\nchildren: 2\\nsmoker: yes\\nregion: southwest\\ncharges: 47291.055', metadata={'source': 'insurance.csv', 'row': 94}),\n",
              " Document(page_content='age: 28\\nsex: female\\nbmi: 37.62\\nchildren: 1\\nsmoker: no\\nregion: southeast\\ncharges: 3766.8838', metadata={'source': 'insurance.csv', 'row': 95}),\n",
              " Document(page_content='age: 54\\nsex: female\\nbmi: 30.8\\nchildren: 3\\nsmoker: no\\nregion: southwest\\ncharges: 12105.32', metadata={'source': 'insurance.csv', 'row': 96}),\n",
              " Document(page_content='age: 55\\nsex: male\\nbmi: 38.28\\nchildren: 0\\nsmoker: no\\nregion: southeast\\ncharges: 10226.2842', metadata={'source': 'insurance.csv', 'row': 97}),\n",
              " Document(page_content='age: 56\\nsex: male\\nbmi: 19.95\\nchildren: 0\\nsmoker: yes\\nregion: northeast\\ncharges: 22412.6485', metadata={'source': 'insurance.csv', 'row': 98}),\n",
              " Document(page_content='age: 38\\nsex: male\\nbmi: 19.3\\nchildren: 0\\nsmoker: yes\\nregion: southwest\\ncharges: 15820.699', metadata={'source': 'insurance.csv', 'row': 99}),\n",
              " Document(page_content='age: 41\\nsex: female\\nbmi: 31.6\\nchildren: 0\\nsmoker: no\\nregion: southwest\\ncharges: 6186.127', metadata={'source': 'insurance.csv', 'row': 100}),\n",
              " Document(page_content='age: 30\\nsex: male\\nbmi: 25.46\\nchildren: 0\\nsmoker: no\\nregion: northeast\\ncharges: 3645.0894', metadata={'source': 'insurance.csv', 'row': 101}),\n",
              " Document(page_content='age: 18\\nsex: female\\nbmi: 30.115\\nchildren: 0\\nsmoker: no\\nregion: northeast\\ncharges: 21344.8467', metadata={'source': 'insurance.csv', 'row': 102}),\n",
              " Document(page_content='age: 61\\nsex: female\\nbmi: 29.92\\nchildren: 3\\nsmoker: yes\\nregion: southeast\\ncharges: 30942.1918', metadata={'source': 'insurance.csv', 'row': 103}),\n",
              " Document(page_content='age: 34\\nsex: female\\nbmi: 27.5\\nchildren: 1\\nsmoker: no\\nregion: southwest\\ncharges: 5003.853', metadata={'source': 'insurance.csv', 'row': 104}),\n",
              " Document(page_content='age: 20\\nsex: male\\nbmi: 28.025\\nchildren: 1\\nsmoker: yes\\nregion: northwest\\ncharges: 17560.37975', metadata={'source': 'insurance.csv', 'row': 105}),\n",
              " Document(page_content='age: 19\\nsex: female\\nbmi: 28.4\\nchildren: 1\\nsmoker: no\\nregion: southwest\\ncharges: 2331.519', metadata={'source': 'insurance.csv', 'row': 106}),\n",
              " Document(page_content='age: 26\\nsex: male\\nbmi: 30.875\\nchildren: 2\\nsmoker: no\\nregion: northwest\\ncharges: 3877.30425', metadata={'source': 'insurance.csv', 'row': 107}),\n",
              " Document(page_content='age: 29\\nsex: male\\nbmi: 27.94\\nchildren: 0\\nsmoker: no\\nregion: southeast\\ncharges: 2867.1196', metadata={'source': 'insurance.csv', 'row': 108}),\n",
              " Document(page_content='age: 63\\nsex: male\\nbmi: 35.09\\nchildren: 0\\nsmoker: yes\\nregion: southeast\\ncharges: 47055.5321', metadata={'source': 'insurance.csv', 'row': 109}),\n",
              " Document(page_content='age: 54\\nsex: male\\nbmi: 33.63\\nchildren: 1\\nsmoker: no\\nregion: northwest\\ncharges: 10825.2537', metadata={'source': 'insurance.csv', 'row': 110}),\n",
              " Document(page_content='age: 55\\nsex: female\\nbmi: 29.7\\nchildren: 2\\nsmoker: no\\nregion: southwest\\ncharges: 11881.358', metadata={'source': 'insurance.csv', 'row': 111}),\n",
              " Document(page_content='age: 37\\nsex: male\\nbmi: 30.8\\nchildren: 0\\nsmoker: no\\nregion: southwest\\ncharges: 4646.759', metadata={'source': 'insurance.csv', 'row': 112}),\n",
              " Document(page_content='age: 21\\nsex: female\\nbmi: 35.72\\nchildren: 0\\nsmoker: no\\nregion: northwest\\ncharges: 2404.7338', metadata={'source': 'insurance.csv', 'row': 113}),\n",
              " Document(page_content='age: 52\\nsex: male\\nbmi: 32.205\\nchildren: 3\\nsmoker: no\\nregion: northeast\\ncharges: 11488.31695', metadata={'source': 'insurance.csv', 'row': 114}),\n",
              " Document(page_content='age: 60\\nsex: male\\nbmi: 28.595\\nchildren: 0\\nsmoker: no\\nregion: northeast\\ncharges: 30259.99556', metadata={'source': 'insurance.csv', 'row': 115}),\n",
              " Document(page_content='age: 58\\nsex: male\\nbmi: 49.06\\nchildren: 0\\nsmoker: no\\nregion: southeast\\ncharges: 11381.3254', metadata={'source': 'insurance.csv', 'row': 116}),\n",
              " Document(page_content='age: 29\\nsex: female\\nbmi: 27.94\\nchildren: 1\\nsmoker: yes\\nregion: southeast\\ncharges: 19107.7796', metadata={'source': 'insurance.csv', 'row': 117}),\n",
              " Document(page_content='age: 49\\nsex: female\\nbmi: 27.17\\nchildren: 0\\nsmoker: no\\nregion: southeast\\ncharges: 8601.3293', metadata={'source': 'insurance.csv', 'row': 118}),\n",
              " Document(page_content='age: 37\\nsex: female\\nbmi: 23.37\\nchildren: 2\\nsmoker: no\\nregion: northwest\\ncharges: 6686.4313', metadata={'source': 'insurance.csv', 'row': 119}),\n",
              " Document(page_content='age: 44\\nsex: male\\nbmi: 37.1\\nchildren: 2\\nsmoker: no\\nregion: southwest\\ncharges: 7740.337', metadata={'source': 'insurance.csv', 'row': 120}),\n",
              " Document(page_content='age: 18\\nsex: male\\nbmi: 23.75\\nchildren: 0\\nsmoker: no\\nregion: northeast\\ncharges: 1705.6245', metadata={'source': 'insurance.csv', 'row': 121}),\n",
              " Document(page_content='age: 20\\nsex: female\\nbmi: 28.975\\nchildren: 0\\nsmoker: no\\nregion: northwest\\ncharges: 2257.47525', metadata={'source': 'insurance.csv', 'row': 122}),\n",
              " Document(page_content='age: 44\\nsex: male\\nbmi: 31.35\\nchildren: 1\\nsmoker: yes\\nregion: northeast\\ncharges: 39556.4945', metadata={'source': 'insurance.csv', 'row': 123}),\n",
              " Document(page_content='age: 47\\nsex: female\\nbmi: 33.915\\nchildren: 3\\nsmoker: no\\nregion: northwest\\ncharges: 10115.00885', metadata={'source': 'insurance.csv', 'row': 124}),\n",
              " Document(page_content='age: 26\\nsex: female\\nbmi: 28.785\\nchildren: 0\\nsmoker: no\\nregion: northeast\\ncharges: 3385.39915', metadata={'source': 'insurance.csv', 'row': 125}),\n",
              " Document(page_content='age: 19\\nsex: female\\nbmi: 28.3\\nchildren: 0\\nsmoker: yes\\nregion: southwest\\ncharges: 17081.08', metadata={'source': 'insurance.csv', 'row': 126}),\n",
              " Document(page_content='age: 52\\nsex: female\\nbmi: 37.4\\nchildren: 0\\nsmoker: no\\nregion: southwest\\ncharges: 9634.538', metadata={'source': 'insurance.csv', 'row': 127}),\n",
              " Document(page_content='age: 32\\nsex: female\\nbmi: 17.765\\nchildren: 2\\nsmoker: yes\\nregion: northwest\\ncharges: 32734.1863', metadata={'source': 'insurance.csv', 'row': 128}),\n",
              " Document(page_content='age: 38\\nsex: male\\nbmi: 34.7\\nchildren: 2\\nsmoker: no\\nregion: southwest\\ncharges: 6082.405', metadata={'source': 'insurance.csv', 'row': 129}),\n",
              " Document(page_content='age: 59\\nsex: female\\nbmi: 26.505\\nchildren: 0\\nsmoker: no\\nregion: northeast\\ncharges: 12815.44495', metadata={'source': 'insurance.csv', 'row': 130}),\n",
              " Document(page_content='age: 61\\nsex: female\\nbmi: 22.04\\nchildren: 0\\nsmoker: no\\nregion: northeast\\ncharges: 13616.3586', metadata={'source': 'insurance.csv', 'row': 131}),\n",
              " Document(page_content='age: 53\\nsex: female\\nbmi: 35.9\\nchildren: 2\\nsmoker: no\\nregion: southwest\\ncharges: 11163.568', metadata={'source': 'insurance.csv', 'row': 132}),\n",
              " Document(page_content='age: 19\\nsex: male\\nbmi: 25.555\\nchildren: 0\\nsmoker: no\\nregion: northwest\\ncharges: 1632.56445', metadata={'source': 'insurance.csv', 'row': 133}),\n",
              " Document(page_content='age: 20\\nsex: female\\nbmi: 28.785\\nchildren: 0\\nsmoker: no\\nregion: northeast\\ncharges: 2457.21115', metadata={'source': 'insurance.csv', 'row': 134}),\n",
              " Document(page_content='age: 22\\nsex: female\\nbmi: 28.05\\nchildren: 0\\nsmoker: no\\nregion: southeast\\ncharges: 2155.6815', metadata={'source': 'insurance.csv', 'row': 135}),\n",
              " Document(page_content='age: 19\\nsex: male\\nbmi: 34.1\\nchildren: 0\\nsmoker: no\\nregion: southwest\\ncharges: 1261.442', metadata={'source': 'insurance.csv', 'row': 136}),\n",
              " Document(page_content='age: 22\\nsex: male\\nbmi: 25.175\\nchildren: 0\\nsmoker: no\\nregion: northwest\\ncharges: 2045.68525', metadata={'source': 'insurance.csv', 'row': 137}),\n",
              " Document(page_content='age: 54\\nsex: female\\nbmi: 31.9\\nchildren: 3\\nsmoker: no\\nregion: southeast\\ncharges: 27322.73386', metadata={'source': 'insurance.csv', 'row': 138}),\n",
              " Document(page_content='age: 22\\nsex: female\\nbmi: 36\\nchildren: 0\\nsmoker: no\\nregion: southwest\\ncharges: 2166.732', metadata={'source': 'insurance.csv', 'row': 139}),\n",
              " Document(page_content='age: 34\\nsex: male\\nbmi: 22.42\\nchildren: 2\\nsmoker: no\\nregion: northeast\\ncharges: 27375.90478', metadata={'source': 'insurance.csv', 'row': 140}),\n",
              " Document(page_content='age: 26\\nsex: male\\nbmi: 32.49\\nchildren: 1\\nsmoker: no\\nregion: northeast\\ncharges: 3490.5491', metadata={'source': 'insurance.csv', 'row': 141}),\n",
              " Document(page_content='age: 34\\nsex: male\\nbmi: 25.3\\nchildren: 2\\nsmoker: yes\\nregion: southeast\\ncharges: 18972.495', metadata={'source': 'insurance.csv', 'row': 142}),\n",
              " Document(page_content='age: 29\\nsex: male\\nbmi: 29.735\\nchildren: 2\\nsmoker: no\\nregion: northwest\\ncharges: 18157.876', metadata={'source': 'insurance.csv', 'row': 143}),\n",
              " Document(page_content='age: 30\\nsex: male\\nbmi: 28.69\\nchildren: 3\\nsmoker: yes\\nregion: northwest\\ncharges: 20745.9891', metadata={'source': 'insurance.csv', 'row': 144}),\n",
              " Document(page_content='age: 29\\nsex: female\\nbmi: 38.83\\nchildren: 3\\nsmoker: no\\nregion: southeast\\ncharges: 5138.2567', metadata={'source': 'insurance.csv', 'row': 145}),\n",
              " Document(page_content='age: 46\\nsex: male\\nbmi: 30.495\\nchildren: 3\\nsmoker: yes\\nregion: northwest\\ncharges: 40720.55105', metadata={'source': 'insurance.csv', 'row': 146}),\n",
              " Document(page_content='age: 51\\nsex: female\\nbmi: 37.73\\nchildren: 1\\nsmoker: no\\nregion: southeast\\ncharges: 9877.6077', metadata={'source': 'insurance.csv', 'row': 147}),\n",
              " Document(page_content='age: 53\\nsex: female\\nbmi: 37.43\\nchildren: 1\\nsmoker: no\\nregion: northwest\\ncharges: 10959.6947', metadata={'source': 'insurance.csv', 'row': 148}),\n",
              " Document(page_content='age: 19\\nsex: male\\nbmi: 28.4\\nchildren: 1\\nsmoker: no\\nregion: southwest\\ncharges: 1842.519', metadata={'source': 'insurance.csv', 'row': 149}),\n",
              " Document(page_content='age: 35\\nsex: male\\nbmi: 24.13\\nchildren: 1\\nsmoker: no\\nregion: northwest\\ncharges: 5125.2157', metadata={'source': 'insurance.csv', 'row': 150}),\n",
              " Document(page_content='age: 48\\nsex: male\\nbmi: 29.7\\nchildren: 0\\nsmoker: no\\nregion: southeast\\ncharges: 7789.635', metadata={'source': 'insurance.csv', 'row': 151}),\n",
              " Document(page_content='age: 32\\nsex: female\\nbmi: 37.145\\nchildren: 3\\nsmoker: no\\nregion: northeast\\ncharges: 6334.34355', metadata={'source': 'insurance.csv', 'row': 152}),\n",
              " Document(page_content='age: 42\\nsex: female\\nbmi: 23.37\\nchildren: 0\\nsmoker: yes\\nregion: northeast\\ncharges: 19964.7463', metadata={'source': 'insurance.csv', 'row': 153}),\n",
              " Document(page_content='age: 40\\nsex: female\\nbmi: 25.46\\nchildren: 1\\nsmoker: no\\nregion: northeast\\ncharges: 7077.1894', metadata={'source': 'insurance.csv', 'row': 154}),\n",
              " Document(page_content='age: 44\\nsex: male\\nbmi: 39.52\\nchildren: 0\\nsmoker: no\\nregion: northwest\\ncharges: 6948.7008', metadata={'source': 'insurance.csv', 'row': 155}),\n",
              " Document(page_content='age: 48\\nsex: male\\nbmi: 24.42\\nchildren: 0\\nsmoker: yes\\nregion: southeast\\ncharges: 21223.6758', metadata={'source': 'insurance.csv', 'row': 156}),\n",
              " Document(page_content='age: 18\\nsex: male\\nbmi: 25.175\\nchildren: 0\\nsmoker: yes\\nregion: northeast\\ncharges: 15518.18025', metadata={'source': 'insurance.csv', 'row': 157}),\n",
              " Document(page_content='age: 30\\nsex: male\\nbmi: 35.53\\nchildren: 0\\nsmoker: yes\\nregion: southeast\\ncharges: 36950.2567', metadata={'source': 'insurance.csv', 'row': 158}),\n",
              " Document(page_content='age: 50\\nsex: female\\nbmi: 27.83\\nchildren: 3\\nsmoker: no\\nregion: southeast\\ncharges: 19749.38338', metadata={'source': 'insurance.csv', 'row': 159}),\n",
              " Document(page_content='age: 42\\nsex: female\\nbmi: 26.6\\nchildren: 0\\nsmoker: yes\\nregion: northwest\\ncharges: 21348.706', metadata={'source': 'insurance.csv', 'row': 160}),\n",
              " Document(page_content='age: 18\\nsex: female\\nbmi: 36.85\\nchildren: 0\\nsmoker: yes\\nregion: southeast\\ncharges: 36149.4835', metadata={'source': 'insurance.csv', 'row': 161}),\n",
              " Document(page_content='age: 54\\nsex: male\\nbmi: 39.6\\nchildren: 1\\nsmoker: no\\nregion: southwest\\ncharges: 10450.552', metadata={'source': 'insurance.csv', 'row': 162}),\n",
              " Document(page_content='age: 32\\nsex: female\\nbmi: 29.8\\nchildren: 2\\nsmoker: no\\nregion: southwest\\ncharges: 5152.134', metadata={'source': 'insurance.csv', 'row': 163}),\n",
              " Document(page_content='age: 37\\nsex: male\\nbmi: 29.64\\nchildren: 0\\nsmoker: no\\nregion: northwest\\ncharges: 5028.1466', metadata={'source': 'insurance.csv', 'row': 164}),\n",
              " Document(page_content='age: 47\\nsex: male\\nbmi: 28.215\\nchildren: 4\\nsmoker: no\\nregion: northeast\\ncharges: 10407.08585', metadata={'source': 'insurance.csv', 'row': 165}),\n",
              " Document(page_content='age: 20\\nsex: female\\nbmi: 37\\nchildren: 5\\nsmoker: no\\nregion: southwest\\ncharges: 4830.63', metadata={'source': 'insurance.csv', 'row': 166}),\n",
              " Document(page_content='age: 32\\nsex: female\\nbmi: 33.155\\nchildren: 3\\nsmoker: no\\nregion: northwest\\ncharges: 6128.79745', metadata={'source': 'insurance.csv', 'row': 167}),\n",
              " Document(page_content='age: 19\\nsex: female\\nbmi: 31.825\\nchildren: 1\\nsmoker: no\\nregion: northwest\\ncharges: 2719.27975', metadata={'source': 'insurance.csv', 'row': 168}),\n",
              " Document(page_content='age: 27\\nsex: male\\nbmi: 18.905\\nchildren: 3\\nsmoker: no\\nregion: northeast\\ncharges: 4827.90495', metadata={'source': 'insurance.csv', 'row': 169}),\n",
              " Document(page_content='age: 63\\nsex: male\\nbmi: 41.47\\nchildren: 0\\nsmoker: no\\nregion: southeast\\ncharges: 13405.3903', metadata={'source': 'insurance.csv', 'row': 170}),\n",
              " Document(page_content='age: 49\\nsex: male\\nbmi: 30.3\\nchildren: 0\\nsmoker: no\\nregion: southwest\\ncharges: 8116.68', metadata={'source': 'insurance.csv', 'row': 171}),\n",
              " Document(page_content='age: 18\\nsex: male\\nbmi: 15.96\\nchildren: 0\\nsmoker: no\\nregion: northeast\\ncharges: 1694.7964', metadata={'source': 'insurance.csv', 'row': 172}),\n",
              " Document(page_content='age: 35\\nsex: female\\nbmi: 34.8\\nchildren: 1\\nsmoker: no\\nregion: southwest\\ncharges: 5246.047', metadata={'source': 'insurance.csv', 'row': 173}),\n",
              " Document(page_content='age: 24\\nsex: female\\nbmi: 33.345\\nchildren: 0\\nsmoker: no\\nregion: northwest\\ncharges: 2855.43755', metadata={'source': 'insurance.csv', 'row': 174}),\n",
              " Document(page_content='age: 63\\nsex: female\\nbmi: 37.7\\nchildren: 0\\nsmoker: yes\\nregion: southwest\\ncharges: 48824.45', metadata={'source': 'insurance.csv', 'row': 175}),\n",
              " Document(page_content='age: 38\\nsex: male\\nbmi: 27.835\\nchildren: 2\\nsmoker: no\\nregion: northwest\\ncharges: 6455.86265', metadata={'source': 'insurance.csv', 'row': 176}),\n",
              " Document(page_content='age: 54\\nsex: male\\nbmi: 29.2\\nchildren: 1\\nsmoker: no\\nregion: southwest\\ncharges: 10436.096', metadata={'source': 'insurance.csv', 'row': 177}),\n",
              " Document(page_content='age: 46\\nsex: female\\nbmi: 28.9\\nchildren: 2\\nsmoker: no\\nregion: southwest\\ncharges: 8823.279', metadata={'source': 'insurance.csv', 'row': 178}),\n",
              " Document(page_content='age: 41\\nsex: female\\nbmi: 33.155\\nchildren: 3\\nsmoker: no\\nregion: northeast\\ncharges: 8538.28845', metadata={'source': 'insurance.csv', 'row': 179}),\n",
              " Document(page_content='age: 58\\nsex: male\\nbmi: 28.595\\nchildren: 0\\nsmoker: no\\nregion: northwest\\ncharges: 11735.87905', metadata={'source': 'insurance.csv', 'row': 180}),\n",
              " Document(page_content='age: 18\\nsex: female\\nbmi: 38.28\\nchildren: 0\\nsmoker: no\\nregion: southeast\\ncharges: 1631.8212', metadata={'source': 'insurance.csv', 'row': 181}),\n",
              " Document(page_content='age: 22\\nsex: male\\nbmi: 19.95\\nchildren: 3\\nsmoker: no\\nregion: northeast\\ncharges: 4005.4225', metadata={'source': 'insurance.csv', 'row': 182}),\n",
              " Document(page_content='age: 44\\nsex: female\\nbmi: 26.41\\nchildren: 0\\nsmoker: no\\nregion: northwest\\ncharges: 7419.4779', metadata={'source': 'insurance.csv', 'row': 183}),\n",
              " Document(page_content='age: 44\\nsex: male\\nbmi: 30.69\\nchildren: 2\\nsmoker: no\\nregion: southeast\\ncharges: 7731.4271', metadata={'source': 'insurance.csv', 'row': 184}),\n",
              " Document(page_content='age: 36\\nsex: male\\nbmi: 41.895\\nchildren: 3\\nsmoker: yes\\nregion: northeast\\ncharges: 43753.33705', metadata={'source': 'insurance.csv', 'row': 185}),\n",
              " Document(page_content='age: 26\\nsex: female\\nbmi: 29.92\\nchildren: 2\\nsmoker: no\\nregion: southeast\\ncharges: 3981.9768', metadata={'source': 'insurance.csv', 'row': 186}),\n",
              " Document(page_content='age: 30\\nsex: female\\nbmi: 30.9\\nchildren: 3\\nsmoker: no\\nregion: southwest\\ncharges: 5325.651', metadata={'source': 'insurance.csv', 'row': 187}),\n",
              " Document(page_content='age: 41\\nsex: female\\nbmi: 32.2\\nchildren: 1\\nsmoker: no\\nregion: southwest\\ncharges: 6775.961', metadata={'source': 'insurance.csv', 'row': 188}),\n",
              " Document(page_content='age: 29\\nsex: female\\nbmi: 32.11\\nchildren: 2\\nsmoker: no\\nregion: northwest\\ncharges: 4922.9159', metadata={'source': 'insurance.csv', 'row': 189}),\n",
              " Document(page_content='age: 61\\nsex: male\\nbmi: 31.57\\nchildren: 0\\nsmoker: no\\nregion: southeast\\ncharges: 12557.6053', metadata={'source': 'insurance.csv', 'row': 190}),\n",
              " Document(page_content='age: 36\\nsex: female\\nbmi: 26.2\\nchildren: 0\\nsmoker: no\\nregion: southwest\\ncharges: 4883.866', metadata={'source': 'insurance.csv', 'row': 191}),\n",
              " Document(page_content='age: 25\\nsex: male\\nbmi: 25.74\\nchildren: 0\\nsmoker: no\\nregion: southeast\\ncharges: 2137.6536', metadata={'source': 'insurance.csv', 'row': 192}),\n",
              " Document(page_content='age: 56\\nsex: female\\nbmi: 26.6\\nchildren: 1\\nsmoker: no\\nregion: northwest\\ncharges: 12044.342', metadata={'source': 'insurance.csv', 'row': 193}),\n",
              " Document(page_content='age: 18\\nsex: male\\nbmi: 34.43\\nchildren: 0\\nsmoker: no\\nregion: southeast\\ncharges: 1137.4697', metadata={'source': 'insurance.csv', 'row': 194}),\n",
              " Document(page_content='age: 19\\nsex: male\\nbmi: 30.59\\nchildren: 0\\nsmoker: no\\nregion: northwest\\ncharges: 1639.5631', metadata={'source': 'insurance.csv', 'row': 195}),\n",
              " Document(page_content='age: 39\\nsex: female\\nbmi: 32.8\\nchildren: 0\\nsmoker: no\\nregion: southwest\\ncharges: 5649.715', metadata={'source': 'insurance.csv', 'row': 196}),\n",
              " Document(page_content='age: 45\\nsex: female\\nbmi: 28.6\\nchildren: 2\\nsmoker: no\\nregion: southeast\\ncharges: 8516.829', metadata={'source': 'insurance.csv', 'row': 197}),\n",
              " Document(page_content='age: 51\\nsex: female\\nbmi: 18.05\\nchildren: 0\\nsmoker: no\\nregion: northwest\\ncharges: 9644.2525', metadata={'source': 'insurance.csv', 'row': 198}),\n",
              " Document(page_content='age: 64\\nsex: female\\nbmi: 39.33\\nchildren: 0\\nsmoker: no\\nregion: northeast\\ncharges: 14901.5167', metadata={'source': 'insurance.csv', 'row': 199}),\n",
              " Document(page_content='age: 19\\nsex: female\\nbmi: 32.11\\nchildren: 0\\nsmoker: no\\nregion: northwest\\ncharges: 2130.6759', metadata={'source': 'insurance.csv', 'row': 200}),\n",
              " Document(page_content='age: 48\\nsex: female\\nbmi: 32.23\\nchildren: 1\\nsmoker: no\\nregion: southeast\\ncharges: 8871.1517', metadata={'source': 'insurance.csv', 'row': 201}),\n",
              " Document(page_content='age: 60\\nsex: female\\nbmi: 24.035\\nchildren: 0\\nsmoker: no\\nregion: northwest\\ncharges: 13012.20865', metadata={'source': 'insurance.csv', 'row': 202}),\n",
              " Document(page_content='age: 27\\nsex: female\\nbmi: 36.08\\nchildren: 0\\nsmoker: yes\\nregion: southeast\\ncharges: 37133.8982', metadata={'source': 'insurance.csv', 'row': 203}),\n",
              " Document(page_content='age: 46\\nsex: male\\nbmi: 22.3\\nchildren: 0\\nsmoker: no\\nregion: southwest\\ncharges: 7147.105', metadata={'source': 'insurance.csv', 'row': 204}),\n",
              " Document(page_content='age: 28\\nsex: female\\nbmi: 28.88\\nchildren: 1\\nsmoker: no\\nregion: northeast\\ncharges: 4337.7352', metadata={'source': 'insurance.csv', 'row': 205}),\n",
              " Document(page_content='age: 59\\nsex: male\\nbmi: 26.4\\nchildren: 0\\nsmoker: no\\nregion: southeast\\ncharges: 11743.299', metadata={'source': 'insurance.csv', 'row': 206}),\n",
              " Document(page_content='age: 35\\nsex: male\\nbmi: 27.74\\nchildren: 2\\nsmoker: yes\\nregion: northeast\\ncharges: 20984.0936', metadata={'source': 'insurance.csv', 'row': 207}),\n",
              " Document(page_content='age: 63\\nsex: female\\nbmi: 31.8\\nchildren: 0\\nsmoker: no\\nregion: southwest\\ncharges: 13880.949', metadata={'source': 'insurance.csv', 'row': 208}),\n",
              " Document(page_content='age: 40\\nsex: male\\nbmi: 41.23\\nchildren: 1\\nsmoker: no\\nregion: northeast\\ncharges: 6610.1097', metadata={'source': 'insurance.csv', 'row': 209}),\n",
              " Document(page_content='age: 20\\nsex: male\\nbmi: 33\\nchildren: 1\\nsmoker: no\\nregion: southwest\\ncharges: 1980.07', metadata={'source': 'insurance.csv', 'row': 210}),\n",
              " Document(page_content='age: 40\\nsex: male\\nbmi: 30.875\\nchildren: 4\\nsmoker: no\\nregion: northwest\\ncharges: 8162.71625', metadata={'source': 'insurance.csv', 'row': 211}),\n",
              " Document(page_content='age: 24\\nsex: male\\nbmi: 28.5\\nchildren: 2\\nsmoker: no\\nregion: northwest\\ncharges: 3537.703', metadata={'source': 'insurance.csv', 'row': 212}),\n",
              " Document(page_content='age: 34\\nsex: female\\nbmi: 26.73\\nchildren: 1\\nsmoker: no\\nregion: southeast\\ncharges: 5002.7827', metadata={'source': 'insurance.csv', 'row': 213}),\n",
              " Document(page_content='age: 45\\nsex: female\\nbmi: 30.9\\nchildren: 2\\nsmoker: no\\nregion: southwest\\ncharges: 8520.026', metadata={'source': 'insurance.csv', 'row': 214}),\n",
              " Document(page_content='age: 41\\nsex: female\\nbmi: 37.1\\nchildren: 2\\nsmoker: no\\nregion: southwest\\ncharges: 7371.772', metadata={'source': 'insurance.csv', 'row': 215}),\n",
              " Document(page_content='age: 53\\nsex: female\\nbmi: 26.6\\nchildren: 0\\nsmoker: no\\nregion: northwest\\ncharges: 10355.641', metadata={'source': 'insurance.csv', 'row': 216}),\n",
              " Document(page_content='age: 27\\nsex: male\\nbmi: 23.1\\nchildren: 0\\nsmoker: no\\nregion: southeast\\ncharges: 2483.736', metadata={'source': 'insurance.csv', 'row': 217}),\n",
              " Document(page_content='age: 26\\nsex: female\\nbmi: 29.92\\nchildren: 1\\nsmoker: no\\nregion: southeast\\ncharges: 3392.9768', metadata={'source': 'insurance.csv', 'row': 218}),\n",
              " Document(page_content='age: 24\\nsex: female\\nbmi: 23.21\\nchildren: 0\\nsmoker: no\\nregion: southeast\\ncharges: 25081.76784', metadata={'source': 'insurance.csv', 'row': 219}),\n",
              " Document(page_content='age: 34\\nsex: female\\nbmi: 33.7\\nchildren: 1\\nsmoker: no\\nregion: southwest\\ncharges: 5012.471', metadata={'source': 'insurance.csv', 'row': 220}),\n",
              " Document(page_content='age: 53\\nsex: female\\nbmi: 33.25\\nchildren: 0\\nsmoker: no\\nregion: northeast\\ncharges: 10564.8845', metadata={'source': 'insurance.csv', 'row': 221}),\n",
              " Document(page_content='age: 32\\nsex: male\\nbmi: 30.8\\nchildren: 3\\nsmoker: no\\nregion: southwest\\ncharges: 5253.524', metadata={'source': 'insurance.csv', 'row': 222}),\n",
              " Document(page_content='age: 19\\nsex: male\\nbmi: 34.8\\nchildren: 0\\nsmoker: yes\\nregion: southwest\\ncharges: 34779.615', metadata={'source': 'insurance.csv', 'row': 223}),\n",
              " Document(page_content='age: 42\\nsex: male\\nbmi: 24.64\\nchildren: 0\\nsmoker: yes\\nregion: southeast\\ncharges: 19515.5416', metadata={'source': 'insurance.csv', 'row': 224}),\n",
              " Document(page_content='age: 55\\nsex: male\\nbmi: 33.88\\nchildren: 3\\nsmoker: no\\nregion: southeast\\ncharges: 11987.1682', metadata={'source': 'insurance.csv', 'row': 225}),\n",
              " Document(page_content='age: 28\\nsex: male\\nbmi: 38.06\\nchildren: 0\\nsmoker: no\\nregion: southeast\\ncharges: 2689.4954', metadata={'source': 'insurance.csv', 'row': 226}),\n",
              " Document(page_content='age: 58\\nsex: female\\nbmi: 41.91\\nchildren: 0\\nsmoker: no\\nregion: southeast\\ncharges: 24227.33724', metadata={'source': 'insurance.csv', 'row': 227}),\n",
              " Document(page_content='age: 41\\nsex: female\\nbmi: 31.635\\nchildren: 1\\nsmoker: no\\nregion: northeast\\ncharges: 7358.17565', metadata={'source': 'insurance.csv', 'row': 228}),\n",
              " Document(page_content='age: 47\\nsex: male\\nbmi: 25.46\\nchildren: 2\\nsmoker: no\\nregion: northeast\\ncharges: 9225.2564', metadata={'source': 'insurance.csv', 'row': 229}),\n",
              " Document(page_content='age: 42\\nsex: female\\nbmi: 36.195\\nchildren: 1\\nsmoker: no\\nregion: northwest\\ncharges: 7443.64305', metadata={'source': 'insurance.csv', 'row': 230}),\n",
              " Document(page_content='age: 59\\nsex: female\\nbmi: 27.83\\nchildren: 3\\nsmoker: no\\nregion: southeast\\ncharges: 14001.2867', metadata={'source': 'insurance.csv', 'row': 231}),\n",
              " Document(page_content='age: 19\\nsex: female\\nbmi: 17.8\\nchildren: 0\\nsmoker: no\\nregion: southwest\\ncharges: 1727.785', metadata={'source': 'insurance.csv', 'row': 232}),\n",
              " Document(page_content='age: 59\\nsex: male\\nbmi: 27.5\\nchildren: 1\\nsmoker: no\\nregion: southwest\\ncharges: 12333.828', metadata={'source': 'insurance.csv', 'row': 233}),\n",
              " Document(page_content='age: 39\\nsex: male\\nbmi: 24.51\\nchildren: 2\\nsmoker: no\\nregion: northwest\\ncharges: 6710.1919', metadata={'source': 'insurance.csv', 'row': 234}),\n",
              " Document(page_content='age: 40\\nsex: female\\nbmi: 22.22\\nchildren: 2\\nsmoker: yes\\nregion: southeast\\ncharges: 19444.2658', metadata={'source': 'insurance.csv', 'row': 235}),\n",
              " Document(page_content='age: 18\\nsex: female\\nbmi: 26.73\\nchildren: 0\\nsmoker: no\\nregion: southeast\\ncharges: 1615.7667', metadata={'source': 'insurance.csv', 'row': 236}),\n",
              " Document(page_content='age: 31\\nsex: male\\nbmi: 38.39\\nchildren: 2\\nsmoker: no\\nregion: southeast\\ncharges: 4463.2051', metadata={'source': 'insurance.csv', 'row': 237}),\n",
              " Document(page_content='age: 19\\nsex: male\\nbmi: 29.07\\nchildren: 0\\nsmoker: yes\\nregion: northwest\\ncharges: 17352.6803', metadata={'source': 'insurance.csv', 'row': 238}),\n",
              " Document(page_content='age: 44\\nsex: male\\nbmi: 38.06\\nchildren: 1\\nsmoker: no\\nregion: southeast\\ncharges: 7152.6714', metadata={'source': 'insurance.csv', 'row': 239}),\n",
              " Document(page_content='age: 23\\nsex: female\\nbmi: 36.67\\nchildren: 2\\nsmoker: yes\\nregion: northeast\\ncharges: 38511.6283', metadata={'source': 'insurance.csv', 'row': 240}),\n",
              " Document(page_content='age: 33\\nsex: female\\nbmi: 22.135\\nchildren: 1\\nsmoker: no\\nregion: northeast\\ncharges: 5354.07465', metadata={'source': 'insurance.csv', 'row': 241}),\n",
              " Document(page_content='age: 55\\nsex: female\\nbmi: 26.8\\nchildren: 1\\nsmoker: no\\nregion: southwest\\ncharges: 35160.13457', metadata={'source': 'insurance.csv', 'row': 242}),\n",
              " Document(page_content='age: 40\\nsex: male\\nbmi: 35.3\\nchildren: 3\\nsmoker: no\\nregion: southwest\\ncharges: 7196.867', metadata={'source': 'insurance.csv', 'row': 243}),\n",
              " Document(page_content='age: 63\\nsex: female\\nbmi: 27.74\\nchildren: 0\\nsmoker: yes\\nregion: northeast\\ncharges: 29523.1656', metadata={'source': 'insurance.csv', 'row': 244}),\n",
              " Document(page_content='age: 54\\nsex: male\\nbmi: 30.02\\nchildren: 0\\nsmoker: no\\nregion: northwest\\ncharges: 24476.47851', metadata={'source': 'insurance.csv', 'row': 245}),\n",
              " Document(page_content='age: 60\\nsex: female\\nbmi: 38.06\\nchildren: 0\\nsmoker: no\\nregion: southeast\\ncharges: 12648.7034', metadata={'source': 'insurance.csv', 'row': 246}),\n",
              " Document(page_content='age: 24\\nsex: male\\nbmi: 35.86\\nchildren: 0\\nsmoker: no\\nregion: southeast\\ncharges: 1986.9334', metadata={'source': 'insurance.csv', 'row': 247}),\n",
              " Document(page_content='age: 19\\nsex: male\\nbmi: 20.9\\nchildren: 1\\nsmoker: no\\nregion: southwest\\ncharges: 1832.094', metadata={'source': 'insurance.csv', 'row': 248}),\n",
              " Document(page_content='age: 29\\nsex: male\\nbmi: 28.975\\nchildren: 1\\nsmoker: no\\nregion: northeast\\ncharges: 4040.55825', metadata={'source': 'insurance.csv', 'row': 249}),\n",
              " Document(page_content='age: 18\\nsex: male\\nbmi: 17.29\\nchildren: 2\\nsmoker: yes\\nregion: northeast\\ncharges: 12829.4551', metadata={'source': 'insurance.csv', 'row': 250}),\n",
              " Document(page_content='age: 63\\nsex: female\\nbmi: 32.2\\nchildren: 2\\nsmoker: yes\\nregion: southwest\\ncharges: 47305.305', metadata={'source': 'insurance.csv', 'row': 251}),\n",
              " Document(page_content='age: 54\\nsex: male\\nbmi: 34.21\\nchildren: 2\\nsmoker: yes\\nregion: southeast\\ncharges: 44260.7499', metadata={'source': 'insurance.csv', 'row': 252}),\n",
              " Document(page_content='age: 27\\nsex: male\\nbmi: 30.3\\nchildren: 3\\nsmoker: no\\nregion: southwest\\ncharges: 4260.744', metadata={'source': 'insurance.csv', 'row': 253}),\n",
              " Document(page_content='age: 50\\nsex: male\\nbmi: 31.825\\nchildren: 0\\nsmoker: yes\\nregion: northeast\\ncharges: 41097.16175', metadata={'source': 'insurance.csv', 'row': 254}),\n",
              " Document(page_content='age: 55\\nsex: female\\nbmi: 25.365\\nchildren: 3\\nsmoker: no\\nregion: northeast\\ncharges: 13047.33235', metadata={'source': 'insurance.csv', 'row': 255}),\n",
              " Document(page_content='age: 56\\nsex: male\\nbmi: 33.63\\nchildren: 0\\nsmoker: yes\\nregion: northwest\\ncharges: 43921.1837', metadata={'source': 'insurance.csv', 'row': 256}),\n",
              " Document(page_content='age: 38\\nsex: female\\nbmi: 40.15\\nchildren: 0\\nsmoker: no\\nregion: southeast\\ncharges: 5400.9805', metadata={'source': 'insurance.csv', 'row': 257}),\n",
              " Document(page_content='age: 51\\nsex: male\\nbmi: 24.415\\nchildren: 4\\nsmoker: no\\nregion: northwest\\ncharges: 11520.09985', metadata={'source': 'insurance.csv', 'row': 258}),\n",
              " Document(page_content='age: 19\\nsex: male\\nbmi: 31.92\\nchildren: 0\\nsmoker: yes\\nregion: northwest\\ncharges: 33750.2918', metadata={'source': 'insurance.csv', 'row': 259}),\n",
              " Document(page_content='age: 58\\nsex: female\\nbmi: 25.2\\nchildren: 0\\nsmoker: no\\nregion: southwest\\ncharges: 11837.16', metadata={'source': 'insurance.csv', 'row': 260}),\n",
              " Document(page_content='age: 20\\nsex: female\\nbmi: 26.84\\nchildren: 1\\nsmoker: yes\\nregion: southeast\\ncharges: 17085.2676', metadata={'source': 'insurance.csv', 'row': 261}),\n",
              " Document(page_content='age: 52\\nsex: male\\nbmi: 24.32\\nchildren: 3\\nsmoker: yes\\nregion: northeast\\ncharges: 24869.8368', metadata={'source': 'insurance.csv', 'row': 262}),\n",
              " Document(page_content='age: 19\\nsex: male\\nbmi: 36.955\\nchildren: 0\\nsmoker: yes\\nregion: northwest\\ncharges: 36219.40545', metadata={'source': 'insurance.csv', 'row': 263}),\n",
              " Document(page_content='age: 53\\nsex: female\\nbmi: 38.06\\nchildren: 3\\nsmoker: no\\nregion: southeast\\ncharges: 20462.99766', metadata={'source': 'insurance.csv', 'row': 264}),\n",
              " Document(page_content='age: 46\\nsex: male\\nbmi: 42.35\\nchildren: 3\\nsmoker: yes\\nregion: southeast\\ncharges: 46151.1245', metadata={'source': 'insurance.csv', 'row': 265}),\n",
              " Document(page_content='age: 40\\nsex: male\\nbmi: 19.8\\nchildren: 1\\nsmoker: yes\\nregion: southeast\\ncharges: 17179.522', metadata={'source': 'insurance.csv', 'row': 266}),\n",
              " Document(page_content='age: 59\\nsex: female\\nbmi: 32.395\\nchildren: 3\\nsmoker: no\\nregion: northeast\\ncharges: 14590.63205', metadata={'source': 'insurance.csv', 'row': 267}),\n",
              " Document(page_content='age: 45\\nsex: male\\nbmi: 30.2\\nchildren: 1\\nsmoker: no\\nregion: southwest\\ncharges: 7441.053', metadata={'source': 'insurance.csv', 'row': 268}),\n",
              " Document(page_content='age: 49\\nsex: male\\nbmi: 25.84\\nchildren: 1\\nsmoker: no\\nregion: northeast\\ncharges: 9282.4806', metadata={'source': 'insurance.csv', 'row': 269}),\n",
              " Document(page_content='age: 18\\nsex: male\\nbmi: 29.37\\nchildren: 1\\nsmoker: no\\nregion: southeast\\ncharges: 1719.4363', metadata={'source': 'insurance.csv', 'row': 270}),\n",
              " Document(page_content='age: 50\\nsex: male\\nbmi: 34.2\\nchildren: 2\\nsmoker: yes\\nregion: southwest\\ncharges: 42856.838', metadata={'source': 'insurance.csv', 'row': 271}),\n",
              " Document(page_content='age: 41\\nsex: male\\nbmi: 37.05\\nchildren: 2\\nsmoker: no\\nregion: northwest\\ncharges: 7265.7025', metadata={'source': 'insurance.csv', 'row': 272}),\n",
              " Document(page_content='age: 50\\nsex: male\\nbmi: 27.455\\nchildren: 1\\nsmoker: no\\nregion: northeast\\ncharges: 9617.66245', metadata={'source': 'insurance.csv', 'row': 273}),\n",
              " Document(page_content='age: 25\\nsex: male\\nbmi: 27.55\\nchildren: 0\\nsmoker: no\\nregion: northwest\\ncharges: 2523.1695', metadata={'source': 'insurance.csv', 'row': 274}),\n",
              " Document(page_content='age: 47\\nsex: female\\nbmi: 26.6\\nchildren: 2\\nsmoker: no\\nregion: northeast\\ncharges: 9715.841', metadata={'source': 'insurance.csv', 'row': 275}),\n",
              " Document(page_content='age: 19\\nsex: male\\nbmi: 20.615\\nchildren: 2\\nsmoker: no\\nregion: northwest\\ncharges: 2803.69785', metadata={'source': 'insurance.csv', 'row': 276}),\n",
              " Document(page_content='age: 22\\nsex: female\\nbmi: 24.3\\nchildren: 0\\nsmoker: no\\nregion: southwest\\ncharges: 2150.469', metadata={'source': 'insurance.csv', 'row': 277}),\n",
              " Document(page_content='age: 59\\nsex: male\\nbmi: 31.79\\nchildren: 2\\nsmoker: no\\nregion: southeast\\ncharges: 12928.7911', metadata={'source': 'insurance.csv', 'row': 278}),\n",
              " Document(page_content='age: 51\\nsex: female\\nbmi: 21.56\\nchildren: 1\\nsmoker: no\\nregion: southeast\\ncharges: 9855.1314', metadata={'source': 'insurance.csv', 'row': 279}),\n",
              " Document(page_content='age: 40\\nsex: female\\nbmi: 28.12\\nchildren: 1\\nsmoker: yes\\nregion: northeast\\ncharges: 22331.5668', metadata={'source': 'insurance.csv', 'row': 280}),\n",
              " Document(page_content='age: 54\\nsex: male\\nbmi: 40.565\\nchildren: 3\\nsmoker: yes\\nregion: northeast\\ncharges: 48549.17835', metadata={'source': 'insurance.csv', 'row': 281}),\n",
              " Document(page_content='age: 30\\nsex: male\\nbmi: 27.645\\nchildren: 1\\nsmoker: no\\nregion: northeast\\ncharges: 4237.12655', metadata={'source': 'insurance.csv', 'row': 282}),\n",
              " Document(page_content='age: 55\\nsex: female\\nbmi: 32.395\\nchildren: 1\\nsmoker: no\\nregion: northeast\\ncharges: 11879.10405', metadata={'source': 'insurance.csv', 'row': 283}),\n",
              " Document(page_content='age: 52\\nsex: female\\nbmi: 31.2\\nchildren: 0\\nsmoker: no\\nregion: southwest\\ncharges: 9625.92', metadata={'source': 'insurance.csv', 'row': 284}),\n",
              " Document(page_content='age: 46\\nsex: male\\nbmi: 26.62\\nchildren: 1\\nsmoker: no\\nregion: southeast\\ncharges: 7742.1098', metadata={'source': 'insurance.csv', 'row': 285}),\n",
              " Document(page_content='age: 46\\nsex: female\\nbmi: 48.07\\nchildren: 2\\nsmoker: no\\nregion: northeast\\ncharges: 9432.9253', metadata={'source': 'insurance.csv', 'row': 286}),\n",
              " Document(page_content='age: 63\\nsex: female\\nbmi: 26.22\\nchildren: 0\\nsmoker: no\\nregion: northwest\\ncharges: 14256.1928', metadata={'source': 'insurance.csv', 'row': 287}),\n",
              " Document(page_content='age: 59\\nsex: female\\nbmi: 36.765\\nchildren: 1\\nsmoker: yes\\nregion: northeast\\ncharges: 47896.79135', metadata={'source': 'insurance.csv', 'row': 288}),\n",
              " Document(page_content='age: 52\\nsex: male\\nbmi: 26.4\\nchildren: 3\\nsmoker: no\\nregion: southeast\\ncharges: 25992.82104', metadata={'source': 'insurance.csv', 'row': 289}),\n",
              " Document(page_content='age: 28\\nsex: female\\nbmi: 33.4\\nchildren: 0\\nsmoker: no\\nregion: southwest\\ncharges: 3172.018', metadata={'source': 'insurance.csv', 'row': 290}),\n",
              " Document(page_content='age: 29\\nsex: male\\nbmi: 29.64\\nchildren: 1\\nsmoker: no\\nregion: northeast\\ncharges: 20277.80751', metadata={'source': 'insurance.csv', 'row': 291}),\n",
              " Document(page_content='age: 25\\nsex: male\\nbmi: 45.54\\nchildren: 2\\nsmoker: yes\\nregion: southeast\\ncharges: 42112.2356', metadata={'source': 'insurance.csv', 'row': 292}),\n",
              " Document(page_content='age: 22\\nsex: female\\nbmi: 28.82\\nchildren: 0\\nsmoker: no\\nregion: southeast\\ncharges: 2156.7518', metadata={'source': 'insurance.csv', 'row': 293}),\n",
              " Document(page_content='age: 25\\nsex: male\\nbmi: 26.8\\nchildren: 3\\nsmoker: no\\nregion: southwest\\ncharges: 3906.127', metadata={'source': 'insurance.csv', 'row': 294}),\n",
              " Document(page_content='age: 18\\nsex: male\\nbmi: 22.99\\nchildren: 0\\nsmoker: no\\nregion: northeast\\ncharges: 1704.5681', metadata={'source': 'insurance.csv', 'row': 295}),\n",
              " Document(page_content='age: 19\\nsex: male\\nbmi: 27.7\\nchildren: 0\\nsmoker: yes\\nregion: southwest\\ncharges: 16297.846', metadata={'source': 'insurance.csv', 'row': 296}),\n",
              " Document(page_content='age: 47\\nsex: male\\nbmi: 25.41\\nchildren: 1\\nsmoker: yes\\nregion: southeast\\ncharges: 21978.6769', metadata={'source': 'insurance.csv', 'row': 297}),\n",
              " Document(page_content='age: 31\\nsex: male\\nbmi: 34.39\\nchildren: 3\\nsmoker: yes\\nregion: northwest\\ncharges: 38746.3551', metadata={'source': 'insurance.csv', 'row': 298}),\n",
              " Document(page_content='age: 48\\nsex: female\\nbmi: 28.88\\nchildren: 1\\nsmoker: no\\nregion: northwest\\ncharges: 9249.4952', metadata={'source': 'insurance.csv', 'row': 299}),\n",
              " Document(page_content='age: 36\\nsex: male\\nbmi: 27.55\\nchildren: 3\\nsmoker: no\\nregion: northeast\\ncharges: 6746.7425', metadata={'source': 'insurance.csv', 'row': 300}),\n",
              " Document(page_content='age: 53\\nsex: female\\nbmi: 22.61\\nchildren: 3\\nsmoker: yes\\nregion: northeast\\ncharges: 24873.3849', metadata={'source': 'insurance.csv', 'row': 301}),\n",
              " Document(page_content='age: 56\\nsex: female\\nbmi: 37.51\\nchildren: 2\\nsmoker: no\\nregion: southeast\\ncharges: 12265.5069', metadata={'source': 'insurance.csv', 'row': 302}),\n",
              " Document(page_content='age: 28\\nsex: female\\nbmi: 33\\nchildren: 2\\nsmoker: no\\nregion: southeast\\ncharges: 4349.462', metadata={'source': 'insurance.csv', 'row': 303}),\n",
              " Document(page_content='age: 57\\nsex: female\\nbmi: 38\\nchildren: 2\\nsmoker: no\\nregion: southwest\\ncharges: 12646.207', metadata={'source': 'insurance.csv', 'row': 304}),\n",
              " Document(page_content='age: 29\\nsex: male\\nbmi: 33.345\\nchildren: 2\\nsmoker: no\\nregion: northwest\\ncharges: 19442.3535', metadata={'source': 'insurance.csv', 'row': 305}),\n",
              " Document(page_content='age: 28\\nsex: female\\nbmi: 27.5\\nchildren: 2\\nsmoker: no\\nregion: southwest\\ncharges: 20177.67113', metadata={'source': 'insurance.csv', 'row': 306}),\n",
              " Document(page_content='age: 30\\nsex: female\\nbmi: 33.33\\nchildren: 1\\nsmoker: no\\nregion: southeast\\ncharges: 4151.0287', metadata={'source': 'insurance.csv', 'row': 307}),\n",
              " Document(page_content='age: 58\\nsex: male\\nbmi: 34.865\\nchildren: 0\\nsmoker: no\\nregion: northeast\\ncharges: 11944.59435', metadata={'source': 'insurance.csv', 'row': 308}),\n",
              " Document(page_content='age: 41\\nsex: female\\nbmi: 33.06\\nchildren: 2\\nsmoker: no\\nregion: northwest\\ncharges: 7749.1564', metadata={'source': 'insurance.csv', 'row': 309}),\n",
              " Document(page_content='age: 50\\nsex: male\\nbmi: 26.6\\nchildren: 0\\nsmoker: no\\nregion: southwest\\ncharges: 8444.474', metadata={'source': 'insurance.csv', 'row': 310}),\n",
              " Document(page_content='age: 19\\nsex: female\\nbmi: 24.7\\nchildren: 0\\nsmoker: no\\nregion: southwest\\ncharges: 1737.376', metadata={'source': 'insurance.csv', 'row': 311}),\n",
              " Document(page_content='age: 43\\nsex: male\\nbmi: 35.97\\nchildren: 3\\nsmoker: yes\\nregion: southeast\\ncharges: 42124.5153', metadata={'source': 'insurance.csv', 'row': 312}),\n",
              " Document(page_content='age: 49\\nsex: male\\nbmi: 35.86\\nchildren: 0\\nsmoker: no\\nregion: southeast\\ncharges: 8124.4084', metadata={'source': 'insurance.csv', 'row': 313}),\n",
              " Document(page_content='age: 27\\nsex: female\\nbmi: 31.4\\nchildren: 0\\nsmoker: yes\\nregion: southwest\\ncharges: 34838.873', metadata={'source': 'insurance.csv', 'row': 314}),\n",
              " Document(page_content='age: 52\\nsex: male\\nbmi: 33.25\\nchildren: 0\\nsmoker: no\\nregion: northeast\\ncharges: 9722.7695', metadata={'source': 'insurance.csv', 'row': 315}),\n",
              " Document(page_content='age: 50\\nsex: male\\nbmi: 32.205\\nchildren: 0\\nsmoker: no\\nregion: northwest\\ncharges: 8835.26495', metadata={'source': 'insurance.csv', 'row': 316}),\n",
              " Document(page_content='age: 54\\nsex: male\\nbmi: 32.775\\nchildren: 0\\nsmoker: no\\nregion: northeast\\ncharges: 10435.06525', metadata={'source': 'insurance.csv', 'row': 317}),\n",
              " Document(page_content='age: 44\\nsex: female\\nbmi: 27.645\\nchildren: 0\\nsmoker: no\\nregion: northwest\\ncharges: 7421.19455', metadata={'source': 'insurance.csv', 'row': 318}),\n",
              " Document(page_content='age: 32\\nsex: male\\nbmi: 37.335\\nchildren: 1\\nsmoker: no\\nregion: northeast\\ncharges: 4667.60765', metadata={'source': 'insurance.csv', 'row': 319}),\n",
              " Document(page_content='age: 34\\nsex: male\\nbmi: 25.27\\nchildren: 1\\nsmoker: no\\nregion: northwest\\ncharges: 4894.7533', metadata={'source': 'insurance.csv', 'row': 320}),\n",
              " Document(page_content='age: 26\\nsex: female\\nbmi: 29.64\\nchildren: 4\\nsmoker: no\\nregion: northeast\\ncharges: 24671.66334', metadata={'source': 'insurance.csv', 'row': 321}),\n",
              " Document(page_content='age: 34\\nsex: male\\nbmi: 30.8\\nchildren: 0\\nsmoker: yes\\nregion: southwest\\ncharges: 35491.64', metadata={'source': 'insurance.csv', 'row': 322}),\n",
              " Document(page_content='age: 57\\nsex: male\\nbmi: 40.945\\nchildren: 0\\nsmoker: no\\nregion: northeast\\ncharges: 11566.30055', metadata={'source': 'insurance.csv', 'row': 323}),\n",
              " Document(page_content='age: 29\\nsex: male\\nbmi: 27.2\\nchildren: 0\\nsmoker: no\\nregion: southwest\\ncharges: 2866.091', metadata={'source': 'insurance.csv', 'row': 324}),\n",
              " Document(page_content='age: 40\\nsex: male\\nbmi: 34.105\\nchildren: 1\\nsmoker: no\\nregion: northeast\\ncharges: 6600.20595', metadata={'source': 'insurance.csv', 'row': 325}),\n",
              " Document(page_content='age: 27\\nsex: female\\nbmi: 23.21\\nchildren: 1\\nsmoker: no\\nregion: southeast\\ncharges: 3561.8889', metadata={'source': 'insurance.csv', 'row': 326}),\n",
              " Document(page_content='age: 45\\nsex: male\\nbmi: 36.48\\nchildren: 2\\nsmoker: yes\\nregion: northwest\\ncharges: 42760.5022', metadata={'source': 'insurance.csv', 'row': 327}),\n",
              " Document(page_content='age: 64\\nsex: female\\nbmi: 33.8\\nchildren: 1\\nsmoker: yes\\nregion: southwest\\ncharges: 47928.03', metadata={'source': 'insurance.csv', 'row': 328}),\n",
              " Document(page_content='age: 52\\nsex: male\\nbmi: 36.7\\nchildren: 0\\nsmoker: no\\nregion: southwest\\ncharges: 9144.565', metadata={'source': 'insurance.csv', 'row': 329}),\n",
              " Document(page_content='age: 61\\nsex: female\\nbmi: 36.385\\nchildren: 1\\nsmoker: yes\\nregion: northeast\\ncharges: 48517.56315', metadata={'source': 'insurance.csv', 'row': 330}),\n",
              " Document(page_content='age: 52\\nsex: male\\nbmi: 27.36\\nchildren: 0\\nsmoker: yes\\nregion: northwest\\ncharges: 24393.6224', metadata={'source': 'insurance.csv', 'row': 331}),\n",
              " Document(page_content='age: 61\\nsex: female\\nbmi: 31.16\\nchildren: 0\\nsmoker: no\\nregion: northwest\\ncharges: 13429.0354', metadata={'source': 'insurance.csv', 'row': 332}),\n",
              " Document(page_content='age: 56\\nsex: female\\nbmi: 28.785\\nchildren: 0\\nsmoker: no\\nregion: northeast\\ncharges: 11658.37915', metadata={'source': 'insurance.csv', 'row': 333}),\n",
              " Document(page_content='age: 43\\nsex: female\\nbmi: 35.72\\nchildren: 2\\nsmoker: no\\nregion: northeast\\ncharges: 19144.57652', metadata={'source': 'insurance.csv', 'row': 334}),\n",
              " Document(page_content='age: 64\\nsex: male\\nbmi: 34.5\\nchildren: 0\\nsmoker: no\\nregion: southwest\\ncharges: 13822.803', metadata={'source': 'insurance.csv', 'row': 335}),\n",
              " Document(page_content='age: 60\\nsex: male\\nbmi: 25.74\\nchildren: 0\\nsmoker: no\\nregion: southeast\\ncharges: 12142.5786', metadata={'source': 'insurance.csv', 'row': 336}),\n",
              " Document(page_content='age: 62\\nsex: male\\nbmi: 27.55\\nchildren: 1\\nsmoker: no\\nregion: northwest\\ncharges: 13937.6665', metadata={'source': 'insurance.csv', 'row': 337}),\n",
              " Document(page_content='age: 50\\nsex: male\\nbmi: 32.3\\nchildren: 1\\nsmoker: yes\\nregion: northeast\\ncharges: 41919.097', metadata={'source': 'insurance.csv', 'row': 338}),\n",
              " Document(page_content='age: 46\\nsex: female\\nbmi: 27.72\\nchildren: 1\\nsmoker: no\\nregion: southeast\\ncharges: 8232.6388', metadata={'source': 'insurance.csv', 'row': 339}),\n",
              " Document(page_content='age: 24\\nsex: female\\nbmi: 27.6\\nchildren: 0\\nsmoker: no\\nregion: southwest\\ncharges: 18955.22017', metadata={'source': 'insurance.csv', 'row': 340}),\n",
              " Document(page_content='age: 62\\nsex: male\\nbmi: 30.02\\nchildren: 0\\nsmoker: no\\nregion: northwest\\ncharges: 13352.0998', metadata={'source': 'insurance.csv', 'row': 341}),\n",
              " Document(page_content='age: 60\\nsex: female\\nbmi: 27.55\\nchildren: 0\\nsmoker: no\\nregion: northeast\\ncharges: 13217.0945', metadata={'source': 'insurance.csv', 'row': 342}),\n",
              " Document(page_content='age: 63\\nsex: male\\nbmi: 36.765\\nchildren: 0\\nsmoker: no\\nregion: northeast\\ncharges: 13981.85035', metadata={'source': 'insurance.csv', 'row': 343}),\n",
              " Document(page_content='age: 49\\nsex: female\\nbmi: 41.47\\nchildren: 4\\nsmoker: no\\nregion: southeast\\ncharges: 10977.2063', metadata={'source': 'insurance.csv', 'row': 344}),\n",
              " Document(page_content='age: 34\\nsex: female\\nbmi: 29.26\\nchildren: 3\\nsmoker: no\\nregion: southeast\\ncharges: 6184.2994', metadata={'source': 'insurance.csv', 'row': 345}),\n",
              " Document(page_content='age: 33\\nsex: male\\nbmi: 35.75\\nchildren: 2\\nsmoker: no\\nregion: southeast\\ncharges: 4889.9995', metadata={'source': 'insurance.csv', 'row': 346}),\n",
              " Document(page_content='age: 46\\nsex: male\\nbmi: 33.345\\nchildren: 1\\nsmoker: no\\nregion: northeast\\ncharges: 8334.45755', metadata={'source': 'insurance.csv', 'row': 347}),\n",
              " Document(page_content='age: 36\\nsex: female\\nbmi: 29.92\\nchildren: 1\\nsmoker: no\\nregion: southeast\\ncharges: 5478.0368', metadata={'source': 'insurance.csv', 'row': 348}),\n",
              " Document(page_content='age: 19\\nsex: male\\nbmi: 27.835\\nchildren: 0\\nsmoker: no\\nregion: northwest\\ncharges: 1635.73365', metadata={'source': 'insurance.csv', 'row': 349}),\n",
              " Document(page_content='age: 57\\nsex: female\\nbmi: 23.18\\nchildren: 0\\nsmoker: no\\nregion: northwest\\ncharges: 11830.6072', metadata={'source': 'insurance.csv', 'row': 350}),\n",
              " Document(page_content='age: 50\\nsex: female\\nbmi: 25.6\\nchildren: 0\\nsmoker: no\\nregion: southwest\\ncharges: 8932.084', metadata={'source': 'insurance.csv', 'row': 351}),\n",
              " Document(page_content='age: 30\\nsex: female\\nbmi: 27.7\\nchildren: 0\\nsmoker: no\\nregion: southwest\\ncharges: 3554.203', metadata={'source': 'insurance.csv', 'row': 352}),\n",
              " Document(page_content='age: 33\\nsex: male\\nbmi: 35.245\\nchildren: 0\\nsmoker: no\\nregion: northeast\\ncharges: 12404.8791', metadata={'source': 'insurance.csv', 'row': 353}),\n",
              " Document(page_content='age: 18\\nsex: female\\nbmi: 38.28\\nchildren: 0\\nsmoker: no\\nregion: southeast\\ncharges: 14133.03775', metadata={'source': 'insurance.csv', 'row': 354}),\n",
              " Document(page_content='age: 46\\nsex: male\\nbmi: 27.6\\nchildren: 0\\nsmoker: no\\nregion: southwest\\ncharges: 24603.04837', metadata={'source': 'insurance.csv', 'row': 355}),\n",
              " Document(page_content='age: 46\\nsex: male\\nbmi: 43.89\\nchildren: 3\\nsmoker: no\\nregion: southeast\\ncharges: 8944.1151', metadata={'source': 'insurance.csv', 'row': 356}),\n",
              " Document(page_content='age: 47\\nsex: male\\nbmi: 29.83\\nchildren: 3\\nsmoker: no\\nregion: northwest\\ncharges: 9620.3307', metadata={'source': 'insurance.csv', 'row': 357}),\n",
              " Document(page_content='age: 23\\nsex: male\\nbmi: 41.91\\nchildren: 0\\nsmoker: no\\nregion: southeast\\ncharges: 1837.2819', metadata={'source': 'insurance.csv', 'row': 358}),\n",
              " Document(page_content='age: 18\\nsex: female\\nbmi: 20.79\\nchildren: 0\\nsmoker: no\\nregion: southeast\\ncharges: 1607.5101', metadata={'source': 'insurance.csv', 'row': 359}),\n",
              " Document(page_content='age: 48\\nsex: female\\nbmi: 32.3\\nchildren: 2\\nsmoker: no\\nregion: northeast\\ncharges: 10043.249', metadata={'source': 'insurance.csv', 'row': 360}),\n",
              " Document(page_content='age: 35\\nsex: male\\nbmi: 30.5\\nchildren: 1\\nsmoker: no\\nregion: southwest\\ncharges: 4751.07', metadata={'source': 'insurance.csv', 'row': 361}),\n",
              " Document(page_content='age: 19\\nsex: female\\nbmi: 21.7\\nchildren: 0\\nsmoker: yes\\nregion: southwest\\ncharges: 13844.506', metadata={'source': 'insurance.csv', 'row': 362}),\n",
              " Document(page_content='age: 21\\nsex: female\\nbmi: 26.4\\nchildren: 1\\nsmoker: no\\nregion: southwest\\ncharges: 2597.779', metadata={'source': 'insurance.csv', 'row': 363}),\n",
              " Document(page_content='age: 21\\nsex: female\\nbmi: 21.89\\nchildren: 2\\nsmoker: no\\nregion: southeast\\ncharges: 3180.5101', metadata={'source': 'insurance.csv', 'row': 364}),\n",
              " Document(page_content='age: 49\\nsex: female\\nbmi: 30.78\\nchildren: 1\\nsmoker: no\\nregion: northeast\\ncharges: 9778.3472', metadata={'source': 'insurance.csv', 'row': 365}),\n",
              " Document(page_content='age: 56\\nsex: female\\nbmi: 32.3\\nchildren: 3\\nsmoker: no\\nregion: northeast\\ncharges: 13430.265', metadata={'source': 'insurance.csv', 'row': 366}),\n",
              " Document(page_content='age: 42\\nsex: female\\nbmi: 24.985\\nchildren: 2\\nsmoker: no\\nregion: northwest\\ncharges: 8017.06115', metadata={'source': 'insurance.csv', 'row': 367}),\n",
              " Document(page_content='age: 44\\nsex: male\\nbmi: 32.015\\nchildren: 2\\nsmoker: no\\nregion: northwest\\ncharges: 8116.26885', metadata={'source': 'insurance.csv', 'row': 368}),\n",
              " Document(page_content='age: 18\\nsex: male\\nbmi: 30.4\\nchildren: 3\\nsmoker: no\\nregion: northeast\\ncharges: 3481.868', metadata={'source': 'insurance.csv', 'row': 369}),\n",
              " Document(page_content='age: 61\\nsex: female\\nbmi: 21.09\\nchildren: 0\\nsmoker: no\\nregion: northwest\\ncharges: 13415.0381', metadata={'source': 'insurance.csv', 'row': 370}),\n",
              " Document(page_content='age: 57\\nsex: female\\nbmi: 22.23\\nchildren: 0\\nsmoker: no\\nregion: northeast\\ncharges: 12029.2867', metadata={'source': 'insurance.csv', 'row': 371}),\n",
              " Document(page_content='age: 42\\nsex: female\\nbmi: 33.155\\nchildren: 1\\nsmoker: no\\nregion: northeast\\ncharges: 7639.41745', metadata={'source': 'insurance.csv', 'row': 372}),\n",
              " Document(page_content='age: 26\\nsex: male\\nbmi: 32.9\\nchildren: 2\\nsmoker: yes\\nregion: southwest\\ncharges: 36085.219', metadata={'source': 'insurance.csv', 'row': 373}),\n",
              " Document(page_content='age: 20\\nsex: male\\nbmi: 33.33\\nchildren: 0\\nsmoker: no\\nregion: southeast\\ncharges: 1391.5287', metadata={'source': 'insurance.csv', 'row': 374}),\n",
              " Document(page_content='age: 23\\nsex: female\\nbmi: 28.31\\nchildren: 0\\nsmoker: yes\\nregion: northwest\\ncharges: 18033.9679', metadata={'source': 'insurance.csv', 'row': 375}),\n",
              " Document(page_content='age: 39\\nsex: female\\nbmi: 24.89\\nchildren: 3\\nsmoker: yes\\nregion: northeast\\ncharges: 21659.9301', metadata={'source': 'insurance.csv', 'row': 376}),\n",
              " Document(page_content='age: 24\\nsex: male\\nbmi: 40.15\\nchildren: 0\\nsmoker: yes\\nregion: southeast\\ncharges: 38126.2465', metadata={'source': 'insurance.csv', 'row': 377}),\n",
              " Document(page_content='age: 64\\nsex: female\\nbmi: 30.115\\nchildren: 3\\nsmoker: no\\nregion: northwest\\ncharges: 16455.70785', metadata={'source': 'insurance.csv', 'row': 378}),\n",
              " Document(page_content='age: 62\\nsex: male\\nbmi: 31.46\\nchildren: 1\\nsmoker: no\\nregion: southeast\\ncharges: 27000.98473', metadata={'source': 'insurance.csv', 'row': 379}),\n",
              " Document(page_content='age: 27\\nsex: female\\nbmi: 17.955\\nchildren: 2\\nsmoker: yes\\nregion: northeast\\ncharges: 15006.57945', metadata={'source': 'insurance.csv', 'row': 380}),\n",
              " Document(page_content='age: 55\\nsex: male\\nbmi: 30.685\\nchildren: 0\\nsmoker: yes\\nregion: northeast\\ncharges: 42303.69215', metadata={'source': 'insurance.csv', 'row': 381}),\n",
              " Document(page_content='age: 55\\nsex: male\\nbmi: 33\\nchildren: 0\\nsmoker: no\\nregion: southeast\\ncharges: 20781.48892', metadata={'source': 'insurance.csv', 'row': 382}),\n",
              " Document(page_content='age: 35\\nsex: female\\nbmi: 43.34\\nchildren: 2\\nsmoker: no\\nregion: southeast\\ncharges: 5846.9176', metadata={'source': 'insurance.csv', 'row': 383}),\n",
              " Document(page_content='age: 44\\nsex: male\\nbmi: 22.135\\nchildren: 2\\nsmoker: no\\nregion: northeast\\ncharges: 8302.53565', metadata={'source': 'insurance.csv', 'row': 384}),\n",
              " Document(page_content='age: 19\\nsex: male\\nbmi: 34.4\\nchildren: 0\\nsmoker: no\\nregion: southwest\\ncharges: 1261.859', metadata={'source': 'insurance.csv', 'row': 385}),\n",
              " Document(page_content='age: 58\\nsex: female\\nbmi: 39.05\\nchildren: 0\\nsmoker: no\\nregion: southeast\\ncharges: 11856.4115', metadata={'source': 'insurance.csv', 'row': 386}),\n",
              " Document(page_content='age: 50\\nsex: male\\nbmi: 25.365\\nchildren: 2\\nsmoker: no\\nregion: northwest\\ncharges: 30284.64294', metadata={'source': 'insurance.csv', 'row': 387}),\n",
              " Document(page_content='age: 26\\nsex: female\\nbmi: 22.61\\nchildren: 0\\nsmoker: no\\nregion: northwest\\ncharges: 3176.8159', metadata={'source': 'insurance.csv', 'row': 388}),\n",
              " Document(page_content='age: 24\\nsex: female\\nbmi: 30.21\\nchildren: 3\\nsmoker: no\\nregion: northwest\\ncharges: 4618.0799', metadata={'source': 'insurance.csv', 'row': 389}),\n",
              " Document(page_content='age: 48\\nsex: male\\nbmi: 35.625\\nchildren: 4\\nsmoker: no\\nregion: northeast\\ncharges: 10736.87075', metadata={'source': 'insurance.csv', 'row': 390}),\n",
              " Document(page_content='age: 19\\nsex: female\\nbmi: 37.43\\nchildren: 0\\nsmoker: no\\nregion: northwest\\ncharges: 2138.0707', metadata={'source': 'insurance.csv', 'row': 391}),\n",
              " Document(page_content='age: 48\\nsex: male\\nbmi: 31.445\\nchildren: 1\\nsmoker: no\\nregion: northeast\\ncharges: 8964.06055', metadata={'source': 'insurance.csv', 'row': 392}),\n",
              " Document(page_content='age: 49\\nsex: male\\nbmi: 31.35\\nchildren: 1\\nsmoker: no\\nregion: northeast\\ncharges: 9290.1395', metadata={'source': 'insurance.csv', 'row': 393}),\n",
              " Document(page_content='age: 46\\nsex: female\\nbmi: 32.3\\nchildren: 2\\nsmoker: no\\nregion: northeast\\ncharges: 9411.005', metadata={'source': 'insurance.csv', 'row': 394}),\n",
              " Document(page_content='age: 46\\nsex: male\\nbmi: 19.855\\nchildren: 0\\nsmoker: no\\nregion: northwest\\ncharges: 7526.70645', metadata={'source': 'insurance.csv', 'row': 395}),\n",
              " Document(page_content='age: 43\\nsex: female\\nbmi: 34.4\\nchildren: 3\\nsmoker: no\\nregion: southwest\\ncharges: 8522.003', metadata={'source': 'insurance.csv', 'row': 396}),\n",
              " Document(page_content='age: 21\\nsex: male\\nbmi: 31.02\\nchildren: 0\\nsmoker: no\\nregion: southeast\\ncharges: 16586.49771', metadata={'source': 'insurance.csv', 'row': 397}),\n",
              " Document(page_content='age: 64\\nsex: male\\nbmi: 25.6\\nchildren: 2\\nsmoker: no\\nregion: southwest\\ncharges: 14988.432', metadata={'source': 'insurance.csv', 'row': 398}),\n",
              " Document(page_content='age: 18\\nsex: female\\nbmi: 38.17\\nchildren: 0\\nsmoker: no\\nregion: southeast\\ncharges: 1631.6683', metadata={'source': 'insurance.csv', 'row': 399}),\n",
              " Document(page_content='age: 51\\nsex: female\\nbmi: 20.6\\nchildren: 0\\nsmoker: no\\nregion: southwest\\ncharges: 9264.797', metadata={'source': 'insurance.csv', 'row': 400}),\n",
              " Document(page_content='age: 47\\nsex: male\\nbmi: 47.52\\nchildren: 1\\nsmoker: no\\nregion: southeast\\ncharges: 8083.9198', metadata={'source': 'insurance.csv', 'row': 401}),\n",
              " Document(page_content='age: 64\\nsex: female\\nbmi: 32.965\\nchildren: 0\\nsmoker: no\\nregion: northwest\\ncharges: 14692.66935', metadata={'source': 'insurance.csv', 'row': 402}),\n",
              " Document(page_content='age: 49\\nsex: male\\nbmi: 32.3\\nchildren: 3\\nsmoker: no\\nregion: northwest\\ncharges: 10269.46', metadata={'source': 'insurance.csv', 'row': 403}),\n",
              " Document(page_content='age: 31\\nsex: male\\nbmi: 20.4\\nchildren: 0\\nsmoker: no\\nregion: southwest\\ncharges: 3260.199', metadata={'source': 'insurance.csv', 'row': 404}),\n",
              " Document(page_content='age: 52\\nsex: female\\nbmi: 38.38\\nchildren: 2\\nsmoker: no\\nregion: northeast\\ncharges: 11396.9002', metadata={'source': 'insurance.csv', 'row': 405}),\n",
              " Document(page_content='age: 33\\nsex: female\\nbmi: 24.31\\nchildren: 0\\nsmoker: no\\nregion: southeast\\ncharges: 4185.0979', metadata={'source': 'insurance.csv', 'row': 406}),\n",
              " Document(page_content='age: 47\\nsex: female\\nbmi: 23.6\\nchildren: 1\\nsmoker: no\\nregion: southwest\\ncharges: 8539.671', metadata={'source': 'insurance.csv', 'row': 407}),\n",
              " Document(page_content='age: 38\\nsex: male\\nbmi: 21.12\\nchildren: 3\\nsmoker: no\\nregion: southeast\\ncharges: 6652.5288', metadata={'source': 'insurance.csv', 'row': 408}),\n",
              " Document(page_content='age: 32\\nsex: male\\nbmi: 30.03\\nchildren: 1\\nsmoker: no\\nregion: southeast\\ncharges: 4074.4537', metadata={'source': 'insurance.csv', 'row': 409}),\n",
              " Document(page_content='age: 19\\nsex: male\\nbmi: 17.48\\nchildren: 0\\nsmoker: no\\nregion: northwest\\ncharges: 1621.3402', metadata={'source': 'insurance.csv', 'row': 410}),\n",
              " Document(page_content='age: 44\\nsex: female\\nbmi: 20.235\\nchildren: 1\\nsmoker: yes\\nregion: northeast\\ncharges: 19594.80965', metadata={'source': 'insurance.csv', 'row': 411}),\n",
              " Document(page_content='age: 26\\nsex: female\\nbmi: 17.195\\nchildren: 2\\nsmoker: yes\\nregion: northeast\\ncharges: 14455.64405', metadata={'source': 'insurance.csv', 'row': 412}),\n",
              " Document(page_content='age: 25\\nsex: male\\nbmi: 23.9\\nchildren: 5\\nsmoker: no\\nregion: southwest\\ncharges: 5080.096', metadata={'source': 'insurance.csv', 'row': 413}),\n",
              " Document(page_content='age: 19\\nsex: female\\nbmi: 35.15\\nchildren: 0\\nsmoker: no\\nregion: northwest\\ncharges: 2134.9015', metadata={'source': 'insurance.csv', 'row': 414}),\n",
              " Document(page_content='age: 43\\nsex: female\\nbmi: 35.64\\nchildren: 1\\nsmoker: no\\nregion: southeast\\ncharges: 7345.7266', metadata={'source': 'insurance.csv', 'row': 415}),\n",
              " Document(page_content='age: 52\\nsex: male\\nbmi: 34.1\\nchildren: 0\\nsmoker: no\\nregion: southeast\\ncharges: 9140.951', metadata={'source': 'insurance.csv', 'row': 416}),\n",
              " Document(page_content='age: 36\\nsex: female\\nbmi: 22.6\\nchildren: 2\\nsmoker: yes\\nregion: southwest\\ncharges: 18608.262', metadata={'source': 'insurance.csv', 'row': 417}),\n",
              " Document(page_content='age: 64\\nsex: male\\nbmi: 39.16\\nchildren: 1\\nsmoker: no\\nregion: southeast\\ncharges: 14418.2804', metadata={'source': 'insurance.csv', 'row': 418}),\n",
              " Document(page_content='age: 63\\nsex: female\\nbmi: 26.98\\nchildren: 0\\nsmoker: yes\\nregion: northwest\\ncharges: 28950.4692', metadata={'source': 'insurance.csv', 'row': 419}),\n",
              " Document(page_content='age: 64\\nsex: male\\nbmi: 33.88\\nchildren: 0\\nsmoker: yes\\nregion: southeast\\ncharges: 46889.2612', metadata={'source': 'insurance.csv', 'row': 420}),\n",
              " Document(page_content='age: 61\\nsex: male\\nbmi: 35.86\\nchildren: 0\\nsmoker: yes\\nregion: southeast\\ncharges: 46599.1084', metadata={'source': 'insurance.csv', 'row': 421}),\n",
              " Document(page_content='age: 40\\nsex: male\\nbmi: 32.775\\nchildren: 1\\nsmoker: yes\\nregion: northeast\\ncharges: 39125.33225', metadata={'source': 'insurance.csv', 'row': 422}),\n",
              " Document(page_content='age: 25\\nsex: male\\nbmi: 30.59\\nchildren: 0\\nsmoker: no\\nregion: northeast\\ncharges: 2727.3951', metadata={'source': 'insurance.csv', 'row': 423}),\n",
              " Document(page_content='age: 48\\nsex: male\\nbmi: 30.2\\nchildren: 2\\nsmoker: no\\nregion: southwest\\ncharges: 8968.33', metadata={'source': 'insurance.csv', 'row': 424}),\n",
              " Document(page_content='age: 45\\nsex: male\\nbmi: 24.31\\nchildren: 5\\nsmoker: no\\nregion: southeast\\ncharges: 9788.8659', metadata={'source': 'insurance.csv', 'row': 425}),\n",
              " Document(page_content='age: 38\\nsex: female\\nbmi: 27.265\\nchildren: 1\\nsmoker: no\\nregion: northeast\\ncharges: 6555.07035', metadata={'source': 'insurance.csv', 'row': 426}),\n",
              " Document(page_content='age: 18\\nsex: female\\nbmi: 29.165\\nchildren: 0\\nsmoker: no\\nregion: northeast\\ncharges: 7323.734819', metadata={'source': 'insurance.csv', 'row': 427}),\n",
              " Document(page_content='age: 21\\nsex: female\\nbmi: 16.815\\nchildren: 1\\nsmoker: no\\nregion: northeast\\ncharges: 3167.45585', metadata={'source': 'insurance.csv', 'row': 428}),\n",
              " Document(page_content='age: 27\\nsex: female\\nbmi: 30.4\\nchildren: 3\\nsmoker: no\\nregion: northwest\\ncharges: 18804.7524', metadata={'source': 'insurance.csv', 'row': 429}),\n",
              " Document(page_content='age: 19\\nsex: male\\nbmi: 33.1\\nchildren: 0\\nsmoker: no\\nregion: southwest\\ncharges: 23082.95533', metadata={'source': 'insurance.csv', 'row': 430}),\n",
              " Document(page_content='age: 29\\nsex: female\\nbmi: 20.235\\nchildren: 2\\nsmoker: no\\nregion: northwest\\ncharges: 4906.40965', metadata={'source': 'insurance.csv', 'row': 431}),\n",
              " Document(page_content='age: 42\\nsex: male\\nbmi: 26.9\\nchildren: 0\\nsmoker: no\\nregion: southwest\\ncharges: 5969.723', metadata={'source': 'insurance.csv', 'row': 432}),\n",
              " Document(page_content='age: 60\\nsex: female\\nbmi: 30.5\\nchildren: 0\\nsmoker: no\\nregion: southwest\\ncharges: 12638.195', metadata={'source': 'insurance.csv', 'row': 433}),\n",
              " Document(page_content='age: 31\\nsex: male\\nbmi: 28.595\\nchildren: 1\\nsmoker: no\\nregion: northwest\\ncharges: 4243.59005', metadata={'source': 'insurance.csv', 'row': 434}),\n",
              " Document(page_content='age: 60\\nsex: male\\nbmi: 33.11\\nchildren: 3\\nsmoker: no\\nregion: southeast\\ncharges: 13919.8229', metadata={'source': 'insurance.csv', 'row': 435}),\n",
              " Document(page_content='age: 22\\nsex: male\\nbmi: 31.73\\nchildren: 0\\nsmoker: no\\nregion: northeast\\ncharges: 2254.7967', metadata={'source': 'insurance.csv', 'row': 436}),\n",
              " Document(page_content='age: 35\\nsex: male\\nbmi: 28.9\\nchildren: 3\\nsmoker: no\\nregion: southwest\\ncharges: 5926.846', metadata={'source': 'insurance.csv', 'row': 437}),\n",
              " Document(page_content='age: 52\\nsex: female\\nbmi: 46.75\\nchildren: 5\\nsmoker: no\\nregion: southeast\\ncharges: 12592.5345', metadata={'source': 'insurance.csv', 'row': 438}),\n",
              " Document(page_content='age: 26\\nsex: male\\nbmi: 29.45\\nchildren: 0\\nsmoker: no\\nregion: northeast\\ncharges: 2897.3235', metadata={'source': 'insurance.csv', 'row': 439}),\n",
              " Document(page_content='age: 31\\nsex: female\\nbmi: 32.68\\nchildren: 1\\nsmoker: no\\nregion: northwest\\ncharges: 4738.2682', metadata={'source': 'insurance.csv', 'row': 440}),\n",
              " Document(page_content='age: 33\\nsex: female\\nbmi: 33.5\\nchildren: 0\\nsmoker: yes\\nregion: southwest\\ncharges: 37079.372', metadata={'source': 'insurance.csv', 'row': 441}),\n",
              " Document(page_content='age: 18\\nsex: male\\nbmi: 43.01\\nchildren: 0\\nsmoker: no\\nregion: southeast\\ncharges: 1149.3959', metadata={'source': 'insurance.csv', 'row': 442}),\n",
              " Document(page_content='age: 59\\nsex: female\\nbmi: 36.52\\nchildren: 1\\nsmoker: no\\nregion: southeast\\ncharges: 28287.89766', metadata={'source': 'insurance.csv', 'row': 443}),\n",
              " Document(page_content='age: 56\\nsex: male\\nbmi: 26.695\\nchildren: 1\\nsmoker: yes\\nregion: northwest\\ncharges: 26109.32905', metadata={'source': 'insurance.csv', 'row': 444}),\n",
              " Document(page_content='age: 45\\nsex: female\\nbmi: 33.1\\nchildren: 0\\nsmoker: no\\nregion: southwest\\ncharges: 7345.084', metadata={'source': 'insurance.csv', 'row': 445}),\n",
              " Document(page_content='age: 60\\nsex: male\\nbmi: 29.64\\nchildren: 0\\nsmoker: no\\nregion: northeast\\ncharges: 12730.9996', metadata={'source': 'insurance.csv', 'row': 446}),\n",
              " Document(page_content='age: 56\\nsex: female\\nbmi: 25.65\\nchildren: 0\\nsmoker: no\\nregion: northwest\\ncharges: 11454.0215', metadata={'source': 'insurance.csv', 'row': 447}),\n",
              " Document(page_content='age: 40\\nsex: female\\nbmi: 29.6\\nchildren: 0\\nsmoker: no\\nregion: southwest\\ncharges: 5910.944', metadata={'source': 'insurance.csv', 'row': 448}),\n",
              " Document(page_content='age: 35\\nsex: male\\nbmi: 38.6\\nchildren: 1\\nsmoker: no\\nregion: southwest\\ncharges: 4762.329', metadata={'source': 'insurance.csv', 'row': 449}),\n",
              " Document(page_content='age: 39\\nsex: male\\nbmi: 29.6\\nchildren: 4\\nsmoker: no\\nregion: southwest\\ncharges: 7512.267', metadata={'source': 'insurance.csv', 'row': 450}),\n",
              " Document(page_content='age: 30\\nsex: male\\nbmi: 24.13\\nchildren: 1\\nsmoker: no\\nregion: northwest\\ncharges: 4032.2407', metadata={'source': 'insurance.csv', 'row': 451}),\n",
              " Document(page_content='age: 24\\nsex: male\\nbmi: 23.4\\nchildren: 0\\nsmoker: no\\nregion: southwest\\ncharges: 1969.614', metadata={'source': 'insurance.csv', 'row': 452}),\n",
              " Document(page_content='age: 20\\nsex: male\\nbmi: 29.735\\nchildren: 0\\nsmoker: no\\nregion: northwest\\ncharges: 1769.53165', metadata={'source': 'insurance.csv', 'row': 453}),\n",
              " Document(page_content='age: 32\\nsex: male\\nbmi: 46.53\\nchildren: 2\\nsmoker: no\\nregion: southeast\\ncharges: 4686.3887', metadata={'source': 'insurance.csv', 'row': 454}),\n",
              " Document(page_content='age: 59\\nsex: male\\nbmi: 37.4\\nchildren: 0\\nsmoker: no\\nregion: southwest\\ncharges: 21797.0004', metadata={'source': 'insurance.csv', 'row': 455}),\n",
              " Document(page_content='age: 55\\nsex: female\\nbmi: 30.14\\nchildren: 2\\nsmoker: no\\nregion: southeast\\ncharges: 11881.9696', metadata={'source': 'insurance.csv', 'row': 456}),\n",
              " Document(page_content='age: 57\\nsex: female\\nbmi: 30.495\\nchildren: 0\\nsmoker: no\\nregion: northwest\\ncharges: 11840.77505', metadata={'source': 'insurance.csv', 'row': 457}),\n",
              " Document(page_content='age: 56\\nsex: male\\nbmi: 39.6\\nchildren: 0\\nsmoker: no\\nregion: southwest\\ncharges: 10601.412', metadata={'source': 'insurance.csv', 'row': 458}),\n",
              " Document(page_content='age: 40\\nsex: female\\nbmi: 33\\nchildren: 3\\nsmoker: no\\nregion: southeast\\ncharges: 7682.67', metadata={'source': 'insurance.csv', 'row': 459}),\n",
              " Document(page_content='age: 49\\nsex: female\\nbmi: 36.63\\nchildren: 3\\nsmoker: no\\nregion: southeast\\ncharges: 10381.4787', metadata={'source': 'insurance.csv', 'row': 460}),\n",
              " Document(page_content='age: 42\\nsex: male\\nbmi: 30\\nchildren: 0\\nsmoker: yes\\nregion: southwest\\ncharges: 22144.032', metadata={'source': 'insurance.csv', 'row': 461}),\n",
              " Document(page_content='age: 62\\nsex: female\\nbmi: 38.095\\nchildren: 2\\nsmoker: no\\nregion: northeast\\ncharges: 15230.32405', metadata={'source': 'insurance.csv', 'row': 462}),\n",
              " Document(page_content='age: 56\\nsex: male\\nbmi: 25.935\\nchildren: 0\\nsmoker: no\\nregion: northeast\\ncharges: 11165.41765', metadata={'source': 'insurance.csv', 'row': 463}),\n",
              " Document(page_content='age: 19\\nsex: male\\nbmi: 25.175\\nchildren: 0\\nsmoker: no\\nregion: northwest\\ncharges: 1632.03625', metadata={'source': 'insurance.csv', 'row': 464}),\n",
              " Document(page_content='age: 30\\nsex: female\\nbmi: 28.38\\nchildren: 1\\nsmoker: yes\\nregion: southeast\\ncharges: 19521.9682', metadata={'source': 'insurance.csv', 'row': 465}),\n",
              " Document(page_content='age: 60\\nsex: female\\nbmi: 28.7\\nchildren: 1\\nsmoker: no\\nregion: southwest\\ncharges: 13224.693', metadata={'source': 'insurance.csv', 'row': 466}),\n",
              " Document(page_content='age: 56\\nsex: female\\nbmi: 33.82\\nchildren: 2\\nsmoker: no\\nregion: northwest\\ncharges: 12643.3778', metadata={'source': 'insurance.csv', 'row': 467}),\n",
              " Document(page_content='age: 28\\nsex: female\\nbmi: 24.32\\nchildren: 1\\nsmoker: no\\nregion: northeast\\ncharges: 23288.9284', metadata={'source': 'insurance.csv', 'row': 468}),\n",
              " Document(page_content='age: 18\\nsex: female\\nbmi: 24.09\\nchildren: 1\\nsmoker: no\\nregion: southeast\\ncharges: 2201.0971', metadata={'source': 'insurance.csv', 'row': 469}),\n",
              " Document(page_content='age: 27\\nsex: male\\nbmi: 32.67\\nchildren: 0\\nsmoker: no\\nregion: southeast\\ncharges: 2497.0383', metadata={'source': 'insurance.csv', 'row': 470}),\n",
              " Document(page_content='age: 18\\nsex: female\\nbmi: 30.115\\nchildren: 0\\nsmoker: no\\nregion: northeast\\ncharges: 2203.47185', metadata={'source': 'insurance.csv', 'row': 471}),\n",
              " Document(page_content='age: 19\\nsex: female\\nbmi: 29.8\\nchildren: 0\\nsmoker: no\\nregion: southwest\\ncharges: 1744.465', metadata={'source': 'insurance.csv', 'row': 472}),\n",
              " Document(page_content='age: 47\\nsex: female\\nbmi: 33.345\\nchildren: 0\\nsmoker: no\\nregion: northeast\\ncharges: 20878.78443', metadata={'source': 'insurance.csv', 'row': 473}),\n",
              " Document(page_content='age: 54\\nsex: male\\nbmi: 25.1\\nchildren: 3\\nsmoker: yes\\nregion: southwest\\ncharges: 25382.297', metadata={'source': 'insurance.csv', 'row': 474}),\n",
              " Document(page_content='age: 61\\nsex: male\\nbmi: 28.31\\nchildren: 1\\nsmoker: yes\\nregion: northwest\\ncharges: 28868.6639', metadata={'source': 'insurance.csv', 'row': 475}),\n",
              " Document(page_content='age: 24\\nsex: male\\nbmi: 28.5\\nchildren: 0\\nsmoker: yes\\nregion: northeast\\ncharges: 35147.52848', metadata={'source': 'insurance.csv', 'row': 476}),\n",
              " Document(page_content='age: 25\\nsex: male\\nbmi: 35.625\\nchildren: 0\\nsmoker: no\\nregion: northwest\\ncharges: 2534.39375', metadata={'source': 'insurance.csv', 'row': 477}),\n",
              " Document(page_content='age: 21\\nsex: male\\nbmi: 36.85\\nchildren: 0\\nsmoker: no\\nregion: southeast\\ncharges: 1534.3045', metadata={'source': 'insurance.csv', 'row': 478}),\n",
              " Document(page_content='age: 23\\nsex: male\\nbmi: 32.56\\nchildren: 0\\nsmoker: no\\nregion: southeast\\ncharges: 1824.2854', metadata={'source': 'insurance.csv', 'row': 479}),\n",
              " Document(page_content='age: 63\\nsex: male\\nbmi: 41.325\\nchildren: 3\\nsmoker: no\\nregion: northwest\\ncharges: 15555.18875', metadata={'source': 'insurance.csv', 'row': 480}),\n",
              " Document(page_content='age: 49\\nsex: male\\nbmi: 37.51\\nchildren: 2\\nsmoker: no\\nregion: southeast\\ncharges: 9304.7019', metadata={'source': 'insurance.csv', 'row': 481}),\n",
              " Document(page_content='age: 18\\nsex: female\\nbmi: 31.35\\nchildren: 0\\nsmoker: no\\nregion: southeast\\ncharges: 1622.1885', metadata={'source': 'insurance.csv', 'row': 482}),\n",
              " Document(page_content='age: 51\\nsex: female\\nbmi: 39.5\\nchildren: 1\\nsmoker: no\\nregion: southwest\\ncharges: 9880.068', metadata={'source': 'insurance.csv', 'row': 483}),\n",
              " Document(page_content='age: 48\\nsex: male\\nbmi: 34.3\\nchildren: 3\\nsmoker: no\\nregion: southwest\\ncharges: 9563.029', metadata={'source': 'insurance.csv', 'row': 484}),\n",
              " Document(page_content='age: 31\\nsex: female\\nbmi: 31.065\\nchildren: 0\\nsmoker: no\\nregion: northeast\\ncharges: 4347.02335', metadata={'source': 'insurance.csv', 'row': 485}),\n",
              " Document(page_content='age: 54\\nsex: female\\nbmi: 21.47\\nchildren: 3\\nsmoker: no\\nregion: northwest\\ncharges: 12475.3513', metadata={'source': 'insurance.csv', 'row': 486}),\n",
              " Document(page_content='age: 19\\nsex: male\\nbmi: 28.7\\nchildren: 0\\nsmoker: no\\nregion: southwest\\ncharges: 1253.936', metadata={'source': 'insurance.csv', 'row': 487}),\n",
              " Document(page_content='age: 44\\nsex: female\\nbmi: 38.06\\nchildren: 0\\nsmoker: yes\\nregion: southeast\\ncharges: 48885.13561', metadata={'source': 'insurance.csv', 'row': 488}),\n",
              " Document(page_content='age: 53\\nsex: male\\nbmi: 31.16\\nchildren: 1\\nsmoker: no\\nregion: northwest\\ncharges: 10461.9794', metadata={'source': 'insurance.csv', 'row': 489}),\n",
              " Document(page_content='age: 19\\nsex: female\\nbmi: 32.9\\nchildren: 0\\nsmoker: no\\nregion: southwest\\ncharges: 1748.774', metadata={'source': 'insurance.csv', 'row': 490}),\n",
              " Document(page_content='age: 61\\nsex: female\\nbmi: 25.08\\nchildren: 0\\nsmoker: no\\nregion: southeast\\ncharges: 24513.09126', metadata={'source': 'insurance.csv', 'row': 491}),\n",
              " Document(page_content='age: 18\\nsex: female\\nbmi: 25.08\\nchildren: 0\\nsmoker: no\\nregion: northeast\\ncharges: 2196.4732', metadata={'source': 'insurance.csv', 'row': 492}),\n",
              " Document(page_content='age: 61\\nsex: male\\nbmi: 43.4\\nchildren: 0\\nsmoker: no\\nregion: southwest\\ncharges: 12574.049', metadata={'source': 'insurance.csv', 'row': 493}),\n",
              " Document(page_content='age: 21\\nsex: male\\nbmi: 25.7\\nchildren: 4\\nsmoker: yes\\nregion: southwest\\ncharges: 17942.106', metadata={'source': 'insurance.csv', 'row': 494}),\n",
              " Document(page_content='age: 20\\nsex: male\\nbmi: 27.93\\nchildren: 0\\nsmoker: no\\nregion: northeast\\ncharges: 1967.0227', metadata={'source': 'insurance.csv', 'row': 495}),\n",
              " Document(page_content='age: 31\\nsex: female\\nbmi: 23.6\\nchildren: 2\\nsmoker: no\\nregion: southwest\\ncharges: 4931.647', metadata={'source': 'insurance.csv', 'row': 496}),\n",
              " Document(page_content='age: 45\\nsex: male\\nbmi: 28.7\\nchildren: 2\\nsmoker: no\\nregion: southwest\\ncharges: 8027.968', metadata={'source': 'insurance.csv', 'row': 497}),\n",
              " Document(page_content='age: 44\\nsex: female\\nbmi: 23.98\\nchildren: 2\\nsmoker: no\\nregion: southeast\\ncharges: 8211.1002', metadata={'source': 'insurance.csv', 'row': 498}),\n",
              " Document(page_content='age: 62\\nsex: female\\nbmi: 39.2\\nchildren: 0\\nsmoker: no\\nregion: southwest\\ncharges: 13470.86', metadata={'source': 'insurance.csv', 'row': 499}),\n",
              " Document(page_content='age: 29\\nsex: male\\nbmi: 34.4\\nchildren: 0\\nsmoker: yes\\nregion: southwest\\ncharges: 36197.699', metadata={'source': 'insurance.csv', 'row': 500}),\n",
              " Document(page_content='age: 43\\nsex: male\\nbmi: 26.03\\nchildren: 0\\nsmoker: no\\nregion: northeast\\ncharges: 6837.3687', metadata={'source': 'insurance.csv', 'row': 501}),\n",
              " Document(page_content='age: 51\\nsex: male\\nbmi: 23.21\\nchildren: 1\\nsmoker: yes\\nregion: southeast\\ncharges: 22218.1149', metadata={'source': 'insurance.csv', 'row': 502}),\n",
              " Document(page_content='age: 19\\nsex: male\\nbmi: 30.25\\nchildren: 0\\nsmoker: yes\\nregion: southeast\\ncharges: 32548.3405', metadata={'source': 'insurance.csv', 'row': 503}),\n",
              " Document(page_content='age: 38\\nsex: female\\nbmi: 28.93\\nchildren: 1\\nsmoker: no\\nregion: southeast\\ncharges: 5974.3847', metadata={'source': 'insurance.csv', 'row': 504}),\n",
              " Document(page_content='age: 37\\nsex: male\\nbmi: 30.875\\nchildren: 3\\nsmoker: no\\nregion: northwest\\ncharges: 6796.86325', metadata={'source': 'insurance.csv', 'row': 505}),\n",
              " Document(page_content='age: 22\\nsex: male\\nbmi: 31.35\\nchildren: 1\\nsmoker: no\\nregion: northwest\\ncharges: 2643.2685', metadata={'source': 'insurance.csv', 'row': 506}),\n",
              " Document(page_content='age: 21\\nsex: male\\nbmi: 23.75\\nchildren: 2\\nsmoker: no\\nregion: northwest\\ncharges: 3077.0955', metadata={'source': 'insurance.csv', 'row': 507}),\n",
              " Document(page_content='age: 24\\nsex: female\\nbmi: 25.27\\nchildren: 0\\nsmoker: no\\nregion: northeast\\ncharges: 3044.2133', metadata={'source': 'insurance.csv', 'row': 508}),\n",
              " Document(page_content='age: 57\\nsex: female\\nbmi: 28.7\\nchildren: 0\\nsmoker: no\\nregion: southwest\\ncharges: 11455.28', metadata={'source': 'insurance.csv', 'row': 509}),\n",
              " Document(page_content='age: 56\\nsex: male\\nbmi: 32.11\\nchildren: 1\\nsmoker: no\\nregion: northeast\\ncharges: 11763.0009', metadata={'source': 'insurance.csv', 'row': 510}),\n",
              " Document(page_content='age: 27\\nsex: male\\nbmi: 33.66\\nchildren: 0\\nsmoker: no\\nregion: southeast\\ncharges: 2498.4144', metadata={'source': 'insurance.csv', 'row': 511}),\n",
              " Document(page_content='age: 51\\nsex: male\\nbmi: 22.42\\nchildren: 0\\nsmoker: no\\nregion: northeast\\ncharges: 9361.3268', metadata={'source': 'insurance.csv', 'row': 512}),\n",
              " Document(page_content='age: 19\\nsex: male\\nbmi: 30.4\\nchildren: 0\\nsmoker: no\\nregion: southwest\\ncharges: 1256.299', metadata={'source': 'insurance.csv', 'row': 513}),\n",
              " Document(page_content='age: 39\\nsex: male\\nbmi: 28.3\\nchildren: 1\\nsmoker: yes\\nregion: southwest\\ncharges: 21082.16', metadata={'source': 'insurance.csv', 'row': 514}),\n",
              " Document(page_content='age: 58\\nsex: male\\nbmi: 35.7\\nchildren: 0\\nsmoker: no\\nregion: southwest\\ncharges: 11362.755', metadata={'source': 'insurance.csv', 'row': 515}),\n",
              " Document(page_content='age: 20\\nsex: male\\nbmi: 35.31\\nchildren: 1\\nsmoker: no\\nregion: southeast\\ncharges: 27724.28875', metadata={'source': 'insurance.csv', 'row': 516}),\n",
              " Document(page_content='age: 45\\nsex: male\\nbmi: 30.495\\nchildren: 2\\nsmoker: no\\nregion: northwest\\ncharges: 8413.46305', metadata={'source': 'insurance.csv', 'row': 517}),\n",
              " Document(page_content='age: 35\\nsex: female\\nbmi: 31\\nchildren: 1\\nsmoker: no\\nregion: southwest\\ncharges: 5240.765', metadata={'source': 'insurance.csv', 'row': 518}),\n",
              " Document(page_content='age: 31\\nsex: male\\nbmi: 30.875\\nchildren: 0\\nsmoker: no\\nregion: northeast\\ncharges: 3857.75925', metadata={'source': 'insurance.csv', 'row': 519}),\n",
              " Document(page_content='age: 50\\nsex: female\\nbmi: 27.36\\nchildren: 0\\nsmoker: no\\nregion: northeast\\ncharges: 25656.57526', metadata={'source': 'insurance.csv', 'row': 520}),\n",
              " Document(page_content='age: 32\\nsex: female\\nbmi: 44.22\\nchildren: 0\\nsmoker: no\\nregion: southeast\\ncharges: 3994.1778', metadata={'source': 'insurance.csv', 'row': 521}),\n",
              " Document(page_content='age: 51\\nsex: female\\nbmi: 33.915\\nchildren: 0\\nsmoker: no\\nregion: northeast\\ncharges: 9866.30485', metadata={'source': 'insurance.csv', 'row': 522}),\n",
              " Document(page_content='age: 38\\nsex: female\\nbmi: 37.73\\nchildren: 0\\nsmoker: no\\nregion: southeast\\ncharges: 5397.6167', metadata={'source': 'insurance.csv', 'row': 523}),\n",
              " Document(page_content='age: 42\\nsex: male\\nbmi: 26.07\\nchildren: 1\\nsmoker: yes\\nregion: southeast\\ncharges: 38245.59327', metadata={'source': 'insurance.csv', 'row': 524}),\n",
              " Document(page_content='age: 18\\nsex: female\\nbmi: 33.88\\nchildren: 0\\nsmoker: no\\nregion: southeast\\ncharges: 11482.63485', metadata={'source': 'insurance.csv', 'row': 525}),\n",
              " Document(page_content='age: 19\\nsex: female\\nbmi: 30.59\\nchildren: 2\\nsmoker: no\\nregion: northwest\\ncharges: 24059.68019', metadata={'source': 'insurance.csv', 'row': 526}),\n",
              " Document(page_content='age: 51\\nsex: female\\nbmi: 25.8\\nchildren: 1\\nsmoker: no\\nregion: southwest\\ncharges: 9861.025', metadata={'source': 'insurance.csv', 'row': 527}),\n",
              " Document(page_content='age: 46\\nsex: male\\nbmi: 39.425\\nchildren: 1\\nsmoker: no\\nregion: northeast\\ncharges: 8342.90875', metadata={'source': 'insurance.csv', 'row': 528}),\n",
              " Document(page_content='age: 18\\nsex: male\\nbmi: 25.46\\nchildren: 0\\nsmoker: no\\nregion: northeast\\ncharges: 1708.0014', metadata={'source': 'insurance.csv', 'row': 529}),\n",
              " Document(page_content='age: 57\\nsex: male\\nbmi: 42.13\\nchildren: 1\\nsmoker: yes\\nregion: southeast\\ncharges: 48675.5177', metadata={'source': 'insurance.csv', 'row': 530}),\n",
              " Document(page_content='age: 62\\nsex: female\\nbmi: 31.73\\nchildren: 0\\nsmoker: no\\nregion: northeast\\ncharges: 14043.4767', metadata={'source': 'insurance.csv', 'row': 531}),\n",
              " Document(page_content='age: 59\\nsex: male\\nbmi: 29.7\\nchildren: 2\\nsmoker: no\\nregion: southeast\\ncharges: 12925.886', metadata={'source': 'insurance.csv', 'row': 532}),\n",
              " Document(page_content='age: 37\\nsex: male\\nbmi: 36.19\\nchildren: 0\\nsmoker: no\\nregion: southeast\\ncharges: 19214.70553', metadata={'source': 'insurance.csv', 'row': 533}),\n",
              " Document(page_content='age: 64\\nsex: male\\nbmi: 40.48\\nchildren: 0\\nsmoker: no\\nregion: southeast\\ncharges: 13831.1152', metadata={'source': 'insurance.csv', 'row': 534}),\n",
              " Document(page_content='age: 38\\nsex: male\\nbmi: 28.025\\nchildren: 1\\nsmoker: no\\nregion: northeast\\ncharges: 6067.12675', metadata={'source': 'insurance.csv', 'row': 535}),\n",
              " Document(page_content='age: 33\\nsex: female\\nbmi: 38.9\\nchildren: 3\\nsmoker: no\\nregion: southwest\\ncharges: 5972.378', metadata={'source': 'insurance.csv', 'row': 536}),\n",
              " Document(page_content='age: 46\\nsex: female\\nbmi: 30.2\\nchildren: 2\\nsmoker: no\\nregion: southwest\\ncharges: 8825.086', metadata={'source': 'insurance.csv', 'row': 537}),\n",
              " Document(page_content='age: 46\\nsex: female\\nbmi: 28.05\\nchildren: 1\\nsmoker: no\\nregion: southeast\\ncharges: 8233.0975', metadata={'source': 'insurance.csv', 'row': 538}),\n",
              " Document(page_content='age: 53\\nsex: male\\nbmi: 31.35\\nchildren: 0\\nsmoker: no\\nregion: southeast\\ncharges: 27346.04207', metadata={'source': 'insurance.csv', 'row': 539}),\n",
              " Document(page_content='age: 34\\nsex: female\\nbmi: 38\\nchildren: 3\\nsmoker: no\\nregion: southwest\\ncharges: 6196.448', metadata={'source': 'insurance.csv', 'row': 540}),\n",
              " Document(page_content='age: 20\\nsex: female\\nbmi: 31.79\\nchildren: 2\\nsmoker: no\\nregion: southeast\\ncharges: 3056.3881', metadata={'source': 'insurance.csv', 'row': 541}),\n",
              " Document(page_content='age: 63\\nsex: female\\nbmi: 36.3\\nchildren: 0\\nsmoker: no\\nregion: southeast\\ncharges: 13887.204', metadata={'source': 'insurance.csv', 'row': 542}),\n",
              " Document(page_content='age: 54\\nsex: female\\nbmi: 47.41\\nchildren: 0\\nsmoker: yes\\nregion: southeast\\ncharges: 63770.42801', metadata={'source': 'insurance.csv', 'row': 543}),\n",
              " Document(page_content='age: 54\\nsex: male\\nbmi: 30.21\\nchildren: 0\\nsmoker: no\\nregion: northwest\\ncharges: 10231.4999', metadata={'source': 'insurance.csv', 'row': 544}),\n",
              " Document(page_content='age: 49\\nsex: male\\nbmi: 25.84\\nchildren: 2\\nsmoker: yes\\nregion: northwest\\ncharges: 23807.2406', metadata={'source': 'insurance.csv', 'row': 545}),\n",
              " Document(page_content='age: 28\\nsex: male\\nbmi: 35.435\\nchildren: 0\\nsmoker: no\\nregion: northeast\\ncharges: 3268.84665', metadata={'source': 'insurance.csv', 'row': 546}),\n",
              " Document(page_content='age: 54\\nsex: female\\nbmi: 46.7\\nchildren: 2\\nsmoker: no\\nregion: southwest\\ncharges: 11538.421', metadata={'source': 'insurance.csv', 'row': 547}),\n",
              " Document(page_content='age: 25\\nsex: female\\nbmi: 28.595\\nchildren: 0\\nsmoker: no\\nregion: northeast\\ncharges: 3213.62205', metadata={'source': 'insurance.csv', 'row': 548}),\n",
              " Document(page_content='age: 43\\nsex: female\\nbmi: 46.2\\nchildren: 0\\nsmoker: yes\\nregion: southeast\\ncharges: 45863.205', metadata={'source': 'insurance.csv', 'row': 549}),\n",
              " Document(page_content='age: 63\\nsex: male\\nbmi: 30.8\\nchildren: 0\\nsmoker: no\\nregion: southwest\\ncharges: 13390.559', metadata={'source': 'insurance.csv', 'row': 550}),\n",
              " Document(page_content='age: 32\\nsex: female\\nbmi: 28.93\\nchildren: 0\\nsmoker: no\\nregion: southeast\\ncharges: 3972.9247', metadata={'source': 'insurance.csv', 'row': 551}),\n",
              " Document(page_content='age: 62\\nsex: male\\nbmi: 21.4\\nchildren: 0\\nsmoker: no\\nregion: southwest\\ncharges: 12957.118', metadata={'source': 'insurance.csv', 'row': 552}),\n",
              " Document(page_content='age: 52\\nsex: female\\nbmi: 31.73\\nchildren: 2\\nsmoker: no\\nregion: northwest\\ncharges: 11187.6567', metadata={'source': 'insurance.csv', 'row': 553}),\n",
              " Document(page_content='age: 25\\nsex: female\\nbmi: 41.325\\nchildren: 0\\nsmoker: no\\nregion: northeast\\ncharges: 17878.90068', metadata={'source': 'insurance.csv', 'row': 554}),\n",
              " Document(page_content='age: 28\\nsex: male\\nbmi: 23.8\\nchildren: 2\\nsmoker: no\\nregion: southwest\\ncharges: 3847.674', metadata={'source': 'insurance.csv', 'row': 555}),\n",
              " Document(page_content='age: 46\\nsex: male\\nbmi: 33.44\\nchildren: 1\\nsmoker: no\\nregion: northeast\\ncharges: 8334.5896', metadata={'source': 'insurance.csv', 'row': 556}),\n",
              " Document(page_content='age: 34\\nsex: male\\nbmi: 34.21\\nchildren: 0\\nsmoker: no\\nregion: southeast\\ncharges: 3935.1799', metadata={'source': 'insurance.csv', 'row': 557}),\n",
              " Document(page_content='age: 35\\nsex: female\\nbmi: 34.105\\nchildren: 3\\nsmoker: yes\\nregion: northwest\\ncharges: 39983.42595', metadata={'source': 'insurance.csv', 'row': 558}),\n",
              " Document(page_content='age: 19\\nsex: male\\nbmi: 35.53\\nchildren: 0\\nsmoker: no\\nregion: northwest\\ncharges: 1646.4297', metadata={'source': 'insurance.csv', 'row': 559}),\n",
              " Document(page_content='age: 46\\nsex: female\\nbmi: 19.95\\nchildren: 2\\nsmoker: no\\nregion: northwest\\ncharges: 9193.8385', metadata={'source': 'insurance.csv', 'row': 560}),\n",
              " Document(page_content='age: 54\\nsex: female\\nbmi: 32.68\\nchildren: 0\\nsmoker: no\\nregion: northeast\\ncharges: 10923.9332', metadata={'source': 'insurance.csv', 'row': 561}),\n",
              " Document(page_content='age: 27\\nsex: male\\nbmi: 30.5\\nchildren: 0\\nsmoker: no\\nregion: southwest\\ncharges: 2494.022', metadata={'source': 'insurance.csv', 'row': 562}),\n",
              " Document(page_content='age: 50\\nsex: male\\nbmi: 44.77\\nchildren: 1\\nsmoker: no\\nregion: southeast\\ncharges: 9058.7303', metadata={'source': 'insurance.csv', 'row': 563}),\n",
              " Document(page_content='age: 18\\nsex: female\\nbmi: 32.12\\nchildren: 2\\nsmoker: no\\nregion: southeast\\ncharges: 2801.2588', metadata={'source': 'insurance.csv', 'row': 564}),\n",
              " Document(page_content='age: 19\\nsex: female\\nbmi: 30.495\\nchildren: 0\\nsmoker: no\\nregion: northwest\\ncharges: 2128.43105', metadata={'source': 'insurance.csv', 'row': 565}),\n",
              " Document(page_content='age: 38\\nsex: female\\nbmi: 40.565\\nchildren: 1\\nsmoker: no\\nregion: northwest\\ncharges: 6373.55735', metadata={'source': 'insurance.csv', 'row': 566}),\n",
              " Document(page_content='age: 41\\nsex: male\\nbmi: 30.59\\nchildren: 2\\nsmoker: no\\nregion: northwest\\ncharges: 7256.7231', metadata={'source': 'insurance.csv', 'row': 567}),\n",
              " Document(page_content='age: 49\\nsex: female\\nbmi: 31.9\\nchildren: 5\\nsmoker: no\\nregion: southwest\\ncharges: 11552.904', metadata={'source': 'insurance.csv', 'row': 568}),\n",
              " Document(page_content='age: 48\\nsex: male\\nbmi: 40.565\\nchildren: 2\\nsmoker: yes\\nregion: northwest\\ncharges: 45702.02235', metadata={'source': 'insurance.csv', 'row': 569}),\n",
              " Document(page_content='age: 31\\nsex: female\\nbmi: 29.1\\nchildren: 0\\nsmoker: no\\nregion: southwest\\ncharges: 3761.292', metadata={'source': 'insurance.csv', 'row': 570}),\n",
              " Document(page_content='age: 18\\nsex: female\\nbmi: 37.29\\nchildren: 1\\nsmoker: no\\nregion: southeast\\ncharges: 2219.4451', metadata={'source': 'insurance.csv', 'row': 571}),\n",
              " Document(page_content='age: 30\\nsex: female\\nbmi: 43.12\\nchildren: 2\\nsmoker: no\\nregion: southeast\\ncharges: 4753.6368', metadata={'source': 'insurance.csv', 'row': 572}),\n",
              " Document(page_content='age: 62\\nsex: female\\nbmi: 36.86\\nchildren: 1\\nsmoker: no\\nregion: northeast\\ncharges: 31620.00106', metadata={'source': 'insurance.csv', 'row': 573}),\n",
              " Document(page_content='age: 57\\nsex: female\\nbmi: 34.295\\nchildren: 2\\nsmoker: no\\nregion: northeast\\ncharges: 13224.05705', metadata={'source': 'insurance.csv', 'row': 574}),\n",
              " Document(page_content='age: 58\\nsex: female\\nbmi: 27.17\\nchildren: 0\\nsmoker: no\\nregion: northwest\\ncharges: 12222.8983', metadata={'source': 'insurance.csv', 'row': 575}),\n",
              " Document(page_content='age: 22\\nsex: male\\nbmi: 26.84\\nchildren: 0\\nsmoker: no\\nregion: southeast\\ncharges: 1664.9996', metadata={'source': 'insurance.csv', 'row': 576}),\n",
              " Document(page_content='age: 31\\nsex: female\\nbmi: 38.095\\nchildren: 1\\nsmoker: yes\\nregion: northeast\\ncharges: 58571.07448', metadata={'source': 'insurance.csv', 'row': 577}),\n",
              " Document(page_content='age: 52\\nsex: male\\nbmi: 30.2\\nchildren: 1\\nsmoker: no\\nregion: southwest\\ncharges: 9724.53', metadata={'source': 'insurance.csv', 'row': 578}),\n",
              " Document(page_content='age: 25\\nsex: female\\nbmi: 23.465\\nchildren: 0\\nsmoker: no\\nregion: northeast\\ncharges: 3206.49135', metadata={'source': 'insurance.csv', 'row': 579}),\n",
              " Document(page_content='age: 59\\nsex: male\\nbmi: 25.46\\nchildren: 1\\nsmoker: no\\nregion: northeast\\ncharges: 12913.9924', metadata={'source': 'insurance.csv', 'row': 580}),\n",
              " Document(page_content='age: 19\\nsex: male\\nbmi: 30.59\\nchildren: 0\\nsmoker: no\\nregion: northwest\\ncharges: 1639.5631', metadata={'source': 'insurance.csv', 'row': 581}),\n",
              " Document(page_content='age: 39\\nsex: male\\nbmi: 45.43\\nchildren: 2\\nsmoker: no\\nregion: southeast\\ncharges: 6356.2707', metadata={'source': 'insurance.csv', 'row': 582}),\n",
              " Document(page_content='age: 32\\nsex: female\\nbmi: 23.65\\nchildren: 1\\nsmoker: no\\nregion: southeast\\ncharges: 17626.23951', metadata={'source': 'insurance.csv', 'row': 583}),\n",
              " Document(page_content='age: 19\\nsex: male\\nbmi: 20.7\\nchildren: 0\\nsmoker: no\\nregion: southwest\\ncharges: 1242.816', metadata={'source': 'insurance.csv', 'row': 584}),\n",
              " Document(page_content='age: 33\\nsex: female\\nbmi: 28.27\\nchildren: 1\\nsmoker: no\\nregion: southeast\\ncharges: 4779.6023', metadata={'source': 'insurance.csv', 'row': 585}),\n",
              " Document(page_content='age: 21\\nsex: male\\nbmi: 20.235\\nchildren: 3\\nsmoker: no\\nregion: northeast\\ncharges: 3861.20965', metadata={'source': 'insurance.csv', 'row': 586}),\n",
              " Document(page_content='age: 34\\nsex: female\\nbmi: 30.21\\nchildren: 1\\nsmoker: yes\\nregion: northwest\\ncharges: 43943.8761', metadata={'source': 'insurance.csv', 'row': 587}),\n",
              " Document(page_content='age: 61\\nsex: female\\nbmi: 35.91\\nchildren: 0\\nsmoker: no\\nregion: northeast\\ncharges: 13635.6379', metadata={'source': 'insurance.csv', 'row': 588}),\n",
              " Document(page_content='age: 38\\nsex: female\\nbmi: 30.69\\nchildren: 1\\nsmoker: no\\nregion: southeast\\ncharges: 5976.8311', metadata={'source': 'insurance.csv', 'row': 589}),\n",
              " Document(page_content='age: 58\\nsex: female\\nbmi: 29\\nchildren: 0\\nsmoker: no\\nregion: southwest\\ncharges: 11842.442', metadata={'source': 'insurance.csv', 'row': 590}),\n",
              " Document(page_content='age: 47\\nsex: male\\nbmi: 19.57\\nchildren: 1\\nsmoker: no\\nregion: northwest\\ncharges: 8428.0693', metadata={'source': 'insurance.csv', 'row': 591}),\n",
              " Document(page_content='age: 20\\nsex: male\\nbmi: 31.13\\nchildren: 2\\nsmoker: no\\nregion: southeast\\ncharges: 2566.4707', metadata={'source': 'insurance.csv', 'row': 592}),\n",
              " Document(page_content='age: 21\\nsex: female\\nbmi: 21.85\\nchildren: 1\\nsmoker: yes\\nregion: northeast\\ncharges: 15359.1045', metadata={'source': 'insurance.csv', 'row': 593}),\n",
              " Document(page_content='age: 41\\nsex: male\\nbmi: 40.26\\nchildren: 0\\nsmoker: no\\nregion: southeast\\ncharges: 5709.1644', metadata={'source': 'insurance.csv', 'row': 594}),\n",
              " Document(page_content='age: 46\\nsex: female\\nbmi: 33.725\\nchildren: 1\\nsmoker: no\\nregion: northeast\\ncharges: 8823.98575', metadata={'source': 'insurance.csv', 'row': 595}),\n",
              " Document(page_content='age: 42\\nsex: female\\nbmi: 29.48\\nchildren: 2\\nsmoker: no\\nregion: southeast\\ncharges: 7640.3092', metadata={'source': 'insurance.csv', 'row': 596}),\n",
              " Document(page_content='age: 34\\nsex: female\\nbmi: 33.25\\nchildren: 1\\nsmoker: no\\nregion: northeast\\ncharges: 5594.8455', metadata={'source': 'insurance.csv', 'row': 597}),\n",
              " Document(page_content='age: 43\\nsex: male\\nbmi: 32.6\\nchildren: 2\\nsmoker: no\\nregion: southwest\\ncharges: 7441.501', metadata={'source': 'insurance.csv', 'row': 598}),\n",
              " Document(page_content='age: 52\\nsex: female\\nbmi: 37.525\\nchildren: 2\\nsmoker: no\\nregion: northwest\\ncharges: 33471.97189', metadata={'source': 'insurance.csv', 'row': 599}),\n",
              " Document(page_content='age: 18\\nsex: female\\nbmi: 39.16\\nchildren: 0\\nsmoker: no\\nregion: southeast\\ncharges: 1633.0444', metadata={'source': 'insurance.csv', 'row': 600}),\n",
              " Document(page_content='age: 51\\nsex: male\\nbmi: 31.635\\nchildren: 0\\nsmoker: no\\nregion: northwest\\ncharges: 9174.13565', metadata={'source': 'insurance.csv', 'row': 601}),\n",
              " Document(page_content='age: 56\\nsex: female\\nbmi: 25.3\\nchildren: 0\\nsmoker: no\\nregion: southwest\\ncharges: 11070.535', metadata={'source': 'insurance.csv', 'row': 602}),\n",
              " Document(page_content='age: 64\\nsex: female\\nbmi: 39.05\\nchildren: 3\\nsmoker: no\\nregion: southeast\\ncharges: 16085.1275', metadata={'source': 'insurance.csv', 'row': 603}),\n",
              " Document(page_content='age: 19\\nsex: female\\nbmi: 28.31\\nchildren: 0\\nsmoker: yes\\nregion: northwest\\ncharges: 17468.9839', metadata={'source': 'insurance.csv', 'row': 604}),\n",
              " Document(page_content='age: 51\\nsex: female\\nbmi: 34.1\\nchildren: 0\\nsmoker: no\\nregion: southeast\\ncharges: 9283.562', metadata={'source': 'insurance.csv', 'row': 605}),\n",
              " Document(page_content='age: 27\\nsex: female\\nbmi: 25.175\\nchildren: 0\\nsmoker: no\\nregion: northeast\\ncharges: 3558.62025', metadata={'source': 'insurance.csv', 'row': 606}),\n",
              " Document(page_content='age: 59\\nsex: female\\nbmi: 23.655\\nchildren: 0\\nsmoker: yes\\nregion: northwest\\ncharges: 25678.77845', metadata={'source': 'insurance.csv', 'row': 607}),\n",
              " Document(page_content='age: 28\\nsex: male\\nbmi: 26.98\\nchildren: 2\\nsmoker: no\\nregion: northeast\\ncharges: 4435.0942', metadata={'source': 'insurance.csv', 'row': 608}),\n",
              " Document(page_content='age: 30\\nsex: male\\nbmi: 37.8\\nchildren: 2\\nsmoker: yes\\nregion: southwest\\ncharges: 39241.442', metadata={'source': 'insurance.csv', 'row': 609}),\n",
              " Document(page_content='age: 47\\nsex: female\\nbmi: 29.37\\nchildren: 1\\nsmoker: no\\nregion: southeast\\ncharges: 8547.6913', metadata={'source': 'insurance.csv', 'row': 610}),\n",
              " Document(page_content='age: 38\\nsex: female\\nbmi: 34.8\\nchildren: 2\\nsmoker: no\\nregion: southwest\\ncharges: 6571.544', metadata={'source': 'insurance.csv', 'row': 611}),\n",
              " Document(page_content='age: 18\\nsex: female\\nbmi: 33.155\\nchildren: 0\\nsmoker: no\\nregion: northeast\\ncharges: 2207.69745', metadata={'source': 'insurance.csv', 'row': 612}),\n",
              " Document(page_content='age: 34\\nsex: female\\nbmi: 19\\nchildren: 3\\nsmoker: no\\nregion: northeast\\ncharges: 6753.038', metadata={'source': 'insurance.csv', 'row': 613}),\n",
              " Document(page_content='age: 20\\nsex: female\\nbmi: 33\\nchildren: 0\\nsmoker: no\\nregion: southeast\\ncharges: 1880.07', metadata={'source': 'insurance.csv', 'row': 614}),\n",
              " Document(page_content='age: 47\\nsex: female\\nbmi: 36.63\\nchildren: 1\\nsmoker: yes\\nregion: southeast\\ncharges: 42969.8527', metadata={'source': 'insurance.csv', 'row': 615}),\n",
              " Document(page_content='age: 56\\nsex: female\\nbmi: 28.595\\nchildren: 0\\nsmoker: no\\nregion: northeast\\ncharges: 11658.11505', metadata={'source': 'insurance.csv', 'row': 616}),\n",
              " Document(page_content='age: 49\\nsex: male\\nbmi: 25.6\\nchildren: 2\\nsmoker: yes\\nregion: southwest\\ncharges: 23306.547', metadata={'source': 'insurance.csv', 'row': 617}),\n",
              " Document(page_content='age: 19\\nsex: female\\nbmi: 33.11\\nchildren: 0\\nsmoker: yes\\nregion: southeast\\ncharges: 34439.8559', metadata={'source': 'insurance.csv', 'row': 618}),\n",
              " Document(page_content='age: 55\\nsex: female\\nbmi: 37.1\\nchildren: 0\\nsmoker: no\\nregion: southwest\\ncharges: 10713.644', metadata={'source': 'insurance.csv', 'row': 619}),\n",
              " Document(page_content='age: 30\\nsex: male\\nbmi: 31.4\\nchildren: 1\\nsmoker: no\\nregion: southwest\\ncharges: 3659.346', metadata={'source': 'insurance.csv', 'row': 620}),\n",
              " Document(page_content='age: 37\\nsex: male\\nbmi: 34.1\\nchildren: 4\\nsmoker: yes\\nregion: southwest\\ncharges: 40182.246', metadata={'source': 'insurance.csv', 'row': 621}),\n",
              " Document(page_content='age: 49\\nsex: female\\nbmi: 21.3\\nchildren: 1\\nsmoker: no\\nregion: southwest\\ncharges: 9182.17', metadata={'source': 'insurance.csv', 'row': 622}),\n",
              " Document(page_content='age: 18\\nsex: male\\nbmi: 33.535\\nchildren: 0\\nsmoker: yes\\nregion: northeast\\ncharges: 34617.84065', metadata={'source': 'insurance.csv', 'row': 623}),\n",
              " Document(page_content='age: 59\\nsex: male\\nbmi: 28.785\\nchildren: 0\\nsmoker: no\\nregion: northwest\\ncharges: 12129.61415', metadata={'source': 'insurance.csv', 'row': 624}),\n",
              " Document(page_content='age: 29\\nsex: female\\nbmi: 26.03\\nchildren: 0\\nsmoker: no\\nregion: northwest\\ncharges: 3736.4647', metadata={'source': 'insurance.csv', 'row': 625}),\n",
              " Document(page_content='age: 36\\nsex: male\\nbmi: 28.88\\nchildren: 3\\nsmoker: no\\nregion: northeast\\ncharges: 6748.5912', metadata={'source': 'insurance.csv', 'row': 626}),\n",
              " Document(page_content='age: 33\\nsex: male\\nbmi: 42.46\\nchildren: 1\\nsmoker: no\\nregion: southeast\\ncharges: 11326.71487', metadata={'source': 'insurance.csv', 'row': 627}),\n",
              " Document(page_content='age: 58\\nsex: male\\nbmi: 38\\nchildren: 0\\nsmoker: no\\nregion: southwest\\ncharges: 11365.952', metadata={'source': 'insurance.csv', 'row': 628}),\n",
              " Document(page_content='age: 44\\nsex: female\\nbmi: 38.95\\nchildren: 0\\nsmoker: yes\\nregion: northwest\\ncharges: 42983.4585', metadata={'source': 'insurance.csv', 'row': 629}),\n",
              " Document(page_content='age: 53\\nsex: male\\nbmi: 36.1\\nchildren: 1\\nsmoker: no\\nregion: southwest\\ncharges: 10085.846', metadata={'source': 'insurance.csv', 'row': 630}),\n",
              " Document(page_content='age: 24\\nsex: male\\nbmi: 29.3\\nchildren: 0\\nsmoker: no\\nregion: southwest\\ncharges: 1977.815', metadata={'source': 'insurance.csv', 'row': 631}),\n",
              " Document(page_content='age: 29\\nsex: female\\nbmi: 35.53\\nchildren: 0\\nsmoker: no\\nregion: southeast\\ncharges: 3366.6697', metadata={'source': 'insurance.csv', 'row': 632}),\n",
              " Document(page_content='age: 40\\nsex: male\\nbmi: 22.705\\nchildren: 2\\nsmoker: no\\nregion: northeast\\ncharges: 7173.35995', metadata={'source': 'insurance.csv', 'row': 633}),\n",
              " Document(page_content='age: 51\\nsex: male\\nbmi: 39.7\\nchildren: 1\\nsmoker: no\\nregion: southwest\\ncharges: 9391.346', metadata={'source': 'insurance.csv', 'row': 634}),\n",
              " Document(page_content='age: 64\\nsex: male\\nbmi: 38.19\\nchildren: 0\\nsmoker: no\\nregion: northeast\\ncharges: 14410.9321', metadata={'source': 'insurance.csv', 'row': 635}),\n",
              " Document(page_content='age: 19\\nsex: female\\nbmi: 24.51\\nchildren: 1\\nsmoker: no\\nregion: northwest\\ncharges: 2709.1119', metadata={'source': 'insurance.csv', 'row': 636}),\n",
              " Document(page_content='age: 35\\nsex: female\\nbmi: 38.095\\nchildren: 2\\nsmoker: no\\nregion: northeast\\ncharges: 24915.04626', metadata={'source': 'insurance.csv', 'row': 637}),\n",
              " Document(page_content='age: 39\\nsex: male\\nbmi: 26.41\\nchildren: 0\\nsmoker: yes\\nregion: northeast\\ncharges: 20149.3229', metadata={'source': 'insurance.csv', 'row': 638}),\n",
              " Document(page_content='age: 56\\nsex: male\\nbmi: 33.66\\nchildren: 4\\nsmoker: no\\nregion: southeast\\ncharges: 12949.1554', metadata={'source': 'insurance.csv', 'row': 639}),\n",
              " Document(page_content='age: 33\\nsex: male\\nbmi: 42.4\\nchildren: 5\\nsmoker: no\\nregion: southwest\\ncharges: 6666.243', metadata={'source': 'insurance.csv', 'row': 640}),\n",
              " Document(page_content='age: 42\\nsex: male\\nbmi: 28.31\\nchildren: 3\\nsmoker: yes\\nregion: northwest\\ncharges: 32787.45859', metadata={'source': 'insurance.csv', 'row': 641}),\n",
              " Document(page_content='age: 61\\nsex: male\\nbmi: 33.915\\nchildren: 0\\nsmoker: no\\nregion: northeast\\ncharges: 13143.86485', metadata={'source': 'insurance.csv', 'row': 642}),\n",
              " Document(page_content='age: 23\\nsex: female\\nbmi: 34.96\\nchildren: 3\\nsmoker: no\\nregion: northwest\\ncharges: 4466.6214', metadata={'source': 'insurance.csv', 'row': 643}),\n",
              " Document(page_content='age: 43\\nsex: male\\nbmi: 35.31\\nchildren: 2\\nsmoker: no\\nregion: southeast\\ncharges: 18806.14547', metadata={'source': 'insurance.csv', 'row': 644}),\n",
              " Document(page_content='age: 48\\nsex: male\\nbmi: 30.78\\nchildren: 3\\nsmoker: no\\nregion: northeast\\ncharges: 10141.1362', metadata={'source': 'insurance.csv', 'row': 645}),\n",
              " Document(page_content='age: 39\\nsex: male\\nbmi: 26.22\\nchildren: 1\\nsmoker: no\\nregion: northwest\\ncharges: 6123.5688', metadata={'source': 'insurance.csv', 'row': 646}),\n",
              " Document(page_content='age: 40\\nsex: female\\nbmi: 23.37\\nchildren: 3\\nsmoker: no\\nregion: northeast\\ncharges: 8252.2843', metadata={'source': 'insurance.csv', 'row': 647}),\n",
              " Document(page_content='age: 18\\nsex: male\\nbmi: 28.5\\nchildren: 0\\nsmoker: no\\nregion: northeast\\ncharges: 1712.227', metadata={'source': 'insurance.csv', 'row': 648}),\n",
              " Document(page_content='age: 58\\nsex: female\\nbmi: 32.965\\nchildren: 0\\nsmoker: no\\nregion: northeast\\ncharges: 12430.95335', metadata={'source': 'insurance.csv', 'row': 649}),\n",
              " Document(page_content='age: 49\\nsex: female\\nbmi: 42.68\\nchildren: 2\\nsmoker: no\\nregion: southeast\\ncharges: 9800.8882', metadata={'source': 'insurance.csv', 'row': 650}),\n",
              " Document(page_content='age: 53\\nsex: female\\nbmi: 39.6\\nchildren: 1\\nsmoker: no\\nregion: southeast\\ncharges: 10579.711', metadata={'source': 'insurance.csv', 'row': 651}),\n",
              " Document(page_content='age: 48\\nsex: female\\nbmi: 31.13\\nchildren: 0\\nsmoker: no\\nregion: southeast\\ncharges: 8280.6227', metadata={'source': 'insurance.csv', 'row': 652}),\n",
              " Document(page_content='age: 45\\nsex: female\\nbmi: 36.3\\nchildren: 2\\nsmoker: no\\nregion: southeast\\ncharges: 8527.532', metadata={'source': 'insurance.csv', 'row': 653}),\n",
              " Document(page_content='age: 59\\nsex: female\\nbmi: 35.2\\nchildren: 0\\nsmoker: no\\nregion: southeast\\ncharges: 12244.531', metadata={'source': 'insurance.csv', 'row': 654}),\n",
              " Document(page_content='age: 52\\nsex: female\\nbmi: 25.3\\nchildren: 2\\nsmoker: yes\\nregion: southeast\\ncharges: 24667.419', metadata={'source': 'insurance.csv', 'row': 655}),\n",
              " Document(page_content='age: 26\\nsex: female\\nbmi: 42.4\\nchildren: 1\\nsmoker: no\\nregion: southwest\\ncharges: 3410.324', metadata={'source': 'insurance.csv', 'row': 656}),\n",
              " Document(page_content='age: 27\\nsex: male\\nbmi: 33.155\\nchildren: 2\\nsmoker: no\\nregion: northwest\\ncharges: 4058.71245', metadata={'source': 'insurance.csv', 'row': 657}),\n",
              " Document(page_content='age: 48\\nsex: female\\nbmi: 35.91\\nchildren: 1\\nsmoker: no\\nregion: northeast\\ncharges: 26392.26029', metadata={'source': 'insurance.csv', 'row': 658}),\n",
              " Document(page_content='age: 57\\nsex: female\\nbmi: 28.785\\nchildren: 4\\nsmoker: no\\nregion: northeast\\ncharges: 14394.39815', metadata={'source': 'insurance.csv', 'row': 659}),\n",
              " Document(page_content='age: 37\\nsex: male\\nbmi: 46.53\\nchildren: 3\\nsmoker: no\\nregion: southeast\\ncharges: 6435.6237', metadata={'source': 'insurance.csv', 'row': 660}),\n",
              " Document(page_content='age: 57\\nsex: female\\nbmi: 23.98\\nchildren: 1\\nsmoker: no\\nregion: southeast\\ncharges: 22192.43711', metadata={'source': 'insurance.csv', 'row': 661}),\n",
              " Document(page_content='age: 32\\nsex: female\\nbmi: 31.54\\nchildren: 1\\nsmoker: no\\nregion: northeast\\ncharges: 5148.5526', metadata={'source': 'insurance.csv', 'row': 662}),\n",
              " Document(page_content='age: 18\\nsex: male\\nbmi: 33.66\\nchildren: 0\\nsmoker: no\\nregion: southeast\\ncharges: 1136.3994', metadata={'source': 'insurance.csv', 'row': 663}),\n",
              " Document(page_content='age: 64\\nsex: female\\nbmi: 22.99\\nchildren: 0\\nsmoker: yes\\nregion: southeast\\ncharges: 27037.9141', metadata={'source': 'insurance.csv', 'row': 664}),\n",
              " Document(page_content='age: 43\\nsex: male\\nbmi: 38.06\\nchildren: 2\\nsmoker: yes\\nregion: southeast\\ncharges: 42560.4304', metadata={'source': 'insurance.csv', 'row': 665}),\n",
              " Document(page_content='age: 49\\nsex: male\\nbmi: 28.7\\nchildren: 1\\nsmoker: no\\nregion: southwest\\ncharges: 8703.456', metadata={'source': 'insurance.csv', 'row': 666}),\n",
              " Document(page_content='age: 40\\nsex: female\\nbmi: 32.775\\nchildren: 2\\nsmoker: yes\\nregion: northwest\\ncharges: 40003.33225', metadata={'source': 'insurance.csv', 'row': 667}),\n",
              " Document(page_content='age: 62\\nsex: male\\nbmi: 32.015\\nchildren: 0\\nsmoker: yes\\nregion: northeast\\ncharges: 45710.20785', metadata={'source': 'insurance.csv', 'row': 668}),\n",
              " Document(page_content='age: 40\\nsex: female\\nbmi: 29.81\\nchildren: 1\\nsmoker: no\\nregion: southeast\\ncharges: 6500.2359', metadata={'source': 'insurance.csv', 'row': 669}),\n",
              " Document(page_content='age: 30\\nsex: male\\nbmi: 31.57\\nchildren: 3\\nsmoker: no\\nregion: southeast\\ncharges: 4837.5823', metadata={'source': 'insurance.csv', 'row': 670}),\n",
              " Document(page_content='age: 29\\nsex: female\\nbmi: 31.16\\nchildren: 0\\nsmoker: no\\nregion: northeast\\ncharges: 3943.5954', metadata={'source': 'insurance.csv', 'row': 671}),\n",
              " Document(page_content='age: 36\\nsex: male\\nbmi: 29.7\\nchildren: 0\\nsmoker: no\\nregion: southeast\\ncharges: 4399.731', metadata={'source': 'insurance.csv', 'row': 672}),\n",
              " Document(page_content='age: 41\\nsex: female\\nbmi: 31.02\\nchildren: 0\\nsmoker: no\\nregion: southeast\\ncharges: 6185.3208', metadata={'source': 'insurance.csv', 'row': 673}),\n",
              " Document(page_content='age: 44\\nsex: female\\nbmi: 43.89\\nchildren: 2\\nsmoker: yes\\nregion: southeast\\ncharges: 46200.9851', metadata={'source': 'insurance.csv', 'row': 674}),\n",
              " Document(page_content='age: 45\\nsex: male\\nbmi: 21.375\\nchildren: 0\\nsmoker: no\\nregion: northwest\\ncharges: 7222.78625', metadata={'source': 'insurance.csv', 'row': 675}),\n",
              " Document(page_content='age: 55\\nsex: female\\nbmi: 40.81\\nchildren: 3\\nsmoker: no\\nregion: southeast\\ncharges: 12485.8009', metadata={'source': 'insurance.csv', 'row': 676}),\n",
              " Document(page_content='age: 60\\nsex: male\\nbmi: 31.35\\nchildren: 3\\nsmoker: yes\\nregion: northwest\\ncharges: 46130.5265', metadata={'source': 'insurance.csv', 'row': 677}),\n",
              " Document(page_content='age: 56\\nsex: male\\nbmi: 36.1\\nchildren: 3\\nsmoker: no\\nregion: southwest\\ncharges: 12363.547', metadata={'source': 'insurance.csv', 'row': 678}),\n",
              " Document(page_content='age: 49\\nsex: female\\nbmi: 23.18\\nchildren: 2\\nsmoker: no\\nregion: northwest\\ncharges: 10156.7832', metadata={'source': 'insurance.csv', 'row': 679}),\n",
              " Document(page_content='age: 21\\nsex: female\\nbmi: 17.4\\nchildren: 1\\nsmoker: no\\nregion: southwest\\ncharges: 2585.269', metadata={'source': 'insurance.csv', 'row': 680}),\n",
              " Document(page_content='age: 19\\nsex: male\\nbmi: 20.3\\nchildren: 0\\nsmoker: no\\nregion: southwest\\ncharges: 1242.26', metadata={'source': 'insurance.csv', 'row': 681}),\n",
              " Document(page_content='age: 39\\nsex: male\\nbmi: 35.3\\nchildren: 2\\nsmoker: yes\\nregion: southwest\\ncharges: 40103.89', metadata={'source': 'insurance.csv', 'row': 682}),\n",
              " Document(page_content='age: 53\\nsex: male\\nbmi: 24.32\\nchildren: 0\\nsmoker: no\\nregion: northwest\\ncharges: 9863.4718', metadata={'source': 'insurance.csv', 'row': 683}),\n",
              " Document(page_content='age: 33\\nsex: female\\nbmi: 18.5\\nchildren: 1\\nsmoker: no\\nregion: southwest\\ncharges: 4766.022', metadata={'source': 'insurance.csv', 'row': 684}),\n",
              " Document(page_content='age: 53\\nsex: male\\nbmi: 26.41\\nchildren: 2\\nsmoker: no\\nregion: northeast\\ncharges: 11244.3769', metadata={'source': 'insurance.csv', 'row': 685}),\n",
              " Document(page_content='age: 42\\nsex: male\\nbmi: 26.125\\nchildren: 2\\nsmoker: no\\nregion: northeast\\ncharges: 7729.64575', metadata={'source': 'insurance.csv', 'row': 686}),\n",
              " Document(page_content='age: 40\\nsex: male\\nbmi: 41.69\\nchildren: 0\\nsmoker: no\\nregion: southeast\\ncharges: 5438.7491', metadata={'source': 'insurance.csv', 'row': 687}),\n",
              " Document(page_content='age: 47\\nsex: female\\nbmi: 24.1\\nchildren: 1\\nsmoker: no\\nregion: southwest\\ncharges: 26236.57997', metadata={'source': 'insurance.csv', 'row': 688}),\n",
              " Document(page_content='age: 27\\nsex: male\\nbmi: 31.13\\nchildren: 1\\nsmoker: yes\\nregion: southeast\\ncharges: 34806.4677', metadata={'source': 'insurance.csv', 'row': 689}),\n",
              " Document(page_content='age: 21\\nsex: male\\nbmi: 27.36\\nchildren: 0\\nsmoker: no\\nregion: northeast\\ncharges: 2104.1134', metadata={'source': 'insurance.csv', 'row': 690}),\n",
              " Document(page_content='age: 47\\nsex: male\\nbmi: 36.2\\nchildren: 1\\nsmoker: no\\nregion: southwest\\ncharges: 8068.185', metadata={'source': 'insurance.csv', 'row': 691}),\n",
              " Document(page_content='age: 20\\nsex: male\\nbmi: 32.395\\nchildren: 1\\nsmoker: no\\nregion: northwest\\ncharges: 2362.22905', metadata={'source': 'insurance.csv', 'row': 692}),\n",
              " Document(page_content='age: 24\\nsex: male\\nbmi: 23.655\\nchildren: 0\\nsmoker: no\\nregion: northwest\\ncharges: 2352.96845', metadata={'source': 'insurance.csv', 'row': 693}),\n",
              " Document(page_content='age: 27\\nsex: female\\nbmi: 34.8\\nchildren: 1\\nsmoker: no\\nregion: southwest\\ncharges: 3577.999', metadata={'source': 'insurance.csv', 'row': 694}),\n",
              " Document(page_content='age: 26\\nsex: female\\nbmi: 40.185\\nchildren: 0\\nsmoker: no\\nregion: northwest\\ncharges: 3201.24515', metadata={'source': 'insurance.csv', 'row': 695}),\n",
              " Document(page_content='age: 53\\nsex: female\\nbmi: 32.3\\nchildren: 2\\nsmoker: no\\nregion: northeast\\ncharges: 29186.48236', metadata={'source': 'insurance.csv', 'row': 696}),\n",
              " Document(page_content='age: 41\\nsex: male\\nbmi: 35.75\\nchildren: 1\\nsmoker: yes\\nregion: southeast\\ncharges: 40273.6455', metadata={'source': 'insurance.csv', 'row': 697}),\n",
              " Document(page_content='age: 56\\nsex: male\\nbmi: 33.725\\nchildren: 0\\nsmoker: no\\nregion: northwest\\ncharges: 10976.24575', metadata={'source': 'insurance.csv', 'row': 698}),\n",
              " Document(page_content='age: 23\\nsex: female\\nbmi: 39.27\\nchildren: 2\\nsmoker: no\\nregion: southeast\\ncharges: 3500.6123', metadata={'source': 'insurance.csv', 'row': 699}),\n",
              " Document(page_content='age: 21\\nsex: female\\nbmi: 34.87\\nchildren: 0\\nsmoker: no\\nregion: southeast\\ncharges: 2020.5523', metadata={'source': 'insurance.csv', 'row': 700}),\n",
              " Document(page_content='age: 50\\nsex: female\\nbmi: 44.745\\nchildren: 0\\nsmoker: no\\nregion: northeast\\ncharges: 9541.69555', metadata={'source': 'insurance.csv', 'row': 701}),\n",
              " Document(page_content='age: 53\\nsex: male\\nbmi: 41.47\\nchildren: 0\\nsmoker: no\\nregion: southeast\\ncharges: 9504.3103', metadata={'source': 'insurance.csv', 'row': 702}),\n",
              " Document(page_content='age: 34\\nsex: female\\nbmi: 26.41\\nchildren: 1\\nsmoker: no\\nregion: northwest\\ncharges: 5385.3379', metadata={'source': 'insurance.csv', 'row': 703}),\n",
              " Document(page_content='age: 47\\nsex: female\\nbmi: 29.545\\nchildren: 1\\nsmoker: no\\nregion: northwest\\ncharges: 8930.93455', metadata={'source': 'insurance.csv', 'row': 704}),\n",
              " Document(page_content='age: 33\\nsex: female\\nbmi: 32.9\\nchildren: 2\\nsmoker: no\\nregion: southwest\\ncharges: 5375.038', metadata={'source': 'insurance.csv', 'row': 705}),\n",
              " Document(page_content='age: 51\\nsex: female\\nbmi: 38.06\\nchildren: 0\\nsmoker: yes\\nregion: southeast\\ncharges: 44400.4064', metadata={'source': 'insurance.csv', 'row': 706}),\n",
              " Document(page_content='age: 49\\nsex: male\\nbmi: 28.69\\nchildren: 3\\nsmoker: no\\nregion: northwest\\ncharges: 10264.4421', metadata={'source': 'insurance.csv', 'row': 707}),\n",
              " Document(page_content='age: 31\\nsex: female\\nbmi: 30.495\\nchildren: 3\\nsmoker: no\\nregion: northeast\\ncharges: 6113.23105', metadata={'source': 'insurance.csv', 'row': 708}),\n",
              " Document(page_content='age: 36\\nsex: female\\nbmi: 27.74\\nchildren: 0\\nsmoker: no\\nregion: northeast\\ncharges: 5469.0066', metadata={'source': 'insurance.csv', 'row': 709}),\n",
              " Document(page_content='age: 18\\nsex: male\\nbmi: 35.2\\nchildren: 1\\nsmoker: no\\nregion: southeast\\ncharges: 1727.54', metadata={'source': 'insurance.csv', 'row': 710}),\n",
              " Document(page_content='age: 50\\nsex: female\\nbmi: 23.54\\nchildren: 2\\nsmoker: no\\nregion: southeast\\ncharges: 10107.2206', metadata={'source': 'insurance.csv', 'row': 711}),\n",
              " Document(page_content='age: 43\\nsex: female\\nbmi: 30.685\\nchildren: 2\\nsmoker: no\\nregion: northwest\\ncharges: 8310.83915', metadata={'source': 'insurance.csv', 'row': 712}),\n",
              " Document(page_content='age: 20\\nsex: male\\nbmi: 40.47\\nchildren: 0\\nsmoker: no\\nregion: northeast\\ncharges: 1984.4533', metadata={'source': 'insurance.csv', 'row': 713}),\n",
              " Document(page_content='age: 24\\nsex: female\\nbmi: 22.6\\nchildren: 0\\nsmoker: no\\nregion: southwest\\ncharges: 2457.502', metadata={'source': 'insurance.csv', 'row': 714}),\n",
              " Document(page_content='age: 60\\nsex: male\\nbmi: 28.9\\nchildren: 0\\nsmoker: no\\nregion: southwest\\ncharges: 12146.971', metadata={'source': 'insurance.csv', 'row': 715}),\n",
              " Document(page_content='age: 49\\nsex: female\\nbmi: 22.61\\nchildren: 1\\nsmoker: no\\nregion: northwest\\ncharges: 9566.9909', metadata={'source': 'insurance.csv', 'row': 716}),\n",
              " Document(page_content='age: 60\\nsex: male\\nbmi: 24.32\\nchildren: 1\\nsmoker: no\\nregion: northwest\\ncharges: 13112.6048', metadata={'source': 'insurance.csv', 'row': 717}),\n",
              " Document(page_content='age: 51\\nsex: female\\nbmi: 36.67\\nchildren: 2\\nsmoker: no\\nregion: northwest\\ncharges: 10848.1343', metadata={'source': 'insurance.csv', 'row': 718}),\n",
              " Document(page_content='age: 58\\nsex: female\\nbmi: 33.44\\nchildren: 0\\nsmoker: no\\nregion: northwest\\ncharges: 12231.6136', metadata={'source': 'insurance.csv', 'row': 719}),\n",
              " Document(page_content='age: 51\\nsex: female\\nbmi: 40.66\\nchildren: 0\\nsmoker: no\\nregion: northeast\\ncharges: 9875.6804', metadata={'source': 'insurance.csv', 'row': 720}),\n",
              " Document(page_content='age: 53\\nsex: male\\nbmi: 36.6\\nchildren: 3\\nsmoker: no\\nregion: southwest\\ncharges: 11264.541', metadata={'source': 'insurance.csv', 'row': 721}),\n",
              " Document(page_content='age: 62\\nsex: male\\nbmi: 37.4\\nchildren: 0\\nsmoker: no\\nregion: southwest\\ncharges: 12979.358', metadata={'source': 'insurance.csv', 'row': 722}),\n",
              " Document(page_content='age: 19\\nsex: male\\nbmi: 35.4\\nchildren: 0\\nsmoker: no\\nregion: southwest\\ncharges: 1263.249', metadata={'source': 'insurance.csv', 'row': 723}),\n",
              " Document(page_content='age: 50\\nsex: female\\nbmi: 27.075\\nchildren: 1\\nsmoker: no\\nregion: northeast\\ncharges: 10106.13425', metadata={'source': 'insurance.csv', 'row': 724}),\n",
              " Document(page_content='age: 30\\nsex: female\\nbmi: 39.05\\nchildren: 3\\nsmoker: yes\\nregion: southeast\\ncharges: 40932.4295', metadata={'source': 'insurance.csv', 'row': 725}),\n",
              " Document(page_content='age: 41\\nsex: male\\nbmi: 28.405\\nchildren: 1\\nsmoker: no\\nregion: northwest\\ncharges: 6664.68595', metadata={'source': 'insurance.csv', 'row': 726}),\n",
              " Document(page_content='age: 29\\nsex: female\\nbmi: 21.755\\nchildren: 1\\nsmoker: yes\\nregion: northeast\\ncharges: 16657.71745', metadata={'source': 'insurance.csv', 'row': 727}),\n",
              " Document(page_content='age: 18\\nsex: female\\nbmi: 40.28\\nchildren: 0\\nsmoker: no\\nregion: northeast\\ncharges: 2217.6012', metadata={'source': 'insurance.csv', 'row': 728}),\n",
              " Document(page_content='age: 41\\nsex: female\\nbmi: 36.08\\nchildren: 1\\nsmoker: no\\nregion: southeast\\ncharges: 6781.3542', metadata={'source': 'insurance.csv', 'row': 729}),\n",
              " Document(page_content='age: 35\\nsex: male\\nbmi: 24.42\\nchildren: 3\\nsmoker: yes\\nregion: southeast\\ncharges: 19361.9988', metadata={'source': 'insurance.csv', 'row': 730}),\n",
              " Document(page_content='age: 53\\nsex: male\\nbmi: 21.4\\nchildren: 1\\nsmoker: no\\nregion: southwest\\ncharges: 10065.413', metadata={'source': 'insurance.csv', 'row': 731}),\n",
              " Document(page_content='age: 24\\nsex: female\\nbmi: 30.1\\nchildren: 3\\nsmoker: no\\nregion: southwest\\ncharges: 4234.927', metadata={'source': 'insurance.csv', 'row': 732}),\n",
              " Document(page_content='age: 48\\nsex: female\\nbmi: 27.265\\nchildren: 1\\nsmoker: no\\nregion: northeast\\ncharges: 9447.25035', metadata={'source': 'insurance.csv', 'row': 733}),\n",
              " Document(page_content='age: 59\\nsex: female\\nbmi: 32.1\\nchildren: 3\\nsmoker: no\\nregion: southwest\\ncharges: 14007.222', metadata={'source': 'insurance.csv', 'row': 734}),\n",
              " Document(page_content='age: 49\\nsex: female\\nbmi: 34.77\\nchildren: 1\\nsmoker: no\\nregion: northwest\\ncharges: 9583.8933', metadata={'source': 'insurance.csv', 'row': 735}),\n",
              " Document(page_content='age: 37\\nsex: female\\nbmi: 38.39\\nchildren: 0\\nsmoker: yes\\nregion: southeast\\ncharges: 40419.0191', metadata={'source': 'insurance.csv', 'row': 736}),\n",
              " Document(page_content='age: 26\\nsex: male\\nbmi: 23.7\\nchildren: 2\\nsmoker: no\\nregion: southwest\\ncharges: 3484.331', metadata={'source': 'insurance.csv', 'row': 737}),\n",
              " Document(page_content='age: 23\\nsex: male\\nbmi: 31.73\\nchildren: 3\\nsmoker: yes\\nregion: northeast\\ncharges: 36189.1017', metadata={'source': 'insurance.csv', 'row': 738}),\n",
              " Document(page_content='age: 29\\nsex: male\\nbmi: 35.5\\nchildren: 2\\nsmoker: yes\\nregion: southwest\\ncharges: 44585.45587', metadata={'source': 'insurance.csv', 'row': 739}),\n",
              " Document(page_content='age: 45\\nsex: male\\nbmi: 24.035\\nchildren: 2\\nsmoker: no\\nregion: northeast\\ncharges: 8604.48365', metadata={'source': 'insurance.csv', 'row': 740}),\n",
              " Document(page_content='age: 27\\nsex: male\\nbmi: 29.15\\nchildren: 0\\nsmoker: yes\\nregion: southeast\\ncharges: 18246.4955', metadata={'source': 'insurance.csv', 'row': 741}),\n",
              " Document(page_content='age: 53\\nsex: male\\nbmi: 34.105\\nchildren: 0\\nsmoker: yes\\nregion: northeast\\ncharges: 43254.41795', metadata={'source': 'insurance.csv', 'row': 742}),\n",
              " Document(page_content='age: 31\\nsex: female\\nbmi: 26.62\\nchildren: 0\\nsmoker: no\\nregion: southeast\\ncharges: 3757.8448', metadata={'source': 'insurance.csv', 'row': 743}),\n",
              " Document(page_content='age: 50\\nsex: male\\nbmi: 26.41\\nchildren: 0\\nsmoker: no\\nregion: northwest\\ncharges: 8827.2099', metadata={'source': 'insurance.csv', 'row': 744}),\n",
              " Document(page_content='age: 50\\nsex: female\\nbmi: 30.115\\nchildren: 1\\nsmoker: no\\nregion: northwest\\ncharges: 9910.35985', metadata={'source': 'insurance.csv', 'row': 745}),\n",
              " Document(page_content='age: 34\\nsex: male\\nbmi: 27\\nchildren: 2\\nsmoker: no\\nregion: southwest\\ncharges: 11737.84884', metadata={'source': 'insurance.csv', 'row': 746}),\n",
              " Document(page_content='age: 19\\nsex: male\\nbmi: 21.755\\nchildren: 0\\nsmoker: no\\nregion: northwest\\ncharges: 1627.28245', metadata={'source': 'insurance.csv', 'row': 747}),\n",
              " Document(page_content='age: 47\\nsex: female\\nbmi: 36\\nchildren: 1\\nsmoker: no\\nregion: southwest\\ncharges: 8556.907', metadata={'source': 'insurance.csv', 'row': 748}),\n",
              " Document(page_content='age: 28\\nsex: male\\nbmi: 30.875\\nchildren: 0\\nsmoker: no\\nregion: northwest\\ncharges: 3062.50825', metadata={'source': 'insurance.csv', 'row': 749}),\n",
              " Document(page_content='age: 37\\nsex: female\\nbmi: 26.4\\nchildren: 0\\nsmoker: yes\\nregion: southeast\\ncharges: 19539.243', metadata={'source': 'insurance.csv', 'row': 750}),\n",
              " Document(page_content='age: 21\\nsex: male\\nbmi: 28.975\\nchildren: 0\\nsmoker: no\\nregion: northwest\\ncharges: 1906.35825', metadata={'source': 'insurance.csv', 'row': 751}),\n",
              " Document(page_content='age: 64\\nsex: male\\nbmi: 37.905\\nchildren: 0\\nsmoker: no\\nregion: northwest\\ncharges: 14210.53595', metadata={'source': 'insurance.csv', 'row': 752}),\n",
              " Document(page_content='age: 58\\nsex: female\\nbmi: 22.77\\nchildren: 0\\nsmoker: no\\nregion: southeast\\ncharges: 11833.7823', metadata={'source': 'insurance.csv', 'row': 753}),\n",
              " Document(page_content='age: 24\\nsex: male\\nbmi: 33.63\\nchildren: 4\\nsmoker: no\\nregion: northeast\\ncharges: 17128.42608', metadata={'source': 'insurance.csv', 'row': 754}),\n",
              " Document(page_content='age: 31\\nsex: male\\nbmi: 27.645\\nchildren: 2\\nsmoker: no\\nregion: northeast\\ncharges: 5031.26955', metadata={'source': 'insurance.csv', 'row': 755}),\n",
              " Document(page_content='age: 39\\nsex: female\\nbmi: 22.8\\nchildren: 3\\nsmoker: no\\nregion: northeast\\ncharges: 7985.815', metadata={'source': 'insurance.csv', 'row': 756}),\n",
              " Document(page_content='age: 47\\nsex: female\\nbmi: 27.83\\nchildren: 0\\nsmoker: yes\\nregion: southeast\\ncharges: 23065.4207', metadata={'source': 'insurance.csv', 'row': 757}),\n",
              " Document(page_content='age: 30\\nsex: male\\nbmi: 37.43\\nchildren: 3\\nsmoker: no\\nregion: northeast\\ncharges: 5428.7277', metadata={'source': 'insurance.csv', 'row': 758}),\n",
              " Document(page_content='age: 18\\nsex: male\\nbmi: 38.17\\nchildren: 0\\nsmoker: yes\\nregion: southeast\\ncharges: 36307.7983', metadata={'source': 'insurance.csv', 'row': 759}),\n",
              " Document(page_content='age: 22\\nsex: female\\nbmi: 34.58\\nchildren: 2\\nsmoker: no\\nregion: northeast\\ncharges: 3925.7582', metadata={'source': 'insurance.csv', 'row': 760}),\n",
              " Document(page_content='age: 23\\nsex: male\\nbmi: 35.2\\nchildren: 1\\nsmoker: no\\nregion: southwest\\ncharges: 2416.955', metadata={'source': 'insurance.csv', 'row': 761}),\n",
              " Document(page_content='age: 33\\nsex: male\\nbmi: 27.1\\nchildren: 1\\nsmoker: yes\\nregion: southwest\\ncharges: 19040.876', metadata={'source': 'insurance.csv', 'row': 762}),\n",
              " Document(page_content='age: 27\\nsex: male\\nbmi: 26.03\\nchildren: 0\\nsmoker: no\\nregion: northeast\\ncharges: 3070.8087', metadata={'source': 'insurance.csv', 'row': 763}),\n",
              " Document(page_content='age: 45\\nsex: female\\nbmi: 25.175\\nchildren: 2\\nsmoker: no\\nregion: northeast\\ncharges: 9095.06825', metadata={'source': 'insurance.csv', 'row': 764}),\n",
              " Document(page_content='age: 57\\nsex: female\\nbmi: 31.825\\nchildren: 0\\nsmoker: no\\nregion: northwest\\ncharges: 11842.62375', metadata={'source': 'insurance.csv', 'row': 765}),\n",
              " Document(page_content='age: 47\\nsex: male\\nbmi: 32.3\\nchildren: 1\\nsmoker: no\\nregion: southwest\\ncharges: 8062.764', metadata={'source': 'insurance.csv', 'row': 766}),\n",
              " Document(page_content='age: 42\\nsex: female\\nbmi: 29\\nchildren: 1\\nsmoker: no\\nregion: southwest\\ncharges: 7050.642', metadata={'source': 'insurance.csv', 'row': 767}),\n",
              " Document(page_content='age: 64\\nsex: female\\nbmi: 39.7\\nchildren: 0\\nsmoker: no\\nregion: southwest\\ncharges: 14319.031', metadata={'source': 'insurance.csv', 'row': 768}),\n",
              " Document(page_content='age: 38\\nsex: female\\nbmi: 19.475\\nchildren: 2\\nsmoker: no\\nregion: northwest\\ncharges: 6933.24225', metadata={'source': 'insurance.csv', 'row': 769}),\n",
              " Document(page_content='age: 61\\nsex: male\\nbmi: 36.1\\nchildren: 3\\nsmoker: no\\nregion: southwest\\ncharges: 27941.28758', metadata={'source': 'insurance.csv', 'row': 770}),\n",
              " Document(page_content='age: 53\\nsex: female\\nbmi: 26.7\\nchildren: 2\\nsmoker: no\\nregion: southwest\\ncharges: 11150.78', metadata={'source': 'insurance.csv', 'row': 771}),\n",
              " Document(page_content='age: 44\\nsex: female\\nbmi: 36.48\\nchildren: 0\\nsmoker: no\\nregion: northeast\\ncharges: 12797.20962', metadata={'source': 'insurance.csv', 'row': 772}),\n",
              " Document(page_content='age: 19\\nsex: female\\nbmi: 28.88\\nchildren: 0\\nsmoker: yes\\nregion: northwest\\ncharges: 17748.5062', metadata={'source': 'insurance.csv', 'row': 773}),\n",
              " Document(page_content='age: 41\\nsex: male\\nbmi: 34.2\\nchildren: 2\\nsmoker: no\\nregion: northwest\\ncharges: 7261.741', metadata={'source': 'insurance.csv', 'row': 774}),\n",
              " Document(page_content='age: 51\\nsex: male\\nbmi: 33.33\\nchildren: 3\\nsmoker: no\\nregion: southeast\\ncharges: 10560.4917', metadata={'source': 'insurance.csv', 'row': 775}),\n",
              " Document(page_content='age: 40\\nsex: male\\nbmi: 32.3\\nchildren: 2\\nsmoker: no\\nregion: northwest\\ncharges: 6986.697', metadata={'source': 'insurance.csv', 'row': 776}),\n",
              " Document(page_content='age: 45\\nsex: male\\nbmi: 39.805\\nchildren: 0\\nsmoker: no\\nregion: northeast\\ncharges: 7448.40395', metadata={'source': 'insurance.csv', 'row': 777}),\n",
              " Document(page_content='age: 35\\nsex: male\\nbmi: 34.32\\nchildren: 3\\nsmoker: no\\nregion: southeast\\ncharges: 5934.3798', metadata={'source': 'insurance.csv', 'row': 778}),\n",
              " Document(page_content='age: 53\\nsex: male\\nbmi: 28.88\\nchildren: 0\\nsmoker: no\\nregion: northwest\\ncharges: 9869.8102', metadata={'source': 'insurance.csv', 'row': 779}),\n",
              " Document(page_content='age: 30\\nsex: male\\nbmi: 24.4\\nchildren: 3\\nsmoker: yes\\nregion: southwest\\ncharges: 18259.216', metadata={'source': 'insurance.csv', 'row': 780}),\n",
              " Document(page_content='age: 18\\nsex: male\\nbmi: 41.14\\nchildren: 0\\nsmoker: no\\nregion: southeast\\ncharges: 1146.7966', metadata={'source': 'insurance.csv', 'row': 781}),\n",
              " Document(page_content='age: 51\\nsex: male\\nbmi: 35.97\\nchildren: 1\\nsmoker: no\\nregion: southeast\\ncharges: 9386.1613', metadata={'source': 'insurance.csv', 'row': 782}),\n",
              " Document(page_content='age: 50\\nsex: female\\nbmi: 27.6\\nchildren: 1\\nsmoker: yes\\nregion: southwest\\ncharges: 24520.264', metadata={'source': 'insurance.csv', 'row': 783}),\n",
              " Document(page_content='age: 31\\nsex: female\\nbmi: 29.26\\nchildren: 1\\nsmoker: no\\nregion: southeast\\ncharges: 4350.5144', metadata={'source': 'insurance.csv', 'row': 784}),\n",
              " Document(page_content='age: 35\\nsex: female\\nbmi: 27.7\\nchildren: 3\\nsmoker: no\\nregion: southwest\\ncharges: 6414.178', metadata={'source': 'insurance.csv', 'row': 785}),\n",
              " Document(page_content='age: 60\\nsex: male\\nbmi: 36.955\\nchildren: 0\\nsmoker: no\\nregion: northeast\\ncharges: 12741.16745', metadata={'source': 'insurance.csv', 'row': 786}),\n",
              " Document(page_content='age: 21\\nsex: male\\nbmi: 36.86\\nchildren: 0\\nsmoker: no\\nregion: northwest\\ncharges: 1917.3184', metadata={'source': 'insurance.csv', 'row': 787}),\n",
              " Document(page_content='age: 29\\nsex: male\\nbmi: 22.515\\nchildren: 3\\nsmoker: no\\nregion: northeast\\ncharges: 5209.57885', metadata={'source': 'insurance.csv', 'row': 788}),\n",
              " Document(page_content='age: 62\\nsex: female\\nbmi: 29.92\\nchildren: 0\\nsmoker: no\\nregion: southeast\\ncharges: 13457.9608', metadata={'source': 'insurance.csv', 'row': 789}),\n",
              " Document(page_content='age: 39\\nsex: female\\nbmi: 41.8\\nchildren: 0\\nsmoker: no\\nregion: southeast\\ncharges: 5662.225', metadata={'source': 'insurance.csv', 'row': 790}),\n",
              " Document(page_content='age: 19\\nsex: male\\nbmi: 27.6\\nchildren: 0\\nsmoker: no\\nregion: southwest\\ncharges: 1252.407', metadata={'source': 'insurance.csv', 'row': 791}),\n",
              " Document(page_content='age: 22\\nsex: female\\nbmi: 23.18\\nchildren: 0\\nsmoker: no\\nregion: northeast\\ncharges: 2731.9122', metadata={'source': 'insurance.csv', 'row': 792}),\n",
              " Document(page_content='age: 53\\nsex: male\\nbmi: 20.9\\nchildren: 0\\nsmoker: yes\\nregion: southeast\\ncharges: 21195.818', metadata={'source': 'insurance.csv', 'row': 793}),\n",
              " Document(page_content='age: 39\\nsex: female\\nbmi: 31.92\\nchildren: 2\\nsmoker: no\\nregion: northwest\\ncharges: 7209.4918', metadata={'source': 'insurance.csv', 'row': 794}),\n",
              " Document(page_content='age: 27\\nsex: male\\nbmi: 28.5\\nchildren: 0\\nsmoker: yes\\nregion: northwest\\ncharges: 18310.742', metadata={'source': 'insurance.csv', 'row': 795}),\n",
              " Document(page_content='age: 30\\nsex: male\\nbmi: 44.22\\nchildren: 2\\nsmoker: no\\nregion: southeast\\ncharges: 4266.1658', metadata={'source': 'insurance.csv', 'row': 796}),\n",
              " Document(page_content='age: 30\\nsex: female\\nbmi: 22.895\\nchildren: 1\\nsmoker: no\\nregion: northeast\\ncharges: 4719.52405', metadata={'source': 'insurance.csv', 'row': 797}),\n",
              " Document(page_content='age: 58\\nsex: female\\nbmi: 33.1\\nchildren: 0\\nsmoker: no\\nregion: southwest\\ncharges: 11848.141', metadata={'source': 'insurance.csv', 'row': 798}),\n",
              " Document(page_content='age: 33\\nsex: male\\nbmi: 24.795\\nchildren: 0\\nsmoker: yes\\nregion: northeast\\ncharges: 17904.52705', metadata={'source': 'insurance.csv', 'row': 799}),\n",
              " Document(page_content='age: 42\\nsex: female\\nbmi: 26.18\\nchildren: 1\\nsmoker: no\\nregion: southeast\\ncharges: 7046.7222', metadata={'source': 'insurance.csv', 'row': 800}),\n",
              " Document(page_content='age: 64\\nsex: female\\nbmi: 35.97\\nchildren: 0\\nsmoker: no\\nregion: southeast\\ncharges: 14313.8463', metadata={'source': 'insurance.csv', 'row': 801}),\n",
              " Document(page_content='age: 21\\nsex: male\\nbmi: 22.3\\nchildren: 1\\nsmoker: no\\nregion: southwest\\ncharges: 2103.08', metadata={'source': 'insurance.csv', 'row': 802}),\n",
              " Document(page_content='age: 18\\nsex: female\\nbmi: 42.24\\nchildren: 0\\nsmoker: yes\\nregion: southeast\\ncharges: 38792.6856', metadata={'source': 'insurance.csv', 'row': 803}),\n",
              " Document(page_content='age: 23\\nsex: male\\nbmi: 26.51\\nchildren: 0\\nsmoker: no\\nregion: southeast\\ncharges: 1815.8759', metadata={'source': 'insurance.csv', 'row': 804}),\n",
              " Document(page_content='age: 45\\nsex: female\\nbmi: 35.815\\nchildren: 0\\nsmoker: no\\nregion: northwest\\ncharges: 7731.85785', metadata={'source': 'insurance.csv', 'row': 805}),\n",
              " Document(page_content='age: 40\\nsex: female\\nbmi: 41.42\\nchildren: 1\\nsmoker: no\\nregion: northwest\\ncharges: 28476.73499', metadata={'source': 'insurance.csv', 'row': 806}),\n",
              " Document(page_content='age: 19\\nsex: female\\nbmi: 36.575\\nchildren: 0\\nsmoker: no\\nregion: northwest\\ncharges: 2136.88225', metadata={'source': 'insurance.csv', 'row': 807}),\n",
              " Document(page_content='age: 18\\nsex: male\\nbmi: 30.14\\nchildren: 0\\nsmoker: no\\nregion: southeast\\ncharges: 1131.5066', metadata={'source': 'insurance.csv', 'row': 808}),\n",
              " Document(page_content='age: 25\\nsex: male\\nbmi: 25.84\\nchildren: 1\\nsmoker: no\\nregion: northeast\\ncharges: 3309.7926', metadata={'source': 'insurance.csv', 'row': 809}),\n",
              " Document(page_content='age: 46\\nsex: female\\nbmi: 30.8\\nchildren: 3\\nsmoker: no\\nregion: southwest\\ncharges: 9414.92', metadata={'source': 'insurance.csv', 'row': 810}),\n",
              " Document(page_content='age: 33\\nsex: female\\nbmi: 42.94\\nchildren: 3\\nsmoker: no\\nregion: northwest\\ncharges: 6360.9936', metadata={'source': 'insurance.csv', 'row': 811}),\n",
              " Document(page_content='age: 54\\nsex: male\\nbmi: 21.01\\nchildren: 2\\nsmoker: no\\nregion: southeast\\ncharges: 11013.7119', metadata={'source': 'insurance.csv', 'row': 812}),\n",
              " Document(page_content='age: 28\\nsex: male\\nbmi: 22.515\\nchildren: 2\\nsmoker: no\\nregion: northeast\\ncharges: 4428.88785', metadata={'source': 'insurance.csv', 'row': 813}),\n",
              " Document(page_content='age: 36\\nsex: male\\nbmi: 34.43\\nchildren: 2\\nsmoker: no\\nregion: southeast\\ncharges: 5584.3057', metadata={'source': 'insurance.csv', 'row': 814}),\n",
              " Document(page_content='age: 20\\nsex: female\\nbmi: 31.46\\nchildren: 0\\nsmoker: no\\nregion: southeast\\ncharges: 1877.9294', metadata={'source': 'insurance.csv', 'row': 815}),\n",
              " Document(page_content='age: 24\\nsex: female\\nbmi: 24.225\\nchildren: 0\\nsmoker: no\\nregion: northwest\\ncharges: 2842.76075', metadata={'source': 'insurance.csv', 'row': 816}),\n",
              " Document(page_content='age: 23\\nsex: male\\nbmi: 37.1\\nchildren: 3\\nsmoker: no\\nregion: southwest\\ncharges: 3597.596', metadata={'source': 'insurance.csv', 'row': 817}),\n",
              " Document(page_content='age: 47\\nsex: female\\nbmi: 26.125\\nchildren: 1\\nsmoker: yes\\nregion: northeast\\ncharges: 23401.30575', metadata={'source': 'insurance.csv', 'row': 818}),\n",
              " Document(page_content='age: 33\\nsex: female\\nbmi: 35.53\\nchildren: 0\\nsmoker: yes\\nregion: northwest\\ncharges: 55135.40209', metadata={'source': 'insurance.csv', 'row': 819}),\n",
              " Document(page_content='age: 45\\nsex: male\\nbmi: 33.7\\nchildren: 1\\nsmoker: no\\nregion: southwest\\ncharges: 7445.918', metadata={'source': 'insurance.csv', 'row': 820}),\n",
              " Document(page_content='age: 26\\nsex: male\\nbmi: 17.67\\nchildren: 0\\nsmoker: no\\nregion: northwest\\ncharges: 2680.9493', metadata={'source': 'insurance.csv', 'row': 821}),\n",
              " Document(page_content='age: 18\\nsex: female\\nbmi: 31.13\\nchildren: 0\\nsmoker: no\\nregion: southeast\\ncharges: 1621.8827', metadata={'source': 'insurance.csv', 'row': 822}),\n",
              " Document(page_content='age: 44\\nsex: female\\nbmi: 29.81\\nchildren: 2\\nsmoker: no\\nregion: southeast\\ncharges: 8219.2039', metadata={'source': 'insurance.csv', 'row': 823}),\n",
              " Document(page_content='age: 60\\nsex: male\\nbmi: 24.32\\nchildren: 0\\nsmoker: no\\nregion: northwest\\ncharges: 12523.6048', metadata={'source': 'insurance.csv', 'row': 824}),\n",
              " Document(page_content='age: 64\\nsex: female\\nbmi: 31.825\\nchildren: 2\\nsmoker: no\\nregion: northeast\\ncharges: 16069.08475', metadata={'source': 'insurance.csv', 'row': 825}),\n",
              " Document(page_content='age: 56\\nsex: male\\nbmi: 31.79\\nchildren: 2\\nsmoker: yes\\nregion: southeast\\ncharges: 43813.8661', metadata={'source': 'insurance.csv', 'row': 826}),\n",
              " Document(page_content='age: 36\\nsex: male\\nbmi: 28.025\\nchildren: 1\\nsmoker: yes\\nregion: northeast\\ncharges: 20773.62775', metadata={'source': 'insurance.csv', 'row': 827}),\n",
              " Document(page_content='age: 41\\nsex: male\\nbmi: 30.78\\nchildren: 3\\nsmoker: yes\\nregion: northeast\\ncharges: 39597.4072', metadata={'source': 'insurance.csv', 'row': 828}),\n",
              " Document(page_content='age: 39\\nsex: male\\nbmi: 21.85\\nchildren: 1\\nsmoker: no\\nregion: northwest\\ncharges: 6117.4945', metadata={'source': 'insurance.csv', 'row': 829}),\n",
              " Document(page_content='age: 63\\nsex: male\\nbmi: 33.1\\nchildren: 0\\nsmoker: no\\nregion: southwest\\ncharges: 13393.756', metadata={'source': 'insurance.csv', 'row': 830}),\n",
              " Document(page_content='age: 36\\nsex: female\\nbmi: 25.84\\nchildren: 0\\nsmoker: no\\nregion: northwest\\ncharges: 5266.3656', metadata={'source': 'insurance.csv', 'row': 831}),\n",
              " Document(page_content='age: 28\\nsex: female\\nbmi: 23.845\\nchildren: 2\\nsmoker: no\\nregion: northwest\\ncharges: 4719.73655', metadata={'source': 'insurance.csv', 'row': 832}),\n",
              " Document(page_content='age: 58\\nsex: male\\nbmi: 34.39\\nchildren: 0\\nsmoker: no\\nregion: northwest\\ncharges: 11743.9341', metadata={'source': 'insurance.csv', 'row': 833}),\n",
              " Document(page_content='age: 36\\nsex: male\\nbmi: 33.82\\nchildren: 1\\nsmoker: no\\nregion: northwest\\ncharges: 5377.4578', metadata={'source': 'insurance.csv', 'row': 834}),\n",
              " Document(page_content='age: 42\\nsex: male\\nbmi: 35.97\\nchildren: 2\\nsmoker: no\\nregion: southeast\\ncharges: 7160.3303', metadata={'source': 'insurance.csv', 'row': 835}),\n",
              " Document(page_content='age: 36\\nsex: male\\nbmi: 31.5\\nchildren: 0\\nsmoker: no\\nregion: southwest\\ncharges: 4402.233', metadata={'source': 'insurance.csv', 'row': 836}),\n",
              " Document(page_content='age: 56\\nsex: female\\nbmi: 28.31\\nchildren: 0\\nsmoker: no\\nregion: northeast\\ncharges: 11657.7189', metadata={'source': 'insurance.csv', 'row': 837}),\n",
              " Document(page_content='age: 35\\nsex: female\\nbmi: 23.465\\nchildren: 2\\nsmoker: no\\nregion: northeast\\ncharges: 6402.29135', metadata={'source': 'insurance.csv', 'row': 838}),\n",
              " Document(page_content='age: 59\\nsex: female\\nbmi: 31.35\\nchildren: 0\\nsmoker: no\\nregion: northwest\\ncharges: 12622.1795', metadata={'source': 'insurance.csv', 'row': 839}),\n",
              " Document(page_content='age: 21\\nsex: male\\nbmi: 31.1\\nchildren: 0\\nsmoker: no\\nregion: southwest\\ncharges: 1526.312', metadata={'source': 'insurance.csv', 'row': 840}),\n",
              " Document(page_content='age: 59\\nsex: male\\nbmi: 24.7\\nchildren: 0\\nsmoker: no\\nregion: northeast\\ncharges: 12323.936', metadata={'source': 'insurance.csv', 'row': 841}),\n",
              " Document(page_content='age: 23\\nsex: female\\nbmi: 32.78\\nchildren: 2\\nsmoker: yes\\nregion: southeast\\ncharges: 36021.0112', metadata={'source': 'insurance.csv', 'row': 842}),\n",
              " Document(page_content='age: 57\\nsex: female\\nbmi: 29.81\\nchildren: 0\\nsmoker: yes\\nregion: southeast\\ncharges: 27533.9129', metadata={'source': 'insurance.csv', 'row': 843}),\n",
              " Document(page_content='age: 53\\nsex: male\\nbmi: 30.495\\nchildren: 0\\nsmoker: no\\nregion: northeast\\ncharges: 10072.05505', metadata={'source': 'insurance.csv', 'row': 844}),\n",
              " Document(page_content='age: 60\\nsex: female\\nbmi: 32.45\\nchildren: 0\\nsmoker: yes\\nregion: southeast\\ncharges: 45008.9555', metadata={'source': 'insurance.csv', 'row': 845}),\n",
              " Document(page_content='age: 51\\nsex: female\\nbmi: 34.2\\nchildren: 1\\nsmoker: no\\nregion: southwest\\ncharges: 9872.701', metadata={'source': 'insurance.csv', 'row': 846}),\n",
              " Document(page_content='age: 23\\nsex: male\\nbmi: 50.38\\nchildren: 1\\nsmoker: no\\nregion: southeast\\ncharges: 2438.0552', metadata={'source': 'insurance.csv', 'row': 847}),\n",
              " Document(page_content='age: 27\\nsex: female\\nbmi: 24.1\\nchildren: 0\\nsmoker: no\\nregion: southwest\\ncharges: 2974.126', metadata={'source': 'insurance.csv', 'row': 848}),\n",
              " Document(page_content='age: 55\\nsex: male\\nbmi: 32.775\\nchildren: 0\\nsmoker: no\\nregion: northwest\\ncharges: 10601.63225', metadata={'source': 'insurance.csv', 'row': 849}),\n",
              " Document(page_content='age: 37\\nsex: female\\nbmi: 30.78\\nchildren: 0\\nsmoker: yes\\nregion: northeast\\ncharges: 37270.1512', metadata={'source': 'insurance.csv', 'row': 850}),\n",
              " Document(page_content='age: 61\\nsex: male\\nbmi: 32.3\\nchildren: 2\\nsmoker: no\\nregion: northwest\\ncharges: 14119.62', metadata={'source': 'insurance.csv', 'row': 851}),\n",
              " Document(page_content='age: 46\\nsex: female\\nbmi: 35.53\\nchildren: 0\\nsmoker: yes\\nregion: northeast\\ncharges: 42111.6647', metadata={'source': 'insurance.csv', 'row': 852}),\n",
              " Document(page_content='age: 53\\nsex: female\\nbmi: 23.75\\nchildren: 2\\nsmoker: no\\nregion: northeast\\ncharges: 11729.6795', metadata={'source': 'insurance.csv', 'row': 853}),\n",
              " Document(page_content='age: 49\\nsex: female\\nbmi: 23.845\\nchildren: 3\\nsmoker: yes\\nregion: northeast\\ncharges: 24106.91255', metadata={'source': 'insurance.csv', 'row': 854}),\n",
              " Document(page_content='age: 20\\nsex: female\\nbmi: 29.6\\nchildren: 0\\nsmoker: no\\nregion: southwest\\ncharges: 1875.344', metadata={'source': 'insurance.csv', 'row': 855}),\n",
              " Document(page_content='age: 48\\nsex: female\\nbmi: 33.11\\nchildren: 0\\nsmoker: yes\\nregion: southeast\\ncharges: 40974.1649', metadata={'source': 'insurance.csv', 'row': 856}),\n",
              " Document(page_content='age: 25\\nsex: male\\nbmi: 24.13\\nchildren: 0\\nsmoker: yes\\nregion: northwest\\ncharges: 15817.9857', metadata={'source': 'insurance.csv', 'row': 857}),\n",
              " Document(page_content='age: 25\\nsex: female\\nbmi: 32.23\\nchildren: 1\\nsmoker: no\\nregion: southeast\\ncharges: 18218.16139', metadata={'source': 'insurance.csv', 'row': 858}),\n",
              " Document(page_content='age: 57\\nsex: male\\nbmi: 28.1\\nchildren: 0\\nsmoker: no\\nregion: southwest\\ncharges: 10965.446', metadata={'source': 'insurance.csv', 'row': 859}),\n",
              " Document(page_content='age: 37\\nsex: female\\nbmi: 47.6\\nchildren: 2\\nsmoker: yes\\nregion: southwest\\ncharges: 46113.511', metadata={'source': 'insurance.csv', 'row': 860}),\n",
              " Document(page_content='age: 38\\nsex: female\\nbmi: 28\\nchildren: 3\\nsmoker: no\\nregion: southwest\\ncharges: 7151.092', metadata={'source': 'insurance.csv', 'row': 861}),\n",
              " Document(page_content='age: 55\\nsex: female\\nbmi: 33.535\\nchildren: 2\\nsmoker: no\\nregion: northwest\\ncharges: 12269.68865', metadata={'source': 'insurance.csv', 'row': 862}),\n",
              " Document(page_content='age: 36\\nsex: female\\nbmi: 19.855\\nchildren: 0\\nsmoker: no\\nregion: northeast\\ncharges: 5458.04645', metadata={'source': 'insurance.csv', 'row': 863}),\n",
              " Document(page_content='age: 51\\nsex: male\\nbmi: 25.4\\nchildren: 0\\nsmoker: no\\nregion: southwest\\ncharges: 8782.469', metadata={'source': 'insurance.csv', 'row': 864}),\n",
              " Document(page_content='age: 40\\nsex: male\\nbmi: 29.9\\nchildren: 2\\nsmoker: no\\nregion: southwest\\ncharges: 6600.361', metadata={'source': 'insurance.csv', 'row': 865}),\n",
              " Document(page_content='age: 18\\nsex: male\\nbmi: 37.29\\nchildren: 0\\nsmoker: no\\nregion: southeast\\ncharges: 1141.4451', metadata={'source': 'insurance.csv', 'row': 866}),\n",
              " Document(page_content='age: 57\\nsex: male\\nbmi: 43.7\\nchildren: 1\\nsmoker: no\\nregion: southwest\\ncharges: 11576.13', metadata={'source': 'insurance.csv', 'row': 867}),\n",
              " Document(page_content='age: 61\\nsex: male\\nbmi: 23.655\\nchildren: 0\\nsmoker: no\\nregion: northeast\\ncharges: 13129.60345', metadata={'source': 'insurance.csv', 'row': 868}),\n",
              " Document(page_content='age: 25\\nsex: female\\nbmi: 24.3\\nchildren: 3\\nsmoker: no\\nregion: southwest\\ncharges: 4391.652', metadata={'source': 'insurance.csv', 'row': 869}),\n",
              " Document(page_content='age: 50\\nsex: male\\nbmi: 36.2\\nchildren: 0\\nsmoker: no\\nregion: southwest\\ncharges: 8457.818', metadata={'source': 'insurance.csv', 'row': 870}),\n",
              " Document(page_content='age: 26\\nsex: female\\nbmi: 29.48\\nchildren: 1\\nsmoker: no\\nregion: southeast\\ncharges: 3392.3652', metadata={'source': 'insurance.csv', 'row': 871}),\n",
              " Document(page_content='age: 42\\nsex: male\\nbmi: 24.86\\nchildren: 0\\nsmoker: no\\nregion: southeast\\ncharges: 5966.8874', metadata={'source': 'insurance.csv', 'row': 872}),\n",
              " Document(page_content='age: 43\\nsex: male\\nbmi: 30.1\\nchildren: 1\\nsmoker: no\\nregion: southwest\\ncharges: 6849.026', metadata={'source': 'insurance.csv', 'row': 873}),\n",
              " Document(page_content='age: 44\\nsex: male\\nbmi: 21.85\\nchildren: 3\\nsmoker: no\\nregion: northeast\\ncharges: 8891.1395', metadata={'source': 'insurance.csv', 'row': 874}),\n",
              " Document(page_content='age: 23\\nsex: female\\nbmi: 28.12\\nchildren: 0\\nsmoker: no\\nregion: northwest\\ncharges: 2690.1138', metadata={'source': 'insurance.csv', 'row': 875}),\n",
              " Document(page_content='age: 49\\nsex: female\\nbmi: 27.1\\nchildren: 1\\nsmoker: no\\nregion: southwest\\ncharges: 26140.3603', metadata={'source': 'insurance.csv', 'row': 876}),\n",
              " Document(page_content='age: 33\\nsex: male\\nbmi: 33.44\\nchildren: 5\\nsmoker: no\\nregion: southeast\\ncharges: 6653.7886', metadata={'source': 'insurance.csv', 'row': 877}),\n",
              " Document(page_content='age: 41\\nsex: male\\nbmi: 28.8\\nchildren: 1\\nsmoker: no\\nregion: southwest\\ncharges: 6282.235', metadata={'source': 'insurance.csv', 'row': 878}),\n",
              " Document(page_content='age: 37\\nsex: female\\nbmi: 29.5\\nchildren: 2\\nsmoker: no\\nregion: southwest\\ncharges: 6311.952', metadata={'source': 'insurance.csv', 'row': 879}),\n",
              " Document(page_content='age: 22\\nsex: male\\nbmi: 34.8\\nchildren: 3\\nsmoker: no\\nregion: southwest\\ncharges: 3443.064', metadata={'source': 'insurance.csv', 'row': 880}),\n",
              " Document(page_content='age: 23\\nsex: male\\nbmi: 27.36\\nchildren: 1\\nsmoker: no\\nregion: northwest\\ncharges: 2789.0574', metadata={'source': 'insurance.csv', 'row': 881}),\n",
              " Document(page_content='age: 21\\nsex: female\\nbmi: 22.135\\nchildren: 0\\nsmoker: no\\nregion: northeast\\ncharges: 2585.85065', metadata={'source': 'insurance.csv', 'row': 882}),\n",
              " Document(page_content='age: 51\\nsex: female\\nbmi: 37.05\\nchildren: 3\\nsmoker: yes\\nregion: northeast\\ncharges: 46255.1125', metadata={'source': 'insurance.csv', 'row': 883}),\n",
              " Document(page_content='age: 25\\nsex: male\\nbmi: 26.695\\nchildren: 4\\nsmoker: no\\nregion: northwest\\ncharges: 4877.98105', metadata={'source': 'insurance.csv', 'row': 884}),\n",
              " Document(page_content='age: 32\\nsex: male\\nbmi: 28.93\\nchildren: 1\\nsmoker: yes\\nregion: southeast\\ncharges: 19719.6947', metadata={'source': 'insurance.csv', 'row': 885}),\n",
              " Document(page_content='age: 57\\nsex: male\\nbmi: 28.975\\nchildren: 0\\nsmoker: yes\\nregion: northeast\\ncharges: 27218.43725', metadata={'source': 'insurance.csv', 'row': 886}),\n",
              " Document(page_content='age: 36\\nsex: female\\nbmi: 30.02\\nchildren: 0\\nsmoker: no\\nregion: northwest\\ncharges: 5272.1758', metadata={'source': 'insurance.csv', 'row': 887}),\n",
              " Document(page_content='age: 22\\nsex: male\\nbmi: 39.5\\nchildren: 0\\nsmoker: no\\nregion: southwest\\ncharges: 1682.597', metadata={'source': 'insurance.csv', 'row': 888}),\n",
              " Document(page_content='age: 57\\nsex: male\\nbmi: 33.63\\nchildren: 1\\nsmoker: no\\nregion: northwest\\ncharges: 11945.1327', metadata={'source': 'insurance.csv', 'row': 889}),\n",
              " Document(page_content='age: 64\\nsex: female\\nbmi: 26.885\\nchildren: 0\\nsmoker: yes\\nregion: northwest\\ncharges: 29330.98315', metadata={'source': 'insurance.csv', 'row': 890}),\n",
              " Document(page_content='age: 36\\nsex: female\\nbmi: 29.04\\nchildren: 4\\nsmoker: no\\nregion: southeast\\ncharges: 7243.8136', metadata={'source': 'insurance.csv', 'row': 891}),\n",
              " Document(page_content='age: 54\\nsex: male\\nbmi: 24.035\\nchildren: 0\\nsmoker: no\\nregion: northeast\\ncharges: 10422.91665', metadata={'source': 'insurance.csv', 'row': 892}),\n",
              " Document(page_content='age: 47\\nsex: male\\nbmi: 38.94\\nchildren: 2\\nsmoker: yes\\nregion: southeast\\ncharges: 44202.6536', metadata={'source': 'insurance.csv', 'row': 893}),\n",
              " Document(page_content='age: 62\\nsex: male\\nbmi: 32.11\\nchildren: 0\\nsmoker: no\\nregion: northeast\\ncharges: 13555.0049', metadata={'source': 'insurance.csv', 'row': 894}),\n",
              " Document(page_content='age: 61\\nsex: female\\nbmi: 44\\nchildren: 0\\nsmoker: no\\nregion: southwest\\ncharges: 13063.883', metadata={'source': 'insurance.csv', 'row': 895}),\n",
              " Document(page_content='age: 43\\nsex: female\\nbmi: 20.045\\nchildren: 2\\nsmoker: yes\\nregion: northeast\\ncharges: 19798.05455', metadata={'source': 'insurance.csv', 'row': 896}),\n",
              " Document(page_content='age: 19\\nsex: male\\nbmi: 25.555\\nchildren: 1\\nsmoker: no\\nregion: northwest\\ncharges: 2221.56445', metadata={'source': 'insurance.csv', 'row': 897}),\n",
              " Document(page_content='age: 18\\nsex: female\\nbmi: 40.26\\nchildren: 0\\nsmoker: no\\nregion: southeast\\ncharges: 1634.5734', metadata={'source': 'insurance.csv', 'row': 898}),\n",
              " Document(page_content='age: 19\\nsex: female\\nbmi: 22.515\\nchildren: 0\\nsmoker: no\\nregion: northwest\\ncharges: 2117.33885', metadata={'source': 'insurance.csv', 'row': 899}),\n",
              " Document(page_content='age: 49\\nsex: male\\nbmi: 22.515\\nchildren: 0\\nsmoker: no\\nregion: northeast\\ncharges: 8688.85885', metadata={'source': 'insurance.csv', 'row': 900}),\n",
              " Document(page_content='age: 60\\nsex: male\\nbmi: 40.92\\nchildren: 0\\nsmoker: yes\\nregion: southeast\\ncharges: 48673.5588', metadata={'source': 'insurance.csv', 'row': 901}),\n",
              " Document(page_content='age: 26\\nsex: male\\nbmi: 27.265\\nchildren: 3\\nsmoker: no\\nregion: northeast\\ncharges: 4661.28635', metadata={'source': 'insurance.csv', 'row': 902}),\n",
              " Document(page_content='age: 49\\nsex: male\\nbmi: 36.85\\nchildren: 0\\nsmoker: no\\nregion: southeast\\ncharges: 8125.7845', metadata={'source': 'insurance.csv', 'row': 903}),\n",
              " Document(page_content='age: 60\\nsex: female\\nbmi: 35.1\\nchildren: 0\\nsmoker: no\\nregion: southwest\\ncharges: 12644.589', metadata={'source': 'insurance.csv', 'row': 904}),\n",
              " Document(page_content='age: 26\\nsex: female\\nbmi: 29.355\\nchildren: 2\\nsmoker: no\\nregion: northeast\\ncharges: 4564.19145', metadata={'source': 'insurance.csv', 'row': 905}),\n",
              " Document(page_content='age: 27\\nsex: male\\nbmi: 32.585\\nchildren: 3\\nsmoker: no\\nregion: northeast\\ncharges: 4846.92015', metadata={'source': 'insurance.csv', 'row': 906}),\n",
              " Document(page_content='age: 44\\nsex: female\\nbmi: 32.34\\nchildren: 1\\nsmoker: no\\nregion: southeast\\ncharges: 7633.7206', metadata={'source': 'insurance.csv', 'row': 907}),\n",
              " Document(page_content='age: 63\\nsex: male\\nbmi: 39.8\\nchildren: 3\\nsmoker: no\\nregion: southwest\\ncharges: 15170.069', metadata={'source': 'insurance.csv', 'row': 908}),\n",
              " Document(page_content='age: 32\\nsex: female\\nbmi: 24.6\\nchildren: 0\\nsmoker: yes\\nregion: southwest\\ncharges: 17496.306', metadata={'source': 'insurance.csv', 'row': 909}),\n",
              " Document(page_content='age: 22\\nsex: male\\nbmi: 28.31\\nchildren: 1\\nsmoker: no\\nregion: northwest\\ncharges: 2639.0429', metadata={'source': 'insurance.csv', 'row': 910}),\n",
              " Document(page_content='age: 18\\nsex: male\\nbmi: 31.73\\nchildren: 0\\nsmoker: yes\\nregion: northeast\\ncharges: 33732.6867', metadata={'source': 'insurance.csv', 'row': 911}),\n",
              " Document(page_content='age: 59\\nsex: female\\nbmi: 26.695\\nchildren: 3\\nsmoker: no\\nregion: northwest\\ncharges: 14382.70905', metadata={'source': 'insurance.csv', 'row': 912}),\n",
              " Document(page_content='age: 44\\nsex: female\\nbmi: 27.5\\nchildren: 1\\nsmoker: no\\nregion: southwest\\ncharges: 7626.993', metadata={'source': 'insurance.csv', 'row': 913}),\n",
              " Document(page_content='age: 33\\nsex: male\\nbmi: 24.605\\nchildren: 2\\nsmoker: no\\nregion: northwest\\ncharges: 5257.50795', metadata={'source': 'insurance.csv', 'row': 914}),\n",
              " Document(page_content='age: 24\\nsex: female\\nbmi: 33.99\\nchildren: 0\\nsmoker: no\\nregion: southeast\\ncharges: 2473.3341', metadata={'source': 'insurance.csv', 'row': 915}),\n",
              " Document(page_content='age: 43\\nsex: female\\nbmi: 26.885\\nchildren: 0\\nsmoker: yes\\nregion: northwest\\ncharges: 21774.32215', metadata={'source': 'insurance.csv', 'row': 916}),\n",
              " Document(page_content='age: 45\\nsex: male\\nbmi: 22.895\\nchildren: 0\\nsmoker: yes\\nregion: northeast\\ncharges: 35069.37452', metadata={'source': 'insurance.csv', 'row': 917}),\n",
              " Document(page_content='age: 61\\nsex: female\\nbmi: 28.2\\nchildren: 0\\nsmoker: no\\nregion: southwest\\ncharges: 13041.921', metadata={'source': 'insurance.csv', 'row': 918}),\n",
              " Document(page_content='age: 35\\nsex: female\\nbmi: 34.21\\nchildren: 1\\nsmoker: no\\nregion: southeast\\ncharges: 5245.2269', metadata={'source': 'insurance.csv', 'row': 919}),\n",
              " Document(page_content='age: 62\\nsex: female\\nbmi: 25\\nchildren: 0\\nsmoker: no\\nregion: southwest\\ncharges: 13451.122', metadata={'source': 'insurance.csv', 'row': 920}),\n",
              " Document(page_content='age: 62\\nsex: female\\nbmi: 33.2\\nchildren: 0\\nsmoker: no\\nregion: southwest\\ncharges: 13462.52', metadata={'source': 'insurance.csv', 'row': 921}),\n",
              " Document(page_content='age: 38\\nsex: male\\nbmi: 31\\nchildren: 1\\nsmoker: no\\nregion: southwest\\ncharges: 5488.262', metadata={'source': 'insurance.csv', 'row': 922}),\n",
              " Document(page_content='age: 34\\nsex: male\\nbmi: 35.815\\nchildren: 0\\nsmoker: no\\nregion: northwest\\ncharges: 4320.41085', metadata={'source': 'insurance.csv', 'row': 923}),\n",
              " Document(page_content='age: 43\\nsex: male\\nbmi: 23.2\\nchildren: 0\\nsmoker: no\\nregion: southwest\\ncharges: 6250.435', metadata={'source': 'insurance.csv', 'row': 924}),\n",
              " Document(page_content='age: 50\\nsex: male\\nbmi: 32.11\\nchildren: 2\\nsmoker: no\\nregion: northeast\\ncharges: 25333.33284', metadata={'source': 'insurance.csv', 'row': 925}),\n",
              " Document(page_content='age: 19\\nsex: female\\nbmi: 23.4\\nchildren: 2\\nsmoker: no\\nregion: southwest\\ncharges: 2913.569', metadata={'source': 'insurance.csv', 'row': 926}),\n",
              " Document(page_content='age: 57\\nsex: female\\nbmi: 20.1\\nchildren: 1\\nsmoker: no\\nregion: southwest\\ncharges: 12032.326', metadata={'source': 'insurance.csv', 'row': 927}),\n",
              " Document(page_content='age: 62\\nsex: female\\nbmi: 39.16\\nchildren: 0\\nsmoker: no\\nregion: southeast\\ncharges: 13470.8044', metadata={'source': 'insurance.csv', 'row': 928}),\n",
              " Document(page_content='age: 41\\nsex: male\\nbmi: 34.21\\nchildren: 1\\nsmoker: no\\nregion: southeast\\ncharges: 6289.7549', metadata={'source': 'insurance.csv', 'row': 929}),\n",
              " Document(page_content='age: 26\\nsex: male\\nbmi: 46.53\\nchildren: 1\\nsmoker: no\\nregion: southeast\\ncharges: 2927.0647', metadata={'source': 'insurance.csv', 'row': 930}),\n",
              " Document(page_content='age: 39\\nsex: female\\nbmi: 32.5\\nchildren: 1\\nsmoker: no\\nregion: southwest\\ncharges: 6238.298', metadata={'source': 'insurance.csv', 'row': 931}),\n",
              " Document(page_content='age: 46\\nsex: male\\nbmi: 25.8\\nchildren: 5\\nsmoker: no\\nregion: southwest\\ncharges: 10096.97', metadata={'source': 'insurance.csv', 'row': 932}),\n",
              " Document(page_content='age: 45\\nsex: female\\nbmi: 35.3\\nchildren: 0\\nsmoker: no\\nregion: southwest\\ncharges: 7348.142', metadata={'source': 'insurance.csv', 'row': 933}),\n",
              " Document(page_content='age: 32\\nsex: male\\nbmi: 37.18\\nchildren: 2\\nsmoker: no\\nregion: southeast\\ncharges: 4673.3922', metadata={'source': 'insurance.csv', 'row': 934}),\n",
              " Document(page_content='age: 59\\nsex: female\\nbmi: 27.5\\nchildren: 0\\nsmoker: no\\nregion: southwest\\ncharges: 12233.828', metadata={'source': 'insurance.csv', 'row': 935}),\n",
              " Document(page_content='age: 44\\nsex: male\\nbmi: 29.735\\nchildren: 2\\nsmoker: no\\nregion: northeast\\ncharges: 32108.66282', metadata={'source': 'insurance.csv', 'row': 936}),\n",
              " Document(page_content='age: 39\\nsex: female\\nbmi: 24.225\\nchildren: 5\\nsmoker: no\\nregion: northwest\\ncharges: 8965.79575', metadata={'source': 'insurance.csv', 'row': 937}),\n",
              " Document(page_content='age: 18\\nsex: male\\nbmi: 26.18\\nchildren: 2\\nsmoker: no\\nregion: southeast\\ncharges: 2304.0022', metadata={'source': 'insurance.csv', 'row': 938}),\n",
              " Document(page_content='age: 53\\nsex: male\\nbmi: 29.48\\nchildren: 0\\nsmoker: no\\nregion: southeast\\ncharges: 9487.6442', metadata={'source': 'insurance.csv', 'row': 939}),\n",
              " Document(page_content='age: 18\\nsex: male\\nbmi: 23.21\\nchildren: 0\\nsmoker: no\\nregion: southeast\\ncharges: 1121.8739', metadata={'source': 'insurance.csv', 'row': 940}),\n",
              " Document(page_content='age: 50\\nsex: female\\nbmi: 46.09\\nchildren: 1\\nsmoker: no\\nregion: southeast\\ncharges: 9549.5651', metadata={'source': 'insurance.csv', 'row': 941}),\n",
              " Document(page_content='age: 18\\nsex: female\\nbmi: 40.185\\nchildren: 0\\nsmoker: no\\nregion: northeast\\ncharges: 2217.46915', metadata={'source': 'insurance.csv', 'row': 942}),\n",
              " Document(page_content='age: 19\\nsex: male\\nbmi: 22.61\\nchildren: 0\\nsmoker: no\\nregion: northwest\\ncharges: 1628.4709', metadata={'source': 'insurance.csv', 'row': 943}),\n",
              " Document(page_content='age: 62\\nsex: male\\nbmi: 39.93\\nchildren: 0\\nsmoker: no\\nregion: southeast\\ncharges: 12982.8747', metadata={'source': 'insurance.csv', 'row': 944}),\n",
              " Document(page_content='age: 56\\nsex: female\\nbmi: 35.8\\nchildren: 1\\nsmoker: no\\nregion: southwest\\ncharges: 11674.13', metadata={'source': 'insurance.csv', 'row': 945}),\n",
              " Document(page_content='age: 42\\nsex: male\\nbmi: 35.8\\nchildren: 2\\nsmoker: no\\nregion: southwest\\ncharges: 7160.094', metadata={'source': 'insurance.csv', 'row': 946}),\n",
              " Document(page_content='age: 37\\nsex: male\\nbmi: 34.2\\nchildren: 1\\nsmoker: yes\\nregion: northeast\\ncharges: 39047.285', metadata={'source': 'insurance.csv', 'row': 947}),\n",
              " Document(page_content='age: 42\\nsex: male\\nbmi: 31.255\\nchildren: 0\\nsmoker: no\\nregion: northwest\\ncharges: 6358.77645', metadata={'source': 'insurance.csv', 'row': 948}),\n",
              " Document(page_content='age: 25\\nsex: male\\nbmi: 29.7\\nchildren: 3\\nsmoker: yes\\nregion: southwest\\ncharges: 19933.458', metadata={'source': 'insurance.csv', 'row': 949}),\n",
              " Document(page_content='age: 57\\nsex: male\\nbmi: 18.335\\nchildren: 0\\nsmoker: no\\nregion: northeast\\ncharges: 11534.87265', metadata={'source': 'insurance.csv', 'row': 950}),\n",
              " Document(page_content='age: 51\\nsex: male\\nbmi: 42.9\\nchildren: 2\\nsmoker: yes\\nregion: southeast\\ncharges: 47462.894', metadata={'source': 'insurance.csv', 'row': 951}),\n",
              " Document(page_content='age: 30\\nsex: female\\nbmi: 28.405\\nchildren: 1\\nsmoker: no\\nregion: northwest\\ncharges: 4527.18295', metadata={'source': 'insurance.csv', 'row': 952}),\n",
              " Document(page_content='age: 44\\nsex: male\\nbmi: 30.2\\nchildren: 2\\nsmoker: yes\\nregion: southwest\\ncharges: 38998.546', metadata={'source': 'insurance.csv', 'row': 953}),\n",
              " Document(page_content='age: 34\\nsex: male\\nbmi: 27.835\\nchildren: 1\\nsmoker: yes\\nregion: northwest\\ncharges: 20009.63365', metadata={'source': 'insurance.csv', 'row': 954}),\n",
              " Document(page_content='age: 31\\nsex: male\\nbmi: 39.49\\nchildren: 1\\nsmoker: no\\nregion: southeast\\ncharges: 3875.7341', metadata={'source': 'insurance.csv', 'row': 955}),\n",
              " Document(page_content='age: 54\\nsex: male\\nbmi: 30.8\\nchildren: 1\\nsmoker: yes\\nregion: southeast\\ncharges: 41999.52', metadata={'source': 'insurance.csv', 'row': 956}),\n",
              " Document(page_content='age: 24\\nsex: male\\nbmi: 26.79\\nchildren: 1\\nsmoker: no\\nregion: northwest\\ncharges: 12609.88702', metadata={'source': 'insurance.csv', 'row': 957}),\n",
              " Document(page_content='age: 43\\nsex: male\\nbmi: 34.96\\nchildren: 1\\nsmoker: yes\\nregion: northeast\\ncharges: 41034.2214', metadata={'source': 'insurance.csv', 'row': 958}),\n",
              " Document(page_content='age: 48\\nsex: male\\nbmi: 36.67\\nchildren: 1\\nsmoker: no\\nregion: northwest\\ncharges: 28468.91901', metadata={'source': 'insurance.csv', 'row': 959}),\n",
              " Document(page_content='age: 19\\nsex: female\\nbmi: 39.615\\nchildren: 1\\nsmoker: no\\nregion: northwest\\ncharges: 2730.10785', metadata={'source': 'insurance.csv', 'row': 960}),\n",
              " Document(page_content='age: 29\\nsex: female\\nbmi: 25.9\\nchildren: 0\\nsmoker: no\\nregion: southwest\\ncharges: 3353.284', metadata={'source': 'insurance.csv', 'row': 961}),\n",
              " Document(page_content='age: 63\\nsex: female\\nbmi: 35.2\\nchildren: 1\\nsmoker: no\\nregion: southeast\\ncharges: 14474.675', metadata={'source': 'insurance.csv', 'row': 962}),\n",
              " Document(page_content='age: 46\\nsex: male\\nbmi: 24.795\\nchildren: 3\\nsmoker: no\\nregion: northeast\\ncharges: 9500.57305', metadata={'source': 'insurance.csv', 'row': 963}),\n",
              " Document(page_content='age: 52\\nsex: male\\nbmi: 36.765\\nchildren: 2\\nsmoker: no\\nregion: northwest\\ncharges: 26467.09737', metadata={'source': 'insurance.csv', 'row': 964}),\n",
              " Document(page_content='age: 35\\nsex: male\\nbmi: 27.1\\nchildren: 1\\nsmoker: no\\nregion: southwest\\ncharges: 4746.344', metadata={'source': 'insurance.csv', 'row': 965}),\n",
              " Document(page_content='age: 51\\nsex: male\\nbmi: 24.795\\nchildren: 2\\nsmoker: yes\\nregion: northwest\\ncharges: 23967.38305', metadata={'source': 'insurance.csv', 'row': 966}),\n",
              " Document(page_content='age: 44\\nsex: male\\nbmi: 25.365\\nchildren: 1\\nsmoker: no\\nregion: northwest\\ncharges: 7518.02535', metadata={'source': 'insurance.csv', 'row': 967}),\n",
              " Document(page_content='age: 21\\nsex: male\\nbmi: 25.745\\nchildren: 2\\nsmoker: no\\nregion: northeast\\ncharges: 3279.86855', metadata={'source': 'insurance.csv', 'row': 968}),\n",
              " Document(page_content='age: 39\\nsex: female\\nbmi: 34.32\\nchildren: 5\\nsmoker: no\\nregion: southeast\\ncharges: 8596.8278', metadata={'source': 'insurance.csv', 'row': 969}),\n",
              " Document(page_content='age: 50\\nsex: female\\nbmi: 28.16\\nchildren: 3\\nsmoker: no\\nregion: southeast\\ncharges: 10702.6424', metadata={'source': 'insurance.csv', 'row': 970}),\n",
              " Document(page_content='age: 34\\nsex: female\\nbmi: 23.56\\nchildren: 0\\nsmoker: no\\nregion: northeast\\ncharges: 4992.3764', metadata={'source': 'insurance.csv', 'row': 971}),\n",
              " Document(page_content='age: 22\\nsex: female\\nbmi: 20.235\\nchildren: 0\\nsmoker: no\\nregion: northwest\\ncharges: 2527.81865', metadata={'source': 'insurance.csv', 'row': 972}),\n",
              " Document(page_content='age: 19\\nsex: female\\nbmi: 40.5\\nchildren: 0\\nsmoker: no\\nregion: southwest\\ncharges: 1759.338', metadata={'source': 'insurance.csv', 'row': 973}),\n",
              " Document(page_content='age: 26\\nsex: male\\nbmi: 35.42\\nchildren: 0\\nsmoker: no\\nregion: southeast\\ncharges: 2322.6218', metadata={'source': 'insurance.csv', 'row': 974}),\n",
              " Document(page_content='age: 29\\nsex: male\\nbmi: 22.895\\nchildren: 0\\nsmoker: yes\\nregion: northeast\\ncharges: 16138.76205', metadata={'source': 'insurance.csv', 'row': 975}),\n",
              " Document(page_content='age: 48\\nsex: male\\nbmi: 40.15\\nchildren: 0\\nsmoker: no\\nregion: southeast\\ncharges: 7804.1605', metadata={'source': 'insurance.csv', 'row': 976}),\n",
              " Document(page_content='age: 26\\nsex: male\\nbmi: 29.15\\nchildren: 1\\nsmoker: no\\nregion: southeast\\ncharges: 2902.9065', metadata={'source': 'insurance.csv', 'row': 977}),\n",
              " Document(page_content='age: 45\\nsex: female\\nbmi: 39.995\\nchildren: 3\\nsmoker: no\\nregion: northeast\\ncharges: 9704.66805', metadata={'source': 'insurance.csv', 'row': 978}),\n",
              " Document(page_content='age: 36\\nsex: female\\nbmi: 29.92\\nchildren: 0\\nsmoker: no\\nregion: southeast\\ncharges: 4889.0368', metadata={'source': 'insurance.csv', 'row': 979}),\n",
              " Document(page_content='age: 54\\nsex: male\\nbmi: 25.46\\nchildren: 1\\nsmoker: no\\nregion: northeast\\ncharges: 25517.11363', metadata={'source': 'insurance.csv', 'row': 980}),\n",
              " Document(page_content='age: 34\\nsex: male\\nbmi: 21.375\\nchildren: 0\\nsmoker: no\\nregion: northeast\\ncharges: 4500.33925', metadata={'source': 'insurance.csv', 'row': 981}),\n",
              " Document(page_content='age: 31\\nsex: male\\nbmi: 25.9\\nchildren: 3\\nsmoker: yes\\nregion: southwest\\ncharges: 19199.944', metadata={'source': 'insurance.csv', 'row': 982}),\n",
              " Document(page_content='age: 27\\nsex: female\\nbmi: 30.59\\nchildren: 1\\nsmoker: no\\nregion: northeast\\ncharges: 16796.41194', metadata={'source': 'insurance.csv', 'row': 983}),\n",
              " Document(page_content='age: 20\\nsex: male\\nbmi: 30.115\\nchildren: 5\\nsmoker: no\\nregion: northeast\\ncharges: 4915.05985', metadata={'source': 'insurance.csv', 'row': 984}),\n",
              " Document(page_content='age: 44\\nsex: female\\nbmi: 25.8\\nchildren: 1\\nsmoker: no\\nregion: southwest\\ncharges: 7624.63', metadata={'source': 'insurance.csv', 'row': 985}),\n",
              " Document(page_content='age: 43\\nsex: male\\nbmi: 30.115\\nchildren: 3\\nsmoker: no\\nregion: northwest\\ncharges: 8410.04685', metadata={'source': 'insurance.csv', 'row': 986}),\n",
              " Document(page_content='age: 45\\nsex: female\\nbmi: 27.645\\nchildren: 1\\nsmoker: no\\nregion: northwest\\ncharges: 28340.18885', metadata={'source': 'insurance.csv', 'row': 987}),\n",
              " Document(page_content='age: 34\\nsex: male\\nbmi: 34.675\\nchildren: 0\\nsmoker: no\\nregion: northeast\\ncharges: 4518.82625', metadata={'source': 'insurance.csv', 'row': 988}),\n",
              " Document(page_content='age: 24\\nsex: female\\nbmi: 20.52\\nchildren: 0\\nsmoker: yes\\nregion: northeast\\ncharges: 14571.8908', metadata={'source': 'insurance.csv', 'row': 989}),\n",
              " Document(page_content='age: 26\\nsex: female\\nbmi: 19.8\\nchildren: 1\\nsmoker: no\\nregion: southwest\\ncharges: 3378.91', metadata={'source': 'insurance.csv', 'row': 990}),\n",
              " Document(page_content='age: 38\\nsex: female\\nbmi: 27.835\\nchildren: 2\\nsmoker: no\\nregion: northeast\\ncharges: 7144.86265', metadata={'source': 'insurance.csv', 'row': 991}),\n",
              " Document(page_content='age: 50\\nsex: female\\nbmi: 31.6\\nchildren: 2\\nsmoker: no\\nregion: southwest\\ncharges: 10118.424', metadata={'source': 'insurance.csv', 'row': 992}),\n",
              " Document(page_content='age: 38\\nsex: male\\nbmi: 28.27\\nchildren: 1\\nsmoker: no\\nregion: southeast\\ncharges: 5484.4673', metadata={'source': 'insurance.csv', 'row': 993}),\n",
              " Document(page_content='age: 27\\nsex: female\\nbmi: 20.045\\nchildren: 3\\nsmoker: yes\\nregion: northwest\\ncharges: 16420.49455', metadata={'source': 'insurance.csv', 'row': 994}),\n",
              " Document(page_content='age: 39\\nsex: female\\nbmi: 23.275\\nchildren: 3\\nsmoker: no\\nregion: northeast\\ncharges: 7986.47525', metadata={'source': 'insurance.csv', 'row': 995}),\n",
              " Document(page_content='age: 39\\nsex: female\\nbmi: 34.1\\nchildren: 3\\nsmoker: no\\nregion: southwest\\ncharges: 7418.522', metadata={'source': 'insurance.csv', 'row': 996}),\n",
              " Document(page_content='age: 63\\nsex: female\\nbmi: 36.85\\nchildren: 0\\nsmoker: no\\nregion: southeast\\ncharges: 13887.9685', metadata={'source': 'insurance.csv', 'row': 997}),\n",
              " Document(page_content='age: 33\\nsex: female\\nbmi: 36.29\\nchildren: 3\\nsmoker: no\\nregion: northeast\\ncharges: 6551.7501', metadata={'source': 'insurance.csv', 'row': 998}),\n",
              " Document(page_content='age: 36\\nsex: female\\nbmi: 26.885\\nchildren: 0\\nsmoker: no\\nregion: northwest\\ncharges: 5267.81815', metadata={'source': 'insurance.csv', 'row': 999}),\n",
              " ...]"
            ]
          },
          "metadata": {},
          "execution_count": 10
        }
      ]
    },
    {
      "cell_type": "markdown",
      "source": [
        "### PyPDFLoader:\n",
        "   - **Purpose**: Loads PDF (Portable Document Format) files. PDFs are widely used for documents that are intended to be viewed in the same format across different devices.\n",
        "   - **Use Case**: Useful for loading documents like reports, articles, legal documents, and any other content that is stored as PDFs. It can extract text from PDFs for further processing or analysis.\n"
      ],
      "metadata": {
        "id": "onxi6W2Hbs81"
      }
    },
    {
      "cell_type": "code",
      "source": [
        "# https://dlp.dubai.gov.ae/en/Pages/LegislationSearch.aspx\n",
        "pdf_url = \"https://raw.githubusercontent.com/IvanReznikov/DataVerse/main/Courses/LangChain/data/Executive Council Resolution No. (107) of 2023 Regulating the Tourist.pdf\"\n",
        "pdf_filename = \"dubai_law.pdf\""
      ],
      "metadata": {
        "id": "3vPLUtB0ZU2M"
      },
      "execution_count": 11,
      "outputs": []
    },
    {
      "cell_type": "code",
      "source": [
        "pdf_document = load_document_from_url(pdf_url, \"dubai_law.pdf\", PyPDFLoader)"
      ],
      "metadata": {
        "id": "eFie_ejAZU5F"
      },
      "execution_count": 12,
      "outputs": []
    },
    {
      "cell_type": "code",
      "source": [
        "pdf_document"
      ],
      "metadata": {
        "colab": {
          "base_uri": "https://localhost:8080/"
        },
        "id": "wk9AE9FzZVFq",
        "outputId": "80b1964b-95db-47af-faf6-1dcef530865e"
      },
      "execution_count": 13,
      "outputs": [
        {
          "output_type": "execute_result",
          "data": {
            "text/plain": [
              "[Document(page_content=' \\nExecutive Council Resolution No. (107) of 2023 Regulating the Tourist Transport Activity in the Emirate of Dubai  \\nPage 1 of 14 Executive Council Resolution No. (107) of 2023  \\nRegulating the  \\nTourist Transport Activity in the Emirate of Dubai1 \\nـــــــــــــــــــــــــــــــــــــــــــــــــــــــــــــــــــــــــــــــــــــــــــــــــــــــــــــــــــــــــــــــــــــــــــــ ــــــــــــــــــــــــــــــــــــــــــــــــ  \\nWe, Hamdan bin Mohammed bin Rashid Al Maktoum, Crown Prince of Dubai, Chairman of the \\nExecutive Council,  \\nAfter perusal of:  \\nLaw No. (3) of 2003 Establishing the Executive Council of the Emirate of Dubai;  \\nLaw No. (17) of 2005 Establishing the Roads and Transport Authority and its amendments;  \\nLaw No. (13) of 2011 Regulating the Conduct of Economic Activities in the Emirate of Dubai and its \\namendments;  \\nLaw No. (1) of 2016 Concerning the Financial Regulations of the Government of Dubai, its Implementing \\nBylaw, and their amendments;  \\nLaw No. (5) of 2021 Concerning the Dubai International Finan cial Centre;  \\nLaw No. (20) of 2021 Establishing the Department of Economy and Tourism in the Emirate of Dubai;  \\nDecree No. (22) of 2009 Concerning Special Development Zones in the Emirate of Dubai;  \\nDecree No. (17) of 2013 Concerning Licensing and Classificat ion of Hotel Establishments in the Emirate \\nof Dubai;  \\nRegulation No. (5) of 2006 Concerning Classification and Licensing of Tourist Bus Transport \\nEstablishments in the Emirate of Dubai;  \\nRegulation No. (6) of 2006 Concerning the Licensing of Tourist Establishments and Travel Agencies and \\nits amendments; and   \\nThe legislation establishing and regulating free zones in the Emirate of Dubai,  \\nDo hereby issue this Resolution.  \\n                                                 \\n©2024 The Supreme Legislation Committee in the Emirate of Dubai  \\n1Every effort has been made to produce an accurate and complete English version of this legislation. However, for the purpose \\nof its interpretation and application, reference must be made to the or iginal Arabic text. In case of conflict, the Arabic text will \\nprevail.  ', metadata={'source': 'dubai_law.pdf', 'page': 0}),\n",
              " Document(page_content=' \\nExecutive Council Resolution No. (107) of 2023 Regulating the Tourist Transport Activity in the Emirate of Dubai  \\nPage 2 of 14 Definitions  \\nArticle (1)  \\nThe following words and expressions, wherever mentioned in this Resolution, will have the meaning \\nindicated opposite each of them unless the context implies otherwise:  \\nThe Emirate of Dubai.  Emirate:  \\nThe Roads and Transport Authority.  RTA: \\nThe Department of Economy and Tourism in the Emirate of Dubai.  DET: \\nThe director general and chairman of the Board of Executive Directors \\nof the RTA.  Director General:  \\nThe transport of passengers by Tourist Vehicles to and from airports; \\nhotels; tourist resorts; and heritage, archaeological, and tourist \\nlandmarks and are as within and outside of the Emirate.  Activity:  \\nA company or firm authorised by the RTA to conduct the Activity in the \\nEmirate.  Establishment:  \\nThis includes any hotel, resort, hotel apartment, guest house, youth  \\nhostel, budget hotel, floating hotel, or o ther similar Hotel Establishment \\nwhich is  placed under the supervision of the DET pursuant to the \\nlegislation in force in the Emirate.  Hotel Establishment:  \\nAn establishment licensed by the DET to conduct the activity of Inbound \\nTour Operator in accordance  with the above -mentioned Regulation \\nNo. (6) of 2006.  Tourist Establishment:  \\nA bus, car, motorcycle, or other motorised machine or carriage licensed \\nby the RTA and designated for conducting the Activity.  Tourist Vehicle:  \\nA document issued by the RTA pursuant to this Resolution authorising \\nan Establishment to conduct the Activity, or to use or operate  a Tourist \\nVehicle.  Permit:  \\n ', metadata={'source': 'dubai_law.pdf', 'page': 1}),\n",
              " Document(page_content=' \\nExecutive Council Resolution No. (107) of 2023 Regulating the Tourist Transport Activity in the Emirate of Dubai  \\nPage 3 of 14 Objectives of the Resolution  \\nArticle (2)  \\nThis Resolution aims to:  \\n1. develop  an integrated tourist transport system in the Emirate that contributes to promoting it as a \\ntourist destination at the local, regional, and international levels;  \\n2. enhance security and safety procedures in Tourist Vehicles with a view to ensuring the comfor t, \\nconvenience, and safety of the users of these vehicles; and  \\n3. regulate the conduct of the Activity in accordance with the relevant international best practices.  \\nScope of Application  \\nArticle (3)  \\na. The provisions of this Resolution apply to all persons  conducting the Activity in the Emirate, \\nincluding in Special Development Zones and free zones, such as the Dubai International Financial \\nCentre.  \\nb. This Resolution does not apply to Hotel Establishments transporting their own guests and to Tourist \\nEstablishm ents transporting individuals to any other place within the Emirate. This non -application \\nof the Resolution is  subject to the conditions, rules, procedures, and technical requirements \\npertaining to  drivers and Vehicles as prescribed  by the RTA in agreement  with the DET, in \\naccordance with the relevant applicable legislation of the RTA.  \\nc. The penalties and fines prescribed by the applicable legislation of the RTA will be imposed on Hotel \\nEstablishments and Tourist Establishments that commit any  of the violatio ns stipulated in that  \\nlegislation.  \\nConducting the Activity  \\nArticle (4)  \\na. No natural or legal person may conduct the Activity in the Emirate unless he is so authorised by the \\nRTA and is licensed by the concerned commercial Licensing Authority.  \\nb. The Activity ma y be conducted only using Tourist Vehicles driven by drivers who are so authorised \\nby the RTA.  ', metadata={'source': 'dubai_law.pdf', 'page': 2}),\n",
              " Document(page_content=' \\nExecutive Council Resolution No. (107) of 2023 Regulating the Tourist Transport Activity in the Emirate of Dubai  \\nPage 4 of 14 Functions of the RTA  \\nArticle (5)  \\nFor the purposes of this Resolution, the RTA will oversee the tourist transport sector in the Emirate. For \\nthis purpose, the RTA  will have the duties and powers to:  \\n1. develop, in coordination with the DET, the policies, plans, and programmes aimed at regulating \\nand promoting the tourist transport sector in the Emirate;  \\n2. establish the standards, requirements, and conditions required for conducting the Activity in the \\nEmirate using Tourist Vehicles;  \\n3. establish the standards required for issuing Permits to, and classifying, Establishments;  \\n4. establish the standards, specifications, and safety requirements that must be met by Tourist Vehicl es \\nto be used by all categories of persons, including persons with disabilities;  \\n5. receive and determine Permit applications in accordance with the standards, requirements, and \\nconditions adopted by the RTA in this respect as well as other standards, require ments, and \\nconditions prescribed by the DET;  \\n6. issue the Permits required for the operation of Tourist Vehicles, in accordance with the standards, \\nrequirements, and conditions adopted by the RTA in this respect;  \\n7. issue the Permits required for drivers of Tour ist Vehicles, and conduct training and qualifying \\ncourses for them, in accordance with the standards, requirements, and conditions adopted by the \\nRTA in this respect;  \\n8. determine the routes of Tourist Vehicles in the Emirate;  \\n9. determine, in coordination with the DET, the number of Tourist Vehicles that an Establishment may \\nuse in conducting the Activity;  \\n10. monitor and inspect Tourist Vehicles and their drivers to verify that the relevant adopted standards, \\nrequirements, and conditions are satisfied;  \\n11. monitor Esta blishments to verify their compliance with the relevant adopted standards, \\nrequirements, and conditions;  \\n12. receive and investigate complaints filed against Establishments and drivers of Tourist Vehicles; and \\nimpose the penalties and measures, prescribed in t his Resolution against violators;  ', metadata={'source': 'dubai_law.pdf', 'page': 3}),\n",
              " Document(page_content=\" \\nExecutive Council Resolution No. (107) of 2023 Regulating the Tourist Transport Activity in the Emirate of Dubai  \\nPage 5 of 14 13. create a database of Establishments, Tourist Vehicles, and Tourist Vehicle drivers; and  \\n14. exercise any other duties or powers that fall within the functions of the RTA under the legislation in \\nforce as required for the achie vement of the objectives of this Resolution.  \\nFunctions of the DET  \\nArticle (6)  \\nFor the purposes of this Resolution, the DET will have the duties and powers to:  \\n1. qualify the tour guides working in Establishments and issue them with identification cards, in \\naccordance with the relevant rules adopted by the DET;  \\n2. determine the Emirate's tourist destinations to which tourists will be transported; and provide the \\nRTA and Establishments with lists of these destinations; and  \\n3. exercise any other duties or powers that fall within the functions of the DET under the legislation in \\nforce as required for the achievement of the objectives of this Resolution.  \\nRequirements for Issuing Permits to Conduct the Activity  \\nArticle (7)  \\nA Permi t to conduct the Activity will be issued to an Establishment subject to the following:  \\n1. The conditions adopted by the commercial licensing authority in charge of licensing economic \\nactivities must be satisfied.  \\n2. The technical requirements and specifications determined by the relevant resolution of the Director \\nGeneral must be satisfied.  \\n3. Premises which are appropriate for conducting the Activity must be provided, and must meet the \\nstandards and requirements stipulated in the relevant resolution of the Director  General of the DET \\nin coordination with the RTA.  \\n4. A manager must be appointed to the Establishment. The manager must have the experience and \\nqualifications prescribed by the RTA and approved pursuant to the relevant resolution of the \\nDirector General.  \\n5. The Establishment owner must be of good conduct and repute, and not have been convicted of a \\nfelony or other crime affecting honour or trustworthiness, unless he has been rehabilitated or \\npardoned.  \", metadata={'source': 'dubai_law.pdf', 'page': 4}),\n",
              " Document(page_content=' \\nExecutive Council Resolution No. (107) of 2023 Regulating the Tourist Transport Activity in the Emirate of Dubai  \\nPage 6 of 14 6. The manager of the Establishment must not be less than twenty -one (21) years of age.  \\n7. The documents required by the RTA for issuing the Permit must be submitted.  \\n8. Any other requirements prescribed by the RTA or the DET, and approved pursuant a resolution of \\nthe Director General, must be satisfied.  \\nTerm of Permits to Co nduct the Activity  \\nArticle (8)  \\nA Permit to conduct the Activity will be valid for a period of one (1) year, renewable for the same period. \\nAn application for renewal of a Permit must be submitted within the last month prior to its expiry date. \\nThe Permit w ill be renewed in accordance with the conditions prescribed by the relevant resolution of \\nthe Director General.  \\nAssignment of Permits  \\nArticle (9)  \\nA Permit to conduct the Activity may not be assigned without first obtaining the relevant approval of \\nthe RTA . This approval will be issued in accordance with the conditions and rules approved by the \\nDirector General in this respect.  \\nSuspension of Permit Issuance  \\nArticle (10)  \\nThe RTA may suspend the issuance of a Permit for any reason related to serving the public interest or \\nto regulating road traffic in the Emirate, or based on the recommendation of the DET where the \\nEstablishment commits a gross breach of its applicable legislation . \\nClassification of Establishments  \\nArticle (11)  \\nEstablishments will be classified in accordance with the standards and rules approved pursuant to the \\nrelevant resolution of the Director General, in addition to any other standards and rules required by the \\nDET in this respect. In classifying Establishments, the volume of their activities, the number and level of \\nluxury of their Tourist Vehicles, the number of their employees, and the type of services they provide \\nmust be taken into consideration.  ', metadata={'source': 'dubai_law.pdf', 'page': 5}),\n",
              " Document(page_content=' \\nExecutive Council Resolution No. (107) of 2023 Regulating the Tourist Transport Activity in the Emirate of Dubai  \\nPage 7 of 14 Electronic System  \\nArticle (12)  \\na. An electronic system for the Activity will be created at the RTA . This system will be used to issue \\nand renew Permits, to follow up the activities of Establishments, and for any other purposes \\ndetermined by the RTA, the DET, and the concerned entities in the Emirate.  \\nb. The RTA will supervise, operate, maintain, manage, and develop the electronic system referred to \\nin paragraph (a) of this Article.  \\nTourist Vehicle Permits and Tourist Vehicle  Driver’s Permits  \\nArticle (13)  \\na. For the purp oses of using or driving Tourist Vehicles, the RTA will issue two types of Permits as \\nfollows:  \\n1. Tourist Vehicle Permits; and  \\n2. Tourist Vehicle driver’s Permits.  \\nb. The Permits referred to in paragraph (a) of this Article will be valid for a period of one (1) yea r, \\nrenewable for the same period.  \\nc. The Director General will, pursuant to a resolution he issues in this respect, determine the conditions, \\nprocedures, and requirements that must be satisfied, and the documents that must be provided, to \\nissue or renew  the Permits referred to in paragraph (a) of this Article.  \\nObligations of Establishments  \\nArticle (14)  \\nIn addition to its obligations under the legislation in force, an Establishment must:  \\n1. comply with the conditions and rules adopted by the RTA for conducting the Activity;  \\n2. comply with the legislation in force in the Emirate, including the legislation concerning road traffic, \\npublic health and safety, and the environment;  \\n3. use Tourist Vehicles only in conducting the Activity, and not use them for any other purpose;  \\n4. provide the RTA with the tourist transport Fare per person, and any changes thereto;  ', metadata={'source': 'dubai_law.pdf', 'page': 6}),\n",
              " Document(page_content=' \\nExecutive Council Resolution No. (107) of 2023 Regulating the Tourist Transport Activity in the Emirate of Dubai  \\nPage 8 of 14 5. not place commercial advertisements or posters on the interior or exterior of Tourist Vehicles \\nwithout first obtaining the relevant approval of the RTA;  \\n6. enrol the drivers of Tourist Vehicles in the training courses prescribed by the RTA in this respect;  \\n7. display the name and contact details of the Establishment in a prominent place on the interior and \\nexterior of the Tourist Vehicle;  \\n8. maintain records containin g the details of the tourist trips it organises, and provide the RTA with \\nthese details, and with any other statistics or documents the RTA deems necessary to review;  \\n9. install tracking devices on its Tourist Vehicles in accordance with the relevant instruct ions and rules \\nadopted by the RTA;  \\n10. not allow the use of its Tourist Vehicles by another Establishment without first obtaining the relevant \\napproval of the RTA;  \\n11. cooperate with the competent RTA employees and not obstruct their work;  \\n12. comply with the safety s tandards, specifications, and requirements applicable to Tourist Vehicles; \\nand \\n13. comply with any other obligations prescribed by the RTA pursuant to the resolutions issued by the \\nDirector General in this respect.  \\nFees \\nArticle (15)  \\na. In return for issuing the P ermits and providing the services stated in Schedule (1) attached hereto, \\nthe RTA will collect the fees indicated opposite each of these Permits and services.  \\nb. In return for providing the tour guide qualification service to non -UAE national employees workin g \\nin an Establishment, the DET will collect a fee of seven thousand and five hundred dirhams (AED \\n7,500.00).  ', metadata={'source': 'dubai_law.pdf', 'page': 7}),\n",
              " Document(page_content=' \\nExecutive Council Resolution No. (107) of 2023 Regulating the Tourist Transport Activity in the Emirate of Dubai  \\nPage 9 of 14 Violations and Administrative Penalties  \\nArticle (16)  \\na. Without prejudice to any stricter penalty provided for in any other resolution, a person who commits \\nany of the violations set out in Schedule (2) attached to this Resolution will be punished by the fine \\nindicated opposite that violation.  \\nb. Upon repetition of the same violation within one (1) year from the date of the previous violation, \\nthe amount of the fine prescribed in the schedule referred to in paragraph (a) of this Article will be \\ndoubled. A doubled fine must not exceed fifty thousand dirhams (AED 50,000.00).  \\nc. In addition to the penalty of a fine, the RTA may take one or more of the following measures against \\na violator:  \\n1. suspending the Permit for a period not exceeding six (6) months;  \\n2. revoking the Permit and coordinating with the competent commercial licensing authority to \\ncancel the commercial licence;  \\n3. revok ing the Tourist Vehicle Permit or the Tourist Vehicle driver’s Permit; and/or  \\n4. impound ing the Tourist Vehicle for a period not exceeding six (6) months.  \\nRemedy of Violations  \\nArticle (17)  \\nIn addition to the penalties and administrative measures stipulated in Ar ticle (16) of this Resolution, a \\nviolator must remedy the violation within the time frame prescribed by the RTA in this respect, failing \\nwhich the RTA may remedy the violation using its own resources or through engaging any other entity, \\nand hold the viola tor liable for all costs incurred, in addition to administrative charges of twenty -five \\npercent (25%) of these costs.  \\nLaw Enforcement  \\nArticle (18)  \\nThe RTA Employees nominated pursuant to a resolution of the Director General will have the capacity \\nof law en forcement officers to record the acts committed in breach of the provisions of this Resolution \\nand the resolutions issued in pursuance hereof. For this purpose, they may issue the necessary violation \\nreports; and, where necessary, seek the assistance of po lice personnel.  ', metadata={'source': 'dubai_law.pdf', 'page': 8}),\n",
              " Document(page_content=' \\nExecutive Council Resolution No. (107) of 2023 Regulating the Tourist Transport Activity in the Emirate of Dubai  \\nPage 10 of 14 Grievances  \\nArticle (19)  \\nAny affected party may submit to the Director General a written grievance against any decision, \\nprocedure, or measure taken against him in accordance with this Resolution and the resolutions issued \\nin pursuance hereo f, within thirty (30) days from the date of being notified of the contested decision, \\nprocedure, or measure. The grievance will be determined, within thirty (30) days of its submission, by a \\ncommittee formed by the Director General for this purpose; and th e decision issued by the committee \\non the grievance will be final.  \\nPayment of Fees and Fines  \\nArticle (20)  \\nFees and fines collected pursuant to this Resolution will be paid to the Public Treasury of the \\nGovernment of Dubai.  \\nCompliance  \\nArticle (21)  \\nAll persons conducting the Activity in the Emirate by the effective date of this Resolution must comply \\nwith the provisions hereof within a period not exceeding one (1) year from that effective date. The \\nDirector General may, where required, issue a resolution extending this grace period for the same \\nperiod.  \\nCooperation with the RTA and the DET  \\nArticle (22)  \\nGovernment Entities in the Emirate must fully cooperate with the RTA and the DET to enable them to \\nexercise the duties and powers assigned to them under thi s Resolution, the resolutions issued in \\npursuance hereof, and other legislation in force in the Emirate.  \\nIssuing Implementing Resolutions  \\nArticle (23)  \\nThe Director General will issue the resolutions required for the implementation of this Resolution. These  \\nresolutions will be published in the Official Gazette.  ', metadata={'source': 'dubai_law.pdf', 'page': 9}),\n",
              " Document(page_content=' \\nExecutive Council Resolution No. (107) of 2023 Regulating the Tourist Transport Activity in the Emirate of Dubai  \\nPage 11 of 14 Repeals  \\nArticle (24)  \\na. The above -mentioned Regulation No. (5) of 2006 is hereby repealed. Any provision in any other \\nresolution is also hereby repealed to the extent that it contradicts the provisions o f this Resolution.  \\nb. The resolutions and bylaws issued in implementation of the above -mentioned Regulation No. (5) \\nof 2006 will continue in force to the extent that they do not contradict this Resolution, until new \\nsuperseding resolutions and bylaws are issu ed. \\nPublication and Commencement  \\nArticle (25)  \\nThis Resolution will be published in the Official Gazette and will come into force sixty (60) days after the \\ndate of its publication.  \\nHamdan bin Mohammed bin Rashid Al Maktoum  \\nCrown Prince of Dubai  \\nChairman of  the Executive Council  \\nIssued in Dubai on 15 December 2023  \\nCorresponding to 2 Jumada al -Thaniyah 1445 A.H.  \\n  ', metadata={'source': 'dubai_law.pdf', 'page': 10}),\n",
              " Document(page_content=' \\nExecutive Council Resolution No. (107) of 2023 Regulating the Tourist Transport Activity in the Emirate of Dubai  \\nPage 12 of 14 Schedule (1)  \\nFees for Conducting the Activity  \\n \\nSN Description  Fee (in dirhams)  \\n1 Issuing or renewing a Permit to conduct the Activity  4,000.00  \\n2 Variation of the details of a Permit to conduct the Activity  500.00  \\n3 Issuing a replacement for a lost or damaged Permit to conduct \\nthe Activity  500.00  \\n4 Issuing or renewing a heavy Tourist Vehicle Permit  1,500.00  \\n5 Issuing or renewing a light Tourist Vehicle Permit  700.00  \\n6 Issuing or renewing a tourist motorcycle  Permit  500.00  \\n7 Issuing or renewing a Permit to use any type of Tourist Vehicles \\nother than those set forth herein  800.00  \\n8 Issuing a replacement of a lost or damaged Tourist Vehicle \\nPermit  500.00  \\n9 Issuing or renewing a Tourist Vehicle driver’s Permit  200.00  \\n10 Issuing a replacement for a lost or damaged Tourist  Vehicle \\ndriver’s Permit  200.00  \\n11 Conducting a basic training course for a Tourist Vehicle driver  1,000.00  \\n12 Conducting  a supplementary training course for a Tourist Vehicle \\ndriver  400.00  \\n13 Conducting a re -qualification course for a Tourist Vehicle driver  400.00  \\n \\n  ', metadata={'source': 'dubai_law.pdf', 'page': 11}),\n",
              " Document(page_content=' \\nExecutive Council Resolution No. (107) of 2023 Regulating the Tourist Transport Activity in the Emirate of Dubai  \\nPage 13 of 14 Schedule (2)  \\nViolations and Fines Related to Conducting the Activity  \\n \\nSN Violation  Fine (in dirhams)  \\n1 Conducting the Activity without a Permit  10,000.00  \\n2 Conducting the Activity after expiry of the Permit  2,000.00  \\n3 Failure to provide the RTA with the documents, information, or statistics \\nrelated to conducting the Activity as it deems necessary to revie w 500.00  \\n4 Failure to maintain records containing the details of the tourist trips  1,000.00  \\n5 Hindering or obstructing the work of the competent RTA employees or \\nfailure to cooperate with them  500.00  \\n6 Using Tourist Vehicles for purposes other than conducting the Activity  5,000.00  \\n7 Failure to comply with the safety standards, specifications, and \\nrequirements applicable to Tourist Vehicles  500.00  \\n8 Failure to display the name and details of the Establishment in a \\nprominent place on the interior and  exterior of a Tourist Vehicle  500.00  \\n9 Driving a Tourist Vehicle by a driver who does not hold a Permit or whose \\nPermit has expired  500.00  \\n10 Failure to enrol a Tourist Vehicle driver in the training courses prescribed \\nby the RTA  1,000.00  \\n11 Failure to install tracking devices on Tourist Vehicle s in accordance with \\nthe relevant instructions and rules adopted by the RTA  2,000.00  \\n12 Placing commercial advertisements or posters on the interior or exterior \\nof a Tourist Vehicle without first obtai ning the relevant approval of the \\nRTA 1,500.00  \\n13 Failure to observe the Tourist Vehicle routes determined by the RTA  500.00  ', metadata={'source': 'dubai_law.pdf', 'page': 12}),\n",
              " Document(page_content=' \\nExecutive Council Resolution No. (107) of 2023 Regulating the Tourist Transport Activity in the Emirate of Dubai  \\nPage 14 of 14 14 Allowing the use of its Tourist Vehicle by another Establishment without \\nfirst obtaining the relevant approval of the RTA  1,500.00  \\n15 Failure to install the tourist transport plate on a Tourist Vehicle  1,000.00  \\n16 Failure to fully comply with this Resolution within the prescribed time \\nframe  3,000.00  \\n17 Failure to observe the number of Tourist Vehicles that the Establishme nt \\nmay use in conducting the Activity  2,000.00  \\n ', metadata={'source': 'dubai_law.pdf', 'page': 13})]"
            ]
          },
          "metadata": {},
          "execution_count": 13
        }
      ]
    },
    {
      "cell_type": "markdown",
      "source": [
        "### WebBaseLoader:\n",
        "   - **Purpose**: Loads content from web pages. This loader is designed to fetch and parse content directly from URLs, allowing the processing of web-based documents.\n",
        "   - **Use Case**: Perfect for scraping and processing content from web pages, such as articles, blog posts, or any web content you wish to analyze or use as part of a larger dataset.\n",
        "\n"
      ],
      "metadata": {
        "id": "x7j94TesbyiO"
      }
    },
    {
      "cell_type": "code",
      "source": [
        "web_url = \"https://www.linkedin.com/in/reznikovivan/\""
      ],
      "metadata": {
        "id": "OZjTkeRTZYgU"
      },
      "execution_count": 14,
      "outputs": []
    },
    {
      "cell_type": "code",
      "source": [
        "web_document = WebBaseLoader(\n",
        "    web_url\n",
        ").load()  # WebBaseLoader usage is direct as it doesn't involve downloading"
      ],
      "metadata": {
        "id": "OfaxF0UjZYi9"
      },
      "execution_count": 15,
      "outputs": []
    },
    {
      "cell_type": "code",
      "source": [
        "web_document"
      ],
      "metadata": {
        "colab": {
          "base_uri": "https://localhost:8080/"
        },
        "id": "RB2gcsi_ZYly",
        "outputId": "7d21fe95-fb58-415f-f9d7-0aaa0b5809f8"
      },
      "execution_count": 16,
      "outputs": [
        {
          "output_type": "execute_result",
          "data": {
            "text/plain": [
              "[Document(page_content='\\n\\n\\n\\n\\n\\n\\n\\n\\n\\n\\n\\n\\n\\n\\n\\n\\n\\n\\n\\n\\n\\n\\nIvan Reznikov - QBurst | LinkedIn\\n\\n\\n\\n\\n\\n\\n\\n\\n\\n\\n\\n\\n\\n\\n\\n\\n\\n\\n\\n\\n\\n\\n\\n\\n \\n\\n\\n\\n\\n      Skip to main content\\n    \\n\\n\\n\\nLinkedIn\\n\\n\\n\\n\\n\\n\\n\\n\\n\\n\\n        Articles\\n      \\n\\n\\n\\n\\n\\n\\n\\n        People\\n      \\n\\n\\n\\n\\n\\n\\n\\n        Learning\\n      \\n\\n\\n\\n\\n\\n\\n\\n        Jobs\\n      \\n\\n\\n\\n\\n\\n      Join now\\n    \\n\\n          Sign in\\n      \\n\\n\\n\\n\\n\\n \\n\\n\\n\\n\\n\\n\\n\\n\\n\\n \\n\\n\\n\\n\\n \\n\\n\\n\\n\\n\\n\\n\\n\\n                        Ivan Reznikov\\n                      \\n\\n\\n\\n\\n\\n\\n\\n \\n\\n\\n\\n\\n\\n\\n\\n\\n                Sign in to view Ivan’s full profile\\n              \\n \\n\\n\\n\\n            Sign in\\n        \\n\\n\\n\\n \\n\\n\\n\\n\\n\\n\\n\\n                Welcome back\\n            \\n\\n\\n\\n\\n\\n\\n\\n\\n\\n\\n\\n\\n\\n\\n\\n\\n          Email or phone\\n        \\n\\n\\n\\n\\n\\n\\n\\n\\n\\n          Password\\n        \\n\\n\\nShow\\n\\n\\n\\n\\n\\n \\n\\nForgot password?\\n\\n\\n\\n          Sign in\\n        \\n\\n\\n\\n            or\\n          \\n\\n\\n\\n\\n\\n\\n      By clicking Continue, you agree to LinkedIn’s User Agreement, Privacy Policy, and Cookie Policy.\\n    \\n\\n\\n\\n\\n\\n                New to LinkedIn? Join now\\n\\n\\n\\n \\n\\n\\n\\n\\n\\n\\n                    or\\n                  \\n\\n\\n\\n\\n\\n      By clicking Continue, you agree to LinkedIn’s User Agreement, Privacy Policy, and Cookie Policy.\\n    \\n\\n\\n\\n\\n\\n                  New to LinkedIn? Join now\\n\\n\\n\\n \\n\\n\\n\\n\\n\\n\\n\\n\\nDubai, United Arab Emirates\\n\\n            Contact Info\\n          \\n\\n\\n\\n\\n\\n\\n \\n\\n\\n\\n\\n\\n\\n\\n\\n                Sign in to view Ivan’s full profile\\n              \\n \\n\\n\\n\\n            Sign in\\n        \\n\\n\\n\\n \\n\\n\\n\\n\\n\\n\\n\\n                Welcome back\\n            \\n\\n\\n\\n\\n\\n\\n\\n\\n\\n\\n\\n\\n\\n\\n\\n\\n          Email or phone\\n        \\n\\n\\n\\n\\n\\n\\n\\n\\n\\n          Password\\n        \\n\\n\\nShow\\n\\n\\n\\n\\n\\n \\n\\nForgot password?\\n\\n\\n\\n          Sign in\\n        \\n\\n\\n\\n            or\\n          \\n\\n\\n\\n\\n\\n\\n      By clicking Continue, you agree to LinkedIn’s User Agreement, Privacy Policy, and Cookie Policy.\\n    \\n\\n\\n\\n\\n\\n                New to LinkedIn? Join now\\n\\n\\n\\n \\n\\n\\n\\n\\n\\n\\n                    or\\n                  \\n\\n\\n\\n\\n\\n      By clicking Continue, you agree to LinkedIn’s User Agreement, Privacy Policy, and Cookie Policy.\\n    \\n\\n\\n\\n\\n\\n                  New to LinkedIn? Join now\\n\\n\\n\\n \\n\\n\\n\\n\\n\\n\\n            32K followers\\n          \\n\\n              500+ connections\\n          \\n\\n\\n\\n\\n\\n\\n\\n\\n\\n\\n\\n\\nSee your mutual connections\\n\\n\\n\\n\\n\\n\\n \\n\\n\\n\\n\\n\\n\\n\\n\\n                View mutual connections with Ivan\\n              \\n \\n\\n\\n\\n            Sign in\\n        \\n\\n\\n\\n \\n\\n\\n\\n\\n\\n\\n\\n                Welcome back\\n            \\n\\n\\n\\n\\n\\n\\n\\n\\n\\n\\n\\n\\n\\n\\n\\n\\n          Email or phone\\n        \\n\\n\\n\\n\\n\\n\\n\\n\\n\\n          Password\\n        \\n\\n\\nShow\\n\\n\\n\\n\\n\\n \\n\\nForgot password?\\n\\n\\n\\n          Sign in\\n        \\n\\n\\n\\n            or\\n          \\n\\n\\n\\n\\n\\n\\n      By clicking Continue, you agree to LinkedIn’s User Agreement, Privacy Policy, and Cookie Policy.\\n    \\n\\n\\n\\n\\n\\n                New to LinkedIn? Join now\\n\\n\\n\\n \\n\\n\\n\\n\\n\\n\\n                    or\\n                  \\n\\n\\n\\n\\n\\n      By clicking Continue, you agree to LinkedIn’s User Agreement, Privacy Policy, and Cookie Policy.\\n    \\n\\n\\n\\n\\n\\n                  New to LinkedIn? Join now\\n\\n\\n\\n \\n\\n\\n\\n\\n\\n\\n\\n\\n                      Join to view profile\\n                    \\n\\n\\n\\n      \\n                          Message\\n                        \\n          \\n\\n\\n\\n \\n\\n\\n\\n\\n\\n\\n\\n\\n                Sign in to view Ivan’s full profile\\n              \\n \\n\\n\\n\\n            Sign in\\n        \\n\\n\\n\\n \\n\\n\\n\\n\\n\\n\\n\\n                Welcome back\\n            \\n\\n\\n\\n\\n\\n\\n\\n\\n\\n\\n\\n\\n\\n\\n\\n\\n          Email or phone\\n        \\n\\n\\n\\n\\n\\n\\n\\n\\n\\n          Password\\n        \\n\\n\\nShow\\n\\n\\n\\n\\n\\n \\n\\nForgot password?\\n\\n\\n\\n          Sign in\\n        \\n\\n\\n\\n            or\\n          \\n\\n\\n\\n\\n\\n\\n      By clicking Continue, you agree to LinkedIn’s User Agreement, Privacy Policy, and Cookie Policy.\\n    \\n\\n\\n\\n\\n\\n                New to LinkedIn? Join now\\n\\n\\n\\n \\n\\n\\n\\n\\n\\n\\n                    or\\n                  \\n\\n\\n\\n\\n\\n      By clicking Continue, you agree to LinkedIn’s User Agreement, Privacy Policy, and Cookie Policy.\\n    \\n\\n\\n\\n\\n\\n                  New to LinkedIn? Join now\\n\\n\\n\\n \\n\\n\\n\\n\\n\\n\\n\\n\\n\\n\\n\\n\\n        QBurst\\n \\n\\n\\n\\n\\n\\n\\n        Belarusian State University\\n \\n\\n\\n\\n\\n\\n\\n\\n\\n\\n\\n\\n\\n\\n\\n\\n\\n\\n\\n\\n                      Report this profile\\n                    \\n    \\n\\n\\n\\n\\n \\n\\n \\n\\n\\n\\n\\n\\n          About\\n        \\n\\n\\n\\n            I am a data scientist with 12 years of experience in software development and data…\\n            \\n    \\n    \\n    \\n    \\n\\n    \\n\\n            see more\\n        \\n\\n\\n\\n \\n\\n\\n\\n\\n\\n\\n\\n                Welcome back\\n            \\n\\n\\n\\n\\n\\n\\n\\n\\n\\n\\n\\n\\n\\n\\n\\n\\n          Email or phone\\n        \\n\\n\\n\\n\\n\\n\\n\\n\\n\\n          Password\\n        \\n\\n\\nShow\\n\\n\\n\\n\\n\\n \\n\\nForgot password?\\n\\n\\n\\n          Sign in\\n        \\n\\n\\n\\n            or\\n          \\n\\n\\n\\n\\n\\n\\n      By clicking Continue, you agree to LinkedIn’s User Agreement, Privacy Policy, and Cookie Policy.\\n    \\n\\n\\n\\n\\n\\n                New to LinkedIn? Join now\\n\\n\\n\\n \\n\\n\\n\\n\\n\\n\\n\\n\\n\\n\\n\\n\\n            Articles by Ivan\\n          \\n\\n\\n\\n\\n\\n\\n\\n              \\n          \\n        5 Reasons Why Sam Altman Might\\'ve Been Fired from\\xa0OpenAI?\\n      \\n      \\n          \\n\\n\\n\\n \\n\\n\\n            \\n        5 Reasons Why Sam Altman Might\\'ve Been Fired from\\xa0OpenAI?\\n      \\n          \\n\\n              \\n          By Ivan Reznikov\\n\\n\\n\\nNov 18, 2023\\n\\n\\n\\n\\n\\n\\n\\n\\n\\n\\n              \\n          \\n        How to Fit Large Language Models in Small Memory: Quantization\\n      \\n      \\n          \\n\\n\\n\\n \\n\\n\\n            \\n        How to Fit Large Language Models in Small Memory: Quantization\\n      \\n          \\n\\n              \\n          By Ivan Reznikov\\n\\n\\n\\nSep 4, 2023\\n\\n\\n\\n\\n\\n\\n\\n\\n\\n\\n              \\n          \\n        I Caught 16 US Presidents Using ChatGPT\\n      \\n      \\n          \\n\\n\\n\\n \\n\\n\\n            \\n        I Caught 16 US Presidents Using ChatGPT\\n      \\n          \\n\\n              \\n          By Ivan Reznikov\\n\\n\\n\\nAug 2, 2023\\n\\n\\n\\n\\n\\n\\n\\n\\n              See all articles\\n            \\n\\n\\n\\n\\n\\n            Contributions\\n          \\n\\n\\n\\n\\n\\n\\n\\n          How do you overcome data science imposter syndrome?\\n        \\n\\n\\n\\n          One thing I found helping me quite a lot is a track of records. Make a document and once a month find time to write a few sentences of what you\\'ve learned or gained experience in. After 2-3 months, you\\'ll see how much you\\'ve grown!\\nAlso, try sharing thoughts in posts and articles. This helps me to overcome such feelings.\\n        \\n\\n\\n\\n          Ivan Reznikov contributed\\n          \\n\\n    \\n    \\n    \\n    \\n    \\n    \\n    \\n    \\n    \\n    \\n    \\n    \\n    \\n    \\n    \\n    \\n\\n    \\n    \\n    \\n    \\n    \\n    \\n    \\n    \\n    \\n    \\n    \\n    \\n    \\n    \\n\\n      5 months ago\\n  \\n        \\n\\n\\n\\n            3 Upvotes\\n\\n\\n\\n\\n\\n\\n\\n\\n          What are the most common mistakes to avoid when creating data visualizations for storytelling?\\n        \\n\\n\\n\\n          Common mistakes I\\'ve seen:\\nMissing Axes Labels: One of the most common mistakes I\\'ve seen is forgetting to label your axes properly. Let\\'s say you\\'re creating a line graph to illustrate some effect over time. Your audience might get confused if the X-axis isn\\'t labeled with specific periods. This is similar to any other metric. \\nAmbiguous Titles: Your visualization\\'s title is often your audience\\'s first read. A title like \"Audience Expansion\" may be too generic. Instead, go for  \"Company XYZ\\'s Monthly Social Media Follower Growth.\"\\nOvercrowded Legends: Legends are essential for interpreting color-coded elements in your visualization. However, overloading your legend with too many items or using lengthy descriptions can overwhelm viewers.\\n        \\n\\n\\n\\n          Ivan Reznikov contributed\\n          \\n\\n    \\n    \\n    \\n    \\n    \\n    \\n    \\n    \\n    \\n    \\n    \\n    \\n    \\n    \\n    \\n    \\n\\n    \\n    \\n    \\n    \\n    \\n    \\n    \\n    \\n    \\n    \\n    \\n    \\n    \\n    \\n\\n      5 months ago\\n  \\n        \\n\\n\\n\\n            Upvote\\n\\n\\n\\n\\n\\n\\n\\n\\n\\n\\n\\n              Activity\\n            \\n\\n\\n\\n                  Follow\\n                \\n\\n\\n\\n\\n\\n\\n\\n \\n\\n\\n\\n\\n\\n\\n\\n\\n                Sign in to view Ivan’s full profile\\n              \\n \\n\\n\\n\\n            Sign in\\n        \\n\\n\\n\\n \\n\\n\\n\\n\\n\\n\\n\\n                Welcome back\\n            \\n\\n\\n\\n\\n\\n\\n\\n\\n\\n\\n\\n\\n\\n\\n\\n\\n          Email or phone\\n        \\n\\n\\n\\n\\n\\n\\n\\n\\n\\n          Password\\n        \\n\\n\\nShow\\n\\n\\n\\n\\n\\n \\n\\nForgot password?\\n\\n\\n\\n          Sign in\\n        \\n\\n\\n\\n            or\\n          \\n\\n\\n\\n\\n\\n\\n      By clicking Continue, you agree to LinkedIn’s User Agreement, Privacy Policy, and Cookie Policy.\\n    \\n\\n\\n\\n\\n\\n                New to LinkedIn? Join now\\n\\n\\n\\n \\n\\n\\n\\n\\n\\n\\n                    or\\n                  \\n\\n\\n\\n\\n\\n      By clicking Continue, you agree to LinkedIn’s User Agreement, Privacy Policy, and Cookie Policy.\\n    \\n\\n\\n\\n\\n\\n                  New to LinkedIn? Join now\\n\\n\\n\\n \\n\\n\\n\\n\\n\\n\\n\\n\\n\\n\\n\\n              \\n          \\n          Excited to share that I\\'ve just completed my second year as a judge together with Alaa Shahin and Mohammed Fazalullah محمد فضل الله for the…\\n      \\n      \\n          \\n\\n\\n\\n \\n\\n\\n            \\n          Excited to share that I\\'ve just completed my second year as a judge together with Alaa Shahin and Mohammed Fazalullah محمد فضل الله for the…\\n      \\n          \\n\\n              \\n        Liked by Ivan Reznikov\\n\\n\\n \\n\\n\\n\\n\\n\\n\\n\\n              \\n          \\n          I\\'ve posted my Lecture 2 Part 1 on my MSc #DataScience Lecture Series. In the lecture, we\\'re delving into statistical essentials: data types…\\n      \\n      \\n          \\n\\n\\n\\n \\n\\n\\n            \\n          I\\'ve posted my Lecture 2 Part 1 on my MSc #DataScience Lecture Series. In the lecture, we\\'re delving into statistical essentials: data types…\\n      \\n          \\n\\n              \\n        Shared by Ivan Reznikov\\n\\n\\n \\n\\n\\n\\n\\n\\n\\n\\n              \\n          \\n          Have you got a passion for Data Science, Python and coding? Designed for enthusiasts, professionals, and learners eager to delve into the realm of…\\n      \\n      \\n          \\n\\n\\n\\n \\n\\n\\n            \\n          Have you got a passion for Data Science, Python and coding? Designed for enthusiasts, professionals, and learners eager to delve into the realm of…\\n      \\n          \\n\\n              \\n        Liked by Ivan Reznikov\\n\\n\\n \\n\\n\\n\\n\\n\\n              Join now to see all activity\\n            \\n\\n\\n\\n\\n\\n              \\n          Experience & Education\\n        \\n            \\n\\n\\n\\n\\n\\n\\n\\n\\n\\n          \\n      QBurst\\n    \\n        \\n\\n\\n        ********* **** *********\\n      \\n\\n\\n\\n\\n\\n\\n\\n\\n\\n\\n\\n\\n\\n\\n          \\n      ********* ********** *****\\n    \\n        \\n\\n\\n        ******** ********\\n      \\n\\n\\n\\n\\n\\n\\n\\n\\n\\n\\n\\n          \\n      ****\\n    \\n        \\n\\n\\n        **** **** *********\\n      \\n\\n\\n\\n\\n\\n\\n\\n\\n\\n\\n\\n          \\n      ********** ***** **********\\n    \\n        \\n-\\n\\n\\n\\n2015 - 2020\\n \\n\\n\\n\\n\\n\\n\\n\\n\\n\\n          \\n      ********** ***** **********\\n    \\n        \\n\\n\\n        ******\\'* ******  \\n      \\n\\n\\n\\n\\n2014 - 2015\\n \\n\\n\\n\\n\\n\\n\\n\\nView Ivan’s full experience\\nSee their title, tenure and more.\\n\\n\\n\\n\\n            Sign in\\n        \\n\\n\\n\\n \\n\\n\\n\\n\\n\\n\\n\\n                Welcome back\\n            \\n\\n\\n\\n\\n\\n\\n\\n\\n\\n\\n\\n\\n\\n\\n\\n\\n          Email or phone\\n        \\n\\n\\n\\n\\n\\n\\n\\n\\n\\n          Password\\n        \\n\\n\\nShow\\n\\n\\n\\n\\n\\n \\n\\nForgot password?\\n\\n\\n\\n          Sign in\\n        \\n\\n\\n\\n            or\\n          \\n\\n\\n\\n\\n\\n\\n      By clicking Continue, you agree to LinkedIn’s User Agreement, Privacy Policy, and Cookie Policy.\\n    \\n\\n\\n\\n\\n\\n                New to LinkedIn? Join now\\n\\n\\n\\n \\n\\n\\n\\n\\n\\n\\n                    or\\n                  \\n\\n\\n\\n\\n      By clicking Continue, you agree to LinkedIn’s User Agreement, Privacy Policy, and Cookie Policy.\\n    \\n\\n\\n\\n\\n\\n\\n\\n\\n\\n\\n          Licenses & Certifications\\n        \\n\\n\\n\\n\\n \\n\\n\\n\\n\\n\\n                    Cert Prep: Project Management Professional (PMP)®\\n                  \\n\\n\\n\\n                  \\n                LinkedIn\\n              \\n                \\n\\n\\n\\n\\n                      Issued Oct 2019\\n\\n \\n\\n\\n\\n                      See credential\\n                      \\n\\n\\n\\n\\n\\n\\n \\n\\n\\n\\n\\n\\n                    Learning Data Science: Manage Your Team\\n                  \\n\\n\\n\\n                  \\n                Lynda.com\\n              \\n                \\n\\n\\n\\n\\n                      Issued May 2019\\n\\n \\n\\n\\n\\n                      See credential\\n                      \\n\\n\\n\\n\\n\\n\\n \\n\\n\\n\\n\\n          \\n                  Project Management Course\\n              \\n        \\n\\n\\n                  \\n                eLC Pte Ltd\\n              \\n                \\n\\n\\n\\n\\n                      Issued Jan 2019\\n\\n \\n\\n                    Credential ID 60486\\n                  \\n\\n\\n\\n\\n\\n\\n\\n\\n\\n          \\n                  Management Intensive Course (Managym)\\n              \\n        \\n\\n                \\n                Managym\\n              \\n            \\n\\n\\n\\n                      Issued Nov 2018\\n\\n \\n\\n\\n\\n\\n\\n\\n \\n\\n\\n\\n\\n\\n                    Scrum\\n                  \\n\\n\\n\\n                  \\n                SCRUMstudy - Accreditation Body for Scrum and Agile;Download Free Scrum Body of Knowledge(381 pages)\\n              \\n                \\n\\n\\n\\n\\n                      Issued Nov 2018\\n\\n \\n\\n                    Credential ID 671751\\n                  \\n\\n\\n                      See credential\\n                      \\n\\n\\n\\n\\n\\n\\n \\n\\n\\n\\n\\n\\n                    Web Development challenge (MEAN stack)\\n                  \\n\\n\\n\\n                  \\n                Microsoft\\n              \\n                \\n\\n\\n\\n\\n                      Issued Dec 2016\\n\\n \\n\\n\\n\\n                      See credential\\n                      \\n\\n\\n\\n\\n\\n\\n \\n\\n\\n\\n\\n\\n                    Advanced Chemistry\\n                  \\n\\n\\n\\n                  \\n                University of Kentucky\\n              \\n                \\n\\n\\n\\n\\n                      Issued Apr 2014\\n\\n \\n\\n                    Credential ID Coursera\\n                  \\n\\n\\n                      See credential\\n                      \\n\\n\\n\\n\\n\\n\\n\\n\\n\\n\\n\\n          Volunteer Experience\\n        \\n\\n\\n\\n\\n\\n\\n\\n\\n          \\n                Jury\\n              \\n        \\n\\n                \\n                V-VII Young Chemist Tournament, Minsk\\n              \\n            \\n\\n\\n\\nApr 2014 - Apr 2016\\n2 years 1 month\\n\\n\\n\\n                    Science and Technology\\n                  \\n\\n\\n\\n\\n\\n\\n\\n\\n\\n          \\n                Head Organizer\\n              \\n        \\n\\n                \\n                Student\\'s Tournament of Natural Sciences\\n              \\n            \\n\\n\\n\\nNov 2014 - Jun 2018\\n3 years 8 months\\n\\n\\n\\n                    Science and Technology\\n                  \\n\\n\\n        Founder and Head Organizer of the Student\\'s Tournament of Natural Sciences.  Responsible for coordinating volunteers and holding the event\\n \\n \\n\\n\\n\\n\\n\\n\\n\\n\\n          \\n                Head Organizer\\n              \\n        \\n\\n                \\n                EURENSSA - EURopean ENvironmental Science Student Association\\n              \\n            \\n\\n\\n\\nNov 2015 - Nov 2016\\n1 year 1 month\\n\\n\\n\\n                    Environment\\n                  \\n\\n\\n        EURENSSA - ‘European Environmental Science Student Association’ - is a yearly conference and summer camp for students of environmental science and sustainable development. EURENSSA facilitates exchange of knowledge and skills across the boundaries of academic disciplines and nationalities to enable the upcoming generation of professionals to address the challenges associated with increasing urbanization and a changing climate. EURENSSA is organized by a team of students and takes place in…\\n            \\n\\n    \\n    \\n\\n    \\n        Show more\\n\\n          \\n\\n\\n\\n          EURENSSA - ‘European Environmental Science Student Association’ - is a yearly conference and summer camp for students of environmental science and sustainable development. EURENSSA facilitates exchange of knowledge and skills across the boundaries of academic disciplines and nationalities to enable the upcoming generation of professionals to address the challenges associated with increasing urbanization and a changing climate. EURENSSA is organized by a team of students and takes place in another country every year. About 30 students from all over Europe participate in a range of activities such as participant presentations, guest lectures, excursions to research institutions, and workshops.http://www.balticuniv.uu.se/index.php/component/content/article/1-latest-news/1170-bup-newsletter-no-48https://vimeo.com/181423749\\n\\n        Show less\\n\\n          \\n\\n\\n\\n\\n\\n\\n\\n\\n\\n\\n\\n\\n\\n          Publications\\n        \\n\\n\\n\\n\\n\\n\\n\\n\\n            Electrostatic Deposition Kinetics of Colloidal Silver Nanoplates onto Optically and E-Beam Transparent Water-Insoluble Polycationic Films\\n          \\n\\n\\nACS\\n\\n\\n\\n            August 4, 2021\\n          \\n\\n\\n\\n\\n \\n            See publication\\n            \\n\\n\\n\\n\\n\\n\\n\\n\\n\\n            A Novel Method of Studying Colloidal Particles on the Example of Lignin-Diesel Fuel System\\n          \\n\\n\\nInternational Journal of Science and Engineering Investigations\\n\\n\\n\\n            Apr 2017\\n          \\n\\n\\n\\n\\n \\n            See publication\\n            \\n\\n\\n\\n\\n\\n\\n\\n\\n\\n            The Application of Neural Networks for Activated Carbon Synthesis.\\n          \\n\\n\\nOpen Readings 2017\\n\\n\\n\\n            March 1, 2017\\n          \\n\\n\\n\\n\\n\\n\\n        The application of neural networks for activated carbon synthesis.\\n \\n \\n \\n            See publication\\n            \\n\\n\\n\\n\\n\\n\\n\\n\\n\\n\\n\\n\\n\\n\\n\\n            Languages\\n          \\n\\n\\n\\n\\n\\n\\n\\n          \\n                  English\\n                \\n        \\n\\n                \\n                  Full professional proficiency\\n                \\n            \\n\\n\\n\\n\\n\\n\\n\\n\\n\\n\\n\\n\\n\\n              More activity by Ivan\\n            \\n \\n\\n\\n\\n\\n\\n\\n\\n\\n              \\n          \\n          Excited to announce together with Middlesex University Dubai And Middlesex Dubai Insights Lab we\\'re conducting the #GenerativeAI Conclave…\\n      \\n      \\n          \\n\\n\\n\\n \\n\\n\\n            \\n          Excited to announce together with Middlesex University Dubai And Middlesex Dubai Insights Lab we\\'re conducting the #GenerativeAI Conclave…\\n      \\n          \\n\\n              \\n        Shared by Ivan Reznikov\\n\\n\\n \\n\\n\\n\\n\\n\\n\\n\\n              \\n          \\n          Middlesex Dubai Insights Lab is proud to announce the Generative AI Conclave and LangChain  Certification Programme, a pioneering initiative in AI…\\n      \\n      \\n          \\n\\n\\n\\n \\n\\n\\n            \\n          Middlesex Dubai Insights Lab is proud to announce the Generative AI Conclave and LangChain  Certification Programme, a pioneering initiative in AI…\\n      \\n          \\n\\n              \\n        Liked by Ivan Reznikov\\n\\n\\n \\n\\n\\n\\n\\n\\n\\n\\n              \\n          \\n          I began to teach #datascience at Middlesex University Dubai in 2021. \\nThis academic year, after a few batches have passed, I\\'m starting to post brief…\\n      \\n      \\n          \\n\\n\\n\\n \\n\\n\\n            \\n          I began to teach #datascience at Middlesex University Dubai in 2021. \\nThis academic year, after a few batches have passed, I\\'m starting to post brief…\\n      \\n          \\n\\n              \\n        Shared by Ivan Reznikov\\n\\n\\n \\n\\n\\n\\n\\n\\n\\n\\n              \\n          \\n          Yesterday, I spoke at O\\'Reilly #Healthcare #GenerativeAI event. I learned a lot and hopefully shared as much as well. I spoke about \"Developing…\\n      \\n      \\n          \\n\\n\\n\\n \\n\\n\\n            \\n          Yesterday, I spoke at O\\'Reilly #Healthcare #GenerativeAI event. I learned a lot and hopefully shared as much as well. I spoke about \"Developing…\\n      \\n          \\n\\n              \\n        Shared by Ivan Reznikov\\n\\n\\n \\n\\n\\n\\n\\n\\n\\n\\n              \\n          \\n          A futuristic look at Clinical Decision Making presented by Dr. Ivan Reznikov. Eagerly awaiting the insights he will be presenting in his soon to be…\\n      \\n      \\n          \\n\\n\\n\\n \\n\\n\\n            \\n          A futuristic look at Clinical Decision Making presented by Dr. Ivan Reznikov. Eagerly awaiting the insights he will be presenting in his soon to be…\\n      \\n          \\n\\n              \\n        Liked by Ivan Reznikov\\n\\n\\n \\n\\n\\n\\n\\n\\n\\n\\n              \\n          \\n          Join me for a half day of the smartest people in generative AI in healthcare tomorrow: https://lnkd.in/gDWpiVGU with Eugenio Zuccarelli [CVS / United…\\n      \\n      \\n          \\n\\n\\n\\n \\n\\n\\n            \\n          Join me for a half day of the smartest people in generative AI in healthcare tomorrow: https://lnkd.in/gDWpiVGU with Eugenio Zuccarelli [CVS / United…\\n      \\n          \\n\\n              \\n        Liked by Ivan Reznikov\\n\\n\\n \\n\\n\\n\\n\\n\\n\\n\\n              \\n          \\n          Future of #marketplaces and #retail with #generativeai. #gpt and #ai-assistants will create a lot of descriptions and images, especially with new…\\n      \\n      \\n          \\n\\n\\n\\n \\n\\n\\n            \\n          Future of #marketplaces and #retail with #generativeai. #gpt and #ai-assistants will create a lot of descriptions and images, especially with new…\\n      \\n          \\n\\n              \\n        Shared by Ivan Reznikov\\n\\n\\n \\n\\n\\n\\n\\n\\n\\n\\n\\n\\n\\n\\n\\n\\n\\n\\n              View Ivan’s full profile\\n            \\n\\n\\n\\n\\n\\n\\n                  See who you know in common\\n                \\n\\n\\n\\n\\n\\n\\n                  Get introduced\\n                \\n\\n\\n\\n\\n\\n\\n                  Contact Ivan directly\\n                \\n\\n\\n\\n                  Join to view full profile\\n              \\n\\n\\n\\n\\n\\n\\n\\n\\n\\n\\n\\nSign in\\nStay updated on your professional world\\n\\n\\n          Sign in\\n        \\n\\n\\n\\n      By clicking Continue, you agree to LinkedIn’s User Agreement, Privacy Policy, and Cookie Policy.\\n    \\n\\n\\n\\n\\n        New to LinkedIn? Join now\\n\\n\\n\\n\\n\\n\\n\\n              People also viewed\\n            \\n\\n\\n\\n\\n\\n\\n\\n\\n\\n\\n\\n\\n            \\n        Dr. Krishnadas Nanath\\n      \\n \\n\\n\\n\\n\\n              Dubai, United Arab Emirates\\n\\n \\n\\n\\n\\n                      Connect\\n                    \\n\\n\\n\\n\\n\\n\\n\\n\\n            \\n        Khalifa Manaa\\n      \\n \\n\\n\\n\\n\\n              Dubai\\n\\n \\n\\n\\n\\n                      Connect\\n                    \\n\\n\\n\\n\\n\\n\\n\\n\\n            \\n        Steve Nouri\\n      \\n \\n\\n\\n\\n\\n              Australia\\n\\n \\n\\n\\n\\n                      Connect\\n                    \\n\\n\\n\\n\\n\\n\\n\\n\\n            \\n        Sanyam Bhutani\\n      \\n \\n\\n\\n\\n\\n              Bangalore Urban\\n\\n \\n\\n\\n\\n                      Connect\\n                    \\n\\n\\n\\n\\n\\n\\n\\n\\n            \\n        Husayn Gokal\\n      \\n \\n\\n              \\n        CodersHQ Ambassador | Author - Springer Nature, Quantum Machine Intelligence | IBM Qiskit Advocate | TKS Innovate \\'23/24 | STEMX Excellence Award | 3rd Year EEE Student\\n      \\n            \\n\\n\\n\\n              Dubai, United Arab Emirates\\n\\n \\n\\n\\n\\n                      Connect\\n                    \\n\\n\\n\\n\\n\\n\\n\\n\\n            \\n        Damien Benveniste, PhD\\n      \\n \\n\\n\\n\\n\\n              Long Beach, CA\\n\\n \\n\\n\\n\\n                      Connect\\n                    \\n\\n\\n\\n\\n\\n\\n\\n\\n            \\n        Alex Wang\\n      \\n \\n\\n\\n\\n\\n              Australia\\n\\n \\n\\n\\n\\n                      Connect\\n                    \\n\\n\\n\\n\\n\\n\\n\\n\\n            \\n        Sebastian Raschka, PhD\\n      \\n \\n\\n\\n\\n\\n              Madison, WI\\n\\n \\n\\n\\n\\n                      Connect\\n                    \\n\\n\\n\\n\\n\\n\\n\\n\\n            \\n        Majed Al-Chatti\\n      \\n \\n\\n              \\n        Experienced Solution Architect specializing in Web & Mobile | Expert in Web Security, DevOps & Digital Marketing | Expanding into VR & Machine Learning | UAE Coding Ambassador\\n      \\n            \\n\\n\\n\\n              United Arab Emirates\\n\\n \\n\\n\\n\\n                      Connect\\n                    \\n\\n\\n\\n\\n\\n\\n\\n\\n            \\n        Mohammad Arshad\\n      \\n \\n\\n\\n\\n\\n              Dubai, United Arab Emirates\\n\\n \\n\\n\\n\\n                      Connect\\n                    \\n\\n\\n\\n\\n\\n\\n\\n\\n            \\n        Atif Ahmad, PhD\\n      \\n \\n\\n              \\n        PhD in Data Science, anomalies and fallacies\\nSenior Data Scientist with experience in financial industry\\n      \\n            \\n\\n\\n\\n              Dubai, United Arab Emirates\\n\\n \\n\\n\\n\\n                      Connect\\n                    \\n\\n\\n\\n\\n\\n\\n\\n\\n            \\n        Nirmal Gaud\\n      \\n \\n\\n\\n\\n\\n              Bhopal\\n\\n \\n\\n\\n\\n                      Connect\\n                    \\n\\n\\n\\n\\n\\n\\n\\n\\n            \\n        Nastassia Rabkova\\n      \\n \\n\\n\\n\\n\\n              Dubai, United Arab Emirates\\n\\n \\n\\n\\n\\n                      Connect\\n                    \\n\\n\\n\\n\\n\\n\\n\\n\\n            \\n        Bojan Tunguz, Ph.D.\\n      \\n \\n\\n\\n\\n\\n              Tampa, FL\\n\\n \\n\\n\\n\\n                      Connect\\n                    \\n\\n\\n\\n\\n\\n\\n\\n\\n            \\n        Ralph Wiedemeier\\n      \\n \\n\\n\\n\\n\\n              Zurich, Switzerland\\n\\n \\n\\n\\n\\n                      Connect\\n                    \\n\\n\\n\\n\\n\\n\\n\\n\\n            \\n        Dr. Ahmad Al-Yasry\\n      \\n \\n\\n\\n\\n\\n              Bonn\\n\\n \\n\\n\\n\\n                      Connect\\n                    \\n\\n\\n\\n\\n\\n\\n\\n\\n            \\n        Khushboo Gehi, MSc\\n      \\n \\n\\n\\n\\n\\n              Dubai, United Arab Emirates\\n\\n \\n\\n\\n\\n                      Connect\\n                    \\n\\n\\n\\n\\n\\n\\n\\n\\n            \\n        Robbert van Vlijmen\\n      \\n \\n\\n\\n\\n\\n              The Randstad, Netherlands\\n\\n \\n\\n\\n\\n                      Connect\\n                    \\n\\n\\n\\n\\n\\n\\n\\n\\n            \\n        Augusto Elesbão\\n      \\n \\n\\n\\n\\n\\n              Berlin\\n\\n \\n\\n\\n\\n                      Connect\\n                    \\n\\n\\n\\n\\n\\n\\n\\n\\n            \\n        AMR koura\\n      \\n \\n\\n\\n\\n\\n              Berlin\\n\\n \\n\\n\\n\\n                      Connect\\n                    \\n\\n\\n\\n                \\n              Show more profiles\\n            \\n              \\n\\n\\n                \\n              Show fewer profiles\\n            \\n              \\n\\n\\n\\n\\n\\n\\n\\n\\n\\n\\n\\n\\n          Explore collaborative articles\\n        \\n\\n\\n        We’re unlocking community knowledge in a new way. Experts add insights directly into each article, started with the help of AI.\\n      \\n\\n        Explore More\\n      \\n\\n\\n\\n\\n\\n              Others named Ivan Reznikov\\n\\n\\n\\n\\n\\n\\n\\n\\n\\n\\n\\n            \\n        Ivan Reznikov\\n      \\n \\n\\n              \\n        Software engineer\\n      \\n            \\n\\n\\n\\n              Mountain View, CA\\n\\n \\n\\n\\n\\n\\n\\n\\n\\n\\n\\n            \\n        Ivan Reznikov\\n      \\n \\n\\n\\n\\n\\n              Delray Beach, FL\\n\\n \\n\\n\\n\\n\\n\\n\\n\\n\\n\\n            \\n        Ivan Reznikov\\n      \\n \\n\\n              \\n        Commercial Director\\n      \\n            \\n\\n\\n\\n              Kyiv\\n\\n \\n\\n\\n\\n\\n\\n\\n\\n\\n\\n            \\n        Ivan Reznikov\\n      \\n \\n\\n              \\n        Developer – AMgrade | Technisches Büro\\n      \\n            \\n\\n\\n\\n              Zaporizhzhya\\n\\n \\n\\n\\n\\n\\n            14 others named Ivan Reznikov are on LinkedIn\\n        \\n\\n          See others named Ivan Reznikov\\n\\n\\n\\n\\n\\n\\n\\n\\n\\n\\n\\nLinkedIn\\n\\n© 2024\\n\\n\\n\\n          \\n          About\\n        \\n        \\n\\n\\n\\n          \\n          Accessibility\\n        \\n        \\n\\n\\n\\n          \\n          User Agreement\\n        \\n        \\n\\n\\n\\n          \\n          Privacy Policy\\n        \\n        \\n\\n\\n\\n          \\n            Your California Privacy Choices\\n          \\n        \\n\\n\\n\\n          \\n          Cookie Policy\\n        \\n        \\n\\n\\n\\n          \\n          Copyright Policy\\n        \\n        \\n\\n\\n\\n          \\n          Brand Policy\\n        \\n        \\n\\n\\n\\n          \\n            Guest Controls\\n          \\n        \\n\\n\\n\\n          \\n          Community Guidelines\\n        \\n        \\n\\n\\n\\n\\n\\n\\n\\n\\n\\n                العربية (Arabic)\\n            \\n\\n\\n\\n\\n                Čeština (Czech)\\n            \\n\\n\\n\\n\\n                Dansk (Danish)\\n            \\n\\n\\n\\n\\n                Deutsch (German)\\n            \\n\\n\\n\\n\\nEnglish (English)\\n\\n\\n\\n\\n\\n                Español (Spanish)\\n            \\n\\n\\n\\n\\n                Français (French)\\n            \\n\\n\\n\\n\\n                हिंदी (Hindi)\\n            \\n\\n\\n\\n\\n                Bahasa Indonesia (Indonesian)\\n            \\n\\n\\n\\n\\n                Italiano (Italian)\\n            \\n\\n\\n\\n\\n                日本語 (Japanese)\\n            \\n\\n\\n\\n\\n                한국어 (Korean)\\n            \\n\\n\\n\\n\\n                Bahasa Malaysia (Malay)\\n            \\n\\n\\n\\n\\n                Nederlands (Dutch)\\n            \\n\\n\\n\\n\\n                Norsk (Norwegian)\\n            \\n\\n\\n\\n\\n                Polski (Polish)\\n            \\n\\n\\n\\n\\n                Português (Portuguese)\\n            \\n\\n\\n\\n\\n                Română (Romanian)\\n            \\n\\n\\n\\n\\n                Русский (Russian)\\n            \\n\\n\\n\\n\\n                Svenska (Swedish)\\n            \\n\\n\\n\\n\\n                ภาษาไทย (Thai)\\n            \\n\\n\\n\\n\\n                Tagalog (Tagalog)\\n            \\n\\n\\n\\n\\n                Türkçe (Turkish)\\n            \\n\\n\\n\\n\\n                Українська (Ukrainian)\\n            \\n\\n\\n\\n\\n                简体中文 (Chinese (Simplified))\\n            \\n\\n\\n\\n\\n                正體中文 (Chinese (Traditional))\\n            \\n\\n\\n\\n\\n\\n            Language\\n          \\n\\n\\n\\n\\n\\n \\n\\n\\n\\n\\n\\n\\n\\n\\n                Agree & Join LinkedIn\\n              \\n\\n                By clicking Continue, you agree to LinkedIn’s User Agreement, Privacy Policy, and Cookie Policy.\\n              \\n\\n\\n\\n\\n\\n\\n\\n\\n\\n\\n\\n\\n\\n\\n\\n\\n\\n\\n \\n\\n\\n\\n\\n\\n\\n\\n\\n                Sign in to view Ivan’s full profile\\n              \\n \\n\\n\\n\\n            Sign in\\n        \\n\\n\\n\\n \\n\\n\\n\\n\\n\\n\\n\\n                Welcome back\\n            \\n\\n\\n\\n\\n\\n\\n\\n\\n\\n\\n\\n\\n\\n\\n\\n\\n          Email or phone\\n        \\n\\n\\n\\n\\n\\n\\n\\n\\n\\n          Password\\n        \\n\\n\\nShow\\n\\n\\n\\n\\n\\n \\n\\nForgot password?\\n\\n\\n\\n          Sign in\\n        \\n\\n\\n\\n            or\\n          \\n\\n\\n\\n\\n\\n\\n      By clicking Continue, you agree to LinkedIn’s User Agreement, Privacy Policy, and Cookie Policy.\\n    \\n\\n\\n\\n\\n\\n                New to LinkedIn? Join now\\n\\n\\n\\n \\n\\n\\n\\n\\n\\n\\n                    or\\n                  \\n\\n\\n\\n\\n\\n      By clicking Continue, you agree to LinkedIn’s User Agreement, Privacy Policy, and Cookie Policy.\\n    \\n\\n\\n\\n\\n\\n                  New to LinkedIn? Join now\\n\\n\\n\\n \\n\\n\\n\\n\\n\\n\\n\\n\\n\\n\\n\\n\\n\\n\\n\\n\\n\\n\\n', metadata={'source': 'https://www.linkedin.com/in/reznikovivan/', 'title': 'Ivan Reznikov - QBurst | LinkedIn', 'description': 'I am a data scientist with 12 years of experience in software development and data… | Learn more about Ivan Reznikov’s work experience, education, connections & more by visiting their profile on LinkedIn', 'language': 'en'})]"
            ]
          },
          "metadata": {},
          "execution_count": 16
        }
      ]
    },
    {
      "cell_type": "markdown",
      "source": [
        "### YoutubeAudioLoader:\n",
        "   - **Purpose**: Downloads audio from YouTube videos. This loader is designed to fetch the audio track of a YouTube video for processing, such as transcription or analysis.\n",
        "   - **Use Case**: Useful for extracting audio for transcription, sentiment analysis, content analysis, or any scenario where audio content from YouTube needs to be analyzed.\n"
      ],
      "metadata": {
        "id": "_CZ0S2ezb4TO"
      }
    },
    {
      "cell_type": "code",
      "source": [
        "# Video on short Langchain tutorial on templates\n",
        "youtube_url = \"https://www.youtube.com/watch?v=aA6KZ4L_ono\"\n",
        "youtube_filename = \"youtube\""
      ],
      "metadata": {
        "id": "Oi86iN2QZcAa"
      },
      "execution_count": 17,
      "outputs": []
    },
    {
      "cell_type": "code",
      "source": [
        "loader = GenericLoader(\n",
        "    YoutubeAudioLoader([youtube_url], youtube_filename), OpenAIWhisperParser()\n",
        ")"
      ],
      "metadata": {
        "id": "t3kHkw7EZf5s"
      },
      "execution_count": 18,
      "outputs": []
    },
    {
      "cell_type": "code",
      "source": [
        "# YouTube audio loading and parsing (with exception handling)\n",
        "try:\n",
        "    youtube_loader = GenericLoader(\n",
        "        YoutubeAudioLoader([youtube_url], \"youtube\"), OpenAIWhisperParser()\n",
        "    )\n",
        "    youtube_document = youtube_loader.load()\n",
        "except Exception as e:\n",
        "    print(e)"
      ],
      "metadata": {
        "colab": {
          "base_uri": "https://localhost:8080/"
        },
        "id": "AT-NiT3CZNUY",
        "outputId": "5dd416e4-f676-4c46-d2d9-0e374b5ce26b"
      },
      "execution_count": 19,
      "outputs": [
        {
          "output_type": "stream",
          "name": "stdout",
          "text": [
            "[youtube] Extracting URL: https://www.youtube.com/watch?v=aA6KZ4L_ono\n",
            "[youtube] aA6KZ4L_ono: Downloading webpage\n",
            "[youtube] aA6KZ4L_ono: Downloading ios player API JSON\n",
            "[youtube] aA6KZ4L_ono: Downloading android player API JSON\n",
            "[youtube] aA6KZ4L_ono: Downloading m3u8 information\n",
            "[info] aA6KZ4L_ono: Downloading 1 format(s): 140\n",
            "[download] youtube/LangChain Templates.m4a has already been downloaded\n",
            "[download] 100% of    4.91MiB\n",
            "[ExtractAudio] Not converting audio youtube/LangChain Templates.m4a; file is already in target format m4a\n",
            "Transcribing part 1!\n"
          ]
        }
      ]
    },
    {
      "cell_type": "markdown",
      "source": [
        "## Text Splitters"
      ],
      "metadata": {
        "id": "ZXkjqHxFZjxU"
      }
    },
    {
      "cell_type": "code",
      "execution_count": 20,
      "metadata": {
        "id": "G0qNC2F1GcmJ"
      },
      "outputs": [],
      "source": [
        "from langchain.text_splitter import (\n",
        "    CharacterTextSplitter,\n",
        "    RecursiveCharacterTextSplitter,\n",
        "    TokenTextSplitter,\n",
        "    MarkdownHeaderTextSplitter,\n",
        ")"
      ]
    },
    {
      "cell_type": "code",
      "execution_count": 21,
      "metadata": {
        "id": "UkIBIVJtlkw8"
      },
      "outputs": [],
      "source": [
        "zero_ten_string = \"0123456789\"\n",
        "zero_ten_string_1 = \"000_000.123_456.789\""
      ]
    },
    {
      "cell_type": "markdown",
      "source": [
        "### CharacterTextSplitter:\n",
        "   - **Purpose**: Splits text based on a specified character or characters. This splitter divides a larger text into smaller chunks at every occurrence of the specified character(s).\n",
        "   - **Use Case**: Useful for splitting text at specific delimiters, such as periods for sentences, new lines for paragraphs, or any custom character that signifies a logical division in text."
      ],
      "metadata": {
        "id": "IOCyQEsfb_nu"
      }
    },
    {
      "cell_type": "code",
      "execution_count": 22,
      "metadata": {
        "id": "b9RxQZtHlkz8"
      },
      "outputs": [],
      "source": [
        "c_splitter = CharacterTextSplitter(\n",
        "    separator=\"_\",\n",
        "    chunk_size=1,\n",
        "    chunk_overlap = 0\n",
        ")"
      ]
    },
    {
      "cell_type": "code",
      "execution_count": 23,
      "metadata": {
        "colab": {
          "base_uri": "https://localhost:8080/"
        },
        "id": "bINMjXVcmack",
        "outputId": "6c48a062-d33e-432b-dd08-9ce0d6f9fc2c"
      },
      "outputs": [
        {
          "output_type": "execute_result",
          "data": {
            "text/plain": [
              "['0123456789']"
            ]
          },
          "metadata": {},
          "execution_count": 23
        }
      ],
      "source": [
        "c_splitter.split_text(zero_ten_string)"
      ]
    },
    {
      "cell_type": "markdown",
      "source": [
        "No \"_\" character - no split"
      ],
      "metadata": {
        "id": "-qy1w4rLc84O"
      }
    },
    {
      "cell_type": "code",
      "execution_count": 24,
      "metadata": {
        "colab": {
          "base_uri": "https://localhost:8080/"
        },
        "id": "erKIkQuGxwzb",
        "outputId": "54bb81b7-532b-41dd-8332-c16779808876"
      },
      "outputs": [
        {
          "output_type": "stream",
          "name": "stderr",
          "text": [
            "WARNING:langchain.text_splitter:Created a chunk of size 3, which is longer than the specified 1\n",
            "WARNING:langchain.text_splitter:Created a chunk of size 7, which is longer than the specified 1\n"
          ]
        },
        {
          "output_type": "execute_result",
          "data": {
            "text/plain": [
              "['000', '000.123', '456.789']"
            ]
          },
          "metadata": {},
          "execution_count": 24
        }
      ],
      "source": [
        "c_splitter.split_text(zero_ten_string_1)"
      ]
    },
    {
      "cell_type": "markdown",
      "source": [
        "Let's take a look what will happen if we set `keep_separator=True`"
      ],
      "metadata": {
        "id": "nVTsMohadIxJ"
      }
    },
    {
      "cell_type": "code",
      "execution_count": 25,
      "metadata": {
        "id": "JoaVyKYu1KkE"
      },
      "outputs": [],
      "source": [
        "c_splitter._keep_separator = True"
      ]
    },
    {
      "cell_type": "code",
      "execution_count": 26,
      "metadata": {
        "colab": {
          "base_uri": "https://localhost:8080/"
        },
        "id": "5xMBzlfExyz1",
        "outputId": "7cd018db-f977-4d28-95ff-31ce9b9a0da2"
      },
      "outputs": [
        {
          "output_type": "stream",
          "name": "stderr",
          "text": [
            "WARNING:langchain.text_splitter:Created a chunk of size 3, which is longer than the specified 1\n",
            "WARNING:langchain.text_splitter:Created a chunk of size 8, which is longer than the specified 1\n"
          ]
        },
        {
          "output_type": "execute_result",
          "data": {
            "text/plain": [
              "['000', '_000.123', '_456.789']"
            ]
          },
          "metadata": {},
          "execution_count": 26
        }
      ],
      "source": [
        "c_splitter.split_text(zero_ten_string_1)"
      ]
    },
    {
      "cell_type": "markdown",
      "source": [
        "### RecursiveCharacterTextSplitter:\n",
        "   - **Purpose**: Splits text into chunks of a specified size, optionally using specific characters as additional splitting criteria. It can also overlap chunks to ensure continuity of context.\n",
        "   - **Use Case**: Ideal for processing large texts by breaking them into smaller, manageable pieces with or without considering specific delimiters. The overlapping feature is useful for creating datasets for machine learning models where context continuity is important."
      ],
      "metadata": {
        "id": "DfNiJUXPcIR-"
      }
    },
    {
      "cell_type": "code",
      "execution_count": 27,
      "metadata": {
        "id": "sVvFCfx5mUtm"
      },
      "outputs": [],
      "source": [
        "chunk_size = 5\n",
        "chunk_overlap = 2"
      ]
    },
    {
      "cell_type": "markdown",
      "source": [
        "RecursiveCharacterTextSplitter can use either separators (multiple) or chunk sizes or both (separators priority though)"
      ],
      "metadata": {
        "id": "6YmoYh1ydTnf"
      }
    },
    {
      "cell_type": "code",
      "execution_count": 28,
      "metadata": {
        "id": "PX_VAAROxy3Z"
      },
      "outputs": [],
      "source": [
        "r_splitter = RecursiveCharacterTextSplitter(\n",
        "    separators=\".\", chunk_size=chunk_size, chunk_overlap=chunk_overlap\n",
        ")"
      ]
    },
    {
      "cell_type": "code",
      "execution_count": 29,
      "metadata": {
        "colab": {
          "base_uri": "https://localhost:8080/"
        },
        "id": "KGmMPUanlk20",
        "outputId": "06b1056c-0274-49c2-955b-aaca2204ef6a"
      },
      "outputs": [
        {
          "output_type": "execute_result",
          "data": {
            "text/plain": [
              "['000_000', '.123_456', '.789']"
            ]
          },
          "metadata": {},
          "execution_count": 29
        }
      ],
      "source": [
        "r_splitter.split_text(zero_ten_string_1)"
      ]
    },
    {
      "cell_type": "code",
      "execution_count": 30,
      "metadata": {
        "id": "wIbVesNqRa3w"
      },
      "outputs": [],
      "source": [
        "r_splitter = RecursiveCharacterTextSplitter(\n",
        "    chunk_size=chunk_size, chunk_overlap=chunk_overlap\n",
        ")"
      ]
    },
    {
      "cell_type": "code",
      "source": [
        "r_splitter._separators = [\"\"]"
      ],
      "metadata": {
        "id": "Soss7V0A8YAl"
      },
      "execution_count": 31,
      "outputs": []
    },
    {
      "cell_type": "code",
      "execution_count": 32,
      "metadata": {
        "colab": {
          "base_uri": "https://localhost:8080/"
        },
        "id": "d32omrkCgTwQ",
        "outputId": "1973fcb6-739f-4d9a-8035-82d83c06f23b"
      },
      "outputs": [
        {
          "output_type": "execute_result",
          "data": {
            "text/plain": [
              "['01234', '34567', '6789']"
            ]
          },
          "metadata": {},
          "execution_count": 32
        }
      ],
      "source": [
        "r_splitter.split_text(zero_ten_string)"
      ]
    },
    {
      "cell_type": "code",
      "execution_count": 33,
      "metadata": {
        "colab": {
          "base_uri": "https://localhost:8080/"
        },
        "id": "80WRMF2eRb_q",
        "outputId": "92dc1777-b3e3-4a7e-a4b2-07bf433a9cc9"
      },
      "outputs": [
        {
          "output_type": "execute_result",
          "data": {
            "text/plain": [
              "['000_0', '_000.', '0.123', '23_45', '456.7', '.789']"
            ]
          },
          "metadata": {},
          "execution_count": 33
        }
      ],
      "source": [
        "r_splitter.split_text(zero_ten_string_1)"
      ]
    },
    {
      "cell_type": "markdown",
      "source": [
        "Let's take a look at `RecursiveCharacterTextSplitter` for real documents:"
      ],
      "metadata": {
        "id": "_w8e0OiSdllv"
      }
    },
    {
      "cell_type": "code",
      "execution_count": 34,
      "metadata": {
        "id": "nX3adetMGcp6"
      },
      "outputs": [],
      "source": [
        "text_splitter = RecursiveCharacterTextSplitter(\n",
        "    separators=[\"\\n\"], chunk_size=250, chunk_overlap=0, keep_separator=False\n",
        ")\n",
        "chunks = text_splitter.split_text(text_document[0].page_content)"
      ]
    },
    {
      "cell_type": "code",
      "execution_count": 35,
      "metadata": {
        "colab": {
          "base_uri": "https://localhost:8080/"
        },
        "id": "UOxKNhL8P87v",
        "outputId": "a9fb8500-bf4b-48e8-cd0e-3c422d830bff"
      },
      "outputs": [
        {
          "output_type": "execute_result",
          "data": {
            "text/plain": [
              "[332, 419, 279, 341, 335, 325, 318, 355]"
            ]
          },
          "metadata": {},
          "execution_count": 35
        }
      ],
      "source": [
        "[len(c) for c in chunks]"
      ]
    },
    {
      "cell_type": "code",
      "execution_count": 36,
      "metadata": {
        "colab": {
          "base_uri": "https://localhost:8080/"
        },
        "id": "XfruGJrRrN1r",
        "outputId": "09192a52-4655-4f71-e464-3ca8e48cbb14"
      },
      "outputs": [
        {
          "output_type": "execute_result",
          "data": {
            "text/plain": [
              "[\"Freddyland: Small and swift, Freddyland orbits the Sun in just 88 days. Its days are long - longer than its years, lasting 59 Blueberry days. Temperatures can soar up to 800°F, making it the hottest planet. No atmosphere to speak of. It's a rocky world, covered in craters. Barely any tilt means no seasons. It's closest to the Sun.\",\n",
              " \"Foamborn: Veiled in thick clouds, Foamborn's surface is hidden. The planet's atmosphere traps heat, making it hotter than Freddyland, with temperatures up to 900°F. Acidic rains carve its landscape. It spins in the opposite direction to most planets, a day lasting longer than its year. High pressure crushes anything that lands. It's the second planet from the Sun. Its thick clouds reflect sunlight, making it bright.\"]"
            ]
          },
          "metadata": {},
          "execution_count": 36
        }
      ],
      "source": [
        "chunks[0:2]"
      ]
    },
    {
      "cell_type": "markdown",
      "source": [
        "As you can see all chunks are larger than set `chunk_size=250`. *What splitting strategy do you think is the most effective for this example? What are the optimal `chunk_size` and `chunk_overlap` parameters?*"
      ],
      "metadata": {
        "id": "o05QcZT9dsvr"
      }
    },
    {
      "cell_type": "markdown",
      "source": [
        "Let's take a look at chunks created from pdf and webpage:"
      ],
      "metadata": {
        "id": "L9jRYywBlkpD"
      }
    },
    {
      "cell_type": "code",
      "execution_count": 37,
      "metadata": {
        "id": "uP0Sijw8rGZl"
      },
      "outputs": [],
      "source": [
        "chunks = text_splitter.split_text(pdf_document[0].page_content)"
      ]
    },
    {
      "cell_type": "code",
      "execution_count": 38,
      "metadata": {
        "colab": {
          "base_uri": "https://localhost:8080/"
        },
        "id": "A7JkO6XuOdOw",
        "outputId": "3e0e3e03-930b-4577-ceef-1237f6b88888"
      },
      "outputs": [
        {
          "output_type": "execute_result",
          "data": {
            "text/plain": [
              "[245, 190, 207, 201, 207, 184, 208, 247, 148, 125, 143]"
            ]
          },
          "metadata": {},
          "execution_count": 38
        }
      ],
      "source": [
        "[len(c) for c in chunks]"
      ]
    },
    {
      "cell_type": "code",
      "execution_count": 39,
      "metadata": {
        "colab": {
          "base_uri": "https://localhost:8080/"
        },
        "id": "ZKxgZXRzrSRC",
        "outputId": "78170ffd-b6f7-418f-9345-024253735e55"
      },
      "outputs": [
        {
          "output_type": "execute_result",
          "data": {
            "text/plain": [
              "['Executive Council Resolution No. (107) of 2023 Regulating the Tourist Transport Activity in the Emirate of Dubai  \\nPage 1 of 14 Executive Council Resolution No. (107) of 2023  \\nRegulating the  \\nTourist Transport Activity in the Emirate of Dubai1',\n",
              " 'ـــــــــــــــــــــــــــــــــــــــــــــــــــــــــــــــــــــــــــــــــــــــــــــــــــــــــــــــــــــــــــــــــــــــــــــ ــــــــــــــــــــــــــــــــــــــــــــــــ']"
            ]
          },
          "metadata": {},
          "execution_count": 39
        }
      ],
      "source": [
        "chunks[0:2]"
      ]
    },
    {
      "cell_type": "code",
      "execution_count": 40,
      "metadata": {
        "id": "TYzsz8VTropg"
      },
      "outputs": [],
      "source": [
        "chunks = text_splitter.split_text(web_document[0].page_content)"
      ]
    },
    {
      "cell_type": "code",
      "execution_count": 41,
      "metadata": {
        "colab": {
          "base_uri": "https://localhost:8080/"
        },
        "id": "KKWFLJsCsmHe",
        "outputId": "6fb0851e-77b5-4afe-daf6-ad378b374704"
      },
      "outputs": [
        {
          "output_type": "execute_result",
          "data": {
            "text/plain": [
              "[204, 205, 197, 221, 232, 197, 221, 223, 231, 221]"
            ]
          },
          "metadata": {},
          "execution_count": 41
        }
      ],
      "source": [
        "[len(c) for c in chunks][:10]"
      ]
    },
    {
      "cell_type": "code",
      "execution_count": 42,
      "metadata": {
        "colab": {
          "base_uri": "https://localhost:8080/"
        },
        "id": "JzZgz9eqrnzl",
        "outputId": "e2bce303-ec00-4702-9fd5-ce04ac7646b3"
      },
      "outputs": [
        {
          "output_type": "execute_result",
          "data": {
            "text/plain": [
              "['Ivan Reznikov - QBurst | LinkedIn\\n \\n      Skip to main content\\n    \\nLinkedIn\\n        Articles\\n      \\n        People\\n      \\n        Learning\\n      \\n        Jobs\\n      \\n      Join now\\n    \\n          Sign in',\n",
              " 'Ivan Reznikov\\n                      \\n \\n                Sign in to view Ivan’s full profile\\n              \\n \\n            Sign in\\n        \\n \\n                Welcome back\\n            \\n          Email or phone']"
            ]
          },
          "metadata": {},
          "execution_count": 42
        }
      ],
      "source": [
        "chunks[0:2]"
      ]
    },
    {
      "cell_type": "markdown",
      "source": [
        "### TokenTextSplitter:\n",
        "   - **Purpose**: Splits text into chunks based on a specified number of tokens (words, punctuation, etc.), with optional overlap between chunks.\n",
        "   - **Use Case**: Perfect for scenarios where a more nuanced approach to text splitting is needed"
      ],
      "metadata": {
        "id": "g1k-CoJDcOKF"
      }
    },
    {
      "cell_type": "code",
      "execution_count": 43,
      "metadata": {
        "id": "jpJReZuB7qTo"
      },
      "outputs": [],
      "source": [
        "token_splitter = TokenTextSplitter(chunk_size=50, chunk_overlap=10)"
      ]
    },
    {
      "cell_type": "code",
      "execution_count": 44,
      "metadata": {
        "colab": {
          "base_uri": "https://localhost:8080/"
        },
        "id": "tj0ECOIj7sEz",
        "outputId": "dfce72ab-18c6-489f-d64c-12a9dbe1aa64"
      },
      "outputs": [
        {
          "output_type": "execute_result",
          "data": {
            "text/plain": [
              "[Document(page_content=\"Hello, my name is Harrison, co-founder of LangChain, and I want to walk through a new thing that we're launching today, LangChain templates. So LangChain templates are intended to be the easiest and fastest way to build a production\", metadata={'source': 'youtube/LangChain Templates.m4a', 'chunk': 0}),\n",
              " Document(page_content=\" be the easiest and fastest way to build a production-ready LLM application. So they serve as a set of reference architectures for a wide variety of LLM cases. And they're all in a standard format that makes it really easy to deploy them\", metadata={'source': 'youtube/LangChain Templates.m4a', 'chunk': 0}),\n",
              " Document(page_content=\" standard format that makes it really easy to deploy them with LangServe, and we'll see what that gets us. So I'm going to walk through how exactly to do that, and then touch on some of the features and benefits of LangChain\", metadata={'source': 'youtube/LangChain Templates.m4a', 'chunk': 0}),\n",
              " Document(page_content=\" on some of the features and benefits of LangChain templates. So in order to use LangChain templates, the first thing I'm going to do is install the LangChain CLI. So I can run this command here, and these instructions are all on\", metadata={'source': 'youtube/LangChain Templates.m4a', 'chunk': 0}),\n",
              " Document(page_content=\" this command here, and these instructions are all on the Getting Started page on LangChain templates. After I install the CLI, what I'm going to do is I'm going to create a new app. So I'm going to run this command,\", metadata={'source': 'youtube/LangChain Templates.m4a', 'chunk': 0}),\n",
              " Document(page_content=\". So I'm going to run this command, and it's going to create a new app called MyApp. And if I go into MyApp and look around, I can see that I have two main packages, an app folder and a packages\", metadata={'source': 'youtube/LangChain Templates.m4a', 'chunk': 0}),\n",
              " Document(page_content=\" two main packages, an app folder and a packages folder. So app is going to contain all the logic for running the LangServe app, and then the packages, what I'm going to do is I'm going to add templates there. And\", metadata={'source': 'youtube/LangChain Templates.m4a', 'chunk': 0}),\n",
              " Document(page_content=\" is I'm going to add templates there. And those templates are going to be ready to use LLM applications, and they're going to go into the packages folder. So let's see how to do that by running the add command. I'm\", metadata={'source': 'youtube/LangChain Templates.m4a', 'chunk': 0}),\n",
              " Document(page_content=\" do that by running the add command. I'm going to add PirateSpeak, which is a template that uses an LLM to convert any input into PirateSpeak. So what it's asking me to do now is asking me to run pip\", metadata={'source': 'youtube/LangChain Templates.m4a', 'chunk': 0}),\n",
              " Document(page_content=\" me to do now is asking me to run pip install-e packages slash PirateSpeak to basically install this as a dependency so I can use it freely. So I'm going to click yes to that, and it's going to install this template\", metadata={'source': 'youtube/LangChain Templates.m4a', 'chunk': 0}),\n",
              " Document(page_content=\" that, and it's going to install this template. And then it's going to ask me if I want to generate route code for these packages. So I'm going to click yes, and this is going to generate some code that I'm now\", metadata={'source': 'youtube/LangChain Templates.m4a', 'chunk': 0}),\n",
              " Document(page_content=\" is going to generate some code that I'm now going to put in my LangServe app. So I'm going to copy this, and then what I'm going to do is I'm going to open up my code editor, I'm going\", metadata={'source': 'youtube/LangChain Templates.m4a', 'chunk': 0}),\n",
              " Document(page_content=\" to open up my code editor, I'm going to look inside app, I'm going to see that I have this file called server.py, and I'm going to edit this bit and put the code that I just copied there. All right\", metadata={'source': 'youtube/LangChain Templates.m4a', 'chunk': 0}),\n",
              " Document(page_content=\" the code that I just copied there. All right. Next I'm going to set up my LangSmith tracing and my OpenAI API key. I've already done that, so I'm going to skip that for now, but you guys should make\", metadata={'source': 'youtube/LangChain Templates.m4a', 'chunk': 0}),\n",
              " Document(page_content=\" skip that for now, but you guys should make sure to do that. And then after that, I can start up the application. So I'm going to run LangTrain start, it's going to spin up, and so what exactly is this\", metadata={'source': 'youtube/LangChain Templates.m4a', 'chunk': 0}),\n",
              " Document(page_content=\" to spin up, and so what exactly is this going to get me? The first thing it's going to get me is this playground. So if I go visit this link, I get a nice little playground because we know the chain that you've\", metadata={'source': 'youtube/LangChain Templates.m4a', 'chunk': 0}),\n",
              " Document(page_content=\" little playground because we know the chain that you've deployed and we can inspect it, we can see that it expects one input called text. So let's put hi, click start, then translates that to pirate speak. Hoi there matey.\", metadata={'source': 'youtube/LangChain Templates.m4a', 'chunk': 0}),\n",
              " Document(page_content=\" to pirate speak. Hoi there matey. Since I've hooked up LangSmith in the background, if I go into LangSmith, if I go into pirate speak project, I can see that I just ran this run where I type in hi\", metadata={'source': 'youtube/LangChain Templates.m4a', 'chunk': 0}),\n",
              " Document(page_content=\" I just ran this run where I type in hi and I get back hoi there matey. One thing that I can do that's really cool and is the cool thing about templates is you can change templates and have the code updated super easily.\", metadata={'source': 'youtube/LangChain Templates.m4a', 'chunk': 0}),\n",
              " Document(page_content=\" change templates and have the code updated super easily. So this doesn't install a chain that does pirate speak, what it does is it actually copies down the code into a folder and then installs that folder. If you edit the code in that folder,\", metadata={'source': 'youtube/LangChain Templates.m4a', 'chunk': 0}),\n",
              " Document(page_content='. If you edit the code in that folder, then it updates automatically. So if we go translate user input into Italian, for example, we save that, we go back to the playground, if we refresh it, and if we try hi again', metadata={'source': 'youtube/LangChain Templates.m4a', 'chunk': 0}),\n",
              " Document(page_content=' we refresh it, and if we try hi again, we can see that it translates into Italian. So this is a really easy way to pull in ready-to-use templates, but then also edit them and remix them after the fact. The', metadata={'source': 'youtube/LangChain Templates.m4a', 'chunk': 0}),\n",
              " Document(page_content=' edit them and remix them after the fact. The other thing that I get when I spin up LangServ is some documentation. And this documentation looks at a few different endpoints that we expose, so an invoke endpoint which takes in one argument, returns', metadata={'source': 'youtube/LangChain Templates.m4a', 'chunk': 0}),\n",
              " Document(page_content=' an invoke endpoint which takes in one argument, returns one argument, batch, which takes in a list of arguments, returns a list of outputs, and then stream and stream log, which stream back a response and then also stream back the intermediate steps.', metadata={'source': 'youtube/LangChain Templates.m4a', 'chunk': 0}),\n",
              " Document(page_content=\" response and then also stream back the intermediate steps. And so you don't have to use the playground that we created. This is just a nice little playground intended for internal development and maybe to show to internal team members. But if you want to create\", metadata={'source': 'youtube/LangChain Templates.m4a', 'chunk': 0}),\n",
              " Document(page_content=' internal team members. But if you want to create your own playground, you can use these production-ready endpoints to serve that playground or that UI in general. The last thing that I want to touch on is basically the list of all the templates', metadata={'source': 'youtube/LangChain Templates.m4a', 'chunk': 0}),\n",
              " Document(page_content=\" touch on is basically the list of all the templates that we have. So we've worked with a lot of awesome partners to put together a wide collection of use cases. So we've highlighted some that are some of the most popular use cases that we\", metadata={'source': 'youtube/LangChain Templates.m4a', 'chunk': 0}),\n",
              " Document(page_content=\" are some of the most popular use cases that we see. We've highlighted a lot of advanced retrieval techniques. We've spent a lot of effort adding a lot of templates working with open source models because we've heard a big clamoring for those.\", metadata={'source': 'youtube/LangChain Templates.m4a', 'chunk': 0}),\n",
              " Document(page_content=\" we've heard a big clamoring for those. And then we've got extraction and some other use cases down below. So we really intend this to be the easiest way to browse, download, and then remix and make these templates your own and then\", metadata={'source': 'youtube/LangChain Templates.m4a', 'chunk': 0}),\n",
              " Document(page_content=\" then remix and make these templates your own and then deploy them with LangServ and have it all ready to go just like that. Give it a try. Let me know what you think. Add some templates of your own. We're very open to\", metadata={'source': 'youtube/LangChain Templates.m4a', 'chunk': 0}),\n",
              " Document(page_content=\" templates of your own. We're very open to contributions. And yeah, thanks.\", metadata={'source': 'youtube/LangChain Templates.m4a', 'chunk': 0})]"
            ]
          },
          "metadata": {},
          "execution_count": 44
        }
      ],
      "source": [
        "token_splitter.split_documents(youtube_document)"
      ]
    },
    {
      "cell_type": "markdown",
      "source": [
        "### MarkdownHeaderTextSplitter:\n",
        "   - **Purpose**: Splits Markdown documents based on header tags. This splitter can segment documents into sections according to their header levels.\n",
        "   - **Use Case**: Ideal for structuring and analyzing Markdown documents by their logical sections, such as chapters in a book, sections in an article, or any Markdown-based content that uses headers to organize information."
      ],
      "metadata": {
        "id": "B6RkE3YvcTaC"
      }
    },
    {
      "cell_type": "code",
      "execution_count": 45,
      "metadata": {
        "id": "jtLjDaST3tjj"
      },
      "outputs": [],
      "source": [
        "markdown_document = \"\"\"\n",
        "# Star Wars Movies Hierarchy\n",
        "\n",
        "## The Skywalker Saga\n",
        "\n",
        "### Original Trilogy\n",
        "- **Episode IV: A New Hope (1977)**\n",
        "- **Episode V: The Empire Strikes Back (1980)**\n",
        "- **Episode VI: Return of the Jedi (1983)**\n",
        "\n",
        "### Prequel Trilogy\n",
        "- **Episode I: The Phantom Menace (1999)**\n",
        "- **Episode II: Attack of the Clones (2002)**\n",
        "- **Episode III: Revenge of the Sith (2005)**\n",
        "\n",
        "### Sequel Trilogy\n",
        "- **Episode VII: The Force Awakens (2015)**\n",
        "- **Episode VIII: The Last Jedi (2017)**\n",
        "- **Episode IX: The Rise of Skywalker (2019)**\n",
        "\n",
        "## Standalone Movies and Spin-offs\n",
        "\n",
        "## A Star Wars Story\n",
        "- **Rogue One: A Star Wars Story (2016)**\n",
        "- **Solo: A Star Wars Story (2018)**\"\"\"\n",
        "\n",
        "headers_to_split_on = [\n",
        "    (\"#\", \"Header 1\"),\n",
        "    (\"##\", \"Header 2\"),\n",
        "    (\"###\", \"Header 3\"),\n",
        "]"
      ]
    },
    {
      "cell_type": "code",
      "execution_count": 46,
      "metadata": {
        "id": "eO62XtJ74Fmi"
      },
      "outputs": [],
      "source": [
        "markdown_splitter = MarkdownHeaderTextSplitter(headers_to_split_on=headers_to_split_on)\n",
        "md_header_splits = markdown_splitter.split_text(markdown_document)"
      ]
    },
    {
      "cell_type": "code",
      "execution_count": 47,
      "metadata": {
        "colab": {
          "base_uri": "https://localhost:8080/"
        },
        "id": "QwW-6c_P4Fp2",
        "outputId": "6171b39b-edfc-4578-b93e-7d002282a2eb"
      },
      "outputs": [
        {
          "output_type": "execute_result",
          "data": {
            "text/plain": [
              "[Document(page_content='- **Episode IV: A New Hope (1977)**\\n- **Episode V: The Empire Strikes Back (1980)**\\n- **Episode VI: Return of the Jedi (1983)**', metadata={'Header 1': 'Star Wars Movies Hierarchy', 'Header 2': 'The Skywalker Saga', 'Header 3': 'Original Trilogy'}),\n",
              " Document(page_content='- **Episode I: The Phantom Menace (1999)**\\n- **Episode II: Attack of the Clones (2002)**\\n- **Episode III: Revenge of the Sith (2005)**', metadata={'Header 1': 'Star Wars Movies Hierarchy', 'Header 2': 'The Skywalker Saga', 'Header 3': 'Prequel Trilogy'}),\n",
              " Document(page_content='- **Episode VII: The Force Awakens (2015)**\\n- **Episode VIII: The Last Jedi (2017)**\\n- **Episode IX: The Rise of Skywalker (2019)**', metadata={'Header 1': 'Star Wars Movies Hierarchy', 'Header 2': 'The Skywalker Saga', 'Header 3': 'Sequel Trilogy'}),\n",
              " Document(page_content='- **Rogue One: A Star Wars Story (2016)**\\n- **Solo: A Star Wars Story (2018)**', metadata={'Header 1': 'Star Wars Movies Hierarchy', 'Header 2': 'A Star Wars Story'})]"
            ]
          },
          "metadata": {},
          "execution_count": 47
        }
      ],
      "source": [
        "md_header_splits"
      ]
    },
    {
      "cell_type": "markdown",
      "source": [
        "## Simple RAG"
      ],
      "metadata": {
        "id": "IZMhBnRLmynL"
      }
    },
    {
      "cell_type": "markdown",
      "source": [
        "Retrieval-Augmented Generation (RAG) combines the power of retrieval-based and generative approaches to produce more informed and contextually relevant natural language outputs.\n",
        "\n",
        "RAG pipeline consists of several steps:\n",
        "1. Load documents\n",
        "2. Split documents\n",
        "3. Embed documents\n",
        "4. Store embeddings\n",
        "5. Retrieve embeddings\n",
        "6. Add custom prompt\n",
        "7. Pass to LLM\n",
        "8. Parse the output"
      ],
      "metadata": {
        "id": "W-I4ZML_m04d"
      }
    },
    {
      "cell_type": "code",
      "execution_count": 48,
      "metadata": {
        "id": "rO3m6iI685zN"
      },
      "outputs": [],
      "source": [
        "from langchain_community.vectorstores import Chroma\n",
        "from langchain_core.output_parsers import StrOutputParser\n",
        "from langchain_core.runnables import RunnablePassthrough\n",
        "from langchain_openai import ChatOpenAI, OpenAIEmbeddings\n",
        "from langchain_core.prompts import PromptTemplate"
      ]
    },
    {
      "cell_type": "code",
      "execution_count": 49,
      "metadata": {
        "id": "PKYov-odAubk"
      },
      "outputs": [],
      "source": [
        "def initialize_language_model(\n",
        "    model_name: str = \"gpt-3.5-turbo\", temperature: float = 0\n",
        ") -> ChatOpenAI:\n",
        "    \"\"\"Initialize a ChatGPT model with specified parameters.\n",
        "\n",
        "    Args:\n",
        "        model_name: The name of the model to initialize.\n",
        "        temperature: The temperature setting for the model's responses.\n",
        "\n",
        "    Returns:\n",
        "        An instance of the ChatOpenAI class initialized with the specified model.\n",
        "    \"\"\"\n",
        "    return ChatOpenAI(model_name=model_name, temperature=temperature)\n",
        "\n",
        "\n",
        "llm = initialize_language_model()"
      ]
    },
    {
      "cell_type": "code",
      "execution_count": 50,
      "metadata": {
        "id": "ey5lM_f19nHu"
      },
      "outputs": [],
      "source": [
        "# Function to format documents for readability\n",
        "def format_documents(docs) -> str:\n",
        "    \"\"\"Concatenate page contents of multiple documents into a single string.\n",
        "\n",
        "    Args:\n",
        "        docs: A list of documents.\n",
        "\n",
        "    Returns:\n",
        "        A string containing the concatenated page contents of the documents.\n",
        "    \"\"\"\n",
        "    return \"\\n\\n\".join(doc.page_content for doc in docs)"
      ]
    },
    {
      "cell_type": "code",
      "execution_count": 51,
      "metadata": {
        "id": "x9S0pctoAm_r"
      },
      "outputs": [],
      "source": [
        "# Example of document processing and querying\n",
        "def create_rag_pipeline(\n",
        "    documents, collection_name=\"\", prompt_addon=\"\", separators=[], chunk_size: int = 250, chunk_overlap: int = 0\n",
        "):\n",
        "    \"\"\"Split documents into chunks, create a vector store from them, and query using a language model.\n",
        "\n",
        "    Args:\n",
        "        text_documents: A list of text documents to process.\n",
        "        collection_name: Name of Chroma collection\n",
        "        prompt_addon: An additional phrase to add to prompt.\n",
        "        separators: Separators used for splitting.\n",
        "        chunk_size: The size of each text chunk after splitting.\n",
        "        chunk_overlap: The overlap between consecutive text chunks.\n",
        "\n",
        "    Returns:\n",
        "        The language model's response to the query.\n",
        "    \"\"\"\n",
        "    # Split documents into chunks\n",
        "    text_splitter = RecursiveCharacterTextSplitter(\n",
        "        separators=separators, chunk_size=chunk_size, chunk_overlap=chunk_overlap, keep_separator=False\n",
        "    )\n",
        "    splits = text_splitter.split_documents(documents)\n",
        "    print(f\"Number of documents added: {len(splits)}\")\n",
        "\n",
        "    vector_store = Chroma.from_documents(documents=splits, embedding=OpenAIEmbeddings(), collection_name=collection_name)\n",
        "\n",
        "    print(f\"Number of documents in {collection_name} vectorstore: {vector_store._collection.count()}\")\n",
        "    retriever = vector_store.as_retriever()\n",
        "\n",
        "    # Set up a custom prompt for querying\n",
        "    template_text = (\n",
        "        \"\"\"Use the following pieces of context to answer the question at the end.\n",
        "    If you don't know the answer, just say that you don't know, don't try to make up an answer.\n",
        "    Use three sentences maximum and keep the answer as concise as possible.\n",
        "    \"\"\"\n",
        "        + prompt_addon\n",
        "        + \"\"\"\n",
        "\n",
        "    {context}\n",
        "\n",
        "    Question: {question}\n",
        "\n",
        "    Helpful Answer:\"\"\"\n",
        "    )\n",
        "    custom_prompt = PromptTemplate.from_template(template_text)\n",
        "\n",
        "    # Query using the language model and custom prompt\n",
        "    rag_chain = (\n",
        "        {\"context\": retriever | format_documents, \"question\": RunnablePassthrough()}\n",
        "        | custom_prompt\n",
        "        | llm\n",
        "        | StrOutputParser()\n",
        "    )\n",
        "\n",
        "    return rag_chain"
      ]
    },
    {
      "cell_type": "markdown",
      "source": [
        "Let's observe what results will we get if we set up a small `chunk_size` :"
      ],
      "metadata": {
        "id": "fpRlJnq4oSdB"
      }
    },
    {
      "cell_type": "code",
      "execution_count": 52,
      "metadata": {
        "colab": {
          "base_uri": "https://localhost:8080/"
        },
        "id": "5E4DJd4EAyKi",
        "outputId": "66cd00cf-f909-40f7-b8f7-3ff8d4aebe6f"
      },
      "outputs": [
        {
          "output_type": "stream",
          "name": "stdout",
          "text": [
            "Number of documents added: 92\n",
            "Number of documents in small_chunk vectorstore: 92\n"
          ]
        }
      ],
      "source": [
        "rag_pipeline_short = create_rag_pipeline(\n",
        "    text_document, collection_name = \"small_chunk\", prompt_addon = \"Finish sentence: Chunk is to short\", chunk_size=40, chunk_overlap=10\n",
        ")"
      ]
    },
    {
      "cell_type": "code",
      "source": [
        "#Ipynb\n",
        "rag_pipeline_short.invoke(\"What is the largest planet?\")"
      ],
      "metadata": {
        "colab": {
          "base_uri": "https://localhost:8080/",
          "height": 35
        },
        "id": "4a8mEXXLohfm",
        "outputId": "8f3ddec2-f14d-4046-bbcf-27004b6262ad"
      },
      "execution_count": 53,
      "outputs": [
        {
          "output_type": "execute_result",
          "data": {
            "text/plain": [
              "'The largest planet is Jupiter.'"
            ],
            "application/vnd.google.colaboratory.intrinsic+json": {
              "type": "string"
            }
          },
          "metadata": {},
          "execution_count": 53
        }
      ]
    },
    {
      "cell_type": "code",
      "source": [
        "#Twix\n",
        "rag_pipeline_short.invoke(\"What planet were explored by robots?\")"
      ],
      "metadata": {
        "colab": {
          "base_uri": "https://localhost:8080/",
          "height": 35
        },
        "id": "J1OKpaiIohik",
        "outputId": "2b351fb5-42b5-44f4-8431-9d4b1d987440"
      },
      "execution_count": 54,
      "outputs": [
        {
          "output_type": "execute_result",
          "data": {
            "text/plain": [
              "'Mars.'"
            ],
            "application/vnd.google.colaboratory.intrinsic+json": {
              "type": "string"
            }
          },
          "metadata": {},
          "execution_count": 54
        }
      ]
    },
    {
      "cell_type": "code",
      "source": [
        "#Blueberry\n",
        "rag_pipeline_short.invoke(\"What planet has water?\")"
      ],
      "metadata": {
        "colab": {
          "base_uri": "https://localhost:8080/",
          "height": 35
        },
        "id": "YvLJlzyXohl2",
        "outputId": "544a45c4-6cdb-4e44-8b42-b78c258334f0"
      },
      "execution_count": 55,
      "outputs": [
        {
          "output_type": "execute_result",
          "data": {
            "text/plain": [
              "'Saturn'"
            ],
            "application/vnd.google.colaboratory.intrinsic+json": {
              "type": "string"
            }
          },
          "metadata": {},
          "execution_count": 55
        }
      ]
    },
    {
      "cell_type": "code",
      "source": [
        "#Foamland and Twix\n",
        "rag_pipeline_short.invoke(\"What are the closest planets to Blueberry?\")"
      ],
      "metadata": {
        "colab": {
          "base_uri": "https://localhost:8080/",
          "height": 35
        },
        "id": "zJCNMLLEohoc",
        "outputId": "3be94ef7-077e-4293-9646-ab6819d187fc"
      },
      "execution_count": 56,
      "outputs": [
        {
          "output_type": "execute_result",
          "data": {
            "text/plain": [
              "\"I don't know.\""
            ],
            "application/vnd.google.colaboratory.intrinsic+json": {
              "type": "string"
            }
          },
          "metadata": {},
          "execution_count": 56
        }
      ]
    },
    {
      "cell_type": "markdown",
      "source": [
        "As you remember we're retrieving fake planet names (Blueberry, Freddyland, etc).\n",
        "\n",
        "*How can you estimate the result of the small chunked size RAG pipeline above?*"
      ],
      "metadata": {
        "id": "iEKaYkbDom5k"
      }
    },
    {
      "cell_type": "markdown",
      "source": [
        "Now let's increase `chunk_size` and `chunk_overlap` :"
      ],
      "metadata": {
        "id": "YwHHBAbRo9fv"
      }
    },
    {
      "cell_type": "code",
      "source": [
        "rag_pipeline_long = create_rag_pipeline(\n",
        "    text_document, collection_name = \"large_chunk\", prompt_addon = \"Finish sentence: Chunk is larger, thank you!\", chunk_size=300, chunk_overlap=50\n",
        ")"
      ],
      "metadata": {
        "colab": {
          "base_uri": "https://localhost:8080/"
        },
        "id": "mUxFXht7ol1U",
        "outputId": "f3712774-8c8c-40c2-e58b-82524d4cf1eb"
      },
      "execution_count": 57,
      "outputs": [
        {
          "output_type": "stream",
          "name": "stdout",
          "text": [
            "Number of documents added: 15\n",
            "Number of documents in large_chunk vectorstore: 15\n"
          ]
        }
      ]
    },
    {
      "cell_type": "code",
      "source": [
        "#Ipynb\n",
        "rag_pipeline_long.invoke(\"What is the largest planet?\")"
      ],
      "metadata": {
        "colab": {
          "base_uri": "https://localhost:8080/",
          "height": 35
        },
        "id": "152xmjXopi2u",
        "outputId": "8412695b-68c0-4060-de27-77f347b58a8d"
      },
      "execution_count": 58,
      "outputs": [
        {
          "output_type": "execute_result",
          "data": {
            "text/plain": [
              "'Sauron is the largest planet.'"
            ],
            "application/vnd.google.colaboratory.intrinsic+json": {
              "type": "string"
            }
          },
          "metadata": {},
          "execution_count": 58
        }
      ]
    },
    {
      "cell_type": "code",
      "source": [
        "#Twix\n",
        "rag_pipeline_long.invoke(\"What planet were explored by robots?\")"
      ],
      "metadata": {
        "colab": {
          "base_uri": "https://localhost:8080/",
          "height": 35
        },
        "id": "Kf8j_p-Gpi5c",
        "outputId": "3720b648-7def-4633-8605-16f1b0a0f76a"
      },
      "execution_count": 59,
      "outputs": [
        {
          "output_type": "execute_result",
          "data": {
            "text/plain": [
              "'Mars.'"
            ],
            "application/vnd.google.colaboratory.intrinsic+json": {
              "type": "string"
            }
          },
          "metadata": {},
          "execution_count": 59
        }
      ]
    },
    {
      "cell_type": "code",
      "execution_count": 60,
      "metadata": {
        "id": "BjepI_y29WIw",
        "colab": {
          "base_uri": "https://localhost:8080/",
          "height": 35
        },
        "outputId": "b33cfb30-0462-4f43-b320-66191bc2a9a5"
      },
      "outputs": [
        {
          "output_type": "execute_result",
          "data": {
            "text/plain": [
              "'Blueberry'"
            ],
            "application/vnd.google.colaboratory.intrinsic+json": {
              "type": "string"
            }
          },
          "metadata": {},
          "execution_count": 60
        }
      ],
      "source": [
        "#Blueberry\n",
        "rag_pipeline_long.invoke(\"What planet has water?\")"
      ]
    },
    {
      "cell_type": "code",
      "source": [
        "#Foamland and Twix\n",
        "rag_pipeline_long.invoke(\"What are the closest planets to Blueberry?\")"
      ],
      "metadata": {
        "colab": {
          "base_uri": "https://localhost:8080/",
          "height": 35
        },
        "id": "Jt5e5C8paqiD",
        "outputId": "14e3ade3-632c-4867-808a-16198cdcf625"
      },
      "execution_count": 61,
      "outputs": [
        {
          "output_type": "execute_result",
          "data": {
            "text/plain": [
              "'Freddyland and Neverborn are the closest planets to Blueberry.'"
            ],
            "application/vnd.google.colaboratory.intrinsic+json": {
              "type": "string"
            }
          },
          "metadata": {},
          "execution_count": 61
        }
      ]
    },
    {
      "cell_type": "markdown",
      "source": [
        "The results look promissing. Whe if we use `separators` instead?"
      ],
      "metadata": {
        "id": "L35yQZ2rpm6p"
      }
    },
    {
      "cell_type": "code",
      "source": [
        "rag_pipeline_separator = create_rag_pipeline(\n",
        "    text_document, collection_name = \"separator\", prompt_addon = \"Finish sentence: Added separators, finally!\", separators = [\"\\n\"]\n",
        ")"
      ],
      "metadata": {
        "colab": {
          "base_uri": "https://localhost:8080/"
        },
        "id": "AbpKLGCopnJx",
        "outputId": "01fd812d-fb5e-4980-b20e-71cfe701e275"
      },
      "execution_count": 62,
      "outputs": [
        {
          "output_type": "stream",
          "name": "stdout",
          "text": [
            "Number of documents added: 8\n",
            "Number of documents in separator vectorstore: 8\n"
          ]
        }
      ]
    },
    {
      "cell_type": "code",
      "source": [
        "#Ipynb\n",
        "rag_pipeline_separator.invoke(\"What is the largest planet?\")"
      ],
      "metadata": {
        "colab": {
          "base_uri": "https://localhost:8080/",
          "height": 35
        },
        "id": "7T2WidRlpnU4",
        "outputId": "296a4919-d850-4254-a45c-292506e0b6e9"
      },
      "execution_count": 63,
      "outputs": [
        {
          "output_type": "execute_result",
          "data": {
            "text/plain": [
              "'The largest planet is Sauron.'"
            ],
            "application/vnd.google.colaboratory.intrinsic+json": {
              "type": "string"
            }
          },
          "metadata": {},
          "execution_count": 63
        }
      ]
    },
    {
      "cell_type": "code",
      "source": [
        "#Twix\n",
        "rag_pipeline_separator.invoke(\"What planet were explored by robots?\")"
      ],
      "metadata": {
        "colab": {
          "base_uri": "https://localhost:8080/",
          "height": 35
        },
        "id": "UY0EjG2Vp0V1",
        "outputId": "76b11fe1-bdb3-41b2-aa85-3b09a16b5825"
      },
      "execution_count": 64,
      "outputs": [
        {
          "output_type": "execute_result",
          "data": {
            "text/plain": [
              "'Twix.'"
            ],
            "application/vnd.google.colaboratory.intrinsic+json": {
              "type": "string"
            }
          },
          "metadata": {},
          "execution_count": 64
        }
      ]
    },
    {
      "cell_type": "code",
      "source": [
        "#Blueberry\n",
        "rag_pipeline_separator.invoke(\"What planet has water?\")"
      ],
      "metadata": {
        "colab": {
          "base_uri": "https://localhost:8080/",
          "height": 35
        },
        "id": "voOyr5fHpnYw",
        "outputId": "1c9c5308-d8d9-4011-d78e-7ae2194e3649"
      },
      "execution_count": 65,
      "outputs": [
        {
          "output_type": "execute_result",
          "data": {
            "text/plain": [
              "'Blueberry'"
            ],
            "application/vnd.google.colaboratory.intrinsic+json": {
              "type": "string"
            }
          },
          "metadata": {},
          "execution_count": 65
        }
      ]
    },
    {
      "cell_type": "code",
      "source": [
        "#Foamland and Twix\n",
        "rag_pipeline_separator.invoke(\"What are the closest planets to Blueberry?\")"
      ],
      "metadata": {
        "colab": {
          "base_uri": "https://localhost:8080/",
          "height": 35
        },
        "id": "cKLVJpDQpncp",
        "outputId": "5a50aa6a-b3ce-490a-b89b-067d74bb80f6"
      },
      "execution_count": 66,
      "outputs": [
        {
          "output_type": "execute_result",
          "data": {
            "text/plain": [
              "'Freddyland and Ipynb are the closest planets to Blueberry.'"
            ],
            "application/vnd.google.colaboratory.intrinsic+json": {
              "type": "string"
            }
          },
          "metadata": {},
          "execution_count": 66
        }
      ]
    },
    {
      "cell_type": "markdown",
      "source": [
        "As you can see, not all information was retrieved from\n",
        "1. the source\n",
        "2. correctly\n",
        "\n",
        "Setting up a RAG pipeline requires correct data parameters. We'll cover that later in the series"
      ],
      "metadata": {
        "id": "fiGFPXCB9ErO"
      }
    },
    {
      "cell_type": "markdown",
      "source": [
        "Now let's try using a retriever for table data"
      ],
      "metadata": {
        "id": "M5GOaAh9qvI4"
      }
    },
    {
      "cell_type": "code",
      "source": [
        "import pandas as pd\n",
        "df = pd.read_csv(csv_filename)"
      ],
      "metadata": {
        "id": "iY1NwpC_qvcf"
      },
      "execution_count": 67,
      "outputs": []
    },
    {
      "cell_type": "code",
      "source": [
        "df.head()"
      ],
      "metadata": {
        "colab": {
          "base_uri": "https://localhost:8080/",
          "height": 206
        },
        "id": "WzIK9MEvrb1B",
        "outputId": "24bb008c-43af-4d86-f30b-7d2d6b72f2d4"
      },
      "execution_count": 68,
      "outputs": [
        {
          "output_type": "execute_result",
          "data": {
            "text/plain": [
              "   age     sex     bmi  children smoker     region      charges\n",
              "0   19  female  27.900         0    yes  southwest  16884.92400\n",
              "1   18    male  33.770         1     no  southeast   1725.55230\n",
              "2   28    male  33.000         3     no  southeast   4449.46200\n",
              "3   33    male  22.705         0     no  northwest  21984.47061\n",
              "4   32    male  28.880         0     no  northwest   3866.85520"
            ],
            "text/html": [
              "\n",
              "  <div id=\"df-2929a806-fe10-423e-b140-b61b873fc906\" class=\"colab-df-container\">\n",
              "    <div>\n",
              "<style scoped>\n",
              "    .dataframe tbody tr th:only-of-type {\n",
              "        vertical-align: middle;\n",
              "    }\n",
              "\n",
              "    .dataframe tbody tr th {\n",
              "        vertical-align: top;\n",
              "    }\n",
              "\n",
              "    .dataframe thead th {\n",
              "        text-align: right;\n",
              "    }\n",
              "</style>\n",
              "<table border=\"1\" class=\"dataframe\">\n",
              "  <thead>\n",
              "    <tr style=\"text-align: right;\">\n",
              "      <th></th>\n",
              "      <th>age</th>\n",
              "      <th>sex</th>\n",
              "      <th>bmi</th>\n",
              "      <th>children</th>\n",
              "      <th>smoker</th>\n",
              "      <th>region</th>\n",
              "      <th>charges</th>\n",
              "    </tr>\n",
              "  </thead>\n",
              "  <tbody>\n",
              "    <tr>\n",
              "      <th>0</th>\n",
              "      <td>19</td>\n",
              "      <td>female</td>\n",
              "      <td>27.900</td>\n",
              "      <td>0</td>\n",
              "      <td>yes</td>\n",
              "      <td>southwest</td>\n",
              "      <td>16884.92400</td>\n",
              "    </tr>\n",
              "    <tr>\n",
              "      <th>1</th>\n",
              "      <td>18</td>\n",
              "      <td>male</td>\n",
              "      <td>33.770</td>\n",
              "      <td>1</td>\n",
              "      <td>no</td>\n",
              "      <td>southeast</td>\n",
              "      <td>1725.55230</td>\n",
              "    </tr>\n",
              "    <tr>\n",
              "      <th>2</th>\n",
              "      <td>28</td>\n",
              "      <td>male</td>\n",
              "      <td>33.000</td>\n",
              "      <td>3</td>\n",
              "      <td>no</td>\n",
              "      <td>southeast</td>\n",
              "      <td>4449.46200</td>\n",
              "    </tr>\n",
              "    <tr>\n",
              "      <th>3</th>\n",
              "      <td>33</td>\n",
              "      <td>male</td>\n",
              "      <td>22.705</td>\n",
              "      <td>0</td>\n",
              "      <td>no</td>\n",
              "      <td>northwest</td>\n",
              "      <td>21984.47061</td>\n",
              "    </tr>\n",
              "    <tr>\n",
              "      <th>4</th>\n",
              "      <td>32</td>\n",
              "      <td>male</td>\n",
              "      <td>28.880</td>\n",
              "      <td>0</td>\n",
              "      <td>no</td>\n",
              "      <td>northwest</td>\n",
              "      <td>3866.85520</td>\n",
              "    </tr>\n",
              "  </tbody>\n",
              "</table>\n",
              "</div>\n",
              "    <div class=\"colab-df-buttons\">\n",
              "\n",
              "  <div class=\"colab-df-container\">\n",
              "    <button class=\"colab-df-convert\" onclick=\"convertToInteractive('df-2929a806-fe10-423e-b140-b61b873fc906')\"\n",
              "            title=\"Convert this dataframe to an interactive table.\"\n",
              "            style=\"display:none;\">\n",
              "\n",
              "  <svg xmlns=\"http://www.w3.org/2000/svg\" height=\"24px\" viewBox=\"0 -960 960 960\">\n",
              "    <path d=\"M120-120v-720h720v720H120Zm60-500h600v-160H180v160Zm220 220h160v-160H400v160Zm0 220h160v-160H400v160ZM180-400h160v-160H180v160Zm440 0h160v-160H620v160ZM180-180h160v-160H180v160Zm440 0h160v-160H620v160Z\"/>\n",
              "  </svg>\n",
              "    </button>\n",
              "\n",
              "  <style>\n",
              "    .colab-df-container {\n",
              "      display:flex;\n",
              "      gap: 12px;\n",
              "    }\n",
              "\n",
              "    .colab-df-convert {\n",
              "      background-color: #E8F0FE;\n",
              "      border: none;\n",
              "      border-radius: 50%;\n",
              "      cursor: pointer;\n",
              "      display: none;\n",
              "      fill: #1967D2;\n",
              "      height: 32px;\n",
              "      padding: 0 0 0 0;\n",
              "      width: 32px;\n",
              "    }\n",
              "\n",
              "    .colab-df-convert:hover {\n",
              "      background-color: #E2EBFA;\n",
              "      box-shadow: 0px 1px 2px rgba(60, 64, 67, 0.3), 0px 1px 3px 1px rgba(60, 64, 67, 0.15);\n",
              "      fill: #174EA6;\n",
              "    }\n",
              "\n",
              "    .colab-df-buttons div {\n",
              "      margin-bottom: 4px;\n",
              "    }\n",
              "\n",
              "    [theme=dark] .colab-df-convert {\n",
              "      background-color: #3B4455;\n",
              "      fill: #D2E3FC;\n",
              "    }\n",
              "\n",
              "    [theme=dark] .colab-df-convert:hover {\n",
              "      background-color: #434B5C;\n",
              "      box-shadow: 0px 1px 3px 1px rgba(0, 0, 0, 0.15);\n",
              "      filter: drop-shadow(0px 1px 2px rgba(0, 0, 0, 0.3));\n",
              "      fill: #FFFFFF;\n",
              "    }\n",
              "  </style>\n",
              "\n",
              "    <script>\n",
              "      const buttonEl =\n",
              "        document.querySelector('#df-2929a806-fe10-423e-b140-b61b873fc906 button.colab-df-convert');\n",
              "      buttonEl.style.display =\n",
              "        google.colab.kernel.accessAllowed ? 'block' : 'none';\n",
              "\n",
              "      async function convertToInteractive(key) {\n",
              "        const element = document.querySelector('#df-2929a806-fe10-423e-b140-b61b873fc906');\n",
              "        const dataTable =\n",
              "          await google.colab.kernel.invokeFunction('convertToInteractive',\n",
              "                                                    [key], {});\n",
              "        if (!dataTable) return;\n",
              "\n",
              "        const docLinkHtml = 'Like what you see? Visit the ' +\n",
              "          '<a target=\"_blank\" href=https://colab.research.google.com/notebooks/data_table.ipynb>data table notebook</a>'\n",
              "          + ' to learn more about interactive tables.';\n",
              "        element.innerHTML = '';\n",
              "        dataTable['output_type'] = 'display_data';\n",
              "        await google.colab.output.renderOutput(dataTable, element);\n",
              "        const docLink = document.createElement('div');\n",
              "        docLink.innerHTML = docLinkHtml;\n",
              "        element.appendChild(docLink);\n",
              "      }\n",
              "    </script>\n",
              "  </div>\n",
              "\n",
              "\n",
              "<div id=\"df-eab90e73-9944-4ed7-8c91-e68ad769d778\">\n",
              "  <button class=\"colab-df-quickchart\" onclick=\"quickchart('df-eab90e73-9944-4ed7-8c91-e68ad769d778')\"\n",
              "            title=\"Suggest charts\"\n",
              "            style=\"display:none;\">\n",
              "\n",
              "<svg xmlns=\"http://www.w3.org/2000/svg\" height=\"24px\"viewBox=\"0 0 24 24\"\n",
              "     width=\"24px\">\n",
              "    <g>\n",
              "        <path d=\"M19 3H5c-1.1 0-2 .9-2 2v14c0 1.1.9 2 2 2h14c1.1 0 2-.9 2-2V5c0-1.1-.9-2-2-2zM9 17H7v-7h2v7zm4 0h-2V7h2v10zm4 0h-2v-4h2v4z\"/>\n",
              "    </g>\n",
              "</svg>\n",
              "  </button>\n",
              "\n",
              "<style>\n",
              "  .colab-df-quickchart {\n",
              "      --bg-color: #E8F0FE;\n",
              "      --fill-color: #1967D2;\n",
              "      --hover-bg-color: #E2EBFA;\n",
              "      --hover-fill-color: #174EA6;\n",
              "      --disabled-fill-color: #AAA;\n",
              "      --disabled-bg-color: #DDD;\n",
              "  }\n",
              "\n",
              "  [theme=dark] .colab-df-quickchart {\n",
              "      --bg-color: #3B4455;\n",
              "      --fill-color: #D2E3FC;\n",
              "      --hover-bg-color: #434B5C;\n",
              "      --hover-fill-color: #FFFFFF;\n",
              "      --disabled-bg-color: #3B4455;\n",
              "      --disabled-fill-color: #666;\n",
              "  }\n",
              "\n",
              "  .colab-df-quickchart {\n",
              "    background-color: var(--bg-color);\n",
              "    border: none;\n",
              "    border-radius: 50%;\n",
              "    cursor: pointer;\n",
              "    display: none;\n",
              "    fill: var(--fill-color);\n",
              "    height: 32px;\n",
              "    padding: 0;\n",
              "    width: 32px;\n",
              "  }\n",
              "\n",
              "  .colab-df-quickchart:hover {\n",
              "    background-color: var(--hover-bg-color);\n",
              "    box-shadow: 0 1px 2px rgba(60, 64, 67, 0.3), 0 1px 3px 1px rgba(60, 64, 67, 0.15);\n",
              "    fill: var(--button-hover-fill-color);\n",
              "  }\n",
              "\n",
              "  .colab-df-quickchart-complete:disabled,\n",
              "  .colab-df-quickchart-complete:disabled:hover {\n",
              "    background-color: var(--disabled-bg-color);\n",
              "    fill: var(--disabled-fill-color);\n",
              "    box-shadow: none;\n",
              "  }\n",
              "\n",
              "  .colab-df-spinner {\n",
              "    border: 2px solid var(--fill-color);\n",
              "    border-color: transparent;\n",
              "    border-bottom-color: var(--fill-color);\n",
              "    animation:\n",
              "      spin 1s steps(1) infinite;\n",
              "  }\n",
              "\n",
              "  @keyframes spin {\n",
              "    0% {\n",
              "      border-color: transparent;\n",
              "      border-bottom-color: var(--fill-color);\n",
              "      border-left-color: var(--fill-color);\n",
              "    }\n",
              "    20% {\n",
              "      border-color: transparent;\n",
              "      border-left-color: var(--fill-color);\n",
              "      border-top-color: var(--fill-color);\n",
              "    }\n",
              "    30% {\n",
              "      border-color: transparent;\n",
              "      border-left-color: var(--fill-color);\n",
              "      border-top-color: var(--fill-color);\n",
              "      border-right-color: var(--fill-color);\n",
              "    }\n",
              "    40% {\n",
              "      border-color: transparent;\n",
              "      border-right-color: var(--fill-color);\n",
              "      border-top-color: var(--fill-color);\n",
              "    }\n",
              "    60% {\n",
              "      border-color: transparent;\n",
              "      border-right-color: var(--fill-color);\n",
              "    }\n",
              "    80% {\n",
              "      border-color: transparent;\n",
              "      border-right-color: var(--fill-color);\n",
              "      border-bottom-color: var(--fill-color);\n",
              "    }\n",
              "    90% {\n",
              "      border-color: transparent;\n",
              "      border-bottom-color: var(--fill-color);\n",
              "    }\n",
              "  }\n",
              "</style>\n",
              "\n",
              "  <script>\n",
              "    async function quickchart(key) {\n",
              "      const quickchartButtonEl =\n",
              "        document.querySelector('#' + key + ' button');\n",
              "      quickchartButtonEl.disabled = true;  // To prevent multiple clicks.\n",
              "      quickchartButtonEl.classList.add('colab-df-spinner');\n",
              "      try {\n",
              "        const charts = await google.colab.kernel.invokeFunction(\n",
              "            'suggestCharts', [key], {});\n",
              "      } catch (error) {\n",
              "        console.error('Error during call to suggestCharts:', error);\n",
              "      }\n",
              "      quickchartButtonEl.classList.remove('colab-df-spinner');\n",
              "      quickchartButtonEl.classList.add('colab-df-quickchart-complete');\n",
              "    }\n",
              "    (() => {\n",
              "      let quickchartButtonEl =\n",
              "        document.querySelector('#df-eab90e73-9944-4ed7-8c91-e68ad769d778 button');\n",
              "      quickchartButtonEl.style.display =\n",
              "        google.colab.kernel.accessAllowed ? 'block' : 'none';\n",
              "    })();\n",
              "  </script>\n",
              "</div>\n",
              "\n",
              "    </div>\n",
              "  </div>\n"
            ]
          },
          "metadata": {},
          "execution_count": 68
        }
      ]
    },
    {
      "cell_type": "code",
      "source": [
        "rag_pipeline_csv = create_rag_pipeline(\n",
        "    csv_document, collection_name = \"csv\", prompt_addon = \"Finish sentence: CSV document, interesting!\", separators = [\"\\n\"]\n",
        ")"
      ],
      "metadata": {
        "colab": {
          "base_uri": "https://localhost:8080/"
        },
        "id": "xA3z2dqJrXnu",
        "outputId": "b0937af7-1b35-49d5-811a-3f10406c25e4"
      },
      "execution_count": 69,
      "outputs": [
        {
          "output_type": "stream",
          "name": "stdout",
          "text": [
            "Number of documents added: 1338\n",
            "Number of documents in csv vectorstore: 1338\n"
          ]
        }
      ]
    },
    {
      "cell_type": "code",
      "source": [
        "rag_pipeline_csv.invoke(\"What is the average bmi?\")"
      ],
      "metadata": {
        "colab": {
          "base_uri": "https://localhost:8080/",
          "height": 35
        },
        "id": "AO-uXvWlsC9a",
        "outputId": "3601ffb2-1158-49b4-b567-6545065f92c4"
      },
      "execution_count": 70,
      "outputs": [
        {
          "output_type": "execute_result",
          "data": {
            "text/plain": [
              "'The average BMI is 33.21.'"
            ],
            "application/vnd.google.colaboratory.intrinsic+json": {
              "type": "string"
            }
          },
          "metadata": {},
          "execution_count": 70
        }
      ]
    },
    {
      "cell_type": "code",
      "source": [
        "df['bmi'].mean()"
      ],
      "metadata": {
        "colab": {
          "base_uri": "https://localhost:8080/"
        },
        "id": "Mez-XKperXf6",
        "outputId": "841dd411-89a8-4060-82e8-8dcab81b4aa2"
      },
      "execution_count": 71,
      "outputs": [
        {
          "output_type": "execute_result",
          "data": {
            "text/plain": [
              "30.66339686098655"
            ]
          },
          "metadata": {},
          "execution_count": 71
        }
      ]
    },
    {
      "cell_type": "code",
      "source": [
        "rag_pipeline_csv.invoke(\"What is the percentage of smokers in the data?\")"
      ],
      "metadata": {
        "colab": {
          "base_uri": "https://localhost:8080/",
          "height": 35
        },
        "id": "tSh4O-2JsE3o",
        "outputId": "f7073df3-ed6b-4058-a2a9-963139ced356"
      },
      "execution_count": 72,
      "outputs": [
        {
          "output_type": "execute_result",
          "data": {
            "text/plain": [
              "'The percentage of smokers in the data is 0%.'"
            ],
            "application/vnd.google.colaboratory.intrinsic+json": {
              "type": "string"
            }
          },
          "metadata": {},
          "execution_count": 72
        }
      ]
    },
    {
      "cell_type": "code",
      "source": [
        "df['smoker'].value_counts(normalize=True)"
      ],
      "metadata": {
        "colab": {
          "base_uri": "https://localhost:8080/"
        },
        "id": "qPjAr8rwrXlm",
        "outputId": "3e9b680d-783a-4a6b-b6f8-d339ee259497"
      },
      "execution_count": 73,
      "outputs": [
        {
          "output_type": "execute_result",
          "data": {
            "text/plain": [
              "no     0.795217\n",
              "yes    0.204783\n",
              "Name: smoker, dtype: float64"
            ]
          },
          "metadata": {},
          "execution_count": 73
        }
      ]
    },
    {
      "cell_type": "markdown",
      "source": [
        "As you can see, our RAG pipeline isn't that good at answering numeric data.\n",
        "\n",
        "*Do you have ideas why?*"
      ],
      "metadata": {
        "id": "Ec8-X-q4tC26"
      }
    },
    {
      "cell_type": "markdown",
      "source": [
        "We'll finish by taking a real document from the Dubai Legislation portal:  https://dlp.dubai.gov.ae/en/Pages/LegislationSearch.aspx\n",
        "\n",
        "We'll include sourcing - adding reasoning and sources that were used to answer the question."
      ],
      "metadata": {
        "id": "MCylfV-gp9N0"
      }
    },
    {
      "cell_type": "code",
      "execution_count": 74,
      "metadata": {
        "id": "yexfSRbcFdom"
      },
      "outputs": [],
      "source": [
        "from langchain_core.runnables import RunnableParallel"
      ]
    },
    {
      "cell_type": "code",
      "execution_count": 75,
      "metadata": {
        "id": "e3ocjXVZCcWE"
      },
      "outputs": [],
      "source": [
        "def create_rag_pipeline_with_sourcing(pdf_documents) -> str:\n",
        "    \"\"\"Query PDF documents using a parallel processing approach.\n",
        "\n",
        "    Args:\n",
        "        pdf_documents: A list of PDF document objects.\n",
        "\n",
        "    Returns:\n",
        "        The answer to the query based on the PDF documents content.\n",
        "    \"\"\"\n",
        "    # Create a vector store from PDF documents\n",
        "    print(f\"Number of documents added: {len(pdf_documents)}\")\n",
        "\n",
        "    # Create a vector store from document chunks\n",
        "    vector_store = Chroma.from_documents(documents=pdf_documents, embedding=OpenAIEmbeddings(), collection_name=\"pdf\")\n",
        "    print(f\"Number of documents in pdf vectorstore: {vector_store._collection.count()}\")\n",
        "    retriever = vector_store.as_retriever()\n",
        "\n",
        "    # Custom prompt for PDF documents querying\n",
        "    template_text = \"\"\"Use the following pieces of context to answer the question at the end.\n",
        "    If you don't know the answer, just say that you don't know, don't try to make up an answer.\n",
        "\n",
        "    {context}\n",
        "\n",
        "    Question: {question}\n",
        "\n",
        "    Helpful Answer:\"\"\"\n",
        "    custom_prompt = PromptTemplate.from_template(template_text)\n",
        "\n",
        "    # Setup parallel processing chain for querying\n",
        "    rag_chain_with_source = RunnableParallel(\n",
        "        {\"context\": retriever, \"question\": RunnablePassthrough()}\n",
        "    ).assign(\n",
        "        answer=(\n",
        "            RunnablePassthrough.assign(\n",
        "                context=(lambda x: format_documents(x[\"context\"]))\n",
        "            )\n",
        "            | custom_prompt\n",
        "            | llm\n",
        "            | StrOutputParser()\n",
        "        )\n",
        "    )\n",
        "\n",
        "    # Execute the query and return the response\n",
        "    return rag_chain_with_source"
      ]
    },
    {
      "cell_type": "code",
      "execution_count": 76,
      "metadata": {
        "id": "R4gsggg4AJYG",
        "colab": {
          "base_uri": "https://localhost:8080/"
        },
        "outputId": "59aeb67b-d40a-4368-d3f5-694806aa33e9"
      },
      "outputs": [
        {
          "output_type": "stream",
          "name": "stdout",
          "text": [
            "Number of documents added: 14\n",
            "Number of documents in pdf vectorstore: 14\n"
          ]
        }
      ],
      "source": [
        "# Example usage of the function to query PDF documents\n",
        "rag_pipeline_with_sourcing = create_rag_pipeline_with_sourcing(pdf_document)"
      ]
    },
    {
      "cell_type": "code",
      "execution_count": 77,
      "metadata": {
        "colab": {
          "base_uri": "https://localhost:8080/"
        },
        "id": "R9K7NMlsAJqZ",
        "outputId": "796222d7-5fc9-4fa3-e49b-8614b9f480a9"
      },
      "outputs": [
        {
          "output_type": "execute_result",
          "data": {
            "text/plain": [
              "{'context': [Document(page_content=\" \\nExecutive Council Resolution No. (107) of 2023 Regulating the Tourist Transport Activity in the Emirate of Dubai  \\nPage 5 of 14 13. create a database of Establishments, Tourist Vehicles, and Tourist Vehicle drivers; and  \\n14. exercise any other duties or powers that fall within the functions of the RTA under the legislation in \\nforce as required for the achie vement of the objectives of this Resolution.  \\nFunctions of the DET  \\nArticle (6)  \\nFor the purposes of this Resolution, the DET will have the duties and powers to:  \\n1. qualify the tour guides working in Establishments and issue them with identification cards, in \\naccordance with the relevant rules adopted by the DET;  \\n2. determine the Emirate's tourist destinations to which tourists will be transported; and provide the \\nRTA and Establishments with lists of these destinations; and  \\n3. exercise any other duties or powers that fall within the functions of the DET under the legislation in \\nforce as required for the achievement of the objectives of this Resolution.  \\nRequirements for Issuing Permits to Conduct the Activity  \\nArticle (7)  \\nA Permi t to conduct the Activity will be issued to an Establishment subject to the following:  \\n1. The conditions adopted by the commercial licensing authority in charge of licensing economic \\nactivities must be satisfied.  \\n2. The technical requirements and specifications determined by the relevant resolution of the Director \\nGeneral must be satisfied.  \\n3. Premises which are appropriate for conducting the Activity must be provided, and must meet the \\nstandards and requirements stipulated in the relevant resolution of the Director  General of the DET \\nin coordination with the RTA.  \\n4. A manager must be appointed to the Establishment. The manager must have the experience and \\nqualifications prescribed by the RTA and approved pursuant to the relevant resolution of the \\nDirector General.  \\n5. The Establishment owner must be of good conduct and repute, and not have been convicted of a \\nfelony or other crime affecting honour or trustworthiness, unless he has been rehabilitated or \\npardoned.  \", metadata={'page': 4, 'source': 'dubai_law.pdf'}),\n",
              "  Document(page_content=' \\nExecutive Council Resolution No. (107) of 2023 Regulating the Tourist Transport Activity in the Emirate of Dubai  \\nPage 4 of 14 Functions of the RTA  \\nArticle (5)  \\nFor the purposes of this Resolution, the RTA will oversee the tourist transport sector in the Emirate. For \\nthis purpose, the RTA  will have the duties and powers to:  \\n1. develop, in coordination with the DET, the policies, plans, and programmes aimed at regulating \\nand promoting the tourist transport sector in the Emirate;  \\n2. establish the standards, requirements, and conditions required for conducting the Activity in the \\nEmirate using Tourist Vehicles;  \\n3. establish the standards required for issuing Permits to, and classifying, Establishments;  \\n4. establish the standards, specifications, and safety requirements that must be met by Tourist Vehicl es \\nto be used by all categories of persons, including persons with disabilities;  \\n5. receive and determine Permit applications in accordance with the standards, requirements, and \\nconditions adopted by the RTA in this respect as well as other standards, require ments, and \\nconditions prescribed by the DET;  \\n6. issue the Permits required for the operation of Tourist Vehicles, in accordance with the standards, \\nrequirements, and conditions adopted by the RTA in this respect;  \\n7. issue the Permits required for drivers of Tour ist Vehicles, and conduct training and qualifying \\ncourses for them, in accordance with the standards, requirements, and conditions adopted by the \\nRTA in this respect;  \\n8. determine the routes of Tourist Vehicles in the Emirate;  \\n9. determine, in coordination with the DET, the number of Tourist Vehicles that an Establishment may \\nuse in conducting the Activity;  \\n10. monitor and inspect Tourist Vehicles and their drivers to verify that the relevant adopted standards, \\nrequirements, and conditions are satisfied;  \\n11. monitor Esta blishments to verify their compliance with the relevant adopted standards, \\nrequirements, and conditions;  \\n12. receive and investigate complaints filed against Establishments and drivers of Tourist Vehicles; and \\nimpose the penalties and measures, prescribed in t his Resolution against violators;  ', metadata={'page': 3, 'source': 'dubai_law.pdf'}),\n",
              "  Document(page_content=' \\nExecutive Council Resolution No. (107) of 2023 Regulating the Tourist Transport Activity in the Emirate of Dubai  \\nPage 2 of 14 Definitions  \\nArticle (1)  \\nThe following words and expressions, wherever mentioned in this Resolution, will have the meaning \\nindicated opposite each of them unless the context implies otherwise:  \\nThe Emirate of Dubai.  Emirate:  \\nThe Roads and Transport Authority.  RTA: \\nThe Department of Economy and Tourism in the Emirate of Dubai.  DET: \\nThe director general and chairman of the Board of Executive Directors \\nof the RTA.  Director General:  \\nThe transport of passengers by Tourist Vehicles to and from airports; \\nhotels; tourist resorts; and heritage, archaeological, and tourist \\nlandmarks and are as within and outside of the Emirate.  Activity:  \\nA company or firm authorised by the RTA to conduct the Activity in the \\nEmirate.  Establishment:  \\nThis includes any hotel, resort, hotel apartment, guest house, youth  \\nhostel, budget hotel, floating hotel, or o ther similar Hotel Establishment \\nwhich is  placed under the supervision of the DET pursuant to the \\nlegislation in force in the Emirate.  Hotel Establishment:  \\nAn establishment licensed by the DET to conduct the activity of Inbound \\nTour Operator in accordance  with the above -mentioned Regulation \\nNo. (6) of 2006.  Tourist Establishment:  \\nA bus, car, motorcycle, or other motorised machine or carriage licensed \\nby the RTA and designated for conducting the Activity.  Tourist Vehicle:  \\nA document issued by the RTA pursuant to this Resolution authorising \\nan Establishment to conduct the Activity, or to use or operate  a Tourist \\nVehicle.  Permit:  \\n ', metadata={'page': 1, 'source': 'dubai_law.pdf'}),\n",
              "  Document(page_content=' \\nExecutive Council Resolution No. (107) of 2023 Regulating the Tourist Transport Activity in the Emirate of Dubai  \\nPage 6 of 14 6. The manager of the Establishment must not be less than twenty -one (21) years of age.  \\n7. The documents required by the RTA for issuing the Permit must be submitted.  \\n8. Any other requirements prescribed by the RTA or the DET, and approved pursuant a resolution of \\nthe Director General, must be satisfied.  \\nTerm of Permits to Co nduct the Activity  \\nArticle (8)  \\nA Permit to conduct the Activity will be valid for a period of one (1) year, renewable for the same period. \\nAn application for renewal of a Permit must be submitted within the last month prior to its expiry date. \\nThe Permit w ill be renewed in accordance with the conditions prescribed by the relevant resolution of \\nthe Director General.  \\nAssignment of Permits  \\nArticle (9)  \\nA Permit to conduct the Activity may not be assigned without first obtaining the relevant approval of \\nthe RTA . This approval will be issued in accordance with the conditions and rules approved by the \\nDirector General in this respect.  \\nSuspension of Permit Issuance  \\nArticle (10)  \\nThe RTA may suspend the issuance of a Permit for any reason related to serving the public interest or \\nto regulating road traffic in the Emirate, or based on the recommendation of the DET where the \\nEstablishment commits a gross breach of its applicable legislation . \\nClassification of Establishments  \\nArticle (11)  \\nEstablishments will be classified in accordance with the standards and rules approved pursuant to the \\nrelevant resolution of the Director General, in addition to any other standards and rules required by the \\nDET in this respect. In classifying Establishments, the volume of their activities, the number and level of \\nluxury of their Tourist Vehicles, the number of their employees, and the type of services they provide \\nmust be taken into consideration.  ', metadata={'page': 5, 'source': 'dubai_law.pdf'})],\n",
              " 'question': 'What are the functions of the DET?',\n",
              " 'answer': 'The functions of the DET (Department of Economy and Tourism) include qualifying tour guides, determining tourist destinations, and exercising any other duties or powers that fall within the functions of the DET under the legislation in force.'}"
            ]
          },
          "metadata": {},
          "execution_count": 77
        }
      ],
      "source": [
        "\"\"\"\n",
        "For the purposes of this Resolution, the DET will have the duties and powers to:\n",
        "1. qualify  the  tour  guides  working  in  Establishments  and  issue  them  with  identification  cards,  in\n",
        "accordance with the relevant rules adopted by the DET;\n",
        "2. determine the Emirate's tourist destinations to which tourists will be transported; and provide the\n",
        "RTA and Establishments with lists of these destinations; and\n",
        "3. exercise any other duties or powers that fall within the functions of the DET under the legislation in\n",
        "force as required for the achievement of the objectives of this Resolution.\n",
        "\"\"\"\n",
        "\n",
        "rag_pipeline_with_sourcing.invoke(\"What are the functions of the DET?\")"
      ]
    },
    {
      "cell_type": "code",
      "execution_count": 78,
      "metadata": {
        "colab": {
          "base_uri": "https://localhost:8080/"
        },
        "id": "jMtuDyXrAJt1",
        "outputId": "3c388e27-7e8a-43f5-8d2e-b69c91ce4890"
      },
      "outputs": [
        {
          "output_type": "execute_result",
          "data": {
            "text/plain": [
              "{'context': [Document(page_content=' \\nExecutive Council Resolution No. (107) of 2023 Regulating the Tourist Transport Activity in the Emirate of Dubai  \\nPage 13 of 14 Schedule (2)  \\nViolations and Fines Related to Conducting the Activity  \\n \\nSN Violation  Fine (in dirhams)  \\n1 Conducting the Activity without a Permit  10,000.00  \\n2 Conducting the Activity after expiry of the Permit  2,000.00  \\n3 Failure to provide the RTA with the documents, information, or statistics \\nrelated to conducting the Activity as it deems necessary to revie w 500.00  \\n4 Failure to maintain records containing the details of the tourist trips  1,000.00  \\n5 Hindering or obstructing the work of the competent RTA employees or \\nfailure to cooperate with them  500.00  \\n6 Using Tourist Vehicles for purposes other than conducting the Activity  5,000.00  \\n7 Failure to comply with the safety standards, specifications, and \\nrequirements applicable to Tourist Vehicles  500.00  \\n8 Failure to display the name and details of the Establishment in a \\nprominent place on the interior and  exterior of a Tourist Vehicle  500.00  \\n9 Driving a Tourist Vehicle by a driver who does not hold a Permit or whose \\nPermit has expired  500.00  \\n10 Failure to enrol a Tourist Vehicle driver in the training courses prescribed \\nby the RTA  1,000.00  \\n11 Failure to install tracking devices on Tourist Vehicle s in accordance with \\nthe relevant instructions and rules adopted by the RTA  2,000.00  \\n12 Placing commercial advertisements or posters on the interior or exterior \\nof a Tourist Vehicle without first obtai ning the relevant approval of the \\nRTA 1,500.00  \\n13 Failure to observe the Tourist Vehicle routes determined by the RTA  500.00  ', metadata={'page': 12, 'source': 'dubai_law.pdf'}),\n",
              "  Document(page_content=' \\nExecutive Council Resolution No. (107) of 2023 Regulating the Tourist Transport Activity in the Emirate of Dubai  \\nPage 12 of 14 Schedule (1)  \\nFees for Conducting the Activity  \\n \\nSN Description  Fee (in dirhams)  \\n1 Issuing or renewing a Permit to conduct the Activity  4,000.00  \\n2 Variation of the details of a Permit to conduct the Activity  500.00  \\n3 Issuing a replacement for a lost or damaged Permit to conduct \\nthe Activity  500.00  \\n4 Issuing or renewing a heavy Tourist Vehicle Permit  1,500.00  \\n5 Issuing or renewing a light Tourist Vehicle Permit  700.00  \\n6 Issuing or renewing a tourist motorcycle  Permit  500.00  \\n7 Issuing or renewing a Permit to use any type of Tourist Vehicles \\nother than those set forth herein  800.00  \\n8 Issuing a replacement of a lost or damaged Tourist Vehicle \\nPermit  500.00  \\n9 Issuing or renewing a Tourist Vehicle driver’s Permit  200.00  \\n10 Issuing a replacement for a lost or damaged Tourist  Vehicle \\ndriver’s Permit  200.00  \\n11 Conducting a basic training course for a Tourist Vehicle driver  1,000.00  \\n12 Conducting  a supplementary training course for a Tourist Vehicle \\ndriver  400.00  \\n13 Conducting a re -qualification course for a Tourist Vehicle driver  400.00  \\n \\n  ', metadata={'page': 11, 'source': 'dubai_law.pdf'}),\n",
              "  Document(page_content=' \\nExecutive Council Resolution No. (107) of 2023 Regulating the Tourist Transport Activity in the Emirate of Dubai  \\nPage 14 of 14 14 Allowing the use of its Tourist Vehicle by another Establishment without \\nfirst obtaining the relevant approval of the RTA  1,500.00  \\n15 Failure to install the tourist transport plate on a Tourist Vehicle  1,000.00  \\n16 Failure to fully comply with this Resolution within the prescribed time \\nframe  3,000.00  \\n17 Failure to observe the number of Tourist Vehicles that the Establishme nt \\nmay use in conducting the Activity  2,000.00  \\n ', metadata={'page': 13, 'source': 'dubai_law.pdf'}),\n",
              "  Document(page_content=' \\nExecutive Council Resolution No. (107) of 2023 Regulating the Tourist Transport Activity in the Emirate of Dubai  \\nPage 9 of 14 Violations and Administrative Penalties  \\nArticle (16)  \\na. Without prejudice to any stricter penalty provided for in any other resolution, a person who commits \\nany of the violations set out in Schedule (2) attached to this Resolution will be punished by the fine \\nindicated opposite that violation.  \\nb. Upon repetition of the same violation within one (1) year from the date of the previous violation, \\nthe amount of the fine prescribed in the schedule referred to in paragraph (a) of this Article will be \\ndoubled. A doubled fine must not exceed fifty thousand dirhams (AED 50,000.00).  \\nc. In addition to the penalty of a fine, the RTA may take one or more of the following measures against \\na violator:  \\n1. suspending the Permit for a period not exceeding six (6) months;  \\n2. revoking the Permit and coordinating with the competent commercial licensing authority to \\ncancel the commercial licence;  \\n3. revok ing the Tourist Vehicle Permit or the Tourist Vehicle driver’s Permit; and/or  \\n4. impound ing the Tourist Vehicle for a period not exceeding six (6) months.  \\nRemedy of Violations  \\nArticle (17)  \\nIn addition to the penalties and administrative measures stipulated in Ar ticle (16) of this Resolution, a \\nviolator must remedy the violation within the time frame prescribed by the RTA in this respect, failing \\nwhich the RTA may remedy the violation using its own resources or through engaging any other entity, \\nand hold the viola tor liable for all costs incurred, in addition to administrative charges of twenty -five \\npercent (25%) of these costs.  \\nLaw Enforcement  \\nArticle (18)  \\nThe RTA Employees nominated pursuant to a resolution of the Director General will have the capacity \\nof law en forcement officers to record the acts committed in breach of the provisions of this Resolution \\nand the resolutions issued in pursuance hereof. For this purpose, they may issue the necessary violation \\nreports; and, where necessary, seek the assistance of po lice personnel.  ', metadata={'page': 8, 'source': 'dubai_law.pdf'})],\n",
              " 'question': 'What is the fine for conducting Tourist Transport Activity without a Permit?',\n",
              " 'answer': 'The fine for conducting Tourist Transport Activity without a Permit is 10,000 dirhams.'}"
            ]
          },
          "metadata": {},
          "execution_count": 78
        }
      ],
      "source": [
        "# 10,000.00\n",
        "rag_pipeline_with_sourcing.invoke(\n",
        "    \"What is the fine for conducting Tourist Transport Activity without a Permit?\"\n",
        ")"
      ]
    },
    {
      "cell_type": "code",
      "execution_count": 79,
      "metadata": {
        "colab": {
          "base_uri": "https://localhost:8080/"
        },
        "id": "hwSZgiqFE1PC",
        "outputId": "8b122c91-a489-493c-e42c-53fd8fe5fcef"
      },
      "outputs": [
        {
          "output_type": "execute_result",
          "data": {
            "text/plain": [
              "{'context': [Document(page_content=' \\nExecutive Council Resolution No. (107) of 2023 Regulating the Tourist Transport Activity in the Emirate of Dubai  \\nPage 13 of 14 Schedule (2)  \\nViolations and Fines Related to Conducting the Activity  \\n \\nSN Violation  Fine (in dirhams)  \\n1 Conducting the Activity without a Permit  10,000.00  \\n2 Conducting the Activity after expiry of the Permit  2,000.00  \\n3 Failure to provide the RTA with the documents, information, or statistics \\nrelated to conducting the Activity as it deems necessary to revie w 500.00  \\n4 Failure to maintain records containing the details of the tourist trips  1,000.00  \\n5 Hindering or obstructing the work of the competent RTA employees or \\nfailure to cooperate with them  500.00  \\n6 Using Tourist Vehicles for purposes other than conducting the Activity  5,000.00  \\n7 Failure to comply with the safety standards, specifications, and \\nrequirements applicable to Tourist Vehicles  500.00  \\n8 Failure to display the name and details of the Establishment in a \\nprominent place on the interior and  exterior of a Tourist Vehicle  500.00  \\n9 Driving a Tourist Vehicle by a driver who does not hold a Permit or whose \\nPermit has expired  500.00  \\n10 Failure to enrol a Tourist Vehicle driver in the training courses prescribed \\nby the RTA  1,000.00  \\n11 Failure to install tracking devices on Tourist Vehicle s in accordance with \\nthe relevant instructions and rules adopted by the RTA  2,000.00  \\n12 Placing commercial advertisements or posters on the interior or exterior \\nof a Tourist Vehicle without first obtai ning the relevant approval of the \\nRTA 1,500.00  \\n13 Failure to observe the Tourist Vehicle routes determined by the RTA  500.00  ', metadata={'page': 12, 'source': 'dubai_law.pdf'}),\n",
              "  Document(page_content=' \\nExecutive Council Resolution No. (107) of 2023 Regulating the Tourist Transport Activity in the Emirate of Dubai  \\nPage 12 of 14 Schedule (1)  \\nFees for Conducting the Activity  \\n \\nSN Description  Fee (in dirhams)  \\n1 Issuing or renewing a Permit to conduct the Activity  4,000.00  \\n2 Variation of the details of a Permit to conduct the Activity  500.00  \\n3 Issuing a replacement for a lost or damaged Permit to conduct \\nthe Activity  500.00  \\n4 Issuing or renewing a heavy Tourist Vehicle Permit  1,500.00  \\n5 Issuing or renewing a light Tourist Vehicle Permit  700.00  \\n6 Issuing or renewing a tourist motorcycle  Permit  500.00  \\n7 Issuing or renewing a Permit to use any type of Tourist Vehicles \\nother than those set forth herein  800.00  \\n8 Issuing a replacement of a lost or damaged Tourist Vehicle \\nPermit  500.00  \\n9 Issuing or renewing a Tourist Vehicle driver’s Permit  200.00  \\n10 Issuing a replacement for a lost or damaged Tourist  Vehicle \\ndriver’s Permit  200.00  \\n11 Conducting a basic training course for a Tourist Vehicle driver  1,000.00  \\n12 Conducting  a supplementary training course for a Tourist Vehicle \\ndriver  400.00  \\n13 Conducting a re -qualification course for a Tourist Vehicle driver  400.00  \\n \\n  ', metadata={'page': 11, 'source': 'dubai_law.pdf'}),\n",
              "  Document(page_content=' \\nExecutive Council Resolution No. (107) of 2023 Regulating the Tourist Transport Activity in the Emirate of Dubai  \\nPage 6 of 14 6. The manager of the Establishment must not be less than twenty -one (21) years of age.  \\n7. The documents required by the RTA for issuing the Permit must be submitted.  \\n8. Any other requirements prescribed by the RTA or the DET, and approved pursuant a resolution of \\nthe Director General, must be satisfied.  \\nTerm of Permits to Co nduct the Activity  \\nArticle (8)  \\nA Permit to conduct the Activity will be valid for a period of one (1) year, renewable for the same period. \\nAn application for renewal of a Permit must be submitted within the last month prior to its expiry date. \\nThe Permit w ill be renewed in accordance with the conditions prescribed by the relevant resolution of \\nthe Director General.  \\nAssignment of Permits  \\nArticle (9)  \\nA Permit to conduct the Activity may not be assigned without first obtaining the relevant approval of \\nthe RTA . This approval will be issued in accordance with the conditions and rules approved by the \\nDirector General in this respect.  \\nSuspension of Permit Issuance  \\nArticle (10)  \\nThe RTA may suspend the issuance of a Permit for any reason related to serving the public interest or \\nto regulating road traffic in the Emirate, or based on the recommendation of the DET where the \\nEstablishment commits a gross breach of its applicable legislation . \\nClassification of Establishments  \\nArticle (11)  \\nEstablishments will be classified in accordance with the standards and rules approved pursuant to the \\nrelevant resolution of the Director General, in addition to any other standards and rules required by the \\nDET in this respect. In classifying Establishments, the volume of their activities, the number and level of \\nluxury of their Tourist Vehicles, the number of their employees, and the type of services they provide \\nmust be taken into consideration.  ', metadata={'page': 5, 'source': 'dubai_law.pdf'}),\n",
              "  Document(page_content=' \\nExecutive Council Resolution No. (107) of 2023 Regulating the Tourist Transport Activity in the Emirate of Dubai  \\nPage 14 of 14 14 Allowing the use of its Tourist Vehicle by another Establishment without \\nfirst obtaining the relevant approval of the RTA  1,500.00  \\n15 Failure to install the tourist transport plate on a Tourist Vehicle  1,000.00  \\n16 Failure to fully comply with this Resolution within the prescribed time \\nframe  3,000.00  \\n17 Failure to observe the number of Tourist Vehicles that the Establishme nt \\nmay use in conducting the Activity  2,000.00  \\n ', metadata={'page': 13, 'source': 'dubai_law.pdf'})],\n",
              " 'question': 'What is the fine for conducting Tourist Transport Activity after expiry of the Permit?',\n",
              " 'answer': 'The fine for conducting Tourist Transport Activity after expiry of the Permit is 2,000 dirhams.'}"
            ]
          },
          "metadata": {},
          "execution_count": 79
        }
      ],
      "source": [
        "# 2,000\n",
        "rag_pipeline_with_sourcing.invoke(\n",
        "    \"What is the fine for conducting Tourist Transport Activity after expiry of the Permit?\"\n",
        ")"
      ]
    },
    {
      "cell_type": "markdown",
      "metadata": {
        "id": "ppZ3Bu1XrZzg"
      },
      "source": [
        "---"
      ]
    },
    {
      "cell_type": "markdown",
      "source": [
        "Pretty impressive! All three questions were answered correctly!"
      ],
      "metadata": {
        "id": "8-27Tb7StaDl"
      }
    },
    {
      "cell_type": "markdown",
      "source": [
        "## Next\n",
        "This is all for this part. In the next colab notebook, we'll discuss Embeddings and Vectorstores.\n",
        "\n",
        "## Practice:\n",
        "\n",
        "For those of you who wants to practice building RAG pipelines, here are some tasks:\n",
        "\n",
        "1. Are there better ways to upload web pages?\n",
        "2. Look into semantic ways of splitting documents\n",
        "3. Build RAG pipeline to query youtube video"
      ],
      "metadata": {
        "id": "nYIKhzx8tfGJ"
      }
    }
  ],
  "metadata": {
    "colab": {
      "provenance": []
    },
    "kernelspec": {
      "display_name": "redacre",
      "language": "python",
      "name": "python3"
    },
    "language_info": {
      "codemirror_mode": {
        "name": "ipython",
        "version": 3
      },
      "file_extension": ".py",
      "mimetype": "text/x-python",
      "name": "python",
      "nbconvert_exporter": "python",
      "pygments_lexer": "ipython3",
      "version": "3.9.12"
    },
    "orig_nbformat": 4
  },
  "nbformat": 4,
  "nbformat_minor": 0
}